{
  "nbformat": 4,
  "nbformat_minor": 0,
  "metadata": {
    "kernelspec": {
      "display_name": "Python 3",
      "language": "python",
      "name": "python3"
    },
    "language_info": {
      "codemirror_mode": {
        "name": "ipython",
        "version": 3
      },
      "file_extension": ".py",
      "mimetype": "text/x-python",
      "name": "python",
      "nbconvert_exporter": "python",
      "pygments_lexer": "ipython3",
      "version": "3.6.9"
    },
    "colab": {
      "provenance": [],
      "include_colab_link": true
    },
    "accelerator": "GPU"
  },
  "cells": [
    {
      "cell_type": "markdown",
      "metadata": {
        "id": "view-in-github",
        "colab_type": "text"
      },
      "source": [
        "<a href=\"https://colab.research.google.com/github/stefanogiagu/corsoinfn/blob/main/notebooks2/Hands_on_3_CNN_su_Acceleratori_FPGA_7_12_2022.ipynb\" target=\"_parent\"><img src=\"https://colab.research.google.com/assets/colab-badge.svg\" alt=\"Open In Colab\"/></a>"
      ]
    },
    {
      "cell_type": "markdown",
      "source": [
        "**Training e compressione/semplificazione di una CNN per la ricostruzione a bassissima latenza di muoni del rivelatore RPC dell'esperimento ATLAS **\n",
        "\n",
        "*   training di un modello teacher CNN VGG-like\n",
        "*   compressione tramite quantizzazione a 4bit con QKeras\n",
        "*   training di un modello student VGG semplificato + quantizzato a 4 bit\n",
        "*   ottmizzazione delle prestazioni del modello student via teacher-student knoweldge distillation\n",
        "*   conversione del modello in VHDL con hls4ml\n",
        "\n",
        "\n",
        "Referenze:<p>\n",
        "[articolo riferimento](https://epjc.epj.org/articles/epjc/abs/2021/11/10052_2021_Article_9770/10052_2021_Article_9770.html) <p>\n",
        "[Q-keras](https://github.com/google/qkeras) <p>\n",
        "[hls4ml](https://fastmachinelearning.org/hls4ml/) <p>\n",
        "[Vivado](https://www.xilinx.com/products/design-tools/vivado.html)"
      ],
      "metadata": {
        "id": "2INXlXvALztd"
      }
    },
    {
      "cell_type": "markdown",
      "source": [
        "Dataset disponibile su google drive e accessibile da google colab:\n",
        "\n",
        "https://drive.google.com/drive/folders/1mAvJEI9KWWNRLCq3d5VROHPVtei6SZkV?usp=sharing\n",
        "\n",
        "aprire il file dal browser, aggiungere uno short cut al proprio google drive, e poi montare il google drive da google colab\n",
        "\n",
        "\n",
        "```\n",
        "from google.colab import drive\n",
        "drive.mount('/content/drive')\n",
        "```\n",
        "\n",
        "Se si vogliono copiare i files sulla propria macchina locale (sono 4 files per un totaler di circa 6GB):\n",
        "\n",
        "```\n",
        "wget --load-cookies /tmp/cookies.txt \"https://docs.google.com/uc?export=download&confirm=$(wget --quiet --save-cookies /tmp/cookies.txt --keep-session-cookies --no-check-certificate 'https://docs.google.com/uc?export=download&id=1-03Pr2BrRiGSRDSKLdQY2oHGFmX-s3w2' -O- | sed -rn 's/.*confirm=([1-9A-Za-z_]+).*/\\1\\n/p')&id=1-03Pr2BrRiGSRDSKLdQY2oHGFmX-s3w2\" -O train_images384_1mu_with_bkg.npy && rm -rf /tmp/cookies.txt\n",
        "\n",
        "wget --load-cookies /tmp/cookies.txt \"https://docs.google.com/uc?export=download&confirm=$(wget --quiet --save-cookies /tmp/cookies.txt --keep-session-cookies --no-check-certificate 'https://docs.google.com/uc?export=download&id=1F-PJxd79yaIu0_uQqLJWlrHNryJmECak' -O- | sed -rn 's/.*confirm=([1-9A-Za-z_]+).*/\\1\\n/p')&id=1F-PJxd79yaIu0_uQqLJWlrHNryJmECak\" -O train_full_labels384_1mu_with_bkg.npy && rm -rf /tmp/cookies.txt\n",
        "\n",
        "wget --load-cookies /tmp/cookies.txt \"https://docs.google.com/uc?export=download&confirm=$(wget --quiet --save-cookies /tmp/cookies.txt --keep-session-cookies --no-check-certificate 'https://docs.google.com/uc?export=download&id=1IEv2C06Gj9mDOQSuf0MoPZrSZUGzKf9M' -O- | sed -rn 's/.*confirm=([1-9A-Za-z_]+).*/\\1\\n/p')&id=1IEv2C06Gj9mDOQSuf0MoPZrSZUGzKf9M\" -O test_images384_1mu_with_bkg.npy && rm -rf /tmp/cookies.txt\n",
        "\n",
        "wget --load-cookies /tmp/cookies.txt \"https://docs.google.com/uc?export=download&confirm=$(wget --quiet --save-cookies /tmp/cookies.txt --keep-session-cookies --no-check-certificate 'https://docs.google.com/uc?export=download&id=1_I0bOqI0NR2Gk6Kh9aMnl3wZQrDZLthu' -O- | sed -rn 's/.*confirm=([1-9A-Za-z_]+).*/\\1\\n/p')&id=1_I0bOqI0NR2Gk6Kh9aMnl3wZQrDZLthu\" -O test_full_labels384_1mu_with_bkg.npy && rm -rf /tmp/cookies.txt\n",
        "```\n",
        "\n"
      ],
      "metadata": {
        "id": "hOS0ios1KjoQ"
      }
    },
    {
      "cell_type": "code",
      "metadata": {
        "id": "xsbeAwNZjqa2",
        "colab": {
          "base_uri": "https://localhost:8080/"
        },
        "outputId": "0b5b3f0c-b0cd-444d-f69d-a61d06a3ac3f"
      },
      "source": [
        "from google.colab import drive\n",
        "drive.mount('/content/drive')"
      ],
      "execution_count": 1,
      "outputs": [
        {
          "output_type": "stream",
          "name": "stdout",
          "text": [
            "Mounted at /content/drive\n"
          ]
        }
      ]
    },
    {
      "cell_type": "code",
      "metadata": {
        "colab": {
          "base_uri": "https://localhost:8080/"
        },
        "id": "gbtSMRS-K_10",
        "outputId": "cf756f3b-2e84-4f9d-a49e-6969410a7829"
      },
      "source": [
        "# installazione librerie Q-keras per la quantizzazione di layer Tensorflow/keras\n",
        "!pip install qkeras"
      ],
      "execution_count": 4,
      "outputs": [
        {
          "output_type": "stream",
          "name": "stdout",
          "text": [
            "Looking in indexes: https://pypi.org/simple, https://us-python.pkg.dev/colab-wheels/public/simple/\n",
            "Requirement already satisfied: qkeras in /usr/local/lib/python3.8/dist-packages (0.9.0)\n",
            "Requirement already satisfied: scipy>=1.4.1 in /usr/local/lib/python3.8/dist-packages (from qkeras) (1.7.3)\n",
            "Requirement already satisfied: tqdm>=4.48.0 in /usr/local/lib/python3.8/dist-packages (from qkeras) (4.64.1)\n",
            "Requirement already satisfied: pyparser in /usr/local/lib/python3.8/dist-packages (from qkeras) (1.0)\n",
            "Requirement already satisfied: keras-tuner>=1.0.1 in /usr/local/lib/python3.8/dist-packages (from qkeras) (1.1.3)\n",
            "Requirement already satisfied: numpy>=1.16.0 in /usr/local/lib/python3.8/dist-packages (from qkeras) (1.21.6)\n",
            "Requirement already satisfied: setuptools>=41.0.0 in /usr/local/lib/python3.8/dist-packages (from qkeras) (57.4.0)\n",
            "Requirement already satisfied: networkx>=2.1 in /usr/local/lib/python3.8/dist-packages (from qkeras) (2.6.3)\n",
            "Requirement already satisfied: scikit-learn>=0.23.1 in /usr/local/lib/python3.8/dist-packages (from qkeras) (1.0.2)\n",
            "Requirement already satisfied: tensorflow-model-optimization>=0.2.1 in /usr/local/lib/python3.8/dist-packages (from qkeras) (0.7.3)\n",
            "Requirement already satisfied: packaging in /usr/local/lib/python3.8/dist-packages (from keras-tuner>=1.0.1->qkeras) (21.3)\n",
            "Requirement already satisfied: ipython in /usr/local/lib/python3.8/dist-packages (from keras-tuner>=1.0.1->qkeras) (7.9.0)\n",
            "Requirement already satisfied: requests in /usr/local/lib/python3.8/dist-packages (from keras-tuner>=1.0.1->qkeras) (2.23.0)\n",
            "Requirement already satisfied: kt-legacy in /usr/local/lib/python3.8/dist-packages (from keras-tuner>=1.0.1->qkeras) (1.0.4)\n",
            "Requirement already satisfied: tensorboard in /usr/local/lib/python3.8/dist-packages (from keras-tuner>=1.0.1->qkeras) (2.9.1)\n",
            "Requirement already satisfied: threadpoolctl>=2.0.0 in /usr/local/lib/python3.8/dist-packages (from scikit-learn>=0.23.1->qkeras) (3.1.0)\n",
            "Requirement already satisfied: joblib>=0.11 in /usr/local/lib/python3.8/dist-packages (from scikit-learn>=0.23.1->qkeras) (1.2.0)\n",
            "Requirement already satisfied: dm-tree~=0.1.1 in /usr/local/lib/python3.8/dist-packages (from tensorflow-model-optimization>=0.2.1->qkeras) (0.1.7)\n",
            "Requirement already satisfied: six~=1.10 in /usr/local/lib/python3.8/dist-packages (from tensorflow-model-optimization>=0.2.1->qkeras) (1.15.0)\n",
            "Requirement already satisfied: jedi>=0.10 in /usr/local/lib/python3.8/dist-packages (from ipython->keras-tuner>=1.0.1->qkeras) (0.18.2)\n",
            "Requirement already satisfied: backcall in /usr/local/lib/python3.8/dist-packages (from ipython->keras-tuner>=1.0.1->qkeras) (0.2.0)\n",
            "Requirement already satisfied: pexpect in /usr/local/lib/python3.8/dist-packages (from ipython->keras-tuner>=1.0.1->qkeras) (4.8.0)\n",
            "Requirement already satisfied: pygments in /usr/local/lib/python3.8/dist-packages (from ipython->keras-tuner>=1.0.1->qkeras) (2.6.1)\n",
            "Requirement already satisfied: pickleshare in /usr/local/lib/python3.8/dist-packages (from ipython->keras-tuner>=1.0.1->qkeras) (0.7.5)\n",
            "Requirement already satisfied: decorator in /usr/local/lib/python3.8/dist-packages (from ipython->keras-tuner>=1.0.1->qkeras) (4.4.2)\n",
            "Requirement already satisfied: traitlets>=4.2 in /usr/local/lib/python3.8/dist-packages (from ipython->keras-tuner>=1.0.1->qkeras) (5.1.1)\n",
            "Requirement already satisfied: prompt-toolkit<2.1.0,>=2.0.0 in /usr/local/lib/python3.8/dist-packages (from ipython->keras-tuner>=1.0.1->qkeras) (2.0.10)\n",
            "Requirement already satisfied: parso<0.9.0,>=0.8.0 in /usr/local/lib/python3.8/dist-packages (from jedi>=0.10->ipython->keras-tuner>=1.0.1->qkeras) (0.8.3)\n",
            "Requirement already satisfied: wcwidth in /usr/local/lib/python3.8/dist-packages (from prompt-toolkit<2.1.0,>=2.0.0->ipython->keras-tuner>=1.0.1->qkeras) (0.2.5)\n",
            "Requirement already satisfied: pyparsing!=3.0.5,>=2.0.2 in /usr/local/lib/python3.8/dist-packages (from packaging->keras-tuner>=1.0.1->qkeras) (3.0.9)\n",
            "Requirement already satisfied: ptyprocess>=0.5 in /usr/local/lib/python3.8/dist-packages (from pexpect->ipython->keras-tuner>=1.0.1->qkeras) (0.7.0)\n",
            "Requirement already satisfied: parse==1.6.5 in /usr/local/lib/python3.8/dist-packages (from pyparser->qkeras) (1.6.5)\n",
            "Requirement already satisfied: idna<3,>=2.5 in /usr/local/lib/python3.8/dist-packages (from requests->keras-tuner>=1.0.1->qkeras) (2.10)\n",
            "Requirement already satisfied: chardet<4,>=3.0.2 in /usr/local/lib/python3.8/dist-packages (from requests->keras-tuner>=1.0.1->qkeras) (3.0.4)\n",
            "Requirement already satisfied: certifi>=2017.4.17 in /usr/local/lib/python3.8/dist-packages (from requests->keras-tuner>=1.0.1->qkeras) (2022.9.24)\n",
            "Requirement already satisfied: urllib3!=1.25.0,!=1.25.1,<1.26,>=1.21.1 in /usr/local/lib/python3.8/dist-packages (from requests->keras-tuner>=1.0.1->qkeras) (1.24.3)\n",
            "Requirement already satisfied: wheel>=0.26 in /usr/local/lib/python3.8/dist-packages (from tensorboard->keras-tuner>=1.0.1->qkeras) (0.38.4)\n",
            "Requirement already satisfied: tensorboard-plugin-wit>=1.6.0 in /usr/local/lib/python3.8/dist-packages (from tensorboard->keras-tuner>=1.0.1->qkeras) (1.8.1)\n",
            "Requirement already satisfied: grpcio>=1.24.3 in /usr/local/lib/python3.8/dist-packages (from tensorboard->keras-tuner>=1.0.1->qkeras) (1.50.0)\n",
            "Requirement already satisfied: google-auth<3,>=1.6.3 in /usr/local/lib/python3.8/dist-packages (from tensorboard->keras-tuner>=1.0.1->qkeras) (2.14.1)\n",
            "Requirement already satisfied: tensorboard-data-server<0.7.0,>=0.6.0 in /usr/local/lib/python3.8/dist-packages (from tensorboard->keras-tuner>=1.0.1->qkeras) (0.6.1)\n",
            "Requirement already satisfied: absl-py>=0.4 in /usr/local/lib/python3.8/dist-packages (from tensorboard->keras-tuner>=1.0.1->qkeras) (1.3.0)\n",
            "Requirement already satisfied: werkzeug>=1.0.1 in /usr/local/lib/python3.8/dist-packages (from tensorboard->keras-tuner>=1.0.1->qkeras) (1.0.1)\n",
            "Requirement already satisfied: markdown>=2.6.8 in /usr/local/lib/python3.8/dist-packages (from tensorboard->keras-tuner>=1.0.1->qkeras) (3.4.1)\n",
            "Requirement already satisfied: protobuf<3.20,>=3.9.2 in /usr/local/lib/python3.8/dist-packages (from tensorboard->keras-tuner>=1.0.1->qkeras) (3.19.6)\n",
            "Requirement already satisfied: google-auth-oauthlib<0.5,>=0.4.1 in /usr/local/lib/python3.8/dist-packages (from tensorboard->keras-tuner>=1.0.1->qkeras) (0.4.6)\n",
            "Requirement already satisfied: rsa<5,>=3.1.4 in /usr/local/lib/python3.8/dist-packages (from google-auth<3,>=1.6.3->tensorboard->keras-tuner>=1.0.1->qkeras) (4.9)\n",
            "Requirement already satisfied: cachetools<6.0,>=2.0.0 in /usr/local/lib/python3.8/dist-packages (from google-auth<3,>=1.6.3->tensorboard->keras-tuner>=1.0.1->qkeras) (5.2.0)\n",
            "Requirement already satisfied: pyasn1-modules>=0.2.1 in /usr/local/lib/python3.8/dist-packages (from google-auth<3,>=1.6.3->tensorboard->keras-tuner>=1.0.1->qkeras) (0.2.8)\n",
            "Requirement already satisfied: requests-oauthlib>=0.7.0 in /usr/local/lib/python3.8/dist-packages (from google-auth-oauthlib<0.5,>=0.4.1->tensorboard->keras-tuner>=1.0.1->qkeras) (1.3.1)\n",
            "Requirement already satisfied: importlib-metadata>=4.4 in /usr/local/lib/python3.8/dist-packages (from markdown>=2.6.8->tensorboard->keras-tuner>=1.0.1->qkeras) (4.13.0)\n",
            "Requirement already satisfied: zipp>=0.5 in /usr/local/lib/python3.8/dist-packages (from importlib-metadata>=4.4->markdown>=2.6.8->tensorboard->keras-tuner>=1.0.1->qkeras) (3.10.0)\n",
            "Requirement already satisfied: pyasn1<0.5.0,>=0.4.6 in /usr/local/lib/python3.8/dist-packages (from pyasn1-modules>=0.2.1->google-auth<3,>=1.6.3->tensorboard->keras-tuner>=1.0.1->qkeras) (0.4.8)\n",
            "Requirement already satisfied: oauthlib>=3.0.0 in /usr/local/lib/python3.8/dist-packages (from requests-oauthlib>=0.7.0->google-auth-oauthlib<0.5,>=0.4.1->tensorboard->keras-tuner>=1.0.1->qkeras) (3.2.2)\n"
          ]
        }
      ]
    },
    {
      "cell_type": "code",
      "metadata": {
        "id": "1N5GMbaCIlIX"
      },
      "source": [
        "# Librerie \n",
        "import tensorflow as tf\n",
        "import tensorflow.keras as keras\n",
        "from tensorflow.keras.layers import * \n",
        "from tensorflow.keras.models import load_model\n",
        "from tensorflow.keras.models import Sequential\n",
        "from tensorflow.keras.models import Model\n",
        "from tensorflow.keras.optimizers import Adam\n",
        "import numpy as np\n",
        "import matplotlib.pyplot as plt\n",
        "from sklearn.preprocessing import MinMaxScaler\n",
        "import matplotlib.pyplot as plt\n",
        "from qkeras import *\n",
        "from qkeras.utils import model_save_quantized_weights\n",
        "import os"
      ],
      "execution_count": 5,
      "outputs": []
    },
    {
      "cell_type": "code",
      "source": [
        "# Lettura del dataset\n",
        "# utilizziamo solo le prime 100k immagini del training dataset e del test (per velocizzare il training)\n",
        "\n",
        "# i dati contengono \"immagini\" di tracce rilasciate da muoni nei rivelatori RPC dello spettrometro a muoni dell'esperimento ATLAS\n",
        "# 9 piani di rivelatori vs 384 bin in pseudorapidità (eta tra 0 e ~1)\n",
        "\n",
        "n = int(10e4)\n",
        "train_images = np.load('/content/drive/MyDrive/DATI_AI/train_images384_1mu_with_bkg.npy')[:n]\n",
        "train_labels = np.load('/content/drive/MyDrive/DATI_AI/train_full_labels384_1mu_with_bkg.npy')[:n]\n",
        "\n",
        "test_images = np.load('/content/drive/MyDrive/DATI_AI/test_images384_1mu_with_bkg.npy')[:n]\n",
        "test_labels = np.load('/content/drive/MyDrive/DATI_AI/test_full_labels384_1mu_with_bkg.npy')[:n]\n",
        "\n",
        "# siamo interessati solo alla colonna 0 (pt) e 1 (eta) dei vettori label\n",
        "train_labels = train_labels[:, 0:2]\n",
        "test_labels = test_labels[:, 0:2]\n",
        "\n",
        "print(train_images.shape)\n",
        "print(train_labels.shape)\n",
        "print(test_images.shape)\n",
        "print(test_labels.shape)"
      ],
      "metadata": {
        "colab": {
          "base_uri": "https://localhost:8080/"
        },
        "id": "xHySXVolSHn8",
        "outputId": "291e0b4d-de47-4de7-dd6f-df664adf3fdd"
      },
      "execution_count": 6,
      "outputs": [
        {
          "output_type": "stream",
          "name": "stdout",
          "text": [
            "(100000, 9, 384)\n",
            "(100000, 2)\n",
            "(100000, 9, 384)\n",
            "(100000, 2)\n"
          ]
        }
      ]
    },
    {
      "cell_type": "code",
      "source": [
        "# selezioniamo eventi con pt>4 GeV\n",
        "\n",
        "selector_train = train_labels[:, 0]>4.0\n",
        "selector_test = test_labels[:, 0]>4.0\n",
        "\n",
        "train_images = train_images[selector_train]\n",
        "train_labels = train_labels[selector_train]\n",
        "test_images = test_images[selector_test]\n",
        "test_labels = test_labels[selector_test]"
      ],
      "metadata": {
        "id": "CD0vkUNeFcY4"
      },
      "execution_count": 7,
      "outputs": []
    },
    {
      "cell_type": "code",
      "source": [
        "# esempio immagine (un muone con pt=11.5 GeV e pseudorapidità 0.23 + hit di rumore)\n",
        "idx=1\n",
        "plt.figure(figsize=(10,5))\n",
        "plt.imshow(train_images[idx], origin='lower', aspect='auto', cmap='binary')\n",
        "plt.xlabel('eta index')\n",
        "plt.ylabel('rpc station')\n",
        "_ = plt.title('pt/eta: '+str(round(train_labels[idx,0],2))+\" / \"+str(round(train_labels[idx,1],2)))"
      ],
      "metadata": {
        "colab": {
          "base_uri": "https://localhost:8080/",
          "height": 371
        },
        "id": "r9NE7DuMU2tT",
        "outputId": "b00fc12a-14fb-4d13-c91b-66ab0f09f58c"
      },
      "execution_count": 8,
      "outputs": [
        {
          "output_type": "display_data",
          "data": {
            "text/plain": [
              "<Figure size 720x360 with 1 Axes>"
            ],
            "image/png": "[encoded data removed]"
          },
          "metadata": {
            "needs_background": "light"
          }
        }
      ]
    },
    {
      "cell_type": "code",
      "source": [
        "# normalizziamo i target in modo che siano entrambi compresi tra 0 e 1\n",
        "# NOTA: in questo esempio specifico non è necessario normalizzare i vettori delle immagini ad avere valori in [0,1] o con media=0 e sdev=1, perché le immagini\n",
        "# sono di tipo binario (i pixel hanno solo valori 0 o 1)\n",
        "scaler = MinMaxScaler()\n",
        "\n",
        "scaler.fit(train_labels)\n",
        "train_labels = scaler.transform(train_labels)\n",
        "test_labels = scaler.transform(test_labels)\n",
        "\n",
        "# reshape delle immagini nel formato richiesto da keras\n",
        "train_images = train_images.reshape((train_images.shape[0], 9, 384,1))\n",
        "test_images = test_images.reshape((test_images.shape[0], 9, 384,1))\n",
        "\n",
        "# conversione dei valori degli array a float32 come richiesto da keras\n",
        "train_images = train_images.astype('float32')\n",
        "train_labels = train_labels.astype('float32')\n",
        "test_images = test_images.astype('float32')\n",
        "test_labels = test_labels.astype('float32')\n",
        "\n",
        "print(train_images.shape)\n",
        "print(train_labels.shape)\n",
        "print(test_images.shape)\n",
        "print(test_labels.shape)"
      ],
      "metadata": {
        "colab": {
          "base_uri": "https://localhost:8080/"
        },
        "id": "_yf06a9LW51P",
        "outputId": "096442ed-60d5-4b84-b73b-dba14ee3cf5a"
      },
      "execution_count": 9,
      "outputs": [
        {
          "output_type": "stream",
          "name": "stdout",
          "text": [
            "(47952, 9, 384, 1)\n",
            "(47952, 2)\n",
            "(90575, 9, 384, 1)\n",
            "(90575, 2)\n"
          ]
        }
      ]
    },
    {
      "cell_type": "code",
      "metadata": {
        "colab": {
          "base_uri": "https://localhost:8080/"
        },
        "id": "wc5wBrPKIlIn",
        "outputId": "666e8cf7-a218-490a-80be-ca82e364f05e"
      },
      "source": [
        "# Modello Teacher: VGG full fledged con ~33k parametri trainabili\n",
        "kernel = (3,3)\n",
        "n_filter1 = 16\n",
        "n_filter2 = 30\n",
        "n_dense = 50\n",
        "\n",
        "\n",
        "# modello funzionale\n",
        "inputs = Input(train_images[0].shape, name = 'input')\n",
        "\n",
        "# primo blocco convoluzionale (4 convoluzioni 2D con attivazione relu + average pooling finale \n",
        "# NOTA: usiamo padding='same' nelle convoluzioni e utilizziamo stariding + pooling per il downsampling dell'output\n",
        "x = Conv2D(n_filter1, kernel, strides=(1,2), activation = 'relu', padding = 'same', name = 'Conv1a')(inputs) \n",
        "x = Conv2D(n_filter1, kernel, strides=(1,2), activation = 'relu', padding = 'same', name = 'Conv1b')(x) \n",
        "x = Conv2D(n_filter1, kernel, strides=(1,2), activation = 'relu', padding = 'same', name = 'Conv1c')(x) \n",
        "x = AveragePooling2D((1,2))(x)\n",
        "\n",
        "# seconod blocco convoluzionale \n",
        "x = Conv2D(n_filter2, kernel, strides=(1,2), activation = 'relu', padding = 'same', name = 'Conv2a')(x) \n",
        "x = Conv2D(n_filter2, kernel, strides=(1,2), activation = 'relu', padding = 'same', name = 'Conv2b')(x) \n",
        "x = Conv2D(n_filter2, kernel, strides=(1,2), activation = 'relu', padding = 'same', name = 'Conv2c')(x)  \n",
        "x = AveragePooling2D((3,3))(x)\n",
        "\n",
        "# flatten layer per adattare l'uscita dell'ultima convoluzione al blocco fully connected usato per la task di regressione\n",
        "x = Flatten()(x)\n",
        "\n",
        "# fully connected block\n",
        "x = Dense(n_dense, activation = 'relu', name = 'Dense1')(x)\n",
        "x = Dense(n_dense, activation = 'relu', name = 'Dense2')(x)\n",
        "\n",
        "# output lineare, dimensione 2 (pt, eta)\n",
        "x = Dense(2, name = 'Output')(x)\n",
        "\n",
        "# modello finale\n",
        "teacher = keras.Model(inputs=[inputs], outputs=[x])\n",
        "teacher.summary()"
      ],
      "execution_count": 12,
      "outputs": [
        {
          "output_type": "stream",
          "name": "stdout",
          "text": [
            "Model: \"model_1\"\n",
            "_________________________________________________________________\n",
            " Layer (type)                Output Shape              Param #   \n",
            "=================================================================\n",
            " input (InputLayer)          [(None, 9, 384, 1)]       0         \n",
            "                                                                 \n",
            " Conv1a (Conv2D)             (None, 9, 192, 16)        160       \n",
            "                                                                 \n",
            " Conv1b (Conv2D)             (None, 9, 96, 16)         2320      \n",
            "                                                                 \n",
            " Conv1c (Conv2D)             (None, 9, 48, 16)         2320      \n",
            "                                                                 \n",
            " average_pooling2d_2 (Averag  (None, 9, 24, 16)        0         \n",
            " ePooling2D)                                                     \n",
            "                                                                 \n",
            " Conv2a (Conv2D)             (None, 9, 12, 30)         4350      \n",
            "                                                                 \n",
            " Conv2b (Conv2D)             (None, 9, 6, 30)          8130      \n",
            "                                                                 \n",
            " Conv2c (Conv2D)             (None, 9, 3, 30)          8130      \n",
            "                                                                 \n",
            " average_pooling2d_3 (Averag  (None, 3, 1, 30)         0         \n",
            " ePooling2D)                                                     \n",
            "                                                                 \n",
            " flatten_1 (Flatten)         (None, 90)                0         \n",
            "                                                                 \n",
            " Dense1 (Dense)              (None, 50)                4550      \n",
            "                                                                 \n",
            " Dense2 (Dense)              (None, 50)                2550      \n",
            "                                                                 \n",
            " Output (Dense)              (None, 2)                 102       \n",
            "                                                                 \n",
            "=================================================================\n",
            "Total params: 32,612\n",
            "Trainable params: 32,612\n",
            "Non-trainable params: 0\n",
            "_________________________________________________________________\n"
          ]
        }
      ]
    },
    {
      "cell_type": "code",
      "source": [
        "# Compilazione e training del modello teacher\n",
        "\n",
        "teacher.compile(optimizer='adam',loss='mse' ,metrics=['mse','mae'])\n",
        "\n",
        "# early stopping e model checkpoints\n",
        "callbacks = [keras.callbacks.EarlyStopping(monitor='val_mse', patience=2, min_delta = 0.00001, restore_best_weights=False), \n",
        "             keras.callbacks.ModelCheckpoint(filepath='teacher_best', monitor='val_mse', verbose=1, save_best_only=True, save_freq='epoch'),]\n",
        "\n",
        "history = teacher.fit(train_images, train_labels, epochs=50, batch_size=100, validation_split=0.2, callbacks=callbacks)"
      ],
      "metadata": {
        "colab": {
          "base_uri": "https://localhost:8080/"
        },
        "id": "I9O5BOR5YaKW",
        "outputId": "7f66fad3-9919-4381-db36-546816f75f41"
      },
      "execution_count": 13,
      "outputs": [
        {
          "output_type": "stream",
          "name": "stdout",
          "text": [
            "Epoch 1/50\n",
            "384/384 [==============================] - ETA: 0s - loss: 0.0665 - mse: 0.0665 - mae: 0.1986\n",
            "Epoch 1: val_mse improved from inf to 0.02343, saving model to teacher_best\n"
          ]
        },
        {
          "output_type": "stream",
          "name": "stderr",
          "text": [
            "WARNING:absl:Found untraced functions such as _jit_compiled_convolution_op, _jit_compiled_convolution_op, _jit_compiled_convolution_op, _jit_compiled_convolution_op, _jit_compiled_convolution_op while saving (showing 5 of 6). These functions will not be directly callable after loading.\n"
          ]
        },
        {
          "output_type": "stream",
          "name": "stdout",
          "text": [
            "\b\b\b\b\b\b\b\b\b\b\b\b\b\b\b\b\b\b\b\b\b\b\b\b\b\b\b\b\b\b\b\b\b\b\b\b\b\b\b\b\b\b\b\b\b\b\b\b\b\b\b\b\b\b\b\b\b\b\b\b\b\b\b\b\b\b\b\b\b\b\b\b\b\b\b\b\b\b\b\b\b\b\b\b\b\b\b\b\b\b\b\b\b\r384/384 [==============================] - 9s 22ms/step - loss: 0.0665 - mse: 0.0665 - mae: 0.1986 - val_loss: 0.0234 - val_mse: 0.0234 - val_mae: 0.1079\n",
            "Epoch 2/50\n",
            "382/384 [============================>.] - ETA: 0s - loss: 0.0190 - mse: 0.0190 - mae: 0.0932\n",
            "Epoch 2: val_mse improved from 0.02343 to 0.01671, saving model to teacher_best\n"
          ]
        },
        {
          "output_type": "stream",
          "name": "stderr",
          "text": [
            "WARNING:absl:Found untraced functions such as _jit_compiled_convolution_op, _jit_compiled_convolution_op, _jit_compiled_convolution_op, _jit_compiled_convolution_op, _jit_compiled_convolution_op while saving (showing 5 of 6). These functions will not be directly callable after loading.\n"
          ]
        },
        {
          "output_type": "stream",
          "name": "stdout",
          "text": [
            "\b\b\b\b\b\b\b\b\b\b\b\b\b\b\b\b\b\b\b\b\b\b\b\b\b\b\b\b\b\b\b\b\b\b\b\b\b\b\b\b\b\b\b\b\b\b\b\b\b\b\b\b\b\b\b\b\b\b\b\b\b\b\b\b\b\b\b\b\b\b\b\b\b\b\b\b\b\b\b\b\b\b\b\b\b\b\b\b\b\b\b\b\b\r384/384 [==============================] - 6s 16ms/step - loss: 0.0190 - mse: 0.0190 - mae: 0.0932 - val_loss: 0.0167 - val_mse: 0.0167 - val_mae: 0.0880\n",
            "Epoch 3/50\n",
            "383/384 [============================>.] - ETA: 0s - loss: 0.0149 - mse: 0.0149 - mae: 0.0813\n",
            "Epoch 3: val_mse improved from 0.01671 to 0.01394, saving model to teacher_best\n"
          ]
        },
        {
          "output_type": "stream",
          "name": "stderr",
          "text": [
            "WARNING:absl:Found untraced functions such as _jit_compiled_convolution_op, _jit_compiled_convolution_op, _jit_compiled_convolution_op, _jit_compiled_convolution_op, _jit_compiled_convolution_op while saving (showing 5 of 6). These functions will not be directly callable after loading.\n"
          ]
        },
        {
          "output_type": "stream",
          "name": "stdout",
          "text": [
            "\b\b\b\b\b\b\b\b\b\b\b\b\b\b\b\b\b\b\b\b\b\b\b\b\b\b\b\b\b\b\b\b\b\b\b\b\b\b\b\b\b\b\b\b\b\b\b\b\b\b\b\b\b\b\b\b\b\b\b\b\b\b\b\b\b\b\b\b\b\b\b\b\b\b\b\b\b\b\b\b\b\b\b\b\b\b\b\b\b\b\b\b\b\r384/384 [==============================] - 5s 14ms/step - loss: 0.0149 - mse: 0.0149 - mae: 0.0812 - val_loss: 0.0139 - val_mse: 0.0139 - val_mae: 0.0755\n",
            "Epoch 4/50\n",
            "383/384 [============================>.] - ETA: 0s - loss: 0.0129 - mse: 0.0129 - mae: 0.0755\n",
            "Epoch 4: val_mse improved from 0.01394 to 0.01218, saving model to teacher_best\n"
          ]
        },
        {
          "output_type": "stream",
          "name": "stderr",
          "text": [
            "WARNING:absl:Found untraced functions such as _jit_compiled_convolution_op, _jit_compiled_convolution_op, _jit_compiled_convolution_op, _jit_compiled_convolution_op, _jit_compiled_convolution_op while saving (showing 5 of 6). These functions will not be directly callable after loading.\n"
          ]
        },
        {
          "output_type": "stream",
          "name": "stdout",
          "text": [
            "\b\b\b\b\b\b\b\b\b\b\b\b\b\b\b\b\b\b\b\b\b\b\b\b\b\b\b\b\b\b\b\b\b\b\b\b\b\b\b\b\b\b\b\b\b\b\b\b\b\b\b\b\b\b\b\b\b\b\b\b\b\b\b\b\b\b\b\b\b\b\b\b\b\b\b\b\b\b\b\b\b\b\b\b\b\b\b\b\b\b\b\b\b\r384/384 [==============================] - 6s 17ms/step - loss: 0.0129 - mse: 0.0129 - mae: 0.0755 - val_loss: 0.0122 - val_mse: 0.0122 - val_mae: 0.0712\n",
            "Epoch 5/50\n",
            "380/384 [============================>.] - ETA: 0s - loss: 0.0116 - mse: 0.0116 - mae: 0.0707\n",
            "Epoch 5: val_mse improved from 0.01218 to 0.01119, saving model to teacher_best\n"
          ]
        },
        {
          "output_type": "stream",
          "name": "stderr",
          "text": [
            "WARNING:absl:Found untraced functions such as _jit_compiled_convolution_op, _jit_compiled_convolution_op, _jit_compiled_convolution_op, _jit_compiled_convolution_op, _jit_compiled_convolution_op while saving (showing 5 of 6). These functions will not be directly callable after loading.\n"
          ]
        },
        {
          "output_type": "stream",
          "name": "stdout",
          "text": [
            "\b\b\b\b\b\b\b\b\b\b\b\b\b\b\b\b\b\b\b\b\b\b\b\b\b\b\b\b\b\b\b\b\b\b\b\b\b\b\b\b\b\b\b\b\b\b\b\b\b\b\b\b\b\b\b\b\b\b\b\b\b\b\b\b\b\b\b\b\b\b\b\b\b\b\b\b\b\b\b\b\b\b\b\b\b\b\b\b\b\b\b\b\b\r384/384 [==============================] - 7s 17ms/step - loss: 0.0116 - mse: 0.0116 - mae: 0.0707 - val_loss: 0.0112 - val_mse: 0.0112 - val_mae: 0.0697\n",
            "Epoch 6/50\n",
            "383/384 [============================>.] - ETA: 0s - loss: 0.0107 - mse: 0.0107 - mae: 0.0673\n",
            "Epoch 6: val_mse did not improve from 0.01119\n",
            "384/384 [==============================] - 6s 16ms/step - loss: 0.0107 - mse: 0.0107 - mae: 0.0673 - val_loss: 0.0116 - val_mse: 0.0116 - val_mae: 0.0735\n",
            "Epoch 7/50\n",
            "381/384 [============================>.] - ETA: 0s - loss: 0.0102 - mse: 0.0102 - mae: 0.0659\n",
            "Epoch 7: val_mse improved from 0.01119 to 0.01014, saving model to teacher_best\n"
          ]
        },
        {
          "output_type": "stream",
          "name": "stderr",
          "text": [
            "WARNING:absl:Found untraced functions such as _jit_compiled_convolution_op, _jit_compiled_convolution_op, _jit_compiled_convolution_op, _jit_compiled_convolution_op, _jit_compiled_convolution_op while saving (showing 5 of 6). These functions will not be directly callable after loading.\n"
          ]
        },
        {
          "output_type": "stream",
          "name": "stdout",
          "text": [
            "\b\b\b\b\b\b\b\b\b\b\b\b\b\b\b\b\b\b\b\b\b\b\b\b\b\b\b\b\b\b\b\b\b\b\b\b\b\b\b\b\b\b\b\b\b\b\b\b\b\b\b\b\b\b\b\b\b\b\b\b\b\b\b\b\b\b\b\b\b\b\b\b\b\b\b\b\b\b\b\b\b\b\b\b\b\b\b\b\b\b\b\b\b\r384/384 [==============================] - 6s 16ms/step - loss: 0.0102 - mse: 0.0102 - mae: 0.0659 - val_loss: 0.0101 - val_mse: 0.0101 - val_mae: 0.0645\n",
            "Epoch 8/50\n",
            "383/384 [============================>.] - ETA: 0s - loss: 0.0098 - mse: 0.0098 - mae: 0.0646\n",
            "Epoch 8: val_mse improved from 0.01014 to 0.01011, saving model to teacher_best\n"
          ]
        },
        {
          "output_type": "stream",
          "name": "stderr",
          "text": [
            "WARNING:absl:Found untraced functions such as _jit_compiled_convolution_op, _jit_compiled_convolution_op, _jit_compiled_convolution_op, _jit_compiled_convolution_op, _jit_compiled_convolution_op while saving (showing 5 of 6). These functions will not be directly callable after loading.\n"
          ]
        },
        {
          "output_type": "stream",
          "name": "stdout",
          "text": [
            "\b\b\b\b\b\b\b\b\b\b\b\b\b\b\b\b\b\b\b\b\b\b\b\b\b\b\b\b\b\b\b\b\b\b\b\b\b\b\b\b\b\b\b\b\b\b\b\b\b\b\b\b\b\b\b\b\b\b\b\b\b\b\b\b\b\b\b\b\b\b\b\b\b\b\b\b\b\b\b\b\b\b\b\b\b\b\b\b\b\b\b\b\b\r384/384 [==============================] - 6s 17ms/step - loss: 0.0098 - mse: 0.0098 - mae: 0.0646 - val_loss: 0.0101 - val_mse: 0.0101 - val_mae: 0.0643\n",
            "Epoch 9/50\n",
            "384/384 [==============================] - ETA: 0s - loss: 0.0093 - mse: 0.0093 - mae: 0.0624\n",
            "Epoch 9: val_mse improved from 0.01011 to 0.00998, saving model to teacher_best\n"
          ]
        },
        {
          "output_type": "stream",
          "name": "stderr",
          "text": [
            "WARNING:absl:Found untraced functions such as _jit_compiled_convolution_op, _jit_compiled_convolution_op, _jit_compiled_convolution_op, _jit_compiled_convolution_op, _jit_compiled_convolution_op while saving (showing 5 of 6). These functions will not be directly callable after loading.\n"
          ]
        },
        {
          "output_type": "stream",
          "name": "stdout",
          "text": [
            "\b\b\b\b\b\b\b\b\b\b\b\b\b\b\b\b\b\b\b\b\b\b\b\b\b\b\b\b\b\b\b\b\b\b\b\b\b\b\b\b\b\b\b\b\b\b\b\b\b\b\b\b\b\b\b\b\b\b\b\b\b\b\b\b\b\b\b\b\b\b\b\b\b\b\b\b\b\b\b\b\b\b\b\b\b\b\b\b\b\b\b\b\b\r384/384 [==============================] - 6s 17ms/step - loss: 0.0093 - mse: 0.0093 - mae: 0.0624 - val_loss: 0.0100 - val_mse: 0.0100 - val_mae: 0.0660\n",
            "Epoch 10/50\n",
            "383/384 [============================>.] - ETA: 0s - loss: 0.0091 - mse: 0.0091 - mae: 0.0620\n",
            "Epoch 10: val_mse improved from 0.00998 to 0.00970, saving model to teacher_best\n"
          ]
        },
        {
          "output_type": "stream",
          "name": "stderr",
          "text": [
            "WARNING:absl:Found untraced functions such as _jit_compiled_convolution_op, _jit_compiled_convolution_op, _jit_compiled_convolution_op, _jit_compiled_convolution_op, _jit_compiled_convolution_op while saving (showing 5 of 6). These functions will not be directly callable after loading.\n"
          ]
        },
        {
          "output_type": "stream",
          "name": "stdout",
          "text": [
            "\b\b\b\b\b\b\b\b\b\b\b\b\b\b\b\b\b\b\b\b\b\b\b\b\b\b\b\b\b\b\b\b\b\b\b\b\b\b\b\b\b\b\b\b\b\b\b\b\b\b\b\b\b\b\b\b\b\b\b\b\b\b\b\b\b\b\b\b\b\b\b\b\b\b\b\b\b\b\b\b\b\b\b\b\b\b\b\b\b\b\b\b\b\r384/384 [==============================] - 7s 17ms/step - loss: 0.0091 - mse: 0.0091 - mae: 0.0620 - val_loss: 0.0097 - val_mse: 0.0097 - val_mae: 0.0645\n",
            "Epoch 11/50\n",
            "380/384 [============================>.] - ETA: 0s - loss: 0.0088 - mse: 0.0088 - mae: 0.0605\n",
            "Epoch 11: val_mse did not improve from 0.00970\n",
            "384/384 [==============================] - 5s 13ms/step - loss: 0.0088 - mse: 0.0088 - mae: 0.0605 - val_loss: 0.0098 - val_mse: 0.0098 - val_mae: 0.0622\n",
            "Epoch 12/50\n",
            "382/384 [============================>.] - ETA: 0s - loss: 0.0086 - mse: 0.0086 - mae: 0.0598\n",
            "Epoch 12: val_mse did not improve from 0.00970\n",
            "384/384 [==============================] - 5s 13ms/step - loss: 0.0086 - mse: 0.0086 - mae: 0.0598 - val_loss: 0.0097 - val_mse: 0.0097 - val_mae: 0.0631\n"
          ]
        }
      ]
    },
    {
      "cell_type": "code",
      "source": [
        "# plot loss e mae vs epoca di training\n",
        "\n",
        "plt.plot(history.history['loss'], label = 'loss')\n",
        "plt.plot(history.history['val_loss'], label = 'val_loss')\n",
        "plt.legend()\n",
        "plt.show()\n",
        "\n",
        "plt.plot(history.history['mae'], label = 'mae')\n",
        "plt.plot(history.history['val_mae'], label = 'val_mae')\n",
        "plt.legend()\n",
        "plt.show()"
      ],
      "metadata": {
        "id": "ofVoDY-DcRdq",
        "colab": {
          "base_uri": "https://localhost:8080/",
          "height": 533
        },
        "outputId": "86af1ef0-efb0-4469-bcf2-1988fa867000"
      },
      "execution_count": 14,
      "outputs": [
        {
          "output_type": "display_data",
          "data": {
            "text/plain": [
              "<Figure size 432x288 with 1 Axes>"
            ],
            "image/png": "[encoded data removed]"
          },
          "metadata": {
            "needs_background": "light"
          }
        },
        {
          "output_type": "display_data",
          "data": {
            "text/plain": [
              "<Figure size 432x288 with 1 Axes>"
            ],
            "image/png": "[encoded data removed]"
          },
          "metadata": {
            "needs_background": "light"
          }
        }
      ]
    },
    {
      "cell_type": "code",
      "source": [
        "# carica il best model e calcola predizioni sul test set\n",
        "teacher = keras.models.load_model('teacher_best')\n",
        "\n",
        "predictions = scaler.inverse_transform(teacher.predict(test_images))"
      ],
      "metadata": {
        "id": "2ut3pgP3am8b",
        "colab": {
          "base_uri": "https://localhost:8080/"
        },
        "outputId": "5b6a8509-a413-4efe-db91-1f9b59953980"
      },
      "execution_count": 19,
      "outputs": [
        {
          "output_type": "stream",
          "name": "stdout",
          "text": [
            "2831/2831 [==============================] - 8s 3ms/step\n"
          ]
        }
      ]
    },
    {
      "cell_type": "code",
      "source": [
        "# Turnon curva di efficienza del trigger in funzione del pt\n",
        "\n",
        "# modo facile per ottenerlo: creare due histogrammi uno con la distribuzione di pt per gli eventi che passono il taglio \n",
        "# pt_predetto > soglia e uno con la distribuzione di tutti gli eventi e poi fare il rapporto tra i due istogrammi\n",
        "\n",
        "predictions = predictions[:,0]\n",
        "pttrue = scaler.inverse_transform(test_labels)[:,0]\n",
        "soglia = 10.0 #soglia nominale di trigger Pt>10 GeV/c\n",
        "numer,_ = np.histogram(pttrue[predictions>soglia], bins=20, range=(0.,20.))\n",
        "denum,_ = np.histogram(pttrue, bins=20, range=(0.,20.))\n",
        "\n",
        "eff = numer/denum\n",
        "lrvalues = np.linspace(0.,20.,20)\n",
        "\n",
        "_ = plt.plot(lrvalues,eff, '*')\n",
        "_ = plt.axvline(x=soglia)\n",
        "_ = plt.xlabel(\"pT$ [GeV/c]\")\n",
        "_ = plt.ylabel(\"efficiency\")"
      ],
      "metadata": {
        "colab": {
          "base_uri": "https://localhost:8080/",
          "height": 333
        },
        "id": "U2HKulWGc0oW",
        "outputId": "97178f28-5d4b-450f-f0fd-e6e0ce903c5c"
      },
      "execution_count": 20,
      "outputs": [
        {
          "output_type": "stream",
          "name": "stderr",
          "text": [
            "<ipython-input-20-c404ff68c58f>:12: RuntimeWarning: invalid value encountered in true_divide\n",
            "  eff = numer/denum\n"
          ]
        },
        {
          "output_type": "display_data",
          "data": {
            "text/plain": [
              "<Figure size 432x288 with 1 Axes>"
            ],
            "image/png": "[encoded data removed]"
          },
          "metadata": {
            "needs_background": "light"
          }
        }
      ]
    },
    {
      "cell_type": "code",
      "source": [
        "# Modello Student: Simile al Teacher ma con molti meno parametri (~1k parametri trainabili)\n",
        "kernel = (3,3)\n",
        "n_dense = 10\n",
        "\n",
        "inputs = Input(train_images[0].shape, name = 'input')\n",
        "\n",
        "x = Conv2D(1, kernel, strides=(1,2), activation = 'relu', padding = 'same', name = 'Student_Conv1a')(inputs) \n",
        "x = Conv2D(2, kernel, strides=(1,2), activation = 'relu', padding = 'same', name = 'Student_Conv1b')(x) \n",
        "x = Conv2D(2, kernel, strides=(1,2), activation = 'relu', padding = 'same', name = 'Student_Conv1c')(x) \n",
        "x = AveragePooling2D((1,2))(x)\n",
        "\n",
        "x = Conv2D(8, kernel, strides=(1,2), activation = 'relu', padding = 'same', name = 'Student_Conv2a')(x) \n",
        "x = Conv2D(4, kernel, strides=(1,2), activation = 'relu', padding = 'same', name = 'Student_Conv2b')(x) \n",
        "x = Conv2D(8, kernel, strides=(1,2), activation = 'relu', padding = 'same', name = 'Student_Conv2c')(x) \n",
        "x = AveragePooling2D((3,3))(x)\n",
        "\n",
        "x = Flatten()(x) \n",
        "x = Dense(n_dense, activation = 'relu', name = 'Student_Dense1')(x)\n",
        "x = Dense(n_dense, activation = 'relu', name = 'Student_Dense2')(x)\n",
        "\n",
        "x = Dense(2, name = 'Student_Output')(x)\n",
        "\n",
        "# modello finale\n",
        "student = keras.Model(inputs=[inputs], outputs=[x])\n",
        "student.summary()"
      ],
      "metadata": {
        "colab": {
          "base_uri": "https://localhost:8080/"
        },
        "id": "7pVD2jVSevWF",
        "outputId": "b7c0310b-4620-4d22-f6b8-4da097ba116d"
      },
      "execution_count": 21,
      "outputs": [
        {
          "output_type": "stream",
          "name": "stdout",
          "text": [
            "Model: \"model_2\"\n",
            "_________________________________________________________________\n",
            " Layer (type)                Output Shape              Param #   \n",
            "=================================================================\n",
            " input (InputLayer)          [(None, 9, 384, 1)]       0         \n",
            "                                                                 \n",
            " Student_Conv1a (Conv2D)     (None, 9, 192, 1)         10        \n",
            "                                                                 \n",
            " Student_Conv1b (Conv2D)     (None, 9, 96, 2)          20        \n",
            "                                                                 \n",
            " Student_Conv1c (Conv2D)     (None, 9, 48, 2)          38        \n",
            "                                                                 \n",
            " average_pooling2d_4 (Averag  (None, 9, 24, 2)         0         \n",
            " ePooling2D)                                                     \n",
            "                                                                 \n",
            " Student_Conv2a (Conv2D)     (None, 9, 12, 8)          152       \n",
            "                                                                 \n",
            " Student_Conv2b (Conv2D)     (None, 9, 6, 4)           292       \n",
            "                                                                 \n",
            " Student_Conv2c (Conv2D)     (None, 9, 3, 8)           296       \n",
            "                                                                 \n",
            " average_pooling2d_5 (Averag  (None, 3, 1, 8)          0         \n",
            " ePooling2D)                                                     \n",
            "                                                                 \n",
            " flatten_2 (Flatten)         (None, 24)                0         \n",
            "                                                                 \n",
            " Student_Dense1 (Dense)      (None, 10)                250       \n",
            "                                                                 \n",
            " Student_Dense2 (Dense)      (None, 10)                110       \n",
            "                                                                 \n",
            " Student_Output (Dense)      (None, 2)                 22        \n",
            "                                                                 \n",
            "=================================================================\n",
            "Total params: 1,190\n",
            "Trainable params: 1,190\n",
            "Non-trainable params: 0\n",
            "_________________________________________________________________\n"
          ]
        }
      ]
    },
    {
      "cell_type": "code",
      "source": [
        "# Compilazione e training del modello student\n",
        "\n",
        "student.compile(optimizer='adam',loss='mse' ,metrics=['mse'])\n",
        "\n",
        "# early stopping e model checkpoints\n",
        "callbacks = [keras.callbacks.EarlyStopping(monitor='val_mse', patience=2, min_delta = 0.00001, restore_best_weights=False), \n",
        "             keras.callbacks.ModelCheckpoint(filepath='student_best', monitor='val_mse', verbose=1, save_best_only=True, save_freq='epoch'),]\n",
        "\n",
        "history = student.fit(train_images, train_labels, epochs=50, batch_size=100, validation_split=0.2, callbacks=callbacks)"
      ],
      "metadata": {
        "colab": {
          "base_uri": "https://localhost:8080/"
        },
        "id": "lRbg7PGdf2u3",
        "outputId": "a42b9b49-ebf6-4853-ae94-45c46f9be7c0"
      },
      "execution_count": 22,
      "outputs": [
        {
          "output_type": "stream",
          "name": "stdout",
          "text": [
            "Epoch 1/50\n",
            "384/384 [==============================] - ETA: 0s - loss: 0.0892 - mse: 0.0892\n",
            "Epoch 1: val_mse improved from inf to 0.06466, saving model to student_best\n"
          ]
        },
        {
          "output_type": "stream",
          "name": "stderr",
          "text": [
            "WARNING:absl:Found untraced functions such as _jit_compiled_convolution_op, _jit_compiled_convolution_op, _jit_compiled_convolution_op, _jit_compiled_convolution_op, _jit_compiled_convolution_op while saving (showing 5 of 6). These functions will not be directly callable after loading.\n"
          ]
        },
        {
          "output_type": "stream",
          "name": "stdout",
          "text": [
            "\b\b\b\b\b\b\b\b\b\b\b\b\b\b\b\b\b\b\b\b\b\b\b\b\b\b\b\b\b\b\b\b\b\b\b\b\b\b\b\b\b\b\b\b\b\b\b\b\b\b\b\b\b\b\b\b\b\b\b\b\b\b\b\b\b\b\b\b\b\b\b\b\b\b\b\b\b\b\b\r384/384 [==============================] - 6s 14ms/step - loss: 0.0892 - mse: 0.0892 - val_loss: 0.0647 - val_mse: 0.0647\n",
            "Epoch 2/50\n",
            "380/384 [============================>.] - ETA: 0s - loss: 0.0543 - mse: 0.0543\n",
            "Epoch 2: val_mse improved from 0.06466 to 0.04950, saving model to student_best\n"
          ]
        },
        {
          "output_type": "stream",
          "name": "stderr",
          "text": [
            "WARNING:absl:Found untraced functions such as _jit_compiled_convolution_op, _jit_compiled_convolution_op, _jit_compiled_convolution_op, _jit_compiled_convolution_op, _jit_compiled_convolution_op while saving (showing 5 of 6). These functions will not be directly callable after loading.\n"
          ]
        },
        {
          "output_type": "stream",
          "name": "stdout",
          "text": [
            "\b\b\b\b\b\b\b\b\b\b\b\b\b\b\b\b\b\b\b\b\b\b\b\b\b\b\b\b\b\b\b\b\b\b\b\b\b\b\b\b\b\b\b\b\b\b\b\b\b\b\b\b\b\b\b\b\b\b\b\b\b\b\b\b\b\b\b\b\b\b\b\b\b\b\b\b\b\b\b\r384/384 [==============================] - 5s 12ms/step - loss: 0.0543 - mse: 0.0543 - val_loss: 0.0495 - val_mse: 0.0495\n",
            "Epoch 3/50\n",
            "382/384 [============================>.] - ETA: 0s - loss: 0.0474 - mse: 0.0474\n",
            "Epoch 3: val_mse improved from 0.04950 to 0.04535, saving model to student_best\n"
          ]
        },
        {
          "output_type": "stream",
          "name": "stderr",
          "text": [
            "WARNING:absl:Found untraced functions such as _jit_compiled_convolution_op, _jit_compiled_convolution_op, _jit_compiled_convolution_op, _jit_compiled_convolution_op, _jit_compiled_convolution_op while saving (showing 5 of 6). These functions will not be directly callable after loading.\n"
          ]
        },
        {
          "output_type": "stream",
          "name": "stdout",
          "text": [
            "\b\b\b\b\b\b\b\b\b\b\b\b\b\b\b\b\b\b\b\b\b\b\b\b\b\b\b\b\b\b\b\b\b\b\b\b\b\b\b\b\b\b\b\b\b\b\b\b\b\b\b\b\b\b\b\b\b\b\b\b\b\b\b\b\b\b\b\b\b\b\b\b\b\b\b\b\b\b\b\r384/384 [==============================] - 5s 14ms/step - loss: 0.0474 - mse: 0.0474 - val_loss: 0.0453 - val_mse: 0.0453\n",
            "Epoch 4/50\n",
            "384/384 [==============================] - ETA: 0s - loss: 0.0440 - mse: 0.0440\n",
            "Epoch 4: val_mse improved from 0.04535 to 0.04271, saving model to student_best\n"
          ]
        },
        {
          "output_type": "stream",
          "name": "stderr",
          "text": [
            "WARNING:absl:Found untraced functions such as _jit_compiled_convolution_op, _jit_compiled_convolution_op, _jit_compiled_convolution_op, _jit_compiled_convolution_op, _jit_compiled_convolution_op while saving (showing 5 of 6). These functions will not be directly callable after loading.\n"
          ]
        },
        {
          "output_type": "stream",
          "name": "stdout",
          "text": [
            "\b\b\b\b\b\b\b\b\b\b\b\b\b\b\b\b\b\b\b\b\b\b\b\b\b\b\b\b\b\b\b\b\b\b\b\b\b\b\b\b\b\b\b\b\b\b\b\b\b\b\b\b\b\b\b\b\b\b\b\b\b\b\b\b\b\b\b\b\b\b\b\b\b\b\b\b\b\b\b\r384/384 [==============================] - 5s 12ms/step - loss: 0.0440 - mse: 0.0440 - val_loss: 0.0427 - val_mse: 0.0427\n",
            "Epoch 5/50\n",
            "377/384 [============================>.] - ETA: 0s - loss: 0.0424 - mse: 0.0424\n",
            "Epoch 5: val_mse improved from 0.04271 to 0.04231, saving model to student_best\n"
          ]
        },
        {
          "output_type": "stream",
          "name": "stderr",
          "text": [
            "WARNING:absl:Found untraced functions such as _jit_compiled_convolution_op, _jit_compiled_convolution_op, _jit_compiled_convolution_op, _jit_compiled_convolution_op, _jit_compiled_convolution_op while saving (showing 5 of 6). These functions will not be directly callable after loading.\n"
          ]
        },
        {
          "output_type": "stream",
          "name": "stdout",
          "text": [
            "\b\b\b\b\b\b\b\b\b\b\b\b\b\b\b\b\b\b\b\b\b\b\b\b\b\b\b\b\b\b\b\b\b\b\b\b\b\b\b\b\b\b\b\b\b\b\b\b\b\b\b\b\b\b\b\b\b\b\b\b\b\b\b\b\b\b\b\b\b\b\b\b\b\b\b\b\b\b\b\r384/384 [==============================] - 5s 12ms/step - loss: 0.0424 - mse: 0.0424 - val_loss: 0.0423 - val_mse: 0.0423\n",
            "Epoch 6/50\n",
            "382/384 [============================>.] - ETA: 0s - loss: 0.0413 - mse: 0.0413\n",
            "Epoch 6: val_mse improved from 0.04231 to 0.03981, saving model to student_best\n"
          ]
        },
        {
          "output_type": "stream",
          "name": "stderr",
          "text": [
            "WARNING:absl:Found untraced functions such as _jit_compiled_convolution_op, _jit_compiled_convolution_op, _jit_compiled_convolution_op, _jit_compiled_convolution_op, _jit_compiled_convolution_op while saving (showing 5 of 6). These functions will not be directly callable after loading.\n"
          ]
        },
        {
          "output_type": "stream",
          "name": "stdout",
          "text": [
            "\b\b\b\b\b\b\b\b\b\b\b\b\b\b\b\b\b\b\b\b\b\b\b\b\b\b\b\b\b\b\b\b\b\b\b\b\b\b\b\b\b\b\b\b\b\b\b\b\b\b\b\b\b\b\b\b\b\b\b\b\b\b\b\b\b\b\b\b\b\b\b\b\b\b\b\b\b\b\b\r384/384 [==============================] - 4s 11ms/step - loss: 0.0413 - mse: 0.0413 - val_loss: 0.0398 - val_mse: 0.0398\n",
            "Epoch 7/50\n",
            "380/384 [============================>.] - ETA: 0s - loss: 0.0384 - mse: 0.0384\n",
            "Epoch 7: val_mse improved from 0.03981 to 0.03551, saving model to student_best\n"
          ]
        },
        {
          "output_type": "stream",
          "name": "stderr",
          "text": [
            "WARNING:absl:Found untraced functions such as _jit_compiled_convolution_op, _jit_compiled_convolution_op, _jit_compiled_convolution_op, _jit_compiled_convolution_op, _jit_compiled_convolution_op while saving (showing 5 of 6). These functions will not be directly callable after loading.\n"
          ]
        },
        {
          "output_type": "stream",
          "name": "stdout",
          "text": [
            "\b\b\b\b\b\b\b\b\b\b\b\b\b\b\b\b\b\b\b\b\b\b\b\b\b\b\b\b\b\b\b\b\b\b\b\b\b\b\b\b\b\b\b\b\b\b\b\b\b\b\b\b\b\b\b\b\b\b\b\b\b\b\b\b\b\b\b\b\b\b\b\b\b\b\b\b\b\b\b\r384/384 [==============================] - 5s 12ms/step - loss: 0.0384 - mse: 0.0384 - val_loss: 0.0355 - val_mse: 0.0355\n",
            "Epoch 8/50\n",
            "384/384 [==============================] - ETA: 0s - loss: 0.0328 - mse: 0.0328\n",
            "Epoch 8: val_mse improved from 0.03551 to 0.03002, saving model to student_best\n"
          ]
        },
        {
          "output_type": "stream",
          "name": "stderr",
          "text": [
            "WARNING:absl:Found untraced functions such as _jit_compiled_convolution_op, _jit_compiled_convolution_op, _jit_compiled_convolution_op, _jit_compiled_convolution_op, _jit_compiled_convolution_op while saving (showing 5 of 6). These functions will not be directly callable after loading.\n"
          ]
        },
        {
          "output_type": "stream",
          "name": "stdout",
          "text": [
            "\b\b\b\b\b\b\b\b\b\b\b\b\b\b\b\b\b\b\b\b\b\b\b\b\b\b\b\b\b\b\b\b\b\b\b\b\b\b\b\b\b\b\b\b\b\b\b\b\b\b\b\b\b\b\b\b\b\b\b\b\b\b\b\b\b\b\b\b\b\b\b\b\b\b\b\b\b\b\b\r384/384 [==============================] - 4s 11ms/step - loss: 0.0328 - mse: 0.0328 - val_loss: 0.0300 - val_mse: 0.0300\n",
            "Epoch 9/50\n",
            "377/384 [============================>.] - ETA: 0s - loss: 0.0284 - mse: 0.0284\n",
            "Epoch 9: val_mse improved from 0.03002 to 0.02669, saving model to student_best\n"
          ]
        },
        {
          "output_type": "stream",
          "name": "stderr",
          "text": [
            "WARNING:absl:Found untraced functions such as _jit_compiled_convolution_op, _jit_compiled_convolution_op, _jit_compiled_convolution_op, _jit_compiled_convolution_op, _jit_compiled_convolution_op while saving (showing 5 of 6). These functions will not be directly callable after loading.\n"
          ]
        },
        {
          "output_type": "stream",
          "name": "stdout",
          "text": [
            "\b\b\b\b\b\b\b\b\b\b\b\b\b\b\b\b\b\b\b\b\b\b\b\b\b\b\b\b\b\b\b\b\b\b\b\b\b\b\b\b\b\b\b\b\b\b\b\b\b\b\b\b\b\b\b\b\b\b\b\b\b\b\b\b\b\b\b\b\b\b\b\b\b\b\b\b\b\b\b\r384/384 [==============================] - 5s 12ms/step - loss: 0.0284 - mse: 0.0284 - val_loss: 0.0267 - val_mse: 0.0267\n",
            "Epoch 10/50\n",
            "381/384 [============================>.] - ETA: 0s - loss: 0.0259 - mse: 0.0259\n",
            "Epoch 10: val_mse improved from 0.02669 to 0.02491, saving model to student_best\n"
          ]
        },
        {
          "output_type": "stream",
          "name": "stderr",
          "text": [
            "WARNING:absl:Found untraced functions such as _jit_compiled_convolution_op, _jit_compiled_convolution_op, _jit_compiled_convolution_op, _jit_compiled_convolution_op, _jit_compiled_convolution_op while saving (showing 5 of 6). These functions will not be directly callable after loading.\n"
          ]
        },
        {
          "output_type": "stream",
          "name": "stdout",
          "text": [
            "\b\b\b\b\b\b\b\b\b\b\b\b\b\b\b\b\b\b\b\b\b\b\b\b\b\b\b\b\b\b\b\b\b\b\b\b\b\b\b\b\b\b\b\b\b\b\b\b\b\b\b\b\b\b\b\b\b\b\b\b\b\b\b\b\b\b\b\b\b\b\b\b\b\b\b\b\b\b\b\r384/384 [==============================] - 4s 11ms/step - loss: 0.0259 - mse: 0.0259 - val_loss: 0.0249 - val_mse: 0.0249\n",
            "Epoch 11/50\n",
            "380/384 [============================>.] - ETA: 0s - loss: 0.0246 - mse: 0.0246\n",
            "Epoch 11: val_mse improved from 0.02491 to 0.02361, saving model to student_best\n"
          ]
        },
        {
          "output_type": "stream",
          "name": "stderr",
          "text": [
            "WARNING:absl:Found untraced functions such as _jit_compiled_convolution_op, _jit_compiled_convolution_op, _jit_compiled_convolution_op, _jit_compiled_convolution_op, _jit_compiled_convolution_op while saving (showing 5 of 6). These functions will not be directly callable after loading.\n"
          ]
        },
        {
          "output_type": "stream",
          "name": "stdout",
          "text": [
            "\b\b\b\b\b\b\b\b\b\b\b\b\b\b\b\b\b\b\b\b\b\b\b\b\b\b\b\b\b\b\b\b\b\b\b\b\b\b\b\b\b\b\b\b\b\b\b\b\b\b\b\b\b\b\b\b\b\b\b\b\b\b\b\b\b\b\b\b\b\b\b\b\b\b\b\b\b\b\b\r384/384 [==============================] - 5s 12ms/step - loss: 0.0246 - mse: 0.0246 - val_loss: 0.0236 - val_mse: 0.0236\n",
            "Epoch 12/50\n",
            "381/384 [============================>.] - ETA: 0s - loss: 0.0236 - mse: 0.0236\n",
            "Epoch 12: val_mse improved from 0.02361 to 0.02295, saving model to student_best\n"
          ]
        },
        {
          "output_type": "stream",
          "name": "stderr",
          "text": [
            "WARNING:absl:Found untraced functions such as _jit_compiled_convolution_op, _jit_compiled_convolution_op, _jit_compiled_convolution_op, _jit_compiled_convolution_op, _jit_compiled_convolution_op while saving (showing 5 of 6). These functions will not be directly callable after loading.\n"
          ]
        },
        {
          "output_type": "stream",
          "name": "stdout",
          "text": [
            "\b\b\b\b\b\b\b\b\b\b\b\b\b\b\b\b\b\b\b\b\b\b\b\b\b\b\b\b\b\b\b\b\b\b\b\b\b\b\b\b\b\b\b\b\b\b\b\b\b\b\b\b\b\b\b\b\b\b\b\b\b\b\b\b\b\b\b\b\b\b\b\b\b\b\b\b\b\b\b\r384/384 [==============================] - 5s 13ms/step - loss: 0.0236 - mse: 0.0236 - val_loss: 0.0229 - val_mse: 0.0229\n",
            "Epoch 13/50\n",
            "382/384 [============================>.] - ETA: 0s - loss: 0.0231 - mse: 0.0231\n",
            "Epoch 13: val_mse did not improve from 0.02295\n",
            "384/384 [==============================] - 3s 8ms/step - loss: 0.0230 - mse: 0.0230 - val_loss: 0.0236 - val_mse: 0.0236\n",
            "Epoch 14/50\n",
            "378/384 [============================>.] - ETA: 0s - loss: 0.0225 - mse: 0.0225\n",
            "Epoch 14: val_mse improved from 0.02295 to 0.02198, saving model to student_best\n"
          ]
        },
        {
          "output_type": "stream",
          "name": "stderr",
          "text": [
            "WARNING:absl:Found untraced functions such as _jit_compiled_convolution_op, _jit_compiled_convolution_op, _jit_compiled_convolution_op, _jit_compiled_convolution_op, _jit_compiled_convolution_op while saving (showing 5 of 6). These functions will not be directly callable after loading.\n"
          ]
        },
        {
          "output_type": "stream",
          "name": "stdout",
          "text": [
            "\b\b\b\b\b\b\b\b\b\b\b\b\b\b\b\b\b\b\b\b\b\b\b\b\b\b\b\b\b\b\b\b\b\b\b\b\b\b\b\b\b\b\b\b\b\b\b\b\b\b\b\b\b\b\b\b\b\b\b\b\b\b\b\b\b\b\b\b\b\b\b\b\b\b\b\b\b\b\b\r384/384 [==============================] - 5s 13ms/step - loss: 0.0225 - mse: 0.0225 - val_loss: 0.0220 - val_mse: 0.0220\n",
            "Epoch 15/50\n",
            "377/384 [============================>.] - ETA: 0s - loss: 0.0221 - mse: 0.0221\n",
            "Epoch 15: val_mse improved from 0.02198 to 0.02155, saving model to student_best\n"
          ]
        },
        {
          "output_type": "stream",
          "name": "stderr",
          "text": [
            "WARNING:absl:Found untraced functions such as _jit_compiled_convolution_op, _jit_compiled_convolution_op, _jit_compiled_convolution_op, _jit_compiled_convolution_op, _jit_compiled_convolution_op while saving (showing 5 of 6). These functions will not be directly callable after loading.\n"
          ]
        },
        {
          "output_type": "stream",
          "name": "stdout",
          "text": [
            "\b\b\b\b\b\b\b\b\b\b\b\b\b\b\b\b\b\b\b\b\b\b\b\b\b\b\b\b\b\b\b\b\b\b\b\b\b\b\b\b\b\b\b\b\b\b\b\b\b\b\b\b\b\b\b\b\b\b\b\b\b\b\b\b\b\b\b\b\b\b\b\b\b\b\b\b\b\b\b\r384/384 [==============================] - 5s 12ms/step - loss: 0.0221 - mse: 0.0221 - val_loss: 0.0215 - val_mse: 0.0215\n",
            "Epoch 16/50\n",
            "383/384 [============================>.] - ETA: 0s - loss: 0.0216 - mse: 0.0216\n",
            "Epoch 16: val_mse improved from 0.02155 to 0.02118, saving model to student_best\n"
          ]
        },
        {
          "output_type": "stream",
          "name": "stderr",
          "text": [
            "WARNING:absl:Found untraced functions such as _jit_compiled_convolution_op, _jit_compiled_convolution_op, _jit_compiled_convolution_op, _jit_compiled_convolution_op, _jit_compiled_convolution_op while saving (showing 5 of 6). These functions will not be directly callable after loading.\n"
          ]
        },
        {
          "output_type": "stream",
          "name": "stdout",
          "text": [
            "\b\b\b\b\b\b\b\b\b\b\b\b\b\b\b\b\b\b\b\b\b\b\b\b\b\b\b\b\b\b\b\b\b\b\b\b\b\b\b\b\b\b\b\b\b\b\b\b\b\b\b\b\b\b\b\b\b\b\b\b\b\b\b\b\b\b\b\b\b\b\b\b\b\b\b\b\b\b\b\r384/384 [==============================] - 4s 12ms/step - loss: 0.0216 - mse: 0.0216 - val_loss: 0.0212 - val_mse: 0.0212\n",
            "Epoch 17/50\n",
            "378/384 [============================>.] - ETA: 0s - loss: 0.0213 - mse: 0.0213\n",
            "Epoch 17: val_mse improved from 0.02118 to 0.02105, saving model to student_best\n"
          ]
        },
        {
          "output_type": "stream",
          "name": "stderr",
          "text": [
            "WARNING:absl:Found untraced functions such as _jit_compiled_convolution_op, _jit_compiled_convolution_op, _jit_compiled_convolution_op, _jit_compiled_convolution_op, _jit_compiled_convolution_op while saving (showing 5 of 6). These functions will not be directly callable after loading.\n"
          ]
        },
        {
          "output_type": "stream",
          "name": "stdout",
          "text": [
            "\b\b\b\b\b\b\b\b\b\b\b\b\b\b\b\b\b\b\b\b\b\b\b\b\b\b\b\b\b\b\b\b\b\b\b\b\b\b\b\b\b\b\b\b\b\b\b\b\b\b\b\b\b\b\b\b\b\b\b\b\b\b\b\b\b\b\b\b\b\b\b\b\b\b\b\b\b\b\b\r384/384 [==============================] - 4s 12ms/step - loss: 0.0213 - mse: 0.0213 - val_loss: 0.0211 - val_mse: 0.0211\n",
            "Epoch 18/50\n",
            "378/384 [============================>.] - ETA: 0s - loss: 0.0210 - mse: 0.0210\n",
            "Epoch 18: val_mse improved from 0.02105 to 0.02057, saving model to student_best\n"
          ]
        },
        {
          "output_type": "stream",
          "name": "stderr",
          "text": [
            "WARNING:absl:Found untraced functions such as _jit_compiled_convolution_op, _jit_compiled_convolution_op, _jit_compiled_convolution_op, _jit_compiled_convolution_op, _jit_compiled_convolution_op while saving (showing 5 of 6). These functions will not be directly callable after loading.\n"
          ]
        },
        {
          "output_type": "stream",
          "name": "stdout",
          "text": [
            "\b\b\b\b\b\b\b\b\b\b\b\b\b\b\b\b\b\b\b\b\b\b\b\b\b\b\b\b\b\b\b\b\b\b\b\b\b\b\b\b\b\b\b\b\b\b\b\b\b\b\b\b\b\b\b\b\b\b\b\b\b\b\b\b\b\b\b\b\b\b\b\b\b\b\b\b\b\b\b\r384/384 [==============================] - 4s 12ms/step - loss: 0.0210 - mse: 0.0210 - val_loss: 0.0206 - val_mse: 0.0206\n",
            "Epoch 19/50\n",
            "384/384 [==============================] - ETA: 0s - loss: 0.0208 - mse: 0.0208\n",
            "Epoch 19: val_mse improved from 0.02057 to 0.02050, saving model to student_best\n"
          ]
        },
        {
          "output_type": "stream",
          "name": "stderr",
          "text": [
            "WARNING:absl:Found untraced functions such as _jit_compiled_convolution_op, _jit_compiled_convolution_op, _jit_compiled_convolution_op, _jit_compiled_convolution_op, _jit_compiled_convolution_op while saving (showing 5 of 6). These functions will not be directly callable after loading.\n"
          ]
        },
        {
          "output_type": "stream",
          "name": "stdout",
          "text": [
            "\b\b\b\b\b\b\b\b\b\b\b\b\b\b\b\b\b\b\b\b\b\b\b\b\b\b\b\b\b\b\b\b\b\b\b\b\b\b\b\b\b\b\b\b\b\b\b\b\b\b\b\b\b\b\b\b\b\b\b\b\b\b\b\b\b\b\b\b\b\b\b\b\b\b\b\b\b\b\b\r384/384 [==============================] - 5s 12ms/step - loss: 0.0208 - mse: 0.0208 - val_loss: 0.0205 - val_mse: 0.0205\n",
            "Epoch 20/50\n",
            "378/384 [============================>.] - ETA: 0s - loss: 0.0204 - mse: 0.0204\n",
            "Epoch 20: val_mse improved from 0.02050 to 0.02033, saving model to student_best\n"
          ]
        },
        {
          "output_type": "stream",
          "name": "stderr",
          "text": [
            "WARNING:absl:Found untraced functions such as _jit_compiled_convolution_op, _jit_compiled_convolution_op, _jit_compiled_convolution_op, _jit_compiled_convolution_op, _jit_compiled_convolution_op while saving (showing 5 of 6). These functions will not be directly callable after loading.\n"
          ]
        },
        {
          "output_type": "stream",
          "name": "stdout",
          "text": [
            "\b\b\b\b\b\b\b\b\b\b\b\b\b\b\b\b\b\b\b\b\b\b\b\b\b\b\b\b\b\b\b\b\b\b\b\b\b\b\b\b\b\b\b\b\b\b\b\b\b\b\b\b\b\b\b\b\b\b\b\b\b\b\b\b\b\b\b\b\b\b\b\b\b\b\b\b\b\b\b\r384/384 [==============================] - 4s 11ms/step - loss: 0.0204 - mse: 0.0204 - val_loss: 0.0203 - val_mse: 0.0203\n",
            "Epoch 21/50\n",
            "378/384 [============================>.] - ETA: 0s - loss: 0.0203 - mse: 0.0203\n",
            "Epoch 21: val_mse improved from 0.02033 to 0.01975, saving model to student_best\n"
          ]
        },
        {
          "output_type": "stream",
          "name": "stderr",
          "text": [
            "WARNING:absl:Found untraced functions such as _jit_compiled_convolution_op, _jit_compiled_convolution_op, _jit_compiled_convolution_op, _jit_compiled_convolution_op, _jit_compiled_convolution_op while saving (showing 5 of 6). These functions will not be directly callable after loading.\n"
          ]
        },
        {
          "output_type": "stream",
          "name": "stdout",
          "text": [
            "\b\b\b\b\b\b\b\b\b\b\b\b\b\b\b\b\b\b\b\b\b\b\b\b\b\b\b\b\b\b\b\b\b\b\b\b\b\b\b\b\b\b\b\b\b\b\b\b\b\b\b\b\b\b\b\b\b\b\b\b\b\b\b\b\b\b\b\b\b\b\b\b\b\b\b\b\b\b\b\r384/384 [==============================] - 6s 16ms/step - loss: 0.0203 - mse: 0.0203 - val_loss: 0.0197 - val_mse: 0.0197\n",
            "Epoch 22/50\n",
            "381/384 [============================>.] - ETA: 0s - loss: 0.0201 - mse: 0.0201\n",
            "Epoch 22: val_mse did not improve from 0.01975\n",
            "384/384 [==============================] - 3s 9ms/step - loss: 0.0201 - mse: 0.0201 - val_loss: 0.0202 - val_mse: 0.0202\n",
            "Epoch 23/50\n",
            "379/384 [============================>.] - ETA: 0s - loss: 0.0200 - mse: 0.0200\n",
            "Epoch 23: val_mse improved from 0.01975 to 0.01957, saving model to student_best\n"
          ]
        },
        {
          "output_type": "stream",
          "name": "stderr",
          "text": [
            "WARNING:absl:Found untraced functions such as _jit_compiled_convolution_op, _jit_compiled_convolution_op, _jit_compiled_convolution_op, _jit_compiled_convolution_op, _jit_compiled_convolution_op while saving (showing 5 of 6). These functions will not be directly callable after loading.\n"
          ]
        },
        {
          "output_type": "stream",
          "name": "stdout",
          "text": [
            "\b\b\b\b\b\b\b\b\b\b\b\b\b\b\b\b\b\b\b\b\b\b\b\b\b\b\b\b\b\b\b\b\b\b\b\b\b\b\b\b\b\b\b\b\b\b\b\b\b\b\b\b\b\b\b\b\b\b\b\b\b\b\b\b\b\b\b\b\b\b\b\b\b\b\b\b\b\b\b\r384/384 [==============================] - 4s 11ms/step - loss: 0.0199 - mse: 0.0199 - val_loss: 0.0196 - val_mse: 0.0196\n",
            "Epoch 24/50\n",
            "381/384 [============================>.] - ETA: 0s - loss: 0.0197 - mse: 0.0197\n",
            "Epoch 24: val_mse improved from 0.01957 to 0.01944, saving model to student_best\n"
          ]
        },
        {
          "output_type": "stream",
          "name": "stderr",
          "text": [
            "WARNING:absl:Found untraced functions such as _jit_compiled_convolution_op, _jit_compiled_convolution_op, _jit_compiled_convolution_op, _jit_compiled_convolution_op, _jit_compiled_convolution_op while saving (showing 5 of 6). These functions will not be directly callable after loading.\n"
          ]
        },
        {
          "output_type": "stream",
          "name": "stdout",
          "text": [
            "\b\b\b\b\b\b\b\b\b\b\b\b\b\b\b\b\b\b\b\b\b\b\b\b\b\b\b\b\b\b\b\b\b\b\b\b\b\b\b\b\b\b\b\b\b\b\b\b\b\b\b\b\b\b\b\b\b\b\b\b\b\b\b\b\b\b\b\b\b\b\b\b\b\b\b\b\b\b\b\r384/384 [==============================] - 5s 13ms/step - loss: 0.0197 - mse: 0.0197 - val_loss: 0.0194 - val_mse: 0.0194\n",
            "Epoch 25/50\n",
            "379/384 [============================>.] - ETA: 0s - loss: 0.0197 - mse: 0.0197\n",
            "Epoch 25: val_mse did not improve from 0.01944\n",
            "384/384 [==============================] - 3s 8ms/step - loss: 0.0197 - mse: 0.0197 - val_loss: 0.0197 - val_mse: 0.0197\n",
            "Epoch 26/50\n",
            "382/384 [============================>.] - ETA: 0s - loss: 0.0194 - mse: 0.0194\n",
            "Epoch 26: val_mse improved from 0.01944 to 0.01929, saving model to student_best\n"
          ]
        },
        {
          "output_type": "stream",
          "name": "stderr",
          "text": [
            "WARNING:absl:Found untraced functions such as _jit_compiled_convolution_op, _jit_compiled_convolution_op, _jit_compiled_convolution_op, _jit_compiled_convolution_op, _jit_compiled_convolution_op while saving (showing 5 of 6). These functions will not be directly callable after loading.\n"
          ]
        },
        {
          "output_type": "stream",
          "name": "stdout",
          "text": [
            "\b\b\b\b\b\b\b\b\b\b\b\b\b\b\b\b\b\b\b\b\b\b\b\b\b\b\b\b\b\b\b\b\b\b\b\b\b\b\b\b\b\b\b\b\b\b\b\b\b\b\b\b\b\b\b\b\b\b\b\b\b\b\b\b\b\b\b\b\b\b\b\b\b\b\b\b\b\b\b\r384/384 [==============================] - 4s 11ms/step - loss: 0.0194 - mse: 0.0194 - val_loss: 0.0193 - val_mse: 0.0193\n",
            "Epoch 27/50\n",
            "382/384 [============================>.] - ETA: 0s - loss: 0.0193 - mse: 0.0193\n",
            "Epoch 27: val_mse improved from 0.01929 to 0.01885, saving model to student_best\n"
          ]
        },
        {
          "output_type": "stream",
          "name": "stderr",
          "text": [
            "WARNING:absl:Found untraced functions such as _jit_compiled_convolution_op, _jit_compiled_convolution_op, _jit_compiled_convolution_op, _jit_compiled_convolution_op, _jit_compiled_convolution_op while saving (showing 5 of 6). These functions will not be directly callable after loading.\n"
          ]
        },
        {
          "output_type": "stream",
          "name": "stdout",
          "text": [
            "\b\b\b\b\b\b\b\b\b\b\b\b\b\b\b\b\b\b\b\b\b\b\b\b\b\b\b\b\b\b\b\b\b\b\b\b\b\b\b\b\b\b\b\b\b\b\b\b\b\b\b\b\b\b\b\b\b\b\b\b\b\b\b\b\b\b\b\b\b\b\b\b\b\b\b\b\b\b\b\r384/384 [==============================] - 5s 12ms/step - loss: 0.0193 - mse: 0.0193 - val_loss: 0.0189 - val_mse: 0.0189\n",
            "Epoch 28/50\n",
            "378/384 [============================>.] - ETA: 0s - loss: 0.0192 - mse: 0.0192\n",
            "Epoch 28: val_mse did not improve from 0.01885\n",
            "384/384 [==============================] - 3s 9ms/step - loss: 0.0192 - mse: 0.0192 - val_loss: 0.0189 - val_mse: 0.0189\n",
            "Epoch 29/50\n",
            "377/384 [============================>.] - ETA: 0s - loss: 0.0192 - mse: 0.0192\n",
            "Epoch 29: val_mse did not improve from 0.01885\n",
            "384/384 [==============================] - 3s 8ms/step - loss: 0.0192 - mse: 0.0192 - val_loss: 0.0193 - val_mse: 0.0193\n"
          ]
        }
      ]
    },
    {
      "cell_type": "code",
      "source": [
        "# carica il best model e calcola predizioni sul test set\n",
        "student = keras.models.load_model('student_best')\n",
        "\n",
        "predictions_s = scaler.inverse_transform(student.predict(test_images))"
      ],
      "metadata": {
        "id": "Z0NWeQsYgkaV",
        "colab": {
          "base_uri": "https://localhost:8080/"
        },
        "outputId": "f4415c33-e075-43ad-e86f-b5b9d6169884"
      },
      "execution_count": 23,
      "outputs": [
        {
          "output_type": "stream",
          "name": "stdout",
          "text": [
            "2831/2831 [==============================] - 10s 3ms/step\n"
          ]
        }
      ]
    },
    {
      "cell_type": "code",
      "source": [
        "# Turnon curva di efficienza del trigger in funzione del pt\n",
        "\n",
        "# modo facile per ottenerlo: creare due histogrammi uno con la distribuzione di pt per gli eventi che passono il taglio \n",
        "# pt_predetto > soglia e uno con la distribuzione di tutti gli eventi e poi fare il rapporto tra i due istogrammi\n",
        "\n",
        "predictions_s = predictions_s[:,0]\n",
        "pttrue = scaler.inverse_transform(test_labels)[:,0]\n",
        "soglia = 10.0 #soglia nominale di trigger Pt>10 GeV/c\n",
        "numer_s,_ = np.histogram(pttrue[predictions_s>soglia], bins=20, range=(0.,20.))\n",
        "denum_s,_ = np.histogram(pttrue, bins=20, range=(0.,20.))\n",
        "\n",
        "eff_s = numer_s/denum_s\n",
        "lrvalues = np.linspace(0.,20.,20)\n",
        "\n",
        "_ = plt.plot(lrvalues,eff, '*')\n",
        "_ = plt.plot(lrvalues,eff_s, 'r*')\n",
        "_ = plt.axvline(x=soglia)\n",
        "_ = plt.xlabel(\"pT$ [GeV/c]\")\n",
        "_ = plt.ylabel(\"efficiency\")"
      ],
      "metadata": {
        "colab": {
          "base_uri": "https://localhost:8080/",
          "height": 333
        },
        "id": "moKmOJAXgs_L",
        "outputId": "bd85f865-2e6a-4a16-acd6-138c5830ee22"
      },
      "execution_count": 24,
      "outputs": [
        {
          "output_type": "stream",
          "name": "stderr",
          "text": [
            "<ipython-input-24-4185e6809ec9>:12: RuntimeWarning: invalid value encountered in true_divide\n",
            "  eff_s = numer_s/denum_s\n"
          ]
        },
        {
          "output_type": "display_data",
          "data": {
            "text/plain": [
              "<Figure size 432x288 with 1 Axes>"
            ],
            "image/png": "[encoded data removed]"
          },
          "metadata": {
            "needs_background": "light"
          }
        }
      ]
    },
    {
      "cell_type": "markdown",
      "source": [
        "NOTA: lo student f32 anche se con soli 1k parametri non può essere implementato su una FPGA Xilinx UltraScale+ xcvu13p anche se è una delle più grandi e costose disponibili oggi ...\n",
        "\n",
        "È necessario quantizzare in modo spinto il modello."
      ],
      "metadata": {
        "id": "pXuQCvw-jrx1"
      }
    },
    {
      "cell_type": "code",
      "source": [
        "# Studente quantizzato fixed-point a 4 bit con libreria Qkeras\n",
        "# l'output layer non viene quantizzato\n",
        "\n",
        "kernel = (3,3)\n",
        "n_dense = 10\n",
        "\n",
        "sym = 1\n",
        "myalpha = None\n",
        "nbits = 4\n",
        "\n",
        "inputs = Input(train_images[0].shape, name = 'input')\n",
        "\n",
        "# quantized_bits( bits: number of bits to perform quantization, \n",
        "#                 integer: number of bits to the left of the decimal point.\n",
        "#                 symmetric: if true, we will have the same number of values for positive and negative numbers.\n",
        "#                 alpha: a tensor or None, the scaling factor per channel. If None, the scaling factor is 1 for all channels.\n",
        "\n",
        "x = QConv2D(1, kernel, strides=(1,2), kernel_quantizer = quantized_bits(nbits,0,sym,alpha=myalpha), \n",
        "            bias_quantizer = quantized_bits(nbits,0,1,alpha=myalpha), padding = 'same', name = 'Qstudent_Conv1a')(inputs) \n",
        "x = QActivation('quantized_relu('+str(nbits)+')')(x) \n",
        "x = QConv2D(2, kernel, strides=(1,2), kernel_quantizer = quantized_bits(nbits,0,sym,alpha=myalpha), \n",
        "            bias_quantizer = quantized_bits(nbits,0,1,alpha=myalpha), padding = 'same', name = 'Qstudent_Conv1b')(x) \n",
        "x = QActivation('quantized_relu('+str(nbits)+')')(x)\n",
        "x = QConv2D(2, kernel, strides=(1,2), kernel_quantizer = quantized_bits(nbits,0,sym,alpha=myalpha), \n",
        "            bias_quantizer = quantized_bits(nbits,0,1,alpha=myalpha), padding = 'same', name = 'Qstudent_Conv1c')(x) \n",
        "x = QActivation('quantized_relu('+str(nbits)+')')(x)\n",
        "x = QAveragePooling2D(pool_size=(1,2), activation='quantized_relu('+str(nbits)+')')(x)\n",
        "\n",
        "x = QConv2D(8, kernel, strides=(1,2), kernel_quantizer = quantized_bits(nbits,0,sym,alpha=myalpha),\n",
        "            bias_quantizer = quantized_bits(nbits,0,1,alpha=myalpha), padding = 'same', name = 'Qstudent_Conv2a')(x) \n",
        "x = QActivation('quantized_relu('+str(nbits)+')')(x) \n",
        "x = QConv2D(4, kernel, strides=(1,2), kernel_quantizer = quantized_bits(nbits,0,sym,alpha=myalpha),\n",
        "            bias_quantizer = quantized_bits(nbits,0,1,alpha=myalpha), padding = 'same', name = 'Qstudent_Conv2b')(x)\n",
        "x = QActivation('quantized_relu('+str(nbits)+')')(x) \n",
        "x = QConv2D(8, kernel, strides=(1,2), kernel_quantizer = quantized_bits(nbits,0,sym,alpha=myalpha),\n",
        "            bias_quantizer = quantized_bits(nbits,0,1,alpha=myalpha), padding = 'same', name = 'Qstudent_Conv2c')(x) \n",
        "x = QActivation('quantized_relu('+str(nbits)+')')(x) \n",
        "x = QAveragePooling2D(pool_size=(3,3), activation='quantized_relu('+str(nbits)+')')(x)\n",
        "\n",
        "x = Flatten()(x) \n",
        "x = QDense(n_dense, kernel_quantizer = quantized_bits(nbits,0,sym,alpha=myalpha),\n",
        "           bias_quantizer = quantized_bits(nbits,0,1,alpha=myalpha), name = 'Qstudent_Dense1')(x)\n",
        "x = QActivation('quantized_relu('+str(nbits)+')')(x) \n",
        "x = QDense(n_dense, kernel_quantizer = quantized_bits(nbits,0,sym,alpha=myalpha),\n",
        "           bias_quantizer = quantized_bits(nbits,0,1,alpha=myalpha), name = 'Qstudent_Dense2')(x)\n",
        "x = QActivation('quantized_relu('+str(nbits)+')')(x) \n",
        "    \n",
        "x = Dense(2, name = 'Output')(x)\n",
        "\n",
        "qstudent = keras.Model(inputs=[inputs], outputs=[x])\n",
        "qstudent.summary()"
      ],
      "metadata": {
        "colab": {
          "base_uri": "https://localhost:8080/"
        },
        "id": "wz5W9mM4p30I",
        "outputId": "9ca92217-bd75-47c0-9f02-86b8a7774621"
      },
      "execution_count": 25,
      "outputs": [
        {
          "output_type": "stream",
          "name": "stdout",
          "text": [
            "Model: \"model_3\"\n",
            "_________________________________________________________________\n",
            " Layer (type)                Output Shape              Param #   \n",
            "=================================================================\n",
            " input (InputLayer)          [(None, 9, 384, 1)]       0         \n",
            "                                                                 \n",
            " Qstudent_Conv1a (QConv2D)   (None, 9, 192, 1)         10        \n",
            "                                                                 \n",
            " q_activation (QActivation)  (None, 9, 192, 1)         0         \n",
            "                                                                 \n",
            " Qstudent_Conv1b (QConv2D)   (None, 9, 96, 2)          20        \n",
            "                                                                 \n",
            " q_activation_1 (QActivation  (None, 9, 96, 2)         0         \n",
            " )                                                               \n",
            "                                                                 \n",
            " Qstudent_Conv1c (QConv2D)   (None, 9, 48, 2)          38        \n",
            "                                                                 \n",
            " q_activation_2 (QActivation  (None, 9, 48, 2)         0         \n",
            " )                                                               \n",
            "                                                                 \n",
            " q_average_pooling2d (QAvera  (None, 9, 24, 2)         0         \n",
            " gePooling2D)                                                    \n",
            "                                                                 \n",
            " Qstudent_Conv2a (QConv2D)   (None, 9, 12, 8)          152       \n",
            "                                                                 \n",
            " q_activation_3 (QActivation  (None, 9, 12, 8)         0         \n",
            " )                                                               \n",
            "                                                                 \n",
            " Qstudent_Conv2b (QConv2D)   (None, 9, 6, 4)           292       \n",
            "                                                                 \n",
            " q_activation_4 (QActivation  (None, 9, 6, 4)          0         \n",
            " )                                                               \n",
            "                                                                 \n",
            " Qstudent_Conv2c (QConv2D)   (None, 9, 3, 8)           296       \n",
            "                                                                 \n",
            " q_activation_5 (QActivation  (None, 9, 3, 8)          0         \n",
            " )                                                               \n",
            "                                                                 \n",
            " q_average_pooling2d_1 (QAve  (None, 3, 1, 8)          0         \n",
            " ragePooling2D)                                                  \n",
            "                                                                 \n",
            " flatten_3 (Flatten)         (None, 24)                0         \n",
            "                                                                 \n",
            " Qstudent_Dense1 (QDense)    (None, 10)                250       \n",
            "                                                                 \n",
            " q_activation_6 (QActivation  (None, 10)               0         \n",
            " )                                                               \n",
            "                                                                 \n",
            " Qstudent_Dense2 (QDense)    (None, 10)                110       \n",
            "                                                                 \n",
            " q_activation_7 (QActivation  (None, 10)               0         \n",
            " )                                                               \n",
            "                                                                 \n",
            " Output (Dense)              (None, 2)                 22        \n",
            "                                                                 \n",
            "=================================================================\n",
            "Total params: 1,190\n",
            "Trainable params: 1,190\n",
            "Non-trainable params: 0\n",
            "_________________________________________________________________\n"
          ]
        }
      ]
    },
    {
      "cell_type": "code",
      "source": [
        "# Compilazione e training del modello Qstudent\n",
        "\n",
        "qstudent.compile(optimizer='adam',loss='mse' ,metrics=['mse'])\n",
        "\n",
        "# early stopping e model checkpoints\n",
        "callbacks = [keras.callbacks.EarlyStopping(monitor='val_mse', patience=2, min_delta = 0.00001, restore_best_weights=False), \n",
        "             keras.callbacks.ModelCheckpoint(filepath='qstudent_best', monitor='val_mse', verbose=1, save_best_only=True, save_freq='epoch'),]\n",
        "\n",
        "history = qstudent.fit(train_images, train_labels, epochs=50, batch_size=100, validation_split=0.2, callbacks=callbacks)"
      ],
      "metadata": {
        "colab": {
          "base_uri": "https://localhost:8080/"
        },
        "id": "QPRfoR89q062",
        "outputId": "543976bd-cdc5-4b2d-c22f-a19a26820afe"
      },
      "execution_count": 26,
      "outputs": [
        {
          "output_type": "stream",
          "name": "stdout",
          "text": [
            "Epoch 1/50\n",
            "384/384 [==============================] - ETA: 0s - loss: 0.1072 - mse: 0.1072\n",
            "Epoch 1: val_mse improved from inf to 0.07730, saving model to qstudent_best\n"
          ]
        },
        {
          "output_type": "stream",
          "name": "stderr",
          "text": [
            "WARNING:absl:Found untraced functions such as _jit_compiled_convolution_op, _jit_compiled_convolution_op, _jit_compiled_convolution_op, _jit_compiled_convolution_op, _jit_compiled_convolution_op while saving (showing 5 of 6). These functions will not be directly callable after loading.\n"
          ]
        },
        {
          "output_type": "stream",
          "name": "stdout",
          "text": [
            "\b\b\b\b\b\b\b\b\b\b\b\b\b\b\b\b\b\b\b\b\b\b\b\b\b\b\b\b\b\b\b\b\b\b\b\b\b\b\b\b\b\b\b\b\b\b\b\b\b\b\b\b\b\b\b\b\b\b\b\b\b\b\b\b\b\b\b\b\b\b\b\b\b\b\b\b\b\b\b\r384/384 [==============================] - 25s 53ms/step - loss: 0.1072 - mse: 0.1072 - val_loss: 0.0773 - val_mse: 0.0773\n",
            "Epoch 2/50\n",
            "384/384 [==============================] - ETA: 0s - loss: 0.0776 - mse: 0.0776\n",
            "Epoch 2: val_mse improved from 0.07730 to 0.07725, saving model to qstudent_best\n"
          ]
        },
        {
          "output_type": "stream",
          "name": "stderr",
          "text": [
            "WARNING:absl:Found untraced functions such as _jit_compiled_convolution_op, _jit_compiled_convolution_op, _jit_compiled_convolution_op, _jit_compiled_convolution_op, _jit_compiled_convolution_op while saving (showing 5 of 6). These functions will not be directly callable after loading.\n"
          ]
        },
        {
          "output_type": "stream",
          "name": "stdout",
          "text": [
            "\b\b\b\b\b\b\b\b\b\b\b\b\b\b\b\b\b\b\b\b\b\b\b\b\b\b\b\b\b\b\b\b\b\b\b\b\b\b\b\b\b\b\b\b\b\b\b\b\b\b\b\b\b\b\b\b\b\b\b\b\b\b\b\b\b\b\b\b\b\b\b\b\b\b\b\b\b\b\b\r384/384 [==============================] - 17s 43ms/step - loss: 0.0776 - mse: 0.0776 - val_loss: 0.0773 - val_mse: 0.0773\n",
            "Epoch 3/50\n",
            "381/384 [============================>.] - ETA: 0s - loss: 0.0778 - mse: 0.0778\n",
            "Epoch 3: val_mse improved from 0.07725 to 0.07684, saving model to qstudent_best\n"
          ]
        },
        {
          "output_type": "stream",
          "name": "stderr",
          "text": [
            "WARNING:absl:Found untraced functions such as _jit_compiled_convolution_op, _jit_compiled_convolution_op, _jit_compiled_convolution_op, _jit_compiled_convolution_op, _jit_compiled_convolution_op while saving (showing 5 of 6). These functions will not be directly callable after loading.\n"
          ]
        },
        {
          "output_type": "stream",
          "name": "stdout",
          "text": [
            "\b\b\b\b\b\b\b\b\b\b\b\b\b\b\b\b\b\b\b\b\b\b\b\b\b\b\b\b\b\b\b\b\b\b\b\b\b\b\b\b\b\b\b\b\b\b\b\b\b\b\b\b\b\b\b\b\b\b\b\b\b\b\b\b\b\b\b\b\b\b\b\b\b\b\b\b\b\b\b\r384/384 [==============================] - 17s 45ms/step - loss: 0.0778 - mse: 0.0778 - val_loss: 0.0768 - val_mse: 0.0768\n",
            "Epoch 4/50\n",
            "384/384 [==============================] - ETA: 0s - loss: 0.0775 - mse: 0.0775\n",
            "Epoch 4: val_mse did not improve from 0.07684\n",
            "384/384 [==============================] - 6s 16ms/step - loss: 0.0775 - mse: 0.0775 - val_loss: 0.0769 - val_mse: 0.0769\n",
            "Epoch 5/50\n",
            "383/384 [============================>.] - ETA: 0s - loss: 0.0775 - mse: 0.0775\n",
            "Epoch 5: val_mse did not improve from 0.07684\n",
            "384/384 [==============================] - 6s 16ms/step - loss: 0.0775 - mse: 0.0775 - val_loss: 0.0772 - val_mse: 0.0772\n"
          ]
        }
      ]
    },
    {
      "cell_type": "code",
      "source": [
        "# carica il best model e clacola le predizioni sul test set\n",
        "qstudent = keras.models.load_model('qstudent_best')\n",
        "\n",
        "predictions_qs = scaler.inverse_transform(qstudent.predict(test_images))\n"
      ],
      "metadata": {
        "id": "Jm5Z2q2Fsjn1",
        "colab": {
          "base_uri": "https://localhost:8080/"
        },
        "outputId": "9aac7d97-f834-43a5-bdc2-fa0b3740fac8"
      },
      "execution_count": 27,
      "outputs": [
        {
          "output_type": "stream",
          "name": "stdout",
          "text": [
            "2831/2831 [==============================] - 26s 9ms/step\n"
          ]
        }
      ]
    },
    {
      "cell_type": "code",
      "source": [
        "# Turnon curva di efficienza del trigger in funzione del pt\n",
        "\n",
        "# modo facile per ottenerlo: creare due histogrammi uno con la distribuzione di pt per gli eventi che passono il taglio \n",
        "# pt_predetto > soglia e uno con la distribuzione di tutti gli eventi e poi fare il rapporto tra i due istogrammi\n",
        "\n",
        "predictions_qs = predictions_qs[:,0]\n",
        "pttrue = scaler.inverse_transform(test_labels)[:,0]\n",
        "soglia = 10.0 #soglia nominale di trigger Pt>10 GeV/c\n",
        "numer_qs,_ = np.histogram(pttrue[predictions_qs>soglia], bins=20, range=(0.,20.))\n",
        "denum_qs,_ = np.histogram(pttrue, bins=20, range=(0.,20.))\n",
        "\n",
        "eff_qs = numer_qs/denum_qs\n",
        "lrvalues = np.linspace(0.,20.,20)\n",
        "\n",
        "_ = plt.plot(lrvalues,eff, '*')\n",
        "_ = plt.plot(lrvalues,eff_s, 'r*')\n",
        "_ = plt.plot(lrvalues,eff_qs, 'g*')\n",
        "_ = plt.axvline(x=soglia)\n",
        "_ = plt.xlabel(\"pT$ [GeV/c]\")\n",
        "_ = plt.ylabel(\"efficiency\")"
      ],
      "metadata": {
        "colab": {
          "base_uri": "https://localhost:8080/",
          "height": 333
        },
        "id": "68hoCOBjsqvy",
        "outputId": "2f281f1e-db0a-4d04-fe98-0268153da14a"
      },
      "execution_count": 28,
      "outputs": [
        {
          "output_type": "stream",
          "name": "stderr",
          "text": [
            "<ipython-input-28-a3677b579298>:12: RuntimeWarning: invalid value encountered in true_divide\n",
            "  eff_qs = numer_qs/denum_qs\n"
          ]
        },
        {
          "output_type": "display_data",
          "data": {
            "text/plain": [
              "<Figure size 432x288 with 1 Axes>"
            ],
            "image/png": "[encoded data removed]"
          },
          "metadata": {
            "needs_background": "light"
          }
        }
      ]
    },
    {
      "cell_type": "code",
      "source": [
        "# la rete quantizzata non funziona ... cerchiamo di ri-addestrarla usando teacher-student knowledge-transfer"
      ],
      "metadata": {
        "id": "UdVXmIrXCWvf"
      },
      "execution_count": null,
      "outputs": []
    },
    {
      "cell_type": "code",
      "metadata": {
        "id": "cl2T13znIlIZ"
      },
      "source": [
        "# Studente (float) adestrato con knoweldge distillation\n",
        "\n",
        "\n",
        "# Classe custom Layer per la HintLoss\n",
        "class HintLossLayer(tf.keras.layers.Layer):\n",
        "    def __init__(self, gamma=0.2, name = \"name\", mname = \"hint\"):\n",
        "        super(HintLossLayer, self).__init__(name = name)\n",
        "        self.gamma = gamma\n",
        "        self.mname = mname\n",
        "    def call(self, inputs):\n",
        "        self.add_loss(tf.reduce_mean(tf.square(inputs[1]- inputs[2])) * self.gamma)\n",
        "        self.add_metric(tf.reduce_mean((tf.square(inputs[1]- inputs[2]))) * self.gamma, name = self.mname, aggregation=\"mean\")\n",
        "        return inputs[0]\n",
        "    def get_config(self):\n",
        "        config = super().get_config().copy()\n",
        "        config.update({\n",
        "            'gamma': self.gamma\n",
        "        })\n",
        "        return config\n",
        "\n",
        "\n",
        "# Classe custom Model per la distillazione \n",
        "act = \"relu\"\n",
        "d = 0.2\n",
        "class CustomModel(keras.Model):\n",
        "    def train_step(self, data):\n",
        "        \n",
        "        # Unpack the data. Its structure depends on your model and\n",
        "        # on what you pass to `fit()`.\n",
        "        x, y = data   \n",
        "\n",
        "        with tf.GradientTape() as tape:\n",
        "            y_pred = self(x, training=True)  # Forward pass\n",
        "\n",
        "            stud = tf.reduce_mean(tf.square(y_pred[0]-y))\n",
        "            teach = tf.reduce_mean(tf.square(y_pred[1]-y))\n",
        "            f0 = lambda: tf.constant(0.)\n",
        "            f1 = lambda: tf.constant(1.)\n",
        "            w = tf.case([(tf.less(teach, stud), f1)], default=f0)\n",
        "            loss = self.compiled_loss(y, y_pred[0], regularization_losses= [w*l for l in self.losses])\n",
        "\n",
        "        # Compute gradients\n",
        "        trainable_vars = self.trainable_variables\n",
        "        gradients = tape.gradient(loss, trainable_vars)\n",
        "        # Update weights\n",
        "        self.optimizer.apply_gradients(zip(gradients, trainable_vars))\n",
        "        # Update metrics (includes the metric that tracks the loss)\n",
        "        self.compiled_metrics.update_state(y, y_pred)\n",
        "        # Return a dict mapping metric names to current value\n",
        "        return {m.name: m.result() for m in self.metrics}"
      ],
      "execution_count": 29,
      "outputs": []
    },
    {
      "cell_type": "code",
      "source": [
        "# Modello Student distillato: Student di prima con adaptation layers\n",
        "\n",
        "dictionary = {'33k': {'pad1_tuple': (0,12), 'block1': 'Conv1c', 'conv2_filter': 30, 'block2': 'Conv2c', \n",
        "                      'pad2_tuple': (3,1), 'dense': 50}}\n",
        "teach_name = '33k'\n",
        "key = list(dictionary[teach_name].keys())\n",
        "print(key)\n",
        "\n",
        "key = list(dictionary[teach_name].keys())\n",
        "pad1_tuple = dictionary[teach_name][key[0]]\n",
        "block1 = dictionary[teach_name][key[1]]\n",
        "conv2_filter = dictionary[teach_name][key[2]]\n",
        "block2 = dictionary[teach_name][key[3]]\n",
        "pad2_tuple = dictionary[teach_name][key[4]]\n",
        "dense = dictionary[teach_name][key[5]]\n",
        "\n",
        "nbits = 4\n",
        "avebits = 4\n",
        "\n",
        "kernel = (3,3)\n",
        "n_dense = 10\n",
        "sym = 1\n",
        "myalpha = None\n",
        "\n",
        "gamma1=1.0\n",
        "gamma2=0.01\n",
        "gamma3=0.1\n",
        "\n",
        "teacher = keras.models.load_model('teacher_best')\n",
        "for i in range(len(teacher.layers)):\n",
        "    teacher.layers[i].trainable = False\n",
        "    if \"Dropout\" in teacher.layers[i].name:\n",
        "        teacher.layers[i].rate = 0\n",
        "        print(teacher.layers[i].rate)\n",
        "\n",
        "\n",
        "inputs = Input(train_images[0].shape, name = 'Student_input')\n",
        "\n",
        "x = QConv2D(1, kernel, strides=(1,2), kernel_quantizer = quantized_bits(nbits,0,sym,alpha=myalpha), \n",
        "            bias_quantizer = quantized_bits(nbits,0,1,alpha=myalpha), padding = 'same', name = 'Student_Conv1a')(inputs) \n",
        "x = QActivation('quantized_relu('+str(nbits)+')')(x) \n",
        "x = QConv2D(2, kernel, strides=(1,2), kernel_quantizer = quantized_bits(nbits,0,sym,alpha=myalpha), \n",
        "            bias_quantizer = quantized_bits(nbits,0,1,alpha=myalpha), padding = 'same', name = 'Student_Conv1b')(x) \n",
        "x = QActivation('quantized_relu('+str(nbits)+')')(x)\n",
        "x = QConv2D(2, kernel, strides=(1,2), kernel_quantizer = quantized_bits(nbits,0,sym,alpha=myalpha), \n",
        "            bias_quantizer = quantized_bits(nbits,0,1,alpha=myalpha), padding = 'same', name = 'Student_Conv1c')(x) \n",
        "x = QActivation('quantized_relu('+str(nbits)+')')(x)\n",
        "x = QAveragePooling2D(pool_size=(1,2), activation='quantized_relu('+str(avebits)+')')(x)\n",
        "padding1 = tf.keras.layers.ZeroPadding2D(pad1_tuple)(x)\n",
        "Adap1 = Conv2D(1, (1,1), activation = 'relu', padding = 'same', name = 'Student_Adap1')(padding1)\n",
        "hint1 = HintLossLayer(gamma = gamma1, name = 'Hint1', mname = 'Hint1')([x, Adap1, teacher.get_layer(block1).output])\n",
        "\n",
        "x = QConv2D(8, kernel, strides=(1,2), kernel_quantizer = quantized_bits(nbits,0,sym,alpha=myalpha),\n",
        "            bias_quantizer = quantized_bits(nbits,0,1,alpha=myalpha), padding = 'same', name = 'Student_Conv2a')(hint1) \n",
        "x = QActivation('quantized_relu('+str(nbits)+')')(x) \n",
        "x = QConv2D(4, kernel, strides=(1,2), kernel_quantizer = quantized_bits(nbits,0,sym,alpha=myalpha),\n",
        "            bias_quantizer = quantized_bits(nbits,0,1,alpha=myalpha), padding = 'same', name = 'Student_Conv2b')(x)\n",
        "x = QActivation('quantized_relu('+str(nbits)+')')(x) \n",
        "x = QConv2D(8, kernel, strides=(1,2), kernel_quantizer = quantized_bits(nbits,0,sym,alpha=myalpha),\n",
        "            bias_quantizer = quantized_bits(nbits,0,1,alpha=myalpha), padding = 'same', name = 'Student_Conv2c')(x) \n",
        "x = QActivation('quantized_relu('+str(nbits)+')')(x) \n",
        "x = QAveragePooling2D(pool_size=(3,3), activation='quantized_relu('+str(avebits)+')')(x)\n",
        "padding2 = tf.keras.layers.ZeroPadding2D(pad2_tuple)(x)\n",
        "Adap2 = Conv2D(conv2_filter, (1,1), activation = 'relu', padding = 'same', name = 'Student_Adap2')(padding2)\n",
        "hint2 = HintLossLayer(gamma = gamma2, name = 'Hint2', mname = 'Hint2')([x, Adap2, teacher.get_layer(block2).output])\n",
        "\n",
        "x = Flatten()(hint2)\n",
        "x = QDense(n_dense, kernel_quantizer = quantized_bits(nbits,0,sym,alpha=myalpha),\n",
        "           bias_quantizer = quantized_bits(nbits,0,1,alpha=myalpha), name = 'Student_Dense1')(x)\n",
        "x = QActivation('quantized_relu('+str(nbits)+')')(x) \n",
        "x = QDense(n_dense, kernel_quantizer = quantized_bits(nbits,0,sym,alpha=myalpha),\n",
        "           bias_quantizer = quantized_bits(nbits,0,1,alpha=myalpha), name = 'Student_Dense2')(x)\n",
        "x = QActivation('quantized_relu('+str(nbits)+')')(x)\n",
        "Adap3 = Dense(dense, activation = 'relu', name = 'Student_Adap3')(x)\n",
        "hint3 = HintLossLayer(gamma = gamma3, name = 'Hint3', mname = 'Hint3')([x, Adap3, teacher.get_layer('Dense2').output])\n",
        "\n",
        "x = Dense(2, name = 'Student_Output')(hint3) \n",
        "\n",
        "# modello finale\n",
        "qstudent_dist = CustomModel(inputs=[inputs, teacher.layers[0].input], outputs=[x, teacher.layers[-1].output])\n",
        "qstudent_dist.summary()"
      ],
      "metadata": {
        "colab": {
          "base_uri": "https://localhost:8080/"
        },
        "id": "oZSgb6OwhVpy",
        "outputId": "3965dcb6-68e3-4dc0-a365-ecbe8978a87b"
      },
      "execution_count": 34,
      "outputs": [
        {
          "output_type": "stream",
          "name": "stdout",
          "text": [
            "['pad1_tuple', 'block1', 'conv2_filter', 'block2', 'pad2_tuple', 'dense']\n",
            "Model: \"custom_model_1\"\n",
            "__________________________________________________________________________________________________\n",
            " Layer (type)                   Output Shape         Param #     Connected to                     \n",
            "==================================================================================================\n",
            " Student_input (InputLayer)     [(None, 9, 384, 1)]  0           []                               \n",
            "                                                                                                  \n",
            " Student_Conv1a (QConv2D)       (None, 9, 192, 1)    10          ['Student_input[0][0]']          \n",
            "                                                                                                  \n",
            " q_activation_16 (QActivation)  (None, 9, 192, 1)    0           ['Student_Conv1a[0][0]']         \n",
            "                                                                                                  \n",
            " Student_Conv1b (QConv2D)       (None, 9, 96, 2)     20          ['q_activation_16[0][0]']        \n",
            "                                                                                                  \n",
            " q_activation_17 (QActivation)  (None, 9, 96, 2)     0           ['Student_Conv1b[0][0]']         \n",
            "                                                                                                  \n",
            " Student_Conv1c (QConv2D)       (None, 9, 48, 2)     38          ['q_activation_17[0][0]']        \n",
            "                                                                                                  \n",
            " q_activation_18 (QActivation)  (None, 9, 48, 2)     0           ['Student_Conv1c[0][0]']         \n",
            "                                                                                                  \n",
            " input (InputLayer)             [(None, 9, 384, 1)]  0           []                               \n",
            "                                                                                                  \n",
            " q_average_pooling2d_4 (QAverag  (None, 9, 24, 2)    0           ['q_activation_18[0][0]']        \n",
            " ePooling2D)                                                                                      \n",
            "                                                                                                  \n",
            " Conv1a (Conv2D)                (None, 9, 192, 16)   160         ['input[0][0]']                  \n",
            "                                                                                                  \n",
            " zero_padding2d_2 (ZeroPadding2  (None, 9, 48, 2)    0           ['q_average_pooling2d_4[0][0]']  \n",
            " D)                                                                                               \n",
            "                                                                                                  \n",
            " Conv1b (Conv2D)                (None, 9, 96, 16)    2320        ['Conv1a[0][0]']                 \n",
            "                                                                                                  \n",
            " Student_Adap1 (Conv2D)         (None, 9, 48, 1)     3           ['zero_padding2d_2[0][0]']       \n",
            "                                                                                                  \n",
            " Conv1c (Conv2D)                (None, 9, 48, 16)    2320        ['Conv1b[0][0]']                 \n",
            "                                                                                                  \n",
            " Hint1 (HintLossLayer)          (None, 9, 24, 2)     0           ['q_average_pooling2d_4[0][0]',  \n",
            "                                                                  'Student_Adap1[0][0]',          \n",
            "                                                                  'Conv1c[0][0]']                 \n",
            "                                                                                                  \n",
            " Student_Conv2a (QConv2D)       (None, 9, 12, 8)     152         ['Hint1[0][0]']                  \n",
            "                                                                                                  \n",
            " q_activation_19 (QActivation)  (None, 9, 12, 8)     0           ['Student_Conv2a[0][0]']         \n",
            "                                                                                                  \n",
            " Student_Conv2b (QConv2D)       (None, 9, 6, 4)      292         ['q_activation_19[0][0]']        \n",
            "                                                                                                  \n",
            " q_activation_20 (QActivation)  (None, 9, 6, 4)      0           ['Student_Conv2b[0][0]']         \n",
            "                                                                                                  \n",
            " Student_Conv2c (QConv2D)       (None, 9, 3, 8)      296         ['q_activation_20[0][0]']        \n",
            "                                                                                                  \n",
            " q_activation_21 (QActivation)  (None, 9, 3, 8)      0           ['Student_Conv2c[0][0]']         \n",
            "                                                                                                  \n",
            " average_pooling2d_2 (AveragePo  (None, 9, 24, 16)   0           ['Conv1c[0][0]']                 \n",
            " oling2D)                                                                                         \n",
            "                                                                                                  \n",
            " q_average_pooling2d_5 (QAverag  (None, 3, 1, 8)     0           ['q_activation_21[0][0]']        \n",
            " ePooling2D)                                                                                      \n",
            "                                                                                                  \n",
            " Conv2a (Conv2D)                (None, 9, 12, 30)    4350        ['average_pooling2d_2[0][0]']    \n",
            "                                                                                                  \n",
            " zero_padding2d_3 (ZeroPadding2  (None, 9, 3, 8)     0           ['q_average_pooling2d_5[0][0]']  \n",
            " D)                                                                                               \n",
            "                                                                                                  \n",
            " Conv2b (Conv2D)                (None, 9, 6, 30)     8130        ['Conv2a[0][0]']                 \n",
            "                                                                                                  \n",
            " Student_Adap2 (Conv2D)         (None, 9, 3, 30)     270         ['zero_padding2d_3[0][0]']       \n",
            "                                                                                                  \n",
            " Conv2c (Conv2D)                (None, 9, 3, 30)     8130        ['Conv2b[0][0]']                 \n",
            "                                                                                                  \n",
            " Hint2 (HintLossLayer)          (None, 3, 1, 8)      0           ['q_average_pooling2d_5[0][0]',  \n",
            "                                                                  'Student_Adap2[0][0]',          \n",
            "                                                                  'Conv2c[0][0]']                 \n",
            "                                                                                                  \n",
            " flatten_5 (Flatten)            (None, 24)           0           ['Hint2[0][0]']                  \n",
            "                                                                                                  \n",
            " Student_Dense1 (QDense)        (None, 10)           250         ['flatten_5[0][0]']              \n",
            "                                                                                                  \n",
            " q_activation_22 (QActivation)  (None, 10)           0           ['Student_Dense1[0][0]']         \n",
            "                                                                                                  \n",
            " average_pooling2d_3 (AveragePo  (None, 3, 1, 30)    0           ['Conv2c[0][0]']                 \n",
            " oling2D)                                                                                         \n",
            "                                                                                                  \n",
            " Student_Dense2 (QDense)        (None, 10)           110         ['q_activation_22[0][0]']        \n",
            "                                                                                                  \n",
            " flatten_1 (Flatten)            (None, 90)           0           ['average_pooling2d_3[0][0]']    \n",
            "                                                                                                  \n",
            " q_activation_23 (QActivation)  (None, 10)           0           ['Student_Dense2[0][0]']         \n",
            "                                                                                                  \n",
            " Dense1 (Dense)                 (None, 50)           4550        ['flatten_1[0][0]']              \n",
            "                                                                                                  \n",
            " Student_Adap3 (Dense)          (None, 50)           550         ['q_activation_23[0][0]']        \n",
            "                                                                                                  \n",
            " Dense2 (Dense)                 (None, 50)           2550        ['Dense1[0][0]']                 \n",
            "                                                                                                  \n",
            " Hint3 (HintLossLayer)          (None, 10)           0           ['q_activation_23[0][0]',        \n",
            "                                                                  'Student_Adap3[0][0]',          \n",
            "                                                                  'Dense2[0][0]']                 \n",
            "                                                                                                  \n",
            " Student_Output (Dense)         (None, 2)            22          ['Hint3[0][0]']                  \n",
            "                                                                                                  \n",
            " Output (Dense)                 (None, 2)            102         ['Dense2[0][0]']                 \n",
            "                                                                                                  \n",
            "==================================================================================================\n",
            "Total params: 34,625\n",
            "Trainable params: 2,013\n",
            "Non-trainable params: 32,612\n",
            "__________________________________________________________________________________________________\n"
          ]
        }
      ]
    },
    {
      "cell_type": "code",
      "source": [
        "# compilazione e training\n",
        "import gc\n",
        "class GarbageCallback(tf.keras.callbacks.Callback):\n",
        "    def on_epoch_end(self, epoch, logs=None):\n",
        "        gc.collect()\n",
        "\n",
        "qstudent_dist.compile(optimizer='adam',loss='mse' ,metrics=['mse'])\n",
        "\n",
        "# early stopping e model checkpoints\n",
        "callbacks = [keras.callbacks.EarlyStopping(monitor='val_Student_Output_mse', patience=5, min_delta = 0.00001, restore_best_weights=False), \n",
        "             keras.callbacks.ModelCheckpoint(filepath='qstudent_dist_best', monitor='val_Student_Output_mse', verbose=1, save_best_only=True, save_freq='epoch'),\n",
        "             GarbageCallback()]\n",
        "\n",
        "history = qstudent_dist.fit([train_images, train_images], [train_labels,train_labels], epochs=50, batch_size=64, validation_split=0.2, callbacks=callbacks)\n",
        "\n"
      ],
      "metadata": {
        "colab": {
          "base_uri": "https://localhost:8080/"
        },
        "id": "8DXj8ciDxeb3",
        "outputId": "d756d3a1-d141-4942-f073-39dbd684f1a2"
      },
      "execution_count": 35,
      "outputs": [
        {
          "output_type": "stream",
          "name": "stdout",
          "text": [
            "Epoch 1/50\n",
            "600/600 [==============================] - ETA: 0s - loss: 0.1435 - Student_Output_loss: 0.1399 - Student_Output_mse: 0.1399 - Output_mse: 0.0086 - Hint1: 0.0020 - Hint2: 5.0503e-04 - Hint3: 0.0011\n",
            "Epoch 1: val_Student_Output_mse improved from inf to 0.07722, saving model to qstudent_dist_best\n"
          ]
        },
        {
          "output_type": "stream",
          "name": "stderr",
          "text": [
            "WARNING:absl:Function `_wrapped_model` contains input name(s) Student_input with unsupported characters which will be renamed to student_input in the SavedModel.\n",
            "WARNING:absl:Found untraced functions such as _jit_compiled_convolution_op, _jit_compiled_convolution_op, _jit_compiled_convolution_op, _jit_compiled_convolution_op, _jit_compiled_convolution_op while saving (showing 5 of 14). These functions will not be directly callable after loading.\n"
          ]
        },
        {
          "output_type": "stream",
          "name": "stdout",
          "text": [
            "\b\b\b\b\b\b\b\b\b\b\b\b\b\b\b\b\b\b\b\b\b\b\b\b\b\b\b\b\b\b\b\b\b\b\b\b\b\b\b\b\b\b\b\b\b\b\b\b\b\b\b\b\b\b\b\b\b\b\b\b\b\b\b\b\b\b\b\b\b\b\b\b\b\b\b\b\b\b\b\b\b\b\b\b\b\b\b\b\b\b\b\b\b\b\b\b\b\b\b\b\b\b\b\b\b\b\b\b\b\b\b\b\b\b\b\b\b\b\b\b\b\b\b\b\b\b\b\b\b\b\b\b\b\b\b\b\b\b\b\b\b\b\b\b\b\b\b\b\b\b\b\b\b\b\b\b\b\b\b\b\b\b\b\b\b\b\b\b\b\b\b\b\b\b\b\b\b\b\b\b\b\b\b\b\b\b\b\b\b\b\b\b\b\b\b\b\b\r600/600 [==============================] - 38s 50ms/step - loss: 0.1435 - Student_Output_loss: 0.1399 - Student_Output_mse: 0.1399 - Output_mse: 0.0086 - Hint1: 0.0020 - Hint2: 5.0503e-04 - Hint3: 0.0011 - val_loss: 0.0804 - val_Student_Output_loss: 0.0772 - val_Student_Output_mse: 0.0772 - val_Output_mse: 0.0097 - val_Hint1: 0.0018 - val_Hint2: 4.8090e-04 - val_Hint3: 9.1162e-04\n",
            "Epoch 2/50\n",
            "599/600 [============================>.] - ETA: 0s - loss: 0.0794 - Student_Output_loss: 0.0763 - Student_Output_mse: 0.0763 - Output_mse: 0.0086 - Hint1: 0.0018 - Hint2: 4.7478e-04 - Hint3: 8.9922e-04\n",
            "Epoch 2: val_Student_Output_mse improved from 0.07722 to 0.07318, saving model to qstudent_dist_best\n"
          ]
        },
        {
          "output_type": "stream",
          "name": "stderr",
          "text": [
            "WARNING:absl:Function `_wrapped_model` contains input name(s) Student_input with unsupported characters which will be renamed to student_input in the SavedModel.\n",
            "WARNING:absl:Found untraced functions such as _jit_compiled_convolution_op, _jit_compiled_convolution_op, _jit_compiled_convolution_op, _jit_compiled_convolution_op, _jit_compiled_convolution_op while saving (showing 5 of 14). These functions will not be directly callable after loading.\n"
          ]
        },
        {
          "output_type": "stream",
          "name": "stdout",
          "text": [
            "\b\b\b\b\b\b\b\b\b\b\b\b\b\b\b\b\b\b\b\b\b\b\b\b\b\b\b\b\b\b\b\b\b\b\b\b\b\b\b\b\b\b\b\b\b\b\b\b\b\b\b\b\b\b\b\b\b\b\b\b\b\b\b\b\b\b\b\b\b\b\b\b\b\b\b\b\b\b\b\b\b\b\b\b\b\b\b\b\b\b\b\b\b\b\b\b\b\b\b\b\b\b\b\b\b\b\b\b\b\b\b\b\b\b\b\b\b\b\b\b\b\b\b\b\b\b\b\b\b\b\b\b\b\b\b\b\b\b\b\b\b\b\b\b\b\b\b\b\b\b\b\b\b\b\b\b\b\b\b\b\b\b\b\b\b\b\b\b\b\b\b\b\b\b\b\b\b\b\b\b\b\b\b\b\b\b\b\b\b\b\b\b\b\b\b\b\b\b\b\b\b\r600/600 [==============================] - 32s 53ms/step - loss: 0.0794 - Student_Output_loss: 0.0763 - Student_Output_mse: 0.0763 - Output_mse: 0.0086 - Hint1: 0.0018 - Hint2: 4.7464e-04 - Hint3: 8.9900e-04 - val_loss: 0.0763 - val_Student_Output_loss: 0.0732 - val_Student_Output_mse: 0.0732 - val_Output_mse: 0.0097 - val_Hint1: 0.0018 - val_Hint2: 4.7827e-04 - val_Hint3: 8.8297e-04\n",
            "Epoch 3/50\n",
            "600/600 [==============================] - ETA: 0s - loss: 0.0650 - Student_Output_loss: 0.0621 - Student_Output_mse: 0.0621 - Output_mse: 0.0086 - Hint1: 0.0017 - Hint2: 4.6880e-04 - Hint3: 6.8411e-04\n",
            "Epoch 3: val_Student_Output_mse improved from 0.07318 to 0.04248, saving model to qstudent_dist_best\n"
          ]
        },
        {
          "output_type": "stream",
          "name": "stderr",
          "text": [
            "WARNING:absl:Function `_wrapped_model` contains input name(s) Student_input with unsupported characters which will be renamed to student_input in the SavedModel.\n",
            "WARNING:absl:Found untraced functions such as _jit_compiled_convolution_op, _jit_compiled_convolution_op, _jit_compiled_convolution_op, _jit_compiled_convolution_op, _jit_compiled_convolution_op while saving (showing 5 of 14). These functions will not be directly callable after loading.\n"
          ]
        },
        {
          "output_type": "stream",
          "name": "stdout",
          "text": [
            "\b\b\b\b\b\b\b\b\b\b\b\b\b\b\b\b\b\b\b\b\b\b\b\b\b\b\b\b\b\b\b\b\b\b\b\b\b\b\b\b\b\b\b\b\b\b\b\b\b\b\b\b\b\b\b\b\b\b\b\b\b\b\b\b\b\b\b\b\b\b\b\b\b\b\b\b\b\b\b\b\b\b\b\b\b\b\b\b\b\b\b\b\b\b\b\b\b\b\b\b\b\b\b\b\b\b\b\b\b\b\b\b\b\b\b\b\b\b\b\b\b\b\b\b\b\b\b\b\b\b\b\b\b\b\b\b\b\b\b\b\b\b\b\b\b\b\b\b\b\b\b\b\b\b\b\b\b\b\b\b\b\b\b\b\b\b\b\b\b\b\b\b\b\b\b\b\b\b\b\b\b\b\b\b\b\b\b\b\b\b\b\b\b\b\b\b\b\b\b\b\b\r600/600 [==============================] - 27s 44ms/step - loss: 0.0650 - Student_Output_loss: 0.0621 - Student_Output_mse: 0.0621 - Output_mse: 0.0086 - Hint1: 0.0017 - Hint2: 4.6880e-04 - Hint3: 6.8411e-04 - val_loss: 0.0450 - val_Student_Output_loss: 0.0425 - val_Student_Output_mse: 0.0425 - val_Output_mse: 0.0097 - val_Hint1: 0.0017 - val_Hint2: 4.6790e-04 - val_Hint3: 3.1875e-04\n",
            "Epoch 4/50\n",
            "598/600 [============================>.] - ETA: 0s - loss: 0.0432 - Student_Output_loss: 0.0407 - Student_Output_mse: 0.0407 - Output_mse: 0.0086 - Hint1: 0.0017 - Hint2: 4.5798e-04 - Hint3: 2.9511e-04\n",
            "Epoch 4: val_Student_Output_mse improved from 0.04248 to 0.03921, saving model to qstudent_dist_best\n"
          ]
        },
        {
          "output_type": "stream",
          "name": "stderr",
          "text": [
            "WARNING:absl:Function `_wrapped_model` contains input name(s) Student_input with unsupported characters which will be renamed to student_input in the SavedModel.\n",
            "WARNING:absl:Found untraced functions such as _jit_compiled_convolution_op, _jit_compiled_convolution_op, _jit_compiled_convolution_op, _jit_compiled_convolution_op, _jit_compiled_convolution_op while saving (showing 5 of 14). These functions will not be directly callable after loading.\n"
          ]
        },
        {
          "output_type": "stream",
          "name": "stdout",
          "text": [
            "\b\b\b\b\b\b\b\b\b\b\b\b\b\b\b\b\b\b\b\b\b\b\b\b\b\b\b\b\b\b\b\b\b\b\b\b\b\b\b\b\b\b\b\b\b\b\b\b\b\b\b\b\b\b\b\b\b\b\b\b\b\b\b\b\b\b\b\b\b\b\b\b\b\b\b\b\b\b\b\b\b\b\b\b\b\b\b\b\b\b\b\b\b\b\b\b\b\b\b\b\b\b\b\b\b\b\b\b\b\b\b\b\b\b\b\b\b\b\b\b\b\b\b\b\b\b\b\b\b\b\b\b\b\b\b\b\b\b\b\b\b\b\b\b\b\b\b\b\b\b\b\b\b\b\b\b\b\b\b\b\b\b\b\b\b\b\b\b\b\b\b\b\b\b\b\b\b\b\b\b\b\b\b\b\b\b\b\b\b\b\b\b\b\b\b\b\b\b\b\b\b\r600/600 [==============================] - 26s 43ms/step - loss: 0.0432 - Student_Output_loss: 0.0407 - Student_Output_mse: 0.0407 - Output_mse: 0.0086 - Hint1: 0.0017 - Hint2: 4.5781e-04 - Hint3: 2.9506e-04 - val_loss: 0.0417 - val_Student_Output_loss: 0.0392 - val_Student_Output_mse: 0.0392 - val_Output_mse: 0.0097 - val_Hint1: 0.0017 - val_Hint2: 4.5931e-04 - val_Hint3: 2.7729e-04\n",
            "Epoch 5/50\n",
            "600/600 [==============================] - ETA: 0s - loss: 0.0402 - Student_Output_loss: 0.0377 - Student_Output_mse: 0.0377 - Output_mse: 0.0086 - Hint1: 0.0017 - Hint2: 4.5134e-04 - Hint3: 2.7312e-04\n",
            "Epoch 5: val_Student_Output_mse improved from 0.03921 to 0.03396, saving model to qstudent_dist_best\n"
          ]
        },
        {
          "output_type": "stream",
          "name": "stderr",
          "text": [
            "WARNING:absl:Function `_wrapped_model` contains input name(s) Student_input with unsupported characters which will be renamed to student_input in the SavedModel.\n",
            "WARNING:absl:Found untraced functions such as _jit_compiled_convolution_op, _jit_compiled_convolution_op, _jit_compiled_convolution_op, _jit_compiled_convolution_op, _jit_compiled_convolution_op while saving (showing 5 of 14). These functions will not be directly callable after loading.\n"
          ]
        },
        {
          "output_type": "stream",
          "name": "stdout",
          "text": [
            "\b\b\b\b\b\b\b\b\b\b\b\b\b\b\b\b\b\b\b\b\b\b\b\b\b\b\b\b\b\b\b\b\b\b\b\b\b\b\b\b\b\b\b\b\b\b\b\b\b\b\b\b\b\b\b\b\b\b\b\b\b\b\b\b\b\b\b\b\b\b\b\b\b\b\b\b\b\b\b\b\b\b\b\b\b\b\b\b\b\b\b\b\b\b\b\b\b\b\b\b\b\b\b\b\b\b\b\b\b\b\b\b\b\b\b\b\b\b\b\b\b\b\b\b\b\b\b\b\b\b\b\b\b\b\b\b\b\b\b\b\b\b\b\b\b\b\b\b\b\b\b\b\b\b\b\b\b\b\b\b\b\b\b\b\b\b\b\b\b\b\b\b\b\b\b\b\b\b\b\b\b\b\b\b\b\b\b\b\b\b\b\b\b\b\b\b\b\b\b\b\b\r600/600 [==============================] - 26s 43ms/step - loss: 0.0402 - Student_Output_loss: 0.0377 - Student_Output_mse: 0.0377 - Output_mse: 0.0086 - Hint1: 0.0017 - Hint2: 4.5134e-04 - Hint3: 2.7312e-04 - val_loss: 0.0364 - val_Student_Output_loss: 0.0340 - val_Student_Output_mse: 0.0340 - val_Output_mse: 0.0097 - val_Hint1: 0.0017 - val_Hint2: 4.5414e-04 - val_Hint3: 2.5596e-04\n",
            "Epoch 6/50\n",
            "598/600 [============================>.] - ETA: 0s - loss: 0.0388 - Student_Output_loss: 0.0364 - Student_Output_mse: 0.0364 - Output_mse: 0.0086 - Hint1: 0.0017 - Hint2: 4.4641e-04 - Hint3: 2.6473e-04\n",
            "Epoch 6: val_Student_Output_mse did not improve from 0.03396\n",
            "600/600 [==============================] - 13s 21ms/step - loss: 0.0388 - Student_Output_loss: 0.0364 - Student_Output_mse: 0.0364 - Output_mse: 0.0086 - Hint1: 0.0017 - Hint2: 4.4649e-04 - Hint3: 2.6490e-04 - val_loss: 0.0407 - val_Student_Output_loss: 0.0382 - val_Student_Output_mse: 0.0382 - val_Output_mse: 0.0097 - val_Hint1: 0.0017 - val_Hint2: 4.4872e-04 - val_Hint3: 2.7922e-04\n",
            "Epoch 7/50\n",
            "598/600 [============================>.] - ETA: 0s - loss: 0.0367 - Student_Output_loss: 0.0343 - Student_Output_mse: 0.0343 - Output_mse: 0.0086 - Hint1: 0.0017 - Hint2: 4.4346e-04 - Hint3: 2.5300e-04\n",
            "Epoch 7: val_Student_Output_mse improved from 0.03396 to 0.03276, saving model to qstudent_dist_best\n"
          ]
        },
        {
          "output_type": "stream",
          "name": "stderr",
          "text": [
            "WARNING:absl:Function `_wrapped_model` contains input name(s) Student_input with unsupported characters which will be renamed to student_input in the SavedModel.\n",
            "WARNING:absl:Found untraced functions such as _jit_compiled_convolution_op, _jit_compiled_convolution_op, _jit_compiled_convolution_op, _jit_compiled_convolution_op, _jit_compiled_convolution_op while saving (showing 5 of 14). These functions will not be directly callable after loading.\n"
          ]
        },
        {
          "output_type": "stream",
          "name": "stdout",
          "text": [
            "\b\b\b\b\b\b\b\b\b\b\b\b\b\b\b\b\b\b\b\b\b\b\b\b\b\b\b\b\b\b\b\b\b\b\b\b\b\b\b\b\b\b\b\b\b\b\b\b\b\b\b\b\b\b\b\b\b\b\b\b\b\b\b\b\b\b\b\b\b\b\b\b\b\b\b\b\b\b\b\b\b\b\b\b\b\b\b\b\b\b\b\b\b\b\b\b\b\b\b\b\b\b\b\b\b\b\b\b\b\b\b\b\b\b\b\b\b\b\b\b\b\b\b\b\b\b\b\b\b\b\b\b\b\b\b\b\b\b\b\b\b\b\b\b\b\b\b\b\b\b\b\b\b\b\b\b\b\b\b\b\b\b\b\b\b\b\b\b\b\b\b\b\b\b\b\b\b\b\b\b\b\b\b\b\b\b\b\b\b\b\b\b\b\b\b\b\b\b\b\b\b\r600/600 [==============================] - 25s 41ms/step - loss: 0.0367 - Student_Output_loss: 0.0343 - Student_Output_mse: 0.0343 - Output_mse: 0.0086 - Hint1: 0.0017 - Hint2: 4.4332e-04 - Hint3: 2.5293e-04 - val_loss: 0.0352 - val_Student_Output_loss: 0.0328 - val_Student_Output_mse: 0.0328 - val_Output_mse: 0.0097 - val_Hint1: 0.0017 - val_Hint2: 4.4861e-04 - val_Hint3: 2.4355e-04\n",
            "Epoch 8/50\n",
            "599/600 [============================>.] - ETA: 0s - loss: 0.0377 - Student_Output_loss: 0.0353 - Student_Output_mse: 0.0353 - Output_mse: 0.0086 - Hint1: 0.0017 - Hint2: 4.4154e-04 - Hint3: 2.5762e-04\n",
            "Epoch 8: val_Student_Output_mse did not improve from 0.03276\n",
            "600/600 [==============================] - 13s 21ms/step - loss: 0.0377 - Student_Output_loss: 0.0353 - Student_Output_mse: 0.0353 - Output_mse: 0.0086 - Hint1: 0.0017 - Hint2: 4.4144e-04 - Hint3: 2.5761e-04 - val_loss: 0.0357 - val_Student_Output_loss: 0.0333 - val_Student_Output_mse: 0.0333 - val_Output_mse: 0.0097 - val_Hint1: 0.0017 - val_Hint2: 4.4255e-04 - val_Hint3: 2.4819e-04\n",
            "Epoch 9/50\n",
            "599/600 [============================>.] - ETA: 0s - loss: 0.0358 - Student_Output_loss: 0.0334 - Student_Output_mse: 0.0334 - Output_mse: 0.0086 - Hint1: 0.0017 - Hint2: 4.4067e-04 - Hint3: 2.4320e-04\n",
            "Epoch 9: val_Student_Output_mse improved from 0.03276 to 0.03138, saving model to qstudent_dist_best\n"
          ]
        },
        {
          "output_type": "stream",
          "name": "stderr",
          "text": [
            "WARNING:absl:Function `_wrapped_model` contains input name(s) Student_input with unsupported characters which will be renamed to student_input in the SavedModel.\n",
            "WARNING:absl:Found untraced functions such as _jit_compiled_convolution_op, _jit_compiled_convolution_op, _jit_compiled_convolution_op, _jit_compiled_convolution_op, _jit_compiled_convolution_op while saving (showing 5 of 14). These functions will not be directly callable after loading.\n"
          ]
        },
        {
          "output_type": "stream",
          "name": "stdout",
          "text": [
            "\b\b\b\b\b\b\b\b\b\b\b\b\b\b\b\b\b\b\b\b\b\b\b\b\b\b\b\b\b\b\b\b\b\b\b\b\b\b\b\b\b\b\b\b\b\b\b\b\b\b\b\b\b\b\b\b\b\b\b\b\b\b\b\b\b\b\b\b\b\b\b\b\b\b\b\b\b\b\b\b\b\b\b\b\b\b\b\b\b\b\b\b\b\b\b\b\b\b\b\b\b\b\b\b\b\b\b\b\b\b\b\b\b\b\b\b\b\b\b\b\b\b\b\b\b\b\b\b\b\b\b\b\b\b\b\b\b\b\b\b\b\b\b\b\b\b\b\b\b\b\b\b\b\b\b\b\b\b\b\b\b\b\b\b\b\b\b\b\b\b\b\b\b\b\b\b\b\b\b\b\b\b\b\b\b\b\b\b\b\b\b\b\b\b\b\b\b\b\b\b\b\r600/600 [==============================] - 25s 42ms/step - loss: 0.0358 - Student_Output_loss: 0.0334 - Student_Output_mse: 0.0334 - Output_mse: 0.0086 - Hint1: 0.0017 - Hint2: 4.4074e-04 - Hint3: 2.4317e-04 - val_loss: 0.0338 - val_Student_Output_loss: 0.0314 - val_Student_Output_mse: 0.0314 - val_Output_mse: 0.0097 - val_Hint1: 0.0017 - val_Hint2: 4.4139e-04 - val_Hint3: 2.3108e-04\n",
            "Epoch 10/50\n",
            "599/600 [============================>.] - ETA: 0s - loss: 0.0349 - Student_Output_loss: 0.0325 - Student_Output_mse: 0.0325 - Output_mse: 0.0086 - Hint1: 0.0017 - Hint2: 4.3819e-04 - Hint3: 2.3733e-04\n",
            "Epoch 10: val_Student_Output_mse improved from 0.03138 to 0.02992, saving model to qstudent_dist_best\n"
          ]
        },
        {
          "output_type": "stream",
          "name": "stderr",
          "text": [
            "WARNING:absl:Function `_wrapped_model` contains input name(s) Student_input with unsupported characters which will be renamed to student_input in the SavedModel.\n",
            "WARNING:absl:Found untraced functions such as _jit_compiled_convolution_op, _jit_compiled_convolution_op, _jit_compiled_convolution_op, _jit_compiled_convolution_op, _jit_compiled_convolution_op while saving (showing 5 of 14). These functions will not be directly callable after loading.\n"
          ]
        },
        {
          "output_type": "stream",
          "name": "stdout",
          "text": [
            "\b\b\b\b\b\b\b\b\b\b\b\b\b\b\b\b\b\b\b\b\b\b\b\b\b\b\b\b\b\b\b\b\b\b\b\b\b\b\b\b\b\b\b\b\b\b\b\b\b\b\b\b\b\b\b\b\b\b\b\b\b\b\b\b\b\b\b\b\b\b\b\b\b\b\b\b\b\b\b\b\b\b\b\b\b\b\b\b\b\b\b\b\b\b\b\b\b\b\b\b\b\b\b\b\b\b\b\b\b\b\b\b\b\b\b\b\b\b\b\b\b\b\b\b\b\b\b\b\b\b\b\b\b\b\b\b\b\b\b\b\b\b\b\b\b\b\b\b\b\b\b\b\b\b\b\b\b\b\b\b\b\b\b\b\b\b\b\b\b\b\b\b\b\b\b\b\b\b\b\b\b\b\b\b\b\b\b\b\b\b\b\b\b\b\b\b\b\b\b\b\b\r600/600 [==============================] - 25s 41ms/step - loss: 0.0349 - Student_Output_loss: 0.0325 - Student_Output_mse: 0.0325 - Output_mse: 0.0086 - Hint1: 0.0017 - Hint2: 4.3832e-04 - Hint3: 2.3732e-04 - val_loss: 0.0323 - val_Student_Output_loss: 0.0299 - val_Student_Output_mse: 0.0299 - val_Output_mse: 0.0097 - val_Hint1: 0.0017 - val_Hint2: 4.4091e-04 - val_Hint3: 2.2900e-04\n",
            "Epoch 11/50\n",
            "600/600 [==============================] - ETA: 0s - loss: 0.0344 - Student_Output_loss: 0.0320 - Student_Output_mse: 0.0320 - Output_mse: 0.0086 - Hint1: 0.0017 - Hint2: 4.3818e-04 - Hint3: 2.3517e-04\n",
            "Epoch 11: val_Student_Output_mse improved from 0.02992 to 0.02943, saving model to qstudent_dist_best\n"
          ]
        },
        {
          "output_type": "stream",
          "name": "stderr",
          "text": [
            "WARNING:absl:Function `_wrapped_model` contains input name(s) Student_input with unsupported characters which will be renamed to student_input in the SavedModel.\n",
            "WARNING:absl:Found untraced functions such as _jit_compiled_convolution_op, _jit_compiled_convolution_op, _jit_compiled_convolution_op, _jit_compiled_convolution_op, _jit_compiled_convolution_op while saving (showing 5 of 14). These functions will not be directly callable after loading.\n"
          ]
        },
        {
          "output_type": "stream",
          "name": "stdout",
          "text": [
            "\b\b\b\b\b\b\b\b\b\b\b\b\b\b\b\b\b\b\b\b\b\b\b\b\b\b\b\b\b\b\b\b\b\b\b\b\b\b\b\b\b\b\b\b\b\b\b\b\b\b\b\b\b\b\b\b\b\b\b\b\b\b\b\b\b\b\b\b\b\b\b\b\b\b\b\b\b\b\b\b\b\b\b\b\b\b\b\b\b\b\b\b\b\b\b\b\b\b\b\b\b\b\b\b\b\b\b\b\b\b\b\b\b\b\b\b\b\b\b\b\b\b\b\b\b\b\b\b\b\b\b\b\b\b\b\b\b\b\b\b\b\b\b\b\b\b\b\b\b\b\b\b\b\b\b\b\b\b\b\b\b\b\b\b\b\b\b\b\b\b\b\b\b\b\b\b\b\b\b\b\b\b\b\b\b\b\b\b\b\b\b\b\b\b\b\b\b\b\b\b\b\r600/600 [==============================] - 25s 42ms/step - loss: 0.0344 - Student_Output_loss: 0.0320 - Student_Output_mse: 0.0320 - Output_mse: 0.0086 - Hint1: 0.0017 - Hint2: 4.3818e-04 - Hint3: 2.3517e-04 - val_loss: 0.0318 - val_Student_Output_loss: 0.0294 - val_Student_Output_mse: 0.0294 - val_Output_mse: 0.0097 - val_Hint1: 0.0017 - val_Hint2: 4.4155e-04 - val_Hint3: 2.1934e-04\n",
            "Epoch 12/50\n",
            "600/600 [==============================] - ETA: 0s - loss: 0.0338 - Student_Output_loss: 0.0314 - Student_Output_mse: 0.0314 - Output_mse: 0.0086 - Hint1: 0.0017 - Hint2: 4.3697e-04 - Hint3: 2.3151e-04\n",
            "Epoch 12: val_Student_Output_mse did not improve from 0.02943\n",
            "600/600 [==============================] - 13s 21ms/step - loss: 0.0338 - Student_Output_loss: 0.0314 - Student_Output_mse: 0.0314 - Output_mse: 0.0086 - Hint1: 0.0017 - Hint2: 4.3697e-04 - Hint3: 2.3151e-04 - val_loss: 0.0321 - val_Student_Output_loss: 0.0297 - val_Student_Output_mse: 0.0297 - val_Output_mse: 0.0097 - val_Hint1: 0.0017 - val_Hint2: 4.3810e-04 - val_Hint3: 2.2132e-04\n",
            "Epoch 13/50\n",
            "598/600 [============================>.] - ETA: 0s - loss: 0.0336 - Student_Output_loss: 0.0312 - Student_Output_mse: 0.0312 - Output_mse: 0.0086 - Hint1: 0.0017 - Hint2: 4.3638e-04 - Hint3: 2.3109e-04\n",
            "Epoch 13: val_Student_Output_mse did not improve from 0.02943\n",
            "600/600 [==============================] - 13s 21ms/step - loss: 0.0336 - Student_Output_loss: 0.0312 - Student_Output_mse: 0.0312 - Output_mse: 0.0086 - Hint1: 0.0017 - Hint2: 4.3633e-04 - Hint3: 2.3099e-04 - val_loss: 0.0344 - val_Student_Output_loss: 0.0320 - val_Student_Output_mse: 0.0320 - val_Output_mse: 0.0097 - val_Hint1: 0.0017 - val_Hint2: 4.4250e-04 - val_Hint3: 2.3396e-04\n",
            "Epoch 14/50\n",
            "599/600 [============================>.] - ETA: 0s - loss: 0.0328 - Student_Output_loss: 0.0304 - Student_Output_mse: 0.0304 - Output_mse: 0.0086 - Hint1: 0.0017 - Hint2: 4.3688e-04 - Hint3: 2.2837e-04\n",
            "Epoch 14: val_Student_Output_mse did not improve from 0.02943\n",
            "600/600 [==============================] - 12s 21ms/step - loss: 0.0328 - Student_Output_loss: 0.0304 - Student_Output_mse: 0.0304 - Output_mse: 0.0086 - Hint1: 0.0017 - Hint2: 4.3700e-04 - Hint3: 2.2837e-04 - val_loss: 0.0330 - val_Student_Output_loss: 0.0305 - val_Student_Output_mse: 0.0305 - val_Output_mse: 0.0097 - val_Hint1: 0.0017 - val_Hint2: 4.4212e-04 - val_Hint3: 2.2909e-04\n",
            "Epoch 15/50\n",
            "598/600 [============================>.] - ETA: 0s - loss: 0.0337 - Student_Output_loss: 0.0313 - Student_Output_mse: 0.0313 - Output_mse: 0.0086 - Hint1: 0.0017 - Hint2: 4.3680e-04 - Hint3: 2.3532e-04\n",
            "Epoch 15: val_Student_Output_mse improved from 0.02943 to 0.02927, saving model to qstudent_dist_best\n"
          ]
        },
        {
          "output_type": "stream",
          "name": "stderr",
          "text": [
            "WARNING:absl:Function `_wrapped_model` contains input name(s) Student_input with unsupported characters which will be renamed to student_input in the SavedModel.\n",
            "WARNING:absl:Found untraced functions such as _jit_compiled_convolution_op, _jit_compiled_convolution_op, _jit_compiled_convolution_op, _jit_compiled_convolution_op, _jit_compiled_convolution_op while saving (showing 5 of 14). These functions will not be directly callable after loading.\n"
          ]
        },
        {
          "output_type": "stream",
          "name": "stdout",
          "text": [
            "\b\b\b\b\b\b\b\b\b\b\b\b\b\b\b\b\b\b\b\b\b\b\b\b\b\b\b\b\b\b\b\b\b\b\b\b\b\b\b\b\b\b\b\b\b\b\b\b\b\b\b\b\b\b\b\b\b\b\b\b\b\b\b\b\b\b\b\b\b\b\b\b\b\b\b\b\b\b\b\b\b\b\b\b\b\b\b\b\b\b\b\b\b\b\b\b\b\b\b\b\b\b\b\b\b\b\b\b\b\b\b\b\b\b\b\b\b\b\b\b\b\b\b\b\b\b\b\b\b\b\b\b\b\b\b\b\b\b\b\b\b\b\b\b\b\b\b\b\b\b\b\b\b\b\b\b\b\b\b\b\b\b\b\b\b\b\b\b\b\b\b\b\b\b\b\b\b\b\b\b\b\b\b\b\b\b\b\b\b\b\b\b\b\b\b\b\b\b\b\b\b\r600/600 [==============================] - 25s 41ms/step - loss: 0.0337 - Student_Output_loss: 0.0313 - Student_Output_mse: 0.0313 - Output_mse: 0.0086 - Hint1: 0.0017 - Hint2: 4.3680e-04 - Hint3: 2.3520e-04 - val_loss: 0.0317 - val_Student_Output_loss: 0.0293 - val_Student_Output_mse: 0.0293 - val_Output_mse: 0.0097 - val_Hint1: 0.0017 - val_Hint2: 4.3817e-04 - val_Hint3: 2.2987e-04\n",
            "Epoch 16/50\n",
            "600/600 [==============================] - ETA: 0s - loss: 0.0333 - Student_Output_loss: 0.0309 - Student_Output_mse: 0.0309 - Output_mse: 0.0086 - Hint1: 0.0017 - Hint2: 4.3647e-04 - Hint3: 2.3537e-04\n",
            "Epoch 16: val_Student_Output_mse did not improve from 0.02927\n",
            "600/600 [==============================] - 13s 21ms/step - loss: 0.0333 - Student_Output_loss: 0.0309 - Student_Output_mse: 0.0309 - Output_mse: 0.0086 - Hint1: 0.0017 - Hint2: 4.3647e-04 - Hint3: 2.3537e-04 - val_loss: 0.0356 - val_Student_Output_loss: 0.0331 - val_Student_Output_mse: 0.0331 - val_Output_mse: 0.0097 - val_Hint1: 0.0017 - val_Hint2: 4.4089e-04 - val_Hint3: 2.5186e-04\n",
            "Epoch 17/50\n",
            "599/600 [============================>.] - ETA: 0s - loss: 0.0324 - Student_Output_loss: 0.0300 - Student_Output_mse: 0.0300 - Output_mse: 0.0086 - Hint1: 0.0017 - Hint2: 4.3571e-04 - Hint3: 2.3048e-04\n",
            "Epoch 17: val_Student_Output_mse improved from 0.02927 to 0.02805, saving model to qstudent_dist_best\n"
          ]
        },
        {
          "output_type": "stream",
          "name": "stderr",
          "text": [
            "WARNING:absl:Function `_wrapped_model` contains input name(s) Student_input with unsupported characters which will be renamed to student_input in the SavedModel.\n",
            "WARNING:absl:Found untraced functions such as _jit_compiled_convolution_op, _jit_compiled_convolution_op, _jit_compiled_convolution_op, _jit_compiled_convolution_op, _jit_compiled_convolution_op while saving (showing 5 of 14). These functions will not be directly callable after loading.\n"
          ]
        },
        {
          "output_type": "stream",
          "name": "stdout",
          "text": [
            "\b\b\b\b\b\b\b\b\b\b\b\b\b\b\b\b\b\b\b\b\b\b\b\b\b\b\b\b\b\b\b\b\b\b\b\b\b\b\b\b\b\b\b\b\b\b\b\b\b\b\b\b\b\b\b\b\b\b\b\b\b\b\b\b\b\b\b\b\b\b\b\b\b\b\b\b\b\b\b\b\b\b\b\b\b\b\b\b\b\b\b\b\b\b\b\b\b\b\b\b\b\b\b\b\b\b\b\b\b\b\b\b\b\b\b\b\b\b\b\b\b\b\b\b\b\b\b\b\b\b\b\b\b\b\b\b\b\b\b\b\b\b\b\b\b\b\b\b\b\b\b\b\b\b\b\b\b\b\b\b\b\b\b\b\b\b\b\b\b\b\b\b\b\b\b\b\b\b\b\b\b\b\b\b\b\b\b\b\b\b\b\b\b\b\b\b\b\b\b\b\b\r600/600 [==============================] - 25s 42ms/step - loss: 0.0324 - Student_Output_loss: 0.0300 - Student_Output_mse: 0.0300 - Output_mse: 0.0086 - Hint1: 0.0017 - Hint2: 4.3581e-04 - Hint3: 2.3043e-04 - val_loss: 0.0304 - val_Student_Output_loss: 0.0280 - val_Student_Output_mse: 0.0280 - val_Output_mse: 0.0097 - val_Hint1: 0.0017 - val_Hint2: 4.3883e-04 - val_Hint3: 2.1922e-04\n",
            "Epoch 18/50\n",
            "597/600 [============================>.] - ETA: 0s - loss: 0.0320 - Student_Output_loss: 0.0296 - Student_Output_mse: 0.0296 - Output_mse: 0.0086 - Hint1: 0.0017 - Hint2: 4.3444e-04 - Hint3: 2.2830e-04\n",
            "Epoch 18: val_Student_Output_mse did not improve from 0.02805\n",
            "600/600 [==============================] - 12s 21ms/step - loss: 0.0320 - Student_Output_loss: 0.0296 - Student_Output_mse: 0.0296 - Output_mse: 0.0086 - Hint1: 0.0017 - Hint2: 4.3412e-04 - Hint3: 2.2809e-04 - val_loss: 0.0320 - val_Student_Output_loss: 0.0296 - val_Student_Output_mse: 0.0296 - val_Output_mse: 0.0097 - val_Hint1: 0.0017 - val_Hint2: 4.3745e-04 - val_Hint3: 2.2400e-04\n",
            "Epoch 19/50\n",
            "600/600 [==============================] - ETA: 0s - loss: 0.0317 - Student_Output_loss: 0.0293 - Student_Output_mse: 0.0293 - Output_mse: 0.0086 - Hint1: 0.0017 - Hint2: 4.3335e-04 - Hint3: 2.2649e-04\n",
            "Epoch 19: val_Student_Output_mse improved from 0.02805 to 0.02761, saving model to qstudent_dist_best\n"
          ]
        },
        {
          "output_type": "stream",
          "name": "stderr",
          "text": [
            "WARNING:absl:Function `_wrapped_model` contains input name(s) Student_input with unsupported characters which will be renamed to student_input in the SavedModel.\n",
            "WARNING:absl:Found untraced functions such as _jit_compiled_convolution_op, _jit_compiled_convolution_op, _jit_compiled_convolution_op, _jit_compiled_convolution_op, _jit_compiled_convolution_op while saving (showing 5 of 14). These functions will not be directly callable after loading.\n"
          ]
        },
        {
          "output_type": "stream",
          "name": "stdout",
          "text": [
            "\b\b\b\b\b\b\b\b\b\b\b\b\b\b\b\b\b\b\b\b\b\b\b\b\b\b\b\b\b\b\b\b\b\b\b\b\b\b\b\b\b\b\b\b\b\b\b\b\b\b\b\b\b\b\b\b\b\b\b\b\b\b\b\b\b\b\b\b\b\b\b\b\b\b\b\b\b\b\b\b\b\b\b\b\b\b\b\b\b\b\b\b\b\b\b\b\b\b\b\b\b\b\b\b\b\b\b\b\b\b\b\b\b\b\b\b\b\b\b\b\b\b\b\b\b\b\b\b\b\b\b\b\b\b\b\b\b\b\b\b\b\b\b\b\b\b\b\b\b\b\b\b\b\b\b\b\b\b\b\b\b\b\b\b\b\b\b\b\b\b\b\b\b\b\b\b\b\b\b\b\b\b\b\b\b\b\b\b\b\b\b\b\b\b\b\b\b\b\b\b\b\r600/600 [==============================] - 25s 41ms/step - loss: 0.0317 - Student_Output_loss: 0.0293 - Student_Output_mse: 0.0293 - Output_mse: 0.0086 - Hint1: 0.0017 - Hint2: 4.3335e-04 - Hint3: 2.2649e-04 - val_loss: 0.0300 - val_Student_Output_loss: 0.0276 - val_Student_Output_mse: 0.0276 - val_Output_mse: 0.0097 - val_Hint1: 0.0017 - val_Hint2: 4.3730e-04 - val_Hint3: 2.1003e-04\n",
            "Epoch 20/50\n",
            "598/600 [============================>.] - ETA: 0s - loss: 0.0314 - Student_Output_loss: 0.0290 - Student_Output_mse: 0.0290 - Output_mse: 0.0086 - Hint1: 0.0017 - Hint2: 4.3407e-04 - Hint3: 2.2583e-04\n",
            "Epoch 20: val_Student_Output_mse improved from 0.02761 to 0.02596, saving model to qstudent_dist_best\n"
          ]
        },
        {
          "output_type": "stream",
          "name": "stderr",
          "text": [
            "WARNING:absl:Function `_wrapped_model` contains input name(s) Student_input with unsupported characters which will be renamed to student_input in the SavedModel.\n",
            "WARNING:absl:Found untraced functions such as _jit_compiled_convolution_op, _jit_compiled_convolution_op, _jit_compiled_convolution_op, _jit_compiled_convolution_op, _jit_compiled_convolution_op while saving (showing 5 of 14). These functions will not be directly callable after loading.\n"
          ]
        },
        {
          "output_type": "stream",
          "name": "stdout",
          "text": [
            "\b\b\b\b\b\b\b\b\b\b\b\b\b\b\b\b\b\b\b\b\b\b\b\b\b\b\b\b\b\b\b\b\b\b\b\b\b\b\b\b\b\b\b\b\b\b\b\b\b\b\b\b\b\b\b\b\b\b\b\b\b\b\b\b\b\b\b\b\b\b\b\b\b\b\b\b\b\b\b\b\b\b\b\b\b\b\b\b\b\b\b\b\b\b\b\b\b\b\b\b\b\b\b\b\b\b\b\b\b\b\b\b\b\b\b\b\b\b\b\b\b\b\b\b\b\b\b\b\b\b\b\b\b\b\b\b\b\b\b\b\b\b\b\b\b\b\b\b\b\b\b\b\b\b\b\b\b\b\b\b\b\b\b\b\b\b\b\b\b\b\b\b\b\b\b\b\b\b\b\b\b\b\b\b\b\b\b\b\b\b\b\b\b\b\b\b\b\b\b\b\b\r600/600 [==============================] - 25s 41ms/step - loss: 0.0314 - Student_Output_loss: 0.0290 - Student_Output_mse: 0.0290 - Output_mse: 0.0086 - Hint1: 0.0017 - Hint2: 4.3395e-04 - Hint3: 2.2570e-04 - val_loss: 0.0283 - val_Student_Output_loss: 0.0260 - val_Student_Output_mse: 0.0260 - val_Output_mse: 0.0097 - val_Hint1: 0.0017 - val_Hint2: 4.3718e-04 - val_Hint3: 2.0612e-04\n",
            "Epoch 21/50\n",
            "598/600 [============================>.] - ETA: 0s - loss: 0.0312 - Student_Output_loss: 0.0288 - Student_Output_mse: 0.0288 - Output_mse: 0.0086 - Hint1: 0.0017 - Hint2: 4.3403e-04 - Hint3: 2.2401e-04\n",
            "Epoch 21: val_Student_Output_mse did not improve from 0.02596\n",
            "600/600 [==============================] - 12s 20ms/step - loss: 0.0312 - Student_Output_loss: 0.0288 - Student_Output_mse: 0.0288 - Output_mse: 0.0086 - Hint1: 0.0017 - Hint2: 4.3405e-04 - Hint3: 2.2400e-04 - val_loss: 0.0293 - val_Student_Output_loss: 0.0269 - val_Student_Output_mse: 0.0269 - val_Output_mse: 0.0097 - val_Hint1: 0.0017 - val_Hint2: 4.3669e-04 - val_Hint3: 2.1380e-04\n",
            "Epoch 22/50\n",
            "599/600 [============================>.] - ETA: 0s - loss: 0.0317 - Student_Output_loss: 0.0293 - Student_Output_mse: 0.0293 - Output_mse: 0.0086 - Hint1: 0.0017 - Hint2: 4.3356e-04 - Hint3: 2.2662e-04\n",
            "Epoch 22: val_Student_Output_mse did not improve from 0.02596\n",
            "600/600 [==============================] - 12s 21ms/step - loss: 0.0317 - Student_Output_loss: 0.0293 - Student_Output_mse: 0.0293 - Output_mse: 0.0086 - Hint1: 0.0017 - Hint2: 4.3345e-04 - Hint3: 2.2663e-04 - val_loss: 0.0295 - val_Student_Output_loss: 0.0271 - val_Student_Output_mse: 0.0271 - val_Output_mse: 0.0097 - val_Hint1: 0.0017 - val_Hint2: 4.3503e-04 - val_Hint3: 2.0394e-04\n",
            "Epoch 23/50\n",
            "600/600 [==============================] - ETA: 0s - loss: 0.0314 - Student_Output_loss: 0.0290 - Student_Output_mse: 0.0290 - Output_mse: 0.0086 - Hint1: 0.0017 - Hint2: 4.3318e-04 - Hint3: 2.1767e-04\n",
            "Epoch 23: val_Student_Output_mse did not improve from 0.02596\n",
            "600/600 [==============================] - 13s 21ms/step - loss: 0.0314 - Student_Output_loss: 0.0290 - Student_Output_mse: 0.0290 - Output_mse: 0.0086 - Hint1: 0.0017 - Hint2: 4.3318e-04 - Hint3: 2.1767e-04 - val_loss: 0.0286 - val_Student_Output_loss: 0.0263 - val_Student_Output_mse: 0.0263 - val_Output_mse: 0.0097 - val_Hint1: 0.0017 - val_Hint2: 4.3483e-04 - val_Hint3: 2.0259e-04\n",
            "Epoch 24/50\n",
            "600/600 [==============================] - ETA: 0s - loss: 0.0311 - Student_Output_loss: 0.0288 - Student_Output_mse: 0.0288 - Output_mse: 0.0086 - Hint1: 0.0017 - Hint2: 4.3351e-04 - Hint3: 2.1708e-04\n",
            "Epoch 24: val_Student_Output_mse did not improve from 0.02596\n",
            "600/600 [==============================] - 14s 23ms/step - loss: 0.0311 - Student_Output_loss: 0.0288 - Student_Output_mse: 0.0288 - Output_mse: 0.0086 - Hint1: 0.0017 - Hint2: 4.3351e-04 - Hint3: 2.1708e-04 - val_loss: 0.0288 - val_Student_Output_loss: 0.0264 - val_Student_Output_mse: 0.0264 - val_Output_mse: 0.0097 - val_Hint1: 0.0017 - val_Hint2: 4.3800e-04 - val_Hint3: 2.0310e-04\n",
            "Epoch 25/50\n",
            "600/600 [==============================] - ETA: 0s - loss: 0.0304 - Student_Output_loss: 0.0280 - Student_Output_mse: 0.0280 - Output_mse: 0.0086 - Hint1: 0.0017 - Hint2: 4.3318e-04 - Hint3: 2.1395e-04\n",
            "Epoch 25: val_Student_Output_mse did not improve from 0.02596\n",
            "600/600 [==============================] - 12s 21ms/step - loss: 0.0304 - Student_Output_loss: 0.0280 - Student_Output_mse: 0.0280 - Output_mse: 0.0086 - Hint1: 0.0017 - Hint2: 4.3318e-04 - Hint3: 2.1395e-04 - val_loss: 0.0358 - val_Student_Output_loss: 0.0334 - val_Student_Output_mse: 0.0334 - val_Output_mse: 0.0097 - val_Hint1: 0.0017 - val_Hint2: 4.3699e-04 - val_Hint3: 2.7354e-04\n"
          ]
        }
      ]
    },
    {
      "cell_type": "code",
      "source": [
        "# carica il best model\n",
        "qstudent_dist = keras.models.load_model('qstudent_dist_best')\n",
        "\n",
        "predictions_qs_dist = qstudent_dist.predict([test_images, test_images])[0]\n",
        "predictions_qs_dist = np.array(predictions_qs_dist)\n",
        "predictions_qs_dist = scaler.inverse_transform(predictions_qs_dist)"
      ],
      "metadata": {
        "id": "XTss9Lup1wDk",
        "colab": {
          "base_uri": "https://localhost:8080/"
        },
        "outputId": "89de7a70-5b7a-4ca4-a6cb-2df8711655f6"
      },
      "execution_count": 36,
      "outputs": [
        {
          "output_type": "stream",
          "name": "stdout",
          "text": [
            "2831/2831 [==============================] - 31s 11ms/step\n"
          ]
        }
      ]
    },
    {
      "cell_type": "code",
      "source": [
        "# Turnon curva di efficienza del trigger in funzione del pt\n",
        "\n",
        "# modo facile per ottenerlo: creare due histogrammi uno con la distribuzione di pt per gli eventi che passono il taglio \n",
        "# pt_predetto > soglia e uno con la distribuzione di tutti gli eventi e poi fare il rapporto tra i due istogrammi\n",
        "\n",
        "predictions_qs_dist = predictions_qs_dist[:,0]\n",
        "pttrue = scaler.inverse_transform(test_labels)[:,0]\n",
        "soglia = 10.0 #soglia nominale di trigger Pt>10 GeV/c\n",
        "numer_qs_d,_ = np.histogram(pttrue[predictions_qs_dist>soglia], bins=20, range=(0.,20.))\n",
        "denum_qs_d,_ = np.histogram(pttrue, bins=20, range=(0.,20.))\n",
        "\n",
        "eff_qs_d = numer_qs_d/denum_qs_d\n",
        "lrvalues = np.linspace(0.,20.,20)\n",
        "\n",
        "_ = plt.plot(lrvalues,eff, '*')\n",
        "_ = plt.plot(lrvalues,eff_s, 'r*')\n",
        "_ = plt.plot(lrvalues,eff_qs, 'g*')\n",
        "_ = plt.plot(lrvalues,eff_qs_d, 'y*')\n",
        "_ = plt.axvline(x=soglia)\n",
        "_ = plt.xlabel(\"pT$ [GeV/c]\")\n",
        "_ = plt.ylabel(\"efficiency\")"
      ],
      "metadata": {
        "id": "tBIWPvpw2BUo",
        "colab": {
          "base_uri": "https://localhost:8080/",
          "height": 333
        },
        "outputId": "42889e2a-2de8-4631-c2ed-6fa59f227e36"
      },
      "execution_count": 37,
      "outputs": [
        {
          "output_type": "stream",
          "name": "stderr",
          "text": [
            "<ipython-input-37-fda54d6f7636>:12: RuntimeWarning: invalid value encountered in true_divide\n",
            "  eff_qs_d = numer_qs_d/denum_qs_d\n"
          ]
        },
        {
          "output_type": "display_data",
          "data": {
            "text/plain": [
              "<Figure size 432x288 with 1 Axes>"
            ],
            "image/png": "[encoded data removed]"
          },
          "metadata": {
            "needs_background": "light"
          }
        }
      ]
    },
    {
      "cell_type": "markdown",
      "source": [
        "### Traduzione del modello in VHDL via HLS4ML\n",
        "\n",
        "richiede l'installazione di hls4ml e VivadoHLS, quest'ultimo non possibile su google colab\n",
        "\n",
        "Per installare HLS4ML è sufficiente il comando:\n",
        "\n",
        "`pip install hls4ml`\n",
        "\n",
        "(Al [link](https://fastmachinelearning.org/hls4ml/setup.html) la lista di ulteriori dependencies ed istruzioni aggiuntive)\n",
        "\n",
        "HLS4ML è testato su Linux, e supporta le versioni di Vivado HLS da 2018.2 a 2020.1. Vitis HLS non è ancora supportato. Windows e macOS non sono supportati.\n",
        "\n",
        "Per il download e l'installazione di Vivado si rimanda al [link](https://www.xilinx.com/support/download.html)"
      ],
      "metadata": {
        "id": "jgVFasAryGe_"
      }
    },
    {
      "cell_type": "code",
      "source": [
        "NOTA: # solo poche di righe per far vedere il workflow tipico necessario per fare la sintesi del modello \n",
        "# NOTA: il modello utilizato sopra con immagini 387x9 e uso di layer QAveragePooling non è supportato al momento da hls4ml\n",
        "# quindi usiamo un modellino di CNN più semplice che usa un input di dimensione 16x9 per far vedere come funziona la conversione"
      ],
      "metadata": {
        "id": "x4VFDvfX9wBq"
      },
      "execution_count": null,
      "outputs": []
    },
    {
      "cell_type": "code",
      "source": [
        "!pip install hls4ml"
      ],
      "metadata": {
        "colab": {
          "base_uri": "https://localhost:8080/"
        },
        "id": "3XH2hLz8ThH7",
        "outputId": "d0452dff-8d69-423c-cb98-a32a2d4d2474"
      },
      "execution_count": 38,
      "outputs": [
        {
          "output_type": "stream",
          "name": "stdout",
          "text": [
            "Looking in indexes: https://pypi.org/simple, https://us-python.pkg.dev/colab-wheels/public/simple/\n",
            "Collecting hls4ml\n",
            "  Downloading hls4ml-0.6.0-py3-none-any.whl (295 kB)\n",
            "\u001b[K     |████████████████████████████████| 295 kB 8.3 MB/s \n",
            "\u001b[?25hRequirement already satisfied: six in /usr/local/lib/python3.8/dist-packages (from hls4ml) (1.15.0)\n",
            "Requirement already satisfied: numpy in /usr/local/lib/python3.8/dist-packages (from hls4ml) (1.21.6)\n",
            "Requirement already satisfied: pyyaml in /usr/local/lib/python3.8/dist-packages (from hls4ml) (6.0)\n",
            "Collecting onnx>=1.4.0\n",
            "  Downloading onnx-1.12.0-cp38-cp38-manylinux_2_17_x86_64.manylinux2014_x86_64.whl (13.1 MB)\n",
            "\u001b[K     |████████████████████████████████| 13.1 MB 58.0 MB/s \n",
            "\u001b[?25hRequirement already satisfied: h5py in /usr/local/lib/python3.8/dist-packages (from hls4ml) (3.1.0)\n",
            "Requirement already satisfied: typing-extensions>=3.6.2.1 in /usr/local/lib/python3.8/dist-packages (from onnx>=1.4.0->hls4ml) (4.1.1)\n",
            "Requirement already satisfied: protobuf<=3.20.1,>=3.12.2 in /usr/local/lib/python3.8/dist-packages (from onnx>=1.4.0->hls4ml) (3.19.6)\n",
            "Installing collected packages: onnx, hls4ml\n",
            "Successfully installed hls4ml-0.6.0 onnx-1.12.0\n"
          ]
        }
      ]
    },
    {
      "cell_type": "code",
      "source": [
        "# funzione per printare il dizionario di descrizione del modello estratto da hls4ml\n",
        "def print_dict(d, indent=0):\n",
        "    align=20\n",
        "    for key, value in d.items():\n",
        "        print('  ' * indent + str(key), end='')\n",
        "        if isinstance(value, dict):\n",
        "            print()\n",
        "            print_dict(value, indent+1)\n",
        "        else:\n",
        "            print(':' + ' ' * (20 - len(key) - 2 * indent) + str(value))"
      ],
      "metadata": {
        "id": "qlne3LTEa3C5"
      },
      "execution_count": 39,
      "outputs": []
    },
    {
      "cell_type": "code",
      "source": [
        "import hls4ml\n",
        "\n",
        "# CNN semplificata\n",
        "nbits = 4\n",
        "sym = 1\n",
        "\n",
        "model = Sequential()                                                                                                                                                              \n",
        "model.add(Input((9,16,1), name = 'input_student'))                                                                                                                                \n",
        "                                                                                                                                                                                  \n",
        "model.add(QConv2D(1, (3,3), kernel_quantizer = quantized_bits(nbits,0,alpha = sym), bias_quantizer = quantized_bits(nbits,0,alpha = 1),  name = 'Student_Conv1a'))                                                                                                                              \n",
        "model.add( QActivation('quantized_relu('+str(nbits)+')'))\n",
        "model.add(QConv2D(1, (3,3), kernel_quantizer = quantized_bits(nbits,0,alpha = sym), bias_quantizer = quantized_bits(nbits,0,alpha = 1),  name = 'Student_Conv1b'))                                                                                                                              \n",
        "model.add( QActivation('quantized_relu('+str(nbits)+')'))\n",
        "model.add(QConv2D(6, (3,3), kernel_quantizer = quantized_bits(nbits,0,alpha = sym), bias_quantizer = quantized_bits(nbits,0,1),  name = 'Student_Conv2a'))\n",
        "model.add(QActivation('quantized_relu('+str(nbits)+')'))\n",
        "model.add(QConv2D(6, (3,3), kernel_quantizer = quantized_bits(nbits,0, alpha = sym), bias_quantizer = quantized_bits(nbits,0,1),  name = 'Student_Conv2b'))\n",
        "model.add(QActivation('quantized_relu('+str(nbits)+')'))\n",
        "model.add(Flatten())\n",
        "model.add(QDense(10, name='fc1',\n",
        "                 kernel_quantizer=quantized_bits(nbits,0,alpha=1), bias_quantizer=quantized_bits(nbits,0,alpha=1)))\n",
        "model.add(QActivation(activation=quantized_relu(nbits), name='relu1'))\n",
        "model.add(QDense(10, name='fc2',\n",
        "                 kernel_quantizer=quantized_bits(nbits,0,alpha=1), bias_quantizer=quantized_bits(nbits,0,alpha=1)))\n",
        "model.add(QActivation(activation=quantized_relu(nbits), name='relu2'))\n",
        "model.add(Dense(2, name='output'))\n",
        "\n",
        "model.summary()\n",
        "model.compile(optimizer=\"adam\", loss=['mse'], metrics=['mse'])\n",
        "\n",
        "\n",
        "\n",
        "# HLS4ML: estrazione dal modello salvato da tensorflow del dizionario con la descrizione del modello\n",
        "config = hls4ml.utils.config_from_keras_model(model, granularity='name')\n",
        "\n",
        "print(\"-----------------------------------\")\n",
        "print_dict(config)\n",
        "print(\"-----------------------------------\")"
      ],
      "metadata": {
        "colab": {
          "base_uri": "https://localhost:8080/"
        },
        "id": "tdXJjC2nUlRq",
        "outputId": "4cb19b5a-6824-434c-a838-faea92446c2c"
      },
      "execution_count": 48,
      "outputs": [
        {
          "output_type": "stream",
          "name": "stdout",
          "text": [
            "Model: \"sequential_1\"\n",
            "_________________________________________________________________\n",
            " Layer (type)                Output Shape              Param #   \n",
            "=================================================================\n",
            " Student_Conv1a (QConv2D)    (None, 7, 14, 1)          10        \n",
            "                                                                 \n",
            " q_activation_28 (QActivatio  (None, 7, 14, 1)         0         \n",
            " n)                                                              \n",
            "                                                                 \n",
            " Student_Conv1b (QConv2D)    (None, 5, 12, 1)          10        \n",
            "                                                                 \n",
            " q_activation_29 (QActivatio  (None, 5, 12, 1)         0         \n",
            " n)                                                              \n",
            "                                                                 \n",
            " Student_Conv2a (QConv2D)    (None, 3, 10, 6)          60        \n",
            "                                                                 \n",
            " q_activation_30 (QActivatio  (None, 3, 10, 6)         0         \n",
            " n)                                                              \n",
            "                                                                 \n",
            " Student_Conv2b (QConv2D)    (None, 1, 8, 6)           330       \n",
            "                                                                 \n",
            " q_activation_31 (QActivatio  (None, 1, 8, 6)          0         \n",
            " n)                                                              \n",
            "                                                                 \n",
            " flatten_7 (Flatten)         (None, 48)                0         \n",
            "                                                                 \n",
            " fc1 (QDense)                (None, 10)                490       \n",
            "                                                                 \n",
            " relu1 (QActivation)         (None, 10)                0         \n",
            "                                                                 \n",
            " fc2 (QDense)                (None, 10)                110       \n",
            "                                                                 \n",
            " relu2 (QActivation)         (None, 10)                0         \n",
            "                                                                 \n",
            " output (Dense)              (None, 2)                 22        \n",
            "                                                                 \n",
            "=================================================================\n",
            "Total params: 1,032\n",
            "Trainable params: 1,032\n",
            "Non-trainable params: 0\n",
            "_________________________________________________________________\n",
            "Interpreting Sequential\n",
            "Topology:\n",
            "Layer name: input_student, layer type: Input\n",
            "Layer name: Student_Conv1a, layer type: QConv2D\n",
            "Layer name: q_activation_28, layer type: QActivation\n",
            "Layer name: Student_Conv1b, layer type: QConv2D\n",
            "Layer name: q_activation_29, layer type: QActivation\n",
            "Layer name: Student_Conv2a, layer type: QConv2D\n",
            "Layer name: q_activation_30, layer type: QActivation\n",
            "Layer name: Student_Conv2b, layer type: QConv2D\n",
            "Layer name: q_activation_31, layer type: QActivation\n",
            "Layer name: fc1, layer type: QDense\n",
            "Layer name: relu1, layer type: QActivation\n",
            "Layer name: fc2, layer type: QDense\n",
            "Layer name: relu2, layer type: QActivation\n",
            "Layer name: output, layer type: Dense\n",
            "  -> Activation (linear), layer name: output\n",
            "-----------------------------------\n",
            "Model\n",
            "  Precision:         ap_fixed<16,6>\n",
            "  ReuseFactor:       1\n",
            "  Strategy:          Latency\n",
            "LayerName\n",
            "  input_student\n",
            "    Precision\n",
            "      result:        ap_fixed<16,6>\n",
            "  Student_Conv1a\n",
            "    Precision\n",
            "      weight:        ap_fixed<4,1>\n",
            "      bias:          ap_fixed<4,1>\n",
            "    ReuseFactor:     1\n",
            "  q_activation_28\n",
            "    Precision\n",
            "      result:        ap_ufixed<4,0>\n",
            "    ReuseFactor:     1\n",
            "  Student_Conv1b\n",
            "    Precision\n",
            "      weight:        ap_fixed<4,1>\n",
            "      bias:          ap_fixed<4,1>\n",
            "    ReuseFactor:     1\n",
            "  q_activation_29\n",
            "    Precision\n",
            "      result:        ap_ufixed<4,0>\n",
            "    ReuseFactor:     1\n",
            "  Student_Conv2a\n",
            "    Precision\n",
            "      weight:        ap_fixed<4,1>\n",
            "      bias:          ap_fixed<4,1>\n",
            "    ReuseFactor:     1\n",
            "  q_activation_30\n",
            "    Precision\n",
            "      result:        ap_ufixed<4,0>\n",
            "    ReuseFactor:     1\n",
            "  Student_Conv2b\n",
            "    Precision\n",
            "      weight:        ap_fixed<4,1>\n",
            "      bias:          ap_fixed<4,1>\n",
            "    ReuseFactor:     1\n",
            "  q_activation_31\n",
            "    Precision\n",
            "      result:        ap_ufixed<4,0>\n",
            "    ReuseFactor:     1\n",
            "  fc1\n",
            "    Precision\n",
            "      weight:        ap_fixed<4,1>\n",
            "      bias:          ap_fixed<4,1>\n",
            "    ReuseFactor:     1\n",
            "  relu1\n",
            "    Precision\n",
            "      result:        ap_ufixed<4,0>\n",
            "    ReuseFactor:     1\n",
            "  fc2\n",
            "    Precision\n",
            "      weight:        ap_fixed<4,1>\n",
            "      bias:          ap_fixed<4,1>\n",
            "    ReuseFactor:     1\n",
            "  relu2\n",
            "    Precision\n",
            "      result:        ap_ufixed<4,0>\n",
            "    ReuseFactor:     1\n",
            "  output\n",
            "    Precision\n",
            "      weight:        ap_fixed<16,6>\n",
            "      bias:          ap_fixed<16,6>\n",
            "      result:        ap_fixed<16,6>\n",
            "    ReuseFactor:     1\n",
            "  output_linear\n",
            "    Precision:       ap_fixed<16,6>\n",
            "    ReuseFactor:     1\n",
            "    table_size:      1024\n",
            "    table_t:         ap_fixed<18,8>\n",
            "-----------------------------------\n"
          ]
        }
      ]
    },
    {
      "cell_type": "code",
      "source": [
        "# parametri per la configurazione della conversione per vivadoHLS\n",
        "\n",
        "cfg = hls4ml.converters.create_config(backend='Vivado')\n",
        "cfg['IOType']     = 'io_stream' #o io_parallel, l'unico supportato (al momento) per CNN è io_stream\n",
        "cfg['HLSConfig']  = config\n",
        "cfg['KerasModel'] = model\n",
        "cfg['OutputDir']  = 'hls4ml_prj/'\n",
        "cfg['XilinxPart'] = 'xcvu13p-flga2577-1-e'"
      ],
      "metadata": {
        "id": "Sex7if90blWf"
      },
      "execution_count": 49,
      "outputs": []
    },
    {
      "cell_type": "code",
      "source": [
        "hls_model = hls4ml.converters.keras_to_hls(cfg)"
      ],
      "metadata": {
        "colab": {
          "base_uri": "https://localhost:8080/"
        },
        "id": "2m5WRvsUXYJC",
        "outputId": "c810d3f7-9b06-4e59-8671-7019d5188da8"
      },
      "execution_count": 50,
      "outputs": [
        {
          "output_type": "stream",
          "name": "stdout",
          "text": [
            "Interpreting Sequential\n",
            "Topology:\n",
            "Layer name: input_student, layer type: InputLayer, input shapes: [[None, 9, 16, 1]], output shape: [None, 9, 16, 1]\n",
            "Layer name: Student_Conv1a, layer type: QConv2D, input shapes: [[None, 9, 16, 1]], output shape: [None, 7, 14, 1]\n",
            "Layer name: q_activation_28, layer type: Activation, input shapes: [[None, 7, 14, 1]], output shape: [None, 7, 14, 1]\n",
            "Layer name: Student_Conv1b, layer type: QConv2D, input shapes: [[None, 7, 14, 1]], output shape: [None, 5, 12, 1]\n",
            "Layer name: q_activation_29, layer type: Activation, input shapes: [[None, 5, 12, 1]], output shape: [None, 5, 12, 1]\n",
            "Layer name: Student_Conv2a, layer type: QConv2D, input shapes: [[None, 5, 12, 1]], output shape: [None, 3, 10, 6]\n",
            "Layer name: q_activation_30, layer type: Activation, input shapes: [[None, 3, 10, 6]], output shape: [None, 3, 10, 6]\n",
            "Layer name: Student_Conv2b, layer type: QConv2D, input shapes: [[None, 3, 10, 6]], output shape: [None, 1, 8, 6]\n",
            "Layer name: q_activation_31, layer type: Activation, input shapes: [[None, 1, 8, 6]], output shape: [None, 1, 8, 6]\n",
            "Layer name: flatten_7, layer type: Reshape, input shapes: [[None, 1, 8, 6]], output shape: [None, 48]\n",
            "Layer name: fc1, layer type: QDense, input shapes: [[None, 48]], output shape: [None, 10]\n",
            "Layer name: relu1, layer type: Activation, input shapes: [[None, 10]], output shape: [None, 10]\n",
            "Layer name: fc2, layer type: QDense, input shapes: [[None, 10]], output shape: [None, 10]\n",
            "Layer name: relu2, layer type: Activation, input shapes: [[None, 10]], output shape: [None, 10]\n",
            "Layer name: output, layer type: Dense, input shapes: [[None, 10]], output shape: [None, 2]\n",
            "Creating HLS model\n"
          ]
        }
      ]
    },
    {
      "cell_type": "code",
      "source": [
        "hls_model.compile()"
      ],
      "metadata": {
        "colab": {
          "base_uri": "https://localhost:8080/"
        },
        "id": "JeL2ZPD2b8Q6",
        "outputId": "0b6ef67d-49ee-4fb3-baef-8bbe4f551337"
      },
      "execution_count": 51,
      "outputs": [
        {
          "output_type": "stream",
          "name": "stdout",
          "text": [
            "Writing HLS project\n",
            "Done\n"
          ]
        }
      ]
    },
    {
      "cell_type": "code",
      "source": [
        "hls4ml.utils.plot_model(hls_model, show_shapes=True, show_precision=True, to_file=None)"
      ],
      "metadata": {
        "colab": {
          "base_uri": "https://localhost:8080/",
          "height": 1000
        },
        "id": "0ZNn4wWKcIWB",
        "outputId": "4efdf370-5d24-428a-aada-7419c48541f7"
      },
      "execution_count": 52,
      "outputs": [
        {
          "output_type": "execute_result",
          "data": {
            "image/png": "[encoded data removed]",
            "text/plain": [
              "<IPython.core.display.Image object>"
            ]
          },
          "metadata": {},
          "execution_count": 52
        }
      ]
    },
    {
      "cell_type": "markdown",
      "source": [
        "## Logic syntehsis con VivadoHLS\n",
        "\n",
        "Richiede l'installazione di VivadoHLS, non disponibile su google colab e in questo tutorial, vedi istruzioni qui: [link](https://www.xilinx.com/support/download.html)\n",
        "\n",
        "NOTA: HLS4ML è testato su Linux, e supporta le versioni di Vivado HLS da 2018.2 a 2020.1. Vitis HLS non è ancora supportato. Windows e macOS non sono supportati.\n",
        "\n",
        "Richiede molto tempo O(ore) per una CNN  ..."
      ],
      "metadata": {
        "id": "aEPHImMRcff4"
      }
    },
    {
      "cell_type": "code",
      "source": [
        "hls_model.build(csim=False, synth=True, vsynth=True)"
      ],
      "metadata": {
        "id": "r7sObEsbuBWn"
      },
      "execution_count": null,
      "outputs": []
    },
    {
      "cell_type": "code",
      "source": [
        "def getReports(indir):\n",
        "    data_ = {}\n",
        "    \n",
        "    report_vsynth = Path('{}/vivado_synth.rpt'.format(indir))\n",
        "    report_csynth = Path('{}/myproject_prj/solution1/syn/report/myproject_csynth.rpt'.format(indir))\n",
        "    \n",
        "    if report_vsynth.is_file() and report_csynth.is_file():\n",
        "        print('Found valid vsynth and synth in {}! Fetching numbers'.format(indir))\n",
        "        \n",
        "        # Get the resources from the logic synthesis report \n",
        "        with report_vsynth.open() as report:\n",
        "            lines = np.array(report.readlines())\n",
        "            data_['lut']     = int(lines[np.array(['CLB LUTs*' in line for line in lines])][0].split('|')[2])\n",
        "            data_['ff']      = int(lines[np.array(['CLB Registers' in line for line in lines])][0].split('|')[2])\n",
        "            data_['bram']    = float(lines[np.array(['Block RAM Tile' in line for line in lines])][0].split('|')[2])\n",
        "            data_['dsp']     = int(lines[np.array(['DSPs' in line for line in lines])][0].split('|')[2])\n",
        "            data_['lut_rel'] = float(lines[np.array(['CLB LUTs*' in line for line in lines])][0].split('|')[5])\n",
        "            data_['ff_rel']  = float(lines[np.array(['CLB Registers' in line for line in lines])][0].split('|')[5])\n",
        "            data_['bram_rel']= float(lines[np.array(['Block RAM Tile' in line for line in lines])][0].split('|')[5])\n",
        "            data_['dsp_rel'] = float(lines[np.array(['DSPs' in line for line in lines])][0].split('|')[5])\n",
        "        \n",
        "        with report_csynth.open() as report:\n",
        "            lines = np.array(report.readlines())\n",
        "            lat_line = lines[np.argwhere(np.array(['Latency (cycles)' in line for line in lines])).flatten()[0] + 3]\n",
        "            data_['latency_clks'] = int(lat_line.split('|')[2])\n",
        "            data_['latency_mus']  = float(lat_line.split('|')[2])*5.0/1000.\n",
        "            data_['latency_ii']   = int(lat_line.split('|')[6])\n",
        "    \n",
        "    return data_"
      ],
      "metadata": {
        "id": "Af4oyfG9dVzS"
      },
      "execution_count": null,
      "outputs": []
    },
    {
      "cell_type": "code",
      "source": [
        "from pathlib import Path\n",
        "import pprint \n",
        "\n",
        "data_ref = getReports('hls4ml_prj')\n",
        "\n",
        "print(\"\\n Resource usage and latency:\")\n",
        "pprint.pprint(data_ref)"
      ],
      "metadata": {
        "colab": {
          "base_uri": "https://localhost:8080/"
        },
        "id": "a4rHpAMtdY_H",
        "outputId": "154db5dd-9793-4a67-9e54-fa598f3423c1"
      },
      "execution_count": null,
      "outputs": [
        {
          "output_type": "stream",
          "name": "stdout",
          "text": [
            "\n",
            " Resource usage and latency:\n",
            "{}\n"
          ]
        }
      ]
    }
  ]
}