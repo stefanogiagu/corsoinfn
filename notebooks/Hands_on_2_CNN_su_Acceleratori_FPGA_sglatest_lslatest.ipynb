{
  "nbformat": 4,
  "nbformat_minor": 0,
  "metadata": {
    "kernelspec": {
      "display_name": "Python 3",
      "language": "python",
      "name": "python3"
    },
    "language_info": {
      "codemirror_mode": {
        "name": "ipython",
        "version": 3
      },
      "file_extension": ".py",
      "mimetype": "text/x-python",
      "name": "python",
      "nbconvert_exporter": "python",
      "pygments_lexer": "ipython3",
      "version": "3.6.9"
    },
    "colab": {
      "name": "Hands_on_2_CNN_su_Acceleratori_FPGA_sglatest_lslatest.ipynb",
      "provenance": [],
      "collapsed_sections": [],
      "include_colab_link": true
    },
    "accelerator": "GPU"
  },
  "cells": [
    {
      "cell_type": "markdown",
      "metadata": {
        "id": "view-in-github",
        "colab_type": "text"
      },
      "source": [
        "<a href=\"https://colab.research.google.com/github/stefanogiagu/corsoinfn/blob/main/notebooks/Hands_on_2_CNN_su_Acceleratori_FPGA_sglatest_lslatest.ipynb\" target=\"_parent\"><img src=\"https://colab.research.google.com/assets/colab-badge.svg\" alt=\"Open In Colab\"/></a>"
      ]
    },
    {
      "cell_type": "markdown",
      "source": [
        "### Training e compressione/semplificazione di una CNN per la ricostruzione a bassissima latenza di muoni del rivelatore RPC dell'esperimento ATLAS \n",
        "\n",
        "*   training di un modello teacher CNN VGG-like\n",
        "*   compressione tramite quantizzazione a 4bit\n",
        "*   training di un modello student VGG semplificato + quantizzato a 4 bit\n",
        "*   ottmizzazione delle prestazioni del modello student via teacher-student knoweldge distillation\n",
        "*   conversione e sintesi del modello su FPGA con hls4ml + VivadoHLS\n",
        "*   sintesi custom del modello student tramite implementazione diretta in VHDL con Vivado \n",
        "\n",
        "\n",
        "Referenze:<p>\n",
        "[articolo riferimento](https://epjc.epj.org/articles/epjc/abs/2021/11/10052_2021_Article_9770/10052_2021_Article_9770.html) <p>\n",
        "[Q-keras](https://github.com/google/qkeras) <p>\n",
        "[hls4ml](https://fastmachinelearning.org/hls4ml/) <p>\n",
        "[Vivado](https://www.xilinx.com/products/design-tools/vivado.html)"
      ],
      "metadata": {
        "id": "2INXlXvALztd"
      }
    },
    {
      "cell_type": "markdown",
      "source": [
        "Dataset disponibile su google drive e accessibile da google colab:\n",
        "\n",
        "https://drive.google.com/drive/folders/1mAvJEI9KWWNRLCq3d5VROHPVtei6SZkV?usp=sharing\n",
        "\n",
        "aprire il file dal browser, aggiungere uno short cut al proprio google drive, e poi montare il google drive da google colab\n",
        "\n",
        "\n",
        "```\n",
        "from google.colab import drive\n",
        "drive.mount('/content/drive')\n",
        "```\n",
        "\n",
        "Se si vogliono copiare i files sulla propria macchina locale (sono 4 files per un totaler di circa 6GB):\n",
        "\n",
        "```\n",
        "wget --load-cookies /tmp/cookies.txt \"https://docs.google.com/uc?export=download&confirm=$(wget --quiet --save-cookies /tmp/cookies.txt --keep-session-cookies --no-check-certificate 'https://docs.google.com/uc?export=download&id=1-03Pr2BrRiGSRDSKLdQY2oHGFmX-s3w2' -O- | sed -rn 's/.*confirm=([1-9A-Za-z_]+).*/\\1\\n/p')&id=1-03Pr2BrRiGSRDSKLdQY2oHGFmX-s3w2\" -O train_images384_1mu_with_bkg.npy && rm -rf /tmp/cookies.txt\n",
        "\n",
        "wget --load-cookies /tmp/cookies.txt \"https://docs.google.com/uc?export=download&confirm=$(wget --quiet --save-cookies /tmp/cookies.txt --keep-session-cookies --no-check-certificate 'https://docs.google.com/uc?export=download&id=1F-PJxd79yaIu0_uQqLJWlrHNryJmECak' -O- | sed -rn 's/.*confirm=([1-9A-Za-z_]+).*/\\1\\n/p')&id=1F-PJxd79yaIu0_uQqLJWlrHNryJmECak\" -O train_full_labels384_1mu_with_bkg.npy && rm -rf /tmp/cookies.txt\n",
        "\n",
        "wget --load-cookies /tmp/cookies.txt \"https://docs.google.com/uc?export=download&confirm=$(wget --quiet --save-cookies /tmp/cookies.txt --keep-session-cookies --no-check-certificate 'https://docs.google.com/uc?export=download&id=1IEv2C06Gj9mDOQSuf0MoPZrSZUGzKf9M' -O- | sed -rn 's/.*confirm=([1-9A-Za-z_]+).*/\\1\\n/p')&id=1IEv2C06Gj9mDOQSuf0MoPZrSZUGzKf9M\" -O test_images384_1mu_with_bkg.npy && rm -rf /tmp/cookies.txt\n",
        "\n",
        "wget --load-cookies /tmp/cookies.txt \"https://docs.google.com/uc?export=download&confirm=$(wget --quiet --save-cookies /tmp/cookies.txt --keep-session-cookies --no-check-certificate 'https://docs.google.com/uc?export=download&id=1_I0bOqI0NR2Gk6Kh9aMnl3wZQrDZLthu' -O- | sed -rn 's/.*confirm=([1-9A-Za-z_]+).*/\\1\\n/p')&id=1_I0bOqI0NR2Gk6Kh9aMnl3wZQrDZLthu\" -O test_full_labels384_1mu_with_bkg.npy && rm -rf /tmp/cookies.txt\n",
        "```\n",
        "\n"
      ],
      "metadata": {
        "id": "hOS0ios1KjoQ"
      }
    },
    {
      "cell_type": "code",
      "metadata": {
        "id": "xsbeAwNZjqa2",
        "colab": {
          "base_uri": "https://localhost:8080/"
        },
        "outputId": "9d9b0394-ddb3-4247-aee5-abc5884adb94"
      },
      "source": [
        "from google.colab import drive\n",
        "drive.mount('/content/drive')"
      ],
      "execution_count": null,
      "outputs": [
        {
          "output_type": "stream",
          "name": "stdout",
          "text": [
            "Mounted at /content/drive\n"
          ]
        }
      ]
    },
    {
      "cell_type": "code",
      "metadata": {
        "colab": {
          "base_uri": "https://localhost:8080/"
        },
        "id": "gbtSMRS-K_10",
        "outputId": "7a674545-4d01-4282-8914-2801bfe6dcf7"
      },
      "source": [
        "# installazione librerie Q-keras per la quantizzazione di layer Tensofrlow/keras\n",
        "!pip install qkeras"
      ],
      "execution_count": null,
      "outputs": [
        {
          "output_type": "stream",
          "name": "stdout",
          "text": [
            "Collecting qkeras\n",
            "  Downloading QKeras-0.9.0-py3-none-any.whl (152 kB)\n",
            "\u001b[?25l\r\u001b[K     |██▏                             | 10 kB 26.0 MB/s eta 0:00:01\r\u001b[K     |████▎                           | 20 kB 22.5 MB/s eta 0:00:01\r\u001b[K     |██████▍                         | 30 kB 11.3 MB/s eta 0:00:01\r\u001b[K     |████████▋                       | 40 kB 4.6 MB/s eta 0:00:01\r\u001b[K     |██████████▊                     | 51 kB 4.5 MB/s eta 0:00:01\r\u001b[K     |████████████▉                   | 61 kB 5.4 MB/s eta 0:00:01\r\u001b[K     |███████████████                 | 71 kB 5.5 MB/s eta 0:00:01\r\u001b[K     |█████████████████▏              | 81 kB 6.0 MB/s eta 0:00:01\r\u001b[K     |███████████████████▎            | 92 kB 6.7 MB/s eta 0:00:01\r\u001b[K     |█████████████████████▌          | 102 kB 5.4 MB/s eta 0:00:01\r\u001b[K     |███████████████████████▋        | 112 kB 5.4 MB/s eta 0:00:01\r\u001b[K     |█████████████████████████▊      | 122 kB 5.4 MB/s eta 0:00:01\r\u001b[K     |███████████████████████████▉    | 133 kB 5.4 MB/s eta 0:00:01\r\u001b[K     |██████████████████████████████  | 143 kB 5.4 MB/s eta 0:00:01\r\u001b[K     |████████████████████████████████| 152 kB 5.4 MB/s \n",
            "\u001b[?25hCollecting pyparser\n",
            "  Downloading pyparser-1.0.tar.gz (4.0 kB)\n",
            "Requirement already satisfied: scikit-learn>=0.23.1 in /usr/local/lib/python3.7/dist-packages (from qkeras) (1.0.2)\n",
            "Collecting tensorflow-model-optimization>=0.2.1\n",
            "  Downloading tensorflow_model_optimization-0.7.2-py2.py3-none-any.whl (237 kB)\n",
            "\u001b[K     |████████████████████████████████| 237 kB 33.9 MB/s \n",
            "\u001b[?25hRequirement already satisfied: setuptools>=41.0.0 in /usr/local/lib/python3.7/dist-packages (from qkeras) (57.4.0)\n",
            "Collecting keras-tuner>=1.0.1\n",
            "  Downloading keras_tuner-1.1.2-py3-none-any.whl (133 kB)\n",
            "\u001b[K     |████████████████████████████████| 133 kB 46.5 MB/s \n",
            "\u001b[?25hRequirement already satisfied: numpy>=1.16.0 in /usr/local/lib/python3.7/dist-packages (from qkeras) (1.21.6)\n",
            "Requirement already satisfied: scipy>=1.4.1 in /usr/local/lib/python3.7/dist-packages (from qkeras) (1.4.1)\n",
            "Requirement already satisfied: networkx>=2.1 in /usr/local/lib/python3.7/dist-packages (from qkeras) (2.6.3)\n",
            "Requirement already satisfied: tqdm>=4.48.0 in /usr/local/lib/python3.7/dist-packages (from qkeras) (4.64.0)\n",
            "Requirement already satisfied: tensorboard in /usr/local/lib/python3.7/dist-packages (from keras-tuner>=1.0.1->qkeras) (2.8.0)\n",
            "Requirement already satisfied: packaging in /usr/local/lib/python3.7/dist-packages (from keras-tuner>=1.0.1->qkeras) (21.3)\n",
            "Collecting kt-legacy\n",
            "  Downloading kt_legacy-1.0.4-py3-none-any.whl (9.6 kB)\n",
            "Requirement already satisfied: ipython in /usr/local/lib/python3.7/dist-packages (from keras-tuner>=1.0.1->qkeras) (5.5.0)\n",
            "Requirement already satisfied: requests in /usr/local/lib/python3.7/dist-packages (from keras-tuner>=1.0.1->qkeras) (2.23.0)\n",
            "Requirement already satisfied: threadpoolctl>=2.0.0 in /usr/local/lib/python3.7/dist-packages (from scikit-learn>=0.23.1->qkeras) (3.1.0)\n",
            "Requirement already satisfied: joblib>=0.11 in /usr/local/lib/python3.7/dist-packages (from scikit-learn>=0.23.1->qkeras) (1.1.0)\n",
            "Requirement already satisfied: dm-tree~=0.1.1 in /usr/local/lib/python3.7/dist-packages (from tensorflow-model-optimization>=0.2.1->qkeras) (0.1.7)\n",
            "Requirement already satisfied: six~=1.10 in /usr/local/lib/python3.7/dist-packages (from tensorflow-model-optimization>=0.2.1->qkeras) (1.15.0)\n",
            "Requirement already satisfied: traitlets>=4.2 in /usr/local/lib/python3.7/dist-packages (from ipython->keras-tuner>=1.0.1->qkeras) (5.1.1)\n",
            "Requirement already satisfied: simplegeneric>0.8 in /usr/local/lib/python3.7/dist-packages (from ipython->keras-tuner>=1.0.1->qkeras) (0.8.1)\n",
            "Requirement already satisfied: prompt-toolkit<2.0.0,>=1.0.4 in /usr/local/lib/python3.7/dist-packages (from ipython->keras-tuner>=1.0.1->qkeras) (1.0.18)\n",
            "Requirement already satisfied: decorator in /usr/local/lib/python3.7/dist-packages (from ipython->keras-tuner>=1.0.1->qkeras) (4.4.2)\n",
            "Requirement already satisfied: pexpect in /usr/local/lib/python3.7/dist-packages (from ipython->keras-tuner>=1.0.1->qkeras) (4.8.0)\n",
            "Requirement already satisfied: pygments in /usr/local/lib/python3.7/dist-packages (from ipython->keras-tuner>=1.0.1->qkeras) (2.6.1)\n",
            "Requirement already satisfied: pickleshare in /usr/local/lib/python3.7/dist-packages (from ipython->keras-tuner>=1.0.1->qkeras) (0.7.5)\n",
            "Requirement already satisfied: wcwidth in /usr/local/lib/python3.7/dist-packages (from prompt-toolkit<2.0.0,>=1.0.4->ipython->keras-tuner>=1.0.1->qkeras) (0.2.5)\n",
            "Requirement already satisfied: pyparsing!=3.0.5,>=2.0.2 in /usr/local/lib/python3.7/dist-packages (from packaging->keras-tuner>=1.0.1->qkeras) (3.0.8)\n",
            "Requirement already satisfied: ptyprocess>=0.5 in /usr/local/lib/python3.7/dist-packages (from pexpect->ipython->keras-tuner>=1.0.1->qkeras) (0.7.0)\n",
            "Collecting parse==1.6.5\n",
            "  Downloading parse-1.6.5.tar.gz (24 kB)\n",
            "Requirement already satisfied: idna<3,>=2.5 in /usr/local/lib/python3.7/dist-packages (from requests->keras-tuner>=1.0.1->qkeras) (2.10)\n",
            "Requirement already satisfied: urllib3!=1.25.0,!=1.25.1,<1.26,>=1.21.1 in /usr/local/lib/python3.7/dist-packages (from requests->keras-tuner>=1.0.1->qkeras) (1.24.3)\n",
            "Requirement already satisfied: certifi>=2017.4.17 in /usr/local/lib/python3.7/dist-packages (from requests->keras-tuner>=1.0.1->qkeras) (2021.10.8)\n",
            "Requirement already satisfied: chardet<4,>=3.0.2 in /usr/local/lib/python3.7/dist-packages (from requests->keras-tuner>=1.0.1->qkeras) (3.0.4)\n",
            "Requirement already satisfied: werkzeug>=0.11.15 in /usr/local/lib/python3.7/dist-packages (from tensorboard->keras-tuner>=1.0.1->qkeras) (1.0.1)\n",
            "Requirement already satisfied: protobuf>=3.6.0 in /usr/local/lib/python3.7/dist-packages (from tensorboard->keras-tuner>=1.0.1->qkeras) (3.17.3)\n",
            "Requirement already satisfied: grpcio>=1.24.3 in /usr/local/lib/python3.7/dist-packages (from tensorboard->keras-tuner>=1.0.1->qkeras) (1.44.0)\n",
            "Requirement already satisfied: tensorboard-data-server<0.7.0,>=0.6.0 in /usr/local/lib/python3.7/dist-packages (from tensorboard->keras-tuner>=1.0.1->qkeras) (0.6.1)\n",
            "Requirement already satisfied: absl-py>=0.4 in /usr/local/lib/python3.7/dist-packages (from tensorboard->keras-tuner>=1.0.1->qkeras) (1.0.0)\n",
            "Requirement already satisfied: markdown>=2.6.8 in /usr/local/lib/python3.7/dist-packages (from tensorboard->keras-tuner>=1.0.1->qkeras) (3.3.6)\n",
            "Requirement already satisfied: wheel>=0.26 in /usr/local/lib/python3.7/dist-packages (from tensorboard->keras-tuner>=1.0.1->qkeras) (0.37.1)\n",
            "Requirement already satisfied: tensorboard-plugin-wit>=1.6.0 in /usr/local/lib/python3.7/dist-packages (from tensorboard->keras-tuner>=1.0.1->qkeras) (1.8.1)\n",
            "Requirement already satisfied: google-auth-oauthlib<0.5,>=0.4.1 in /usr/local/lib/python3.7/dist-packages (from tensorboard->keras-tuner>=1.0.1->qkeras) (0.4.6)\n",
            "Requirement already satisfied: google-auth<3,>=1.6.3 in /usr/local/lib/python3.7/dist-packages (from tensorboard->keras-tuner>=1.0.1->qkeras) (1.35.0)\n",
            "Requirement already satisfied: rsa<5,>=3.1.4 in /usr/local/lib/python3.7/dist-packages (from google-auth<3,>=1.6.3->tensorboard->keras-tuner>=1.0.1->qkeras) (4.8)\n",
            "Requirement already satisfied: cachetools<5.0,>=2.0.0 in /usr/local/lib/python3.7/dist-packages (from google-auth<3,>=1.6.3->tensorboard->keras-tuner>=1.0.1->qkeras) (4.2.4)\n",
            "Requirement already satisfied: pyasn1-modules>=0.2.1 in /usr/local/lib/python3.7/dist-packages (from google-auth<3,>=1.6.3->tensorboard->keras-tuner>=1.0.1->qkeras) (0.2.8)\n",
            "Requirement already satisfied: requests-oauthlib>=0.7.0 in /usr/local/lib/python3.7/dist-packages (from google-auth-oauthlib<0.5,>=0.4.1->tensorboard->keras-tuner>=1.0.1->qkeras) (1.3.1)\n",
            "Requirement already satisfied: importlib-metadata>=4.4 in /usr/local/lib/python3.7/dist-packages (from markdown>=2.6.8->tensorboard->keras-tuner>=1.0.1->qkeras) (4.11.3)\n",
            "Requirement already satisfied: zipp>=0.5 in /usr/local/lib/python3.7/dist-packages (from importlib-metadata>=4.4->markdown>=2.6.8->tensorboard->keras-tuner>=1.0.1->qkeras) (3.8.0)\n",
            "Requirement already satisfied: typing-extensions>=3.6.4 in /usr/local/lib/python3.7/dist-packages (from importlib-metadata>=4.4->markdown>=2.6.8->tensorboard->keras-tuner>=1.0.1->qkeras) (4.1.1)\n",
            "Requirement already satisfied: pyasn1<0.5.0,>=0.4.6 in /usr/local/lib/python3.7/dist-packages (from pyasn1-modules>=0.2.1->google-auth<3,>=1.6.3->tensorboard->keras-tuner>=1.0.1->qkeras) (0.4.8)\n",
            "Requirement already satisfied: oauthlib>=3.0.0 in /usr/local/lib/python3.7/dist-packages (from requests-oauthlib>=0.7.0->google-auth-oauthlib<0.5,>=0.4.1->tensorboard->keras-tuner>=1.0.1->qkeras) (3.2.0)\n",
            "Building wheels for collected packages: pyparser, parse\n",
            "  Building wheel for pyparser (setup.py) ... \u001b[?25l\u001b[?25hdone\n",
            "  Created wheel for pyparser: filename=pyparser-1.0-py3-none-any.whl size=4943 sha256=0c38b5038c9615926948b0e3922711f0b9a8d95e03d26fb7be43c8031ed52c30\n",
            "  Stored in directory: /root/.cache/pip/wheels/84/80/fe/49e0cb63aba370d3ef38e733a2266c90a4d837921664320003\n",
            "  Building wheel for parse (setup.py) ... \u001b[?25l\u001b[?25hdone\n",
            "  Created wheel for parse: filename=parse-1.6.5-py3-none-any.whl size=18176 sha256=6cbf7e72dbe0b7687b0e23c536f531bb7894c589e2310b7fbf9a6ee2b520888a\n",
            "  Stored in directory: /root/.cache/pip/wheels/d3/d2/3e/3df86c4fd6ebac1348fbbda0a551e28cacf7301969935732dd\n",
            "Successfully built pyparser parse\n",
            "Installing collected packages: parse, kt-legacy, tensorflow-model-optimization, pyparser, keras-tuner, qkeras\n",
            "Successfully installed keras-tuner-1.1.2 kt-legacy-1.0.4 parse-1.6.5 pyparser-1.0 qkeras-0.9.0 tensorflow-model-optimization-0.7.2\n"
          ]
        }
      ]
    },
    {
      "cell_type": "code",
      "metadata": {
        "id": "1N5GMbaCIlIX"
      },
      "source": [
        "# Librerie \n",
        "import tensorflow as tf\n",
        "import tensorflow.keras as keras\n",
        "from tensorflow.keras.layers import * \n",
        "from tensorflow.keras.models import load_model\n",
        "from tensorflow.keras.models import Sequential\n",
        "from tensorflow.keras.models import Model\n",
        "from tensorflow.keras.optimizers import Adam\n",
        "import numpy as np\n",
        "import matplotlib.pyplot as plt\n",
        "from sklearn.preprocessing import MinMaxScaler\n",
        "import matplotlib.pyplot as plt\n",
        "from qkeras import *\n",
        "from qkeras.utils import model_save_quantized_weights\n",
        "import os"
      ],
      "execution_count": null,
      "outputs": []
    },
    {
      "cell_type": "code",
      "source": [
        "# Lettura del dataset\n",
        "# utilizziamo solo le prime 100k immagini del training dataset e del test (per velocizzare il training)\n",
        "\n",
        "n = int(10e4)\n",
        "train_images = np.load('/content/drive/MyDrive/DATI_AI/train_images384_1mu_with_bkg.npy')[:n]\n",
        "train_labels = np.load('/content/drive/MyDrive/DATI_AI/train_full_labels384_1mu_with_bkg.npy')[:n]\n",
        "\n",
        "test_images = np.load('/content/drive/MyDrive/DATI_AI/test_images384_1mu_with_bkg.npy')[:n]\n",
        "test_labels = np.load('/content/drive/MyDrive/DATI_AI/test_full_labels384_1mu_with_bkg.npy')[:n]\n",
        "\n",
        "# siamo interessati solo alla colonna 0 (pt) e 1 (eta) dei vettori label\n",
        "train_labels = train_labels[:, 0:2]\n",
        "test_labels = test_labels[:, 0:2]\n",
        "\n",
        "print(train_images.shape)\n",
        "print(train_labels.shape)\n",
        "print(test_images.shape)\n",
        "print(test_labels.shape)"
      ],
      "metadata": {
        "colab": {
          "base_uri": "https://localhost:8080/"
        },
        "id": "xHySXVolSHn8",
        "outputId": "fb716c1f-b1e9-4f7b-a3b0-257522fd69ac"
      },
      "execution_count": null,
      "outputs": [
        {
          "output_type": "stream",
          "name": "stdout",
          "text": [
            "(100000, 9, 384)\n",
            "(100000, 2)\n",
            "(100000, 9, 384)\n",
            "(100000, 2)\n"
          ]
        }
      ]
    },
    {
      "cell_type": "code",
      "source": [
        "# selezioniamo eventi con pt>4 GeV\n",
        "\n",
        "selector_train = train_labels[:, 0]>4.0\n",
        "selector_test = test_labels[:, 0]>4.0\n",
        "\n",
        "train_images = train_images[selector_train]\n",
        "train_labels = train_labels[selector_train]\n",
        "test_images = test_images[selector_test]\n",
        "test_labels = test_labels[selector_test]"
      ],
      "metadata": {
        "id": "CD0vkUNeFcY4"
      },
      "execution_count": null,
      "outputs": []
    },
    {
      "cell_type": "code",
      "source": [
        "# esempio immagine\n",
        "idx=1\n",
        "plt.figure(figsize=(10,5))\n",
        "plt.imshow(train_images[idx], origin='lower', aspect='auto', cmap='binary')\n",
        "plt.xlabel('eta index')\n",
        "plt.ylabel('rpc station')\n",
        "_ = plt.title('pt/eta: '+str(round(train_labels[idx,0],2))+\" / \"+str(round(train_labels[idx,1],2)))"
      ],
      "metadata": {
        "colab": {
          "base_uri": "https://localhost:8080/",
          "height": 350
        },
        "id": "r9NE7DuMU2tT",
        "outputId": "5474b8a1-03cf-40c1-efb9-163e210282b1"
      },
      "execution_count": null,
      "outputs": [
        {
          "output_type": "display_data",
          "data": {
            "text/plain": [
              "<Figure size 720x360 with 1 Axes>"
            ],
            "image/png": "[encoded data removed]"
          },
          "metadata": {
            "needs_background": "light"
          }
        }
      ]
    },
    {
      "cell_type": "code",
      "source": [
        "# normalizziamo i target in modo che siano entrambi compresi tra 0 e 1\n",
        "# NOTA: in questo esempio specifico non è necessario normalizzare i vettori delle immagini ad avere valori in [0,1] o con media=0 e sdev=1, perché le immagini\n",
        "# sono di tipo binario (i pixel hanno solo valori 0 o 1)\n",
        "scaler = MinMaxScaler()\n",
        "\n",
        "scaler.fit(train_labels)\n",
        "train_labels = scaler.transform(train_labels)\n",
        "test_labels = scaler.transform(test_labels)\n",
        "\n",
        "# reshape delle immagini nel formato richiesto da keras\n",
        "train_images = train_images.reshape((train_images.shape[0], 9, 384,1))\n",
        "test_images = test_images.reshape((test_images.shape[0], 9, 384,1))\n",
        "\n",
        "# conversione dei valori degli array a float32 come richiesto da keras\n",
        "train_images = train_images.astype('float32')\n",
        "train_labels = train_labels.astype('float32')\n",
        "test_images = test_images.astype('float32')\n",
        "test_labels = test_labels.astype('float32')\n",
        "\n",
        "print(train_images.shape)\n",
        "print(train_labels.shape)\n",
        "print(test_images.shape)\n",
        "print(test_labels.shape)"
      ],
      "metadata": {
        "colab": {
          "base_uri": "https://localhost:8080/"
        },
        "id": "_yf06a9LW51P",
        "outputId": "b5fb8d5e-7e32-41a1-f00c-f266e518bdcc"
      },
      "execution_count": null,
      "outputs": [
        {
          "output_type": "stream",
          "name": "stdout",
          "text": [
            "(47952, 9, 384, 1)\n",
            "(47952, 2)\n",
            "(90575, 9, 384, 1)\n",
            "(90575, 2)\n"
          ]
        }
      ]
    },
    {
      "cell_type": "code",
      "metadata": {
        "colab": {
          "base_uri": "https://localhost:8080/"
        },
        "id": "wc5wBrPKIlIn",
        "outputId": "14f6dc79-87c6-4d92-da7c-cd3f68f45c4b"
      },
      "source": [
        "# Modello Teacher: VGG full fledged con ~33k parametri trainabili\n",
        "kernel = (3,3)\n",
        "n_filter1 = 16\n",
        "n_filter2 = 30\n",
        "n_dense = 50\n",
        "\n",
        "\n",
        "# modello funzionale\n",
        "inputs = Input(train_images[0].shape, name = 'input')\n",
        "\n",
        "# primo blocco convoluzionale (4 convoluzioni 2D con attivazione relu + average pooling finale \n",
        "# NOTA: usiamo padding='same' nelle convoluzioni e utilizziamo stariding + pooling per il downsampling dell'output\n",
        "x = Conv2D(n_filter1, kernel, strides=(1,2), activation = 'relu', padding = 'same', name = 'Conv1a')(inputs) \n",
        "x = Conv2D(n_filter1, kernel, strides=(1,2), activation = 'relu', padding = 'same', name = 'Conv1b')(x) \n",
        "x = Conv2D(n_filter1, kernel, strides=(1,2), activation = 'relu', padding = 'same', name = 'Conv1c')(x) \n",
        "x = AveragePooling2D((1,2))(x)\n",
        "\n",
        "# seconod blocco convoluzionale \n",
        "x = Conv2D(n_filter2, kernel, strides=(1,2), activation = 'relu', padding = 'same', name = 'Conv2a')(x) \n",
        "x = Conv2D(n_filter2, kernel, strides=(1,2), activation = 'relu', padding = 'same', name = 'Conv2b')(x) \n",
        "x = Conv2D(n_filter2, kernel, strides=(1,2), activation = 'relu', padding = 'same', name = 'Conv2c')(x)  \n",
        "x = AveragePooling2D((3,3))(x)\n",
        "\n",
        "# flatten layer per adattare l'uscita dell'ultima convoluzione al blocco fully connected usato per la task di regressione\n",
        "x = Flatten()(x)\n",
        "\n",
        "# fully connected block\n",
        "x = Dense(n_dense, activation = 'relu', name = 'Dense1')(x)\n",
        "x = Dense(n_dense, activation = 'relu', name = 'Dense2')(x)\n",
        "\n",
        "# output lineare, dimensione 2 (pt, eta)\n",
        "x = Dense(2, name = 'Output')(x)\n",
        "\n",
        "# modello finale\n",
        "teacher = keras.Model(inputs=[inputs], outputs=[x])\n",
        "teacher.summary()"
      ],
      "execution_count": null,
      "outputs": [
        {
          "output_type": "stream",
          "name": "stdout",
          "text": [
            "Model: \"model\"\n",
            "_________________________________________________________________\n",
            " Layer (type)                Output Shape              Param #   \n",
            "=================================================================\n",
            " input (InputLayer)          [(None, 9, 384, 1)]       0         \n",
            "                                                                 \n",
            " Conv1a (Conv2D)             (None, 9, 192, 16)        160       \n",
            "                                                                 \n",
            " Conv1b (Conv2D)             (None, 9, 96, 16)         2320      \n",
            "                                                                 \n",
            " Conv1c (Conv2D)             (None, 9, 48, 16)         2320      \n",
            "                                                                 \n",
            " average_pooling2d (AverageP  (None, 9, 24, 16)        0         \n",
            " ooling2D)                                                       \n",
            "                                                                 \n",
            " Conv2a (Conv2D)             (None, 9, 12, 30)         4350      \n",
            "                                                                 \n",
            " Conv2b (Conv2D)             (None, 9, 6, 30)          8130      \n",
            "                                                                 \n",
            " Conv2c (Conv2D)             (None, 9, 3, 30)          8130      \n",
            "                                                                 \n",
            " average_pooling2d_1 (Averag  (None, 3, 1, 30)         0         \n",
            " ePooling2D)                                                     \n",
            "                                                                 \n",
            " flatten (Flatten)           (None, 90)                0         \n",
            "                                                                 \n",
            " Dense1 (Dense)              (None, 50)                4550      \n",
            "                                                                 \n",
            " Dense2 (Dense)              (None, 50)                2550      \n",
            "                                                                 \n",
            " Output (Dense)              (None, 2)                 102       \n",
            "                                                                 \n",
            "=================================================================\n",
            "Total params: 32,612\n",
            "Trainable params: 32,612\n",
            "Non-trainable params: 0\n",
            "_________________________________________________________________\n"
          ]
        }
      ]
    },
    {
      "cell_type": "code",
      "source": [
        "# Compilazione e training del modello teacher\n",
        "\n",
        "teacher.compile(optimizer='adam',loss='mse' ,metrics=['mse','mae'])\n",
        "\n",
        "# early stopping e model checkpoints\n",
        "callbacks = [keras.callbacks.EarlyStopping(monitor='val_mse', patience=5, min_delta = 0.00001, restore_best_weights=False), \n",
        "             keras.callbacks.ModelCheckpoint(filepath='teacher_best', monitor='val_mse', verbose=1, save_best_only=True, save_freq='epoch'),]\n",
        "\n",
        "history = teacher.fit(train_images, train_labels, epochs=50, batch_size=100, validation_split=0.2, callbacks=callbacks)"
      ],
      "metadata": {
        "colab": {
          "base_uri": "https://localhost:8080/",
          "height": 468
        },
        "id": "I9O5BOR5YaKW",
        "outputId": "9fcee811-aeb9-46c8-f9ff-0bf8407bb9c0"
      },
      "execution_count": null,
      "outputs": [
        {
          "output_type": "stream",
          "name": "stdout",
          "text": [
            "Epoch 1/50\n",
            "384/384 [==============================] - ETA: 0s - loss: 0.0547 - mse: 0.0547 - mae: 0.1772\n",
            "Epoch 1: val_mse improved from inf to 0.02323, saving model to teacher_best\n",
            "INFO:tensorflow:Assets written to: teacher_best/assets\n",
            "384/384 [==============================] - 26s 34ms/step - loss: 0.0547 - mse: 0.0547 - mae: 0.1772 - val_loss: 0.0232 - val_mse: 0.0232 - val_mae: 0.1052\n",
            "Epoch 2/50\n",
            "374/384 [============================>.] - ETA: 0s - loss: 0.0194 - mse: 0.0194 - mae: 0.0926"
          ]
        },
        {
          "output_type": "error",
          "ename": "KeyboardInterrupt",
          "evalue": "ignored",
          "traceback": [
            "\u001b[0;31m---------------------------------------------------------------------------\u001b[0m",
            "\u001b[0;31mKeyboardInterrupt\u001b[0m                         Traceback (most recent call last)",
            "\u001b[0;32m<ipython-input-17-4f68e8b9fbc0>\u001b[0m in \u001b[0;36m<module>\u001b[0;34m()\u001b[0m\n\u001b[1;32m      7\u001b[0m              keras.callbacks.ModelCheckpoint(filepath='teacher_best', monitor='val_mse', verbose=1, save_best_only=True, save_freq='epoch'),]\n\u001b[1;32m      8\u001b[0m \u001b[0;34m\u001b[0m\u001b[0m\n\u001b[0;32m----> 9\u001b[0;31m \u001b[0mhistory\u001b[0m \u001b[0;34m=\u001b[0m \u001b[0mteacher\u001b[0m\u001b[0;34m.\u001b[0m\u001b[0mfit\u001b[0m\u001b[0;34m(\u001b[0m\u001b[0mtrain_images\u001b[0m\u001b[0;34m,\u001b[0m \u001b[0mtrain_labels\u001b[0m\u001b[0;34m,\u001b[0m \u001b[0mepochs\u001b[0m\u001b[0;34m=\u001b[0m\u001b[0;36m50\u001b[0m\u001b[0;34m,\u001b[0m \u001b[0mbatch_size\u001b[0m\u001b[0;34m=\u001b[0m\u001b[0;36m100\u001b[0m\u001b[0;34m,\u001b[0m \u001b[0mvalidation_split\u001b[0m\u001b[0;34m=\u001b[0m\u001b[0;36m0.2\u001b[0m\u001b[0;34m,\u001b[0m \u001b[0mcallbacks\u001b[0m\u001b[0;34m=\u001b[0m\u001b[0mcallbacks\u001b[0m\u001b[0;34m)\u001b[0m\u001b[0;34m\u001b[0m\u001b[0;34m\u001b[0m\u001b[0m\n\u001b[0m",
            "\u001b[0;32m/usr/local/lib/python3.7/dist-packages/keras/utils/traceback_utils.py\u001b[0m in \u001b[0;36merror_handler\u001b[0;34m(*args, **kwargs)\u001b[0m\n\u001b[1;32m     62\u001b[0m     \u001b[0mfiltered_tb\u001b[0m \u001b[0;34m=\u001b[0m \u001b[0;32mNone\u001b[0m\u001b[0;34m\u001b[0m\u001b[0;34m\u001b[0m\u001b[0m\n\u001b[1;32m     63\u001b[0m     \u001b[0;32mtry\u001b[0m\u001b[0;34m:\u001b[0m\u001b[0;34m\u001b[0m\u001b[0;34m\u001b[0m\u001b[0m\n\u001b[0;32m---> 64\u001b[0;31m       \u001b[0;32mreturn\u001b[0m \u001b[0mfn\u001b[0m\u001b[0;34m(\u001b[0m\u001b[0;34m*\u001b[0m\u001b[0margs\u001b[0m\u001b[0;34m,\u001b[0m \u001b[0;34m**\u001b[0m\u001b[0mkwargs\u001b[0m\u001b[0;34m)\u001b[0m\u001b[0;34m\u001b[0m\u001b[0;34m\u001b[0m\u001b[0m\n\u001b[0m\u001b[1;32m     65\u001b[0m     \u001b[0;32mexcept\u001b[0m \u001b[0mException\u001b[0m \u001b[0;32mas\u001b[0m \u001b[0me\u001b[0m\u001b[0;34m:\u001b[0m  \u001b[0;31m# pylint: disable=broad-except\u001b[0m\u001b[0;34m\u001b[0m\u001b[0;34m\u001b[0m\u001b[0m\n\u001b[1;32m     66\u001b[0m       \u001b[0mfiltered_tb\u001b[0m \u001b[0;34m=\u001b[0m \u001b[0m_process_traceback_frames\u001b[0m\u001b[0;34m(\u001b[0m\u001b[0me\u001b[0m\u001b[0;34m.\u001b[0m\u001b[0m__traceback__\u001b[0m\u001b[0;34m)\u001b[0m\u001b[0;34m\u001b[0m\u001b[0;34m\u001b[0m\u001b[0m\n",
            "\u001b[0;32m/usr/local/lib/python3.7/dist-packages/keras/engine/training.py\u001b[0m in \u001b[0;36mfit\u001b[0;34m(self, x, y, batch_size, epochs, verbose, callbacks, validation_split, validation_data, shuffle, class_weight, sample_weight, initial_epoch, steps_per_epoch, validation_steps, validation_batch_size, validation_freq, max_queue_size, workers, use_multiprocessing)\u001b[0m\n\u001b[1;32m   1382\u001b[0m                 _r=1):\n\u001b[1;32m   1383\u001b[0m               \u001b[0mcallbacks\u001b[0m\u001b[0;34m.\u001b[0m\u001b[0mon_train_batch_begin\u001b[0m\u001b[0;34m(\u001b[0m\u001b[0mstep\u001b[0m\u001b[0;34m)\u001b[0m\u001b[0;34m\u001b[0m\u001b[0;34m\u001b[0m\u001b[0m\n\u001b[0;32m-> 1384\u001b[0;31m               \u001b[0mtmp_logs\u001b[0m \u001b[0;34m=\u001b[0m \u001b[0mself\u001b[0m\u001b[0;34m.\u001b[0m\u001b[0mtrain_function\u001b[0m\u001b[0;34m(\u001b[0m\u001b[0miterator\u001b[0m\u001b[0;34m)\u001b[0m\u001b[0;34m\u001b[0m\u001b[0;34m\u001b[0m\u001b[0m\n\u001b[0m\u001b[1;32m   1385\u001b[0m               \u001b[0;32mif\u001b[0m \u001b[0mdata_handler\u001b[0m\u001b[0;34m.\u001b[0m\u001b[0mshould_sync\u001b[0m\u001b[0;34m:\u001b[0m\u001b[0;34m\u001b[0m\u001b[0;34m\u001b[0m\u001b[0m\n\u001b[1;32m   1386\u001b[0m                 \u001b[0mcontext\u001b[0m\u001b[0;34m.\u001b[0m\u001b[0masync_wait\u001b[0m\u001b[0;34m(\u001b[0m\u001b[0;34m)\u001b[0m\u001b[0;34m\u001b[0m\u001b[0;34m\u001b[0m\u001b[0m\n",
            "\u001b[0;32m/usr/local/lib/python3.7/dist-packages/tensorflow/python/util/traceback_utils.py\u001b[0m in \u001b[0;36merror_handler\u001b[0;34m(*args, **kwargs)\u001b[0m\n\u001b[1;32m    148\u001b[0m     \u001b[0mfiltered_tb\u001b[0m \u001b[0;34m=\u001b[0m \u001b[0;32mNone\u001b[0m\u001b[0;34m\u001b[0m\u001b[0;34m\u001b[0m\u001b[0m\n\u001b[1;32m    149\u001b[0m     \u001b[0;32mtry\u001b[0m\u001b[0;34m:\u001b[0m\u001b[0;34m\u001b[0m\u001b[0;34m\u001b[0m\u001b[0m\n\u001b[0;32m--> 150\u001b[0;31m       \u001b[0;32mreturn\u001b[0m \u001b[0mfn\u001b[0m\u001b[0;34m(\u001b[0m\u001b[0;34m*\u001b[0m\u001b[0margs\u001b[0m\u001b[0;34m,\u001b[0m \u001b[0;34m**\u001b[0m\u001b[0mkwargs\u001b[0m\u001b[0;34m)\u001b[0m\u001b[0;34m\u001b[0m\u001b[0;34m\u001b[0m\u001b[0m\n\u001b[0m\u001b[1;32m    151\u001b[0m     \u001b[0;32mexcept\u001b[0m \u001b[0mException\u001b[0m \u001b[0;32mas\u001b[0m \u001b[0me\u001b[0m\u001b[0;34m:\u001b[0m\u001b[0;34m\u001b[0m\u001b[0;34m\u001b[0m\u001b[0m\n\u001b[1;32m    152\u001b[0m       \u001b[0mfiltered_tb\u001b[0m \u001b[0;34m=\u001b[0m \u001b[0m_process_traceback_frames\u001b[0m\u001b[0;34m(\u001b[0m\u001b[0me\u001b[0m\u001b[0;34m.\u001b[0m\u001b[0m__traceback__\u001b[0m\u001b[0;34m)\u001b[0m\u001b[0;34m\u001b[0m\u001b[0;34m\u001b[0m\u001b[0m\n",
            "\u001b[0;32m/usr/local/lib/python3.7/dist-packages/tensorflow/python/eager/def_function.py\u001b[0m in \u001b[0;36m__call__\u001b[0;34m(self, *args, **kwds)\u001b[0m\n\u001b[1;32m    913\u001b[0m \u001b[0;34m\u001b[0m\u001b[0m\n\u001b[1;32m    914\u001b[0m       \u001b[0;32mwith\u001b[0m \u001b[0mOptionalXlaContext\u001b[0m\u001b[0;34m(\u001b[0m\u001b[0mself\u001b[0m\u001b[0;34m.\u001b[0m\u001b[0m_jit_compile\u001b[0m\u001b[0;34m)\u001b[0m\u001b[0;34m:\u001b[0m\u001b[0;34m\u001b[0m\u001b[0;34m\u001b[0m\u001b[0m\n\u001b[0;32m--> 915\u001b[0;31m         \u001b[0mresult\u001b[0m \u001b[0;34m=\u001b[0m \u001b[0mself\u001b[0m\u001b[0;34m.\u001b[0m\u001b[0m_call\u001b[0m\u001b[0;34m(\u001b[0m\u001b[0;34m*\u001b[0m\u001b[0margs\u001b[0m\u001b[0;34m,\u001b[0m \u001b[0;34m**\u001b[0m\u001b[0mkwds\u001b[0m\u001b[0;34m)\u001b[0m\u001b[0;34m\u001b[0m\u001b[0;34m\u001b[0m\u001b[0m\n\u001b[0m\u001b[1;32m    916\u001b[0m \u001b[0;34m\u001b[0m\u001b[0m\n\u001b[1;32m    917\u001b[0m       \u001b[0mnew_tracing_count\u001b[0m \u001b[0;34m=\u001b[0m \u001b[0mself\u001b[0m\u001b[0;34m.\u001b[0m\u001b[0mexperimental_get_tracing_count\u001b[0m\u001b[0;34m(\u001b[0m\u001b[0;34m)\u001b[0m\u001b[0;34m\u001b[0m\u001b[0;34m\u001b[0m\u001b[0m\n",
            "\u001b[0;32m/usr/local/lib/python3.7/dist-packages/tensorflow/python/eager/def_function.py\u001b[0m in \u001b[0;36m_call\u001b[0;34m(self, *args, **kwds)\u001b[0m\n\u001b[1;32m    945\u001b[0m       \u001b[0;31m# In this case we have created variables on the first call, so we run the\u001b[0m\u001b[0;34m\u001b[0m\u001b[0;34m\u001b[0m\u001b[0;34m\u001b[0m\u001b[0m\n\u001b[1;32m    946\u001b[0m       \u001b[0;31m# defunned version which is guaranteed to never create variables.\u001b[0m\u001b[0;34m\u001b[0m\u001b[0;34m\u001b[0m\u001b[0;34m\u001b[0m\u001b[0m\n\u001b[0;32m--> 947\u001b[0;31m       \u001b[0;32mreturn\u001b[0m \u001b[0mself\u001b[0m\u001b[0;34m.\u001b[0m\u001b[0m_stateless_fn\u001b[0m\u001b[0;34m(\u001b[0m\u001b[0;34m*\u001b[0m\u001b[0margs\u001b[0m\u001b[0;34m,\u001b[0m \u001b[0;34m**\u001b[0m\u001b[0mkwds\u001b[0m\u001b[0;34m)\u001b[0m  \u001b[0;31m# pylint: disable=not-callable\u001b[0m\u001b[0;34m\u001b[0m\u001b[0;34m\u001b[0m\u001b[0m\n\u001b[0m\u001b[1;32m    948\u001b[0m     \u001b[0;32melif\u001b[0m \u001b[0mself\u001b[0m\u001b[0;34m.\u001b[0m\u001b[0m_stateful_fn\u001b[0m \u001b[0;32mis\u001b[0m \u001b[0;32mnot\u001b[0m \u001b[0;32mNone\u001b[0m\u001b[0;34m:\u001b[0m\u001b[0;34m\u001b[0m\u001b[0;34m\u001b[0m\u001b[0m\n\u001b[1;32m    949\u001b[0m       \u001b[0;31m# Release the lock early so that multiple threads can perform the call\u001b[0m\u001b[0;34m\u001b[0m\u001b[0;34m\u001b[0m\u001b[0;34m\u001b[0m\u001b[0m\n",
            "\u001b[0;32m/usr/local/lib/python3.7/dist-packages/tensorflow/python/eager/function.py\u001b[0m in \u001b[0;36m__call__\u001b[0;34m(self, *args, **kwargs)\u001b[0m\n\u001b[1;32m   2955\u001b[0m        filtered_flat_args) = self._maybe_define_function(args, kwargs)\n\u001b[1;32m   2956\u001b[0m     return graph_function._call_flat(\n\u001b[0;32m-> 2957\u001b[0;31m         filtered_flat_args, captured_inputs=graph_function.captured_inputs)  # pylint: disable=protected-access\n\u001b[0m\u001b[1;32m   2958\u001b[0m \u001b[0;34m\u001b[0m\u001b[0m\n\u001b[1;32m   2959\u001b[0m   \u001b[0;34m@\u001b[0m\u001b[0mproperty\u001b[0m\u001b[0;34m\u001b[0m\u001b[0;34m\u001b[0m\u001b[0m\n",
            "\u001b[0;32m/usr/local/lib/python3.7/dist-packages/tensorflow/python/eager/function.py\u001b[0m in \u001b[0;36m_call_flat\u001b[0;34m(self, args, captured_inputs, cancellation_manager)\u001b[0m\n\u001b[1;32m   1852\u001b[0m       \u001b[0;31m# No tape is watching; skip to running the function.\u001b[0m\u001b[0;34m\u001b[0m\u001b[0;34m\u001b[0m\u001b[0;34m\u001b[0m\u001b[0m\n\u001b[1;32m   1853\u001b[0m       return self._build_call_outputs(self._inference_function.call(\n\u001b[0;32m-> 1854\u001b[0;31m           ctx, args, cancellation_manager=cancellation_manager))\n\u001b[0m\u001b[1;32m   1855\u001b[0m     forward_backward = self._select_forward_and_backward_functions(\n\u001b[1;32m   1856\u001b[0m         \u001b[0margs\u001b[0m\u001b[0;34m,\u001b[0m\u001b[0;34m\u001b[0m\u001b[0;34m\u001b[0m\u001b[0m\n",
            "\u001b[0;32m/usr/local/lib/python3.7/dist-packages/tensorflow/python/eager/function.py\u001b[0m in \u001b[0;36mcall\u001b[0;34m(self, ctx, args, cancellation_manager)\u001b[0m\n\u001b[1;32m    502\u001b[0m               \u001b[0minputs\u001b[0m\u001b[0;34m=\u001b[0m\u001b[0margs\u001b[0m\u001b[0;34m,\u001b[0m\u001b[0;34m\u001b[0m\u001b[0;34m\u001b[0m\u001b[0m\n\u001b[1;32m    503\u001b[0m               \u001b[0mattrs\u001b[0m\u001b[0;34m=\u001b[0m\u001b[0mattrs\u001b[0m\u001b[0;34m,\u001b[0m\u001b[0;34m\u001b[0m\u001b[0;34m\u001b[0m\u001b[0m\n\u001b[0;32m--> 504\u001b[0;31m               ctx=ctx)\n\u001b[0m\u001b[1;32m    505\u001b[0m         \u001b[0;32melse\u001b[0m\u001b[0;34m:\u001b[0m\u001b[0;34m\u001b[0m\u001b[0;34m\u001b[0m\u001b[0m\n\u001b[1;32m    506\u001b[0m           outputs = execute.execute_with_cancellation(\n",
            "\u001b[0;32m/usr/local/lib/python3.7/dist-packages/tensorflow/python/eager/execute.py\u001b[0m in \u001b[0;36mquick_execute\u001b[0;34m(op_name, num_outputs, inputs, attrs, ctx, name)\u001b[0m\n\u001b[1;32m     53\u001b[0m     \u001b[0mctx\u001b[0m\u001b[0;34m.\u001b[0m\u001b[0mensure_initialized\u001b[0m\u001b[0;34m(\u001b[0m\u001b[0;34m)\u001b[0m\u001b[0;34m\u001b[0m\u001b[0;34m\u001b[0m\u001b[0m\n\u001b[1;32m     54\u001b[0m     tensors = pywrap_tfe.TFE_Py_Execute(ctx._handle, device_name, op_name,\n\u001b[0;32m---> 55\u001b[0;31m                                         inputs, attrs, num_outputs)\n\u001b[0m\u001b[1;32m     56\u001b[0m   \u001b[0;32mexcept\u001b[0m \u001b[0mcore\u001b[0m\u001b[0;34m.\u001b[0m\u001b[0m_NotOkStatusException\u001b[0m \u001b[0;32mas\u001b[0m \u001b[0me\u001b[0m\u001b[0;34m:\u001b[0m\u001b[0;34m\u001b[0m\u001b[0;34m\u001b[0m\u001b[0m\n\u001b[1;32m     57\u001b[0m     \u001b[0;32mif\u001b[0m \u001b[0mname\u001b[0m \u001b[0;32mis\u001b[0m \u001b[0;32mnot\u001b[0m \u001b[0;32mNone\u001b[0m\u001b[0;34m:\u001b[0m\u001b[0;34m\u001b[0m\u001b[0;34m\u001b[0m\u001b[0m\n",
            "\u001b[0;31mKeyboardInterrupt\u001b[0m: "
          ]
        }
      ]
    },
    {
      "cell_type": "code",
      "source": [
        "# plot loss e mae vs epoca di training\n",
        "\n",
        "plt.plot(history.history['loss'], label = 'loss')\n",
        "plt.plot(history.history['val_loss'], label = 'val_loss')\n",
        "plt.legend()\n",
        "plt.show()\n",
        "\n",
        "plt.plot(history.history['mae'], label = 'mae')\n",
        "plt.plot(history.history['val_mae'], label = 'val_mae')\n",
        "plt.legend()\n",
        "plt.show()"
      ],
      "metadata": {
        "id": "ofVoDY-DcRdq"
      },
      "execution_count": null,
      "outputs": []
    },
    {
      "cell_type": "code",
      "source": [
        "# carica il best model\n",
        "teacher = keras.models.load_model('teacher_best')\n",
        "\n",
        "predictions = scaler.inverse_transform(teacher.predict(test_images))\n",
        "\n",
        "#MakePlots(predictions, test_images, test_labels, path, history)"
      ],
      "metadata": {
        "id": "2ut3pgP3am8b"
      },
      "execution_count": null,
      "outputs": []
    },
    {
      "cell_type": "code",
      "source": [
        "# Turnon curva di efficienza del trigger in funzione del pt\n",
        "\n",
        "# modo facile per ottenerlo: creare due histogrammi uno con la distribuzione di pt per gli eventi che passono il taglio \n",
        "# pt_predetto > soglia e uno con la distribuzione di tutti gli eventi e poi fare il rapporto tra i due istogrammi\n",
        "\n",
        "predictions = predictions[:,0]\n",
        "pttrue = scaler.inverse_transform(test_labels)[:,0]\n",
        "soglia = 10.0 #soglia nominale di trigger Pt>10 GeV/c\n",
        "numer,_ = np.histogram(pttrue[predictions>soglia], bins=20, range=(0.,20.))\n",
        "denum,_ = np.histogram(pttrue, bins=20, range=(0.,20.))\n",
        "\n",
        "eff = numer/denum\n",
        "lrvalues = np.linspace(0.,20.,20)\n",
        "\n",
        "_ = plt.plot(lrvalues,eff, '*')\n",
        "_ = plt.axvline(x=soglia)\n",
        "_ = plt.xlabel(\"pT$ [GeV/c]\")\n",
        "_ = plt.ylabel(\"efficiency\")"
      ],
      "metadata": {
        "colab": {
          "base_uri": "https://localhost:8080/",
          "height": 318
        },
        "id": "U2HKulWGc0oW",
        "outputId": "19aa892e-fb5f-4470-e11a-fff50f2606d6"
      },
      "execution_count": null,
      "outputs": [
        {
          "output_type": "stream",
          "name": "stderr",
          "text": [
            "/usr/local/lib/python3.7/dist-packages/ipykernel_launcher.py:12: RuntimeWarning: invalid value encountered in true_divide\n",
            "  if sys.path[0] == '':\n"
          ]
        },
        {
          "output_type": "display_data",
          "data": {
            "text/plain": [
              "<Figure size 432x288 with 1 Axes>"
            ],
            "image/png": "[encoded data removed]"
          },
          "metadata": {
            "needs_background": "light"
          }
        }
      ]
    },
    {
      "cell_type": "code",
      "source": [
        "# Modello Student: Simile al Teacher ma con molti meno parametri (~1k parametri trainabili)\n",
        "kernel = (3,3)\n",
        "n_dense = 10\n",
        "\n",
        "inputs = Input(train_images[0].shape, name = 'input')\n",
        "\n",
        "x = Conv2D(1, kernel, strides=(1,2), activation = 'relu', padding = 'same', name = 'Student_Conv1a')(inputs) \n",
        "x = Conv2D(2, kernel, strides=(1,2), activation = 'relu', padding = 'same', name = 'Student_Conv1b')(x) \n",
        "x = Conv2D(2, kernel, strides=(1,2), activation = 'relu', padding = 'same', name = 'Student_Conv1c')(x) \n",
        "x = AveragePooling2D((1,2))(x)\n",
        "\n",
        "x = Conv2D(8, kernel, strides=(1,2), activation = 'relu', padding = 'same', name = 'Student_Conv2a')(x) \n",
        "x = Conv2D(4, kernel, strides=(1,2), activation = 'relu', padding = 'same', name = 'Student_Conv2b')(x) \n",
        "x = Conv2D(8, kernel, strides=(1,2), activation = 'relu', padding = 'same', name = 'Student_Conv2c')(x) \n",
        "x = AveragePooling2D((3,3))(x)\n",
        "\n",
        "x = Flatten()(x) \n",
        "x = Dense(n_dense, activation = 'relu', name = 'Student_Dense1')(x)\n",
        "x = Dense(n_dense, activation = 'relu', name = 'Student_Dense2')(x)\n",
        "\n",
        "x = Dense(2, name = 'Student_Output')(x)\n",
        "\n",
        "# modello finale\n",
        "student = keras.Model(inputs=[inputs], outputs=[x])\n",
        "student.summary()"
      ],
      "metadata": {
        "colab": {
          "base_uri": "https://localhost:8080/"
        },
        "id": "7pVD2jVSevWF",
        "outputId": "9f932b0a-fc41-45dd-ade7-e32fb3248214"
      },
      "execution_count": null,
      "outputs": [
        {
          "output_type": "stream",
          "name": "stdout",
          "text": [
            "Model: \"model_1\"\n",
            "_________________________________________________________________\n",
            " Layer (type)                Output Shape              Param #   \n",
            "=================================================================\n",
            " input (InputLayer)          [(None, 9, 384, 1)]       0         \n",
            "                                                                 \n",
            " Student_Conv1a (Conv2D)     (None, 9, 192, 1)         10        \n",
            "                                                                 \n",
            " Student_Conv1b (Conv2D)     (None, 9, 96, 2)          20        \n",
            "                                                                 \n",
            " Student_Conv1c (Conv2D)     (None, 9, 48, 2)          38        \n",
            "                                                                 \n",
            " average_pooling2d_2 (Averag  (None, 9, 24, 2)         0         \n",
            " ePooling2D)                                                     \n",
            "                                                                 \n",
            " Student_Conv2a (Conv2D)     (None, 9, 12, 8)          152       \n",
            "                                                                 \n",
            " Student_Conv2b (Conv2D)     (None, 9, 6, 4)           292       \n",
            "                                                                 \n",
            " Student_Conv2c (Conv2D)     (None, 9, 3, 8)           296       \n",
            "                                                                 \n",
            " average_pooling2d_3 (Averag  (None, 3, 1, 8)          0         \n",
            " ePooling2D)                                                     \n",
            "                                                                 \n",
            " flatten_1 (Flatten)         (None, 24)                0         \n",
            "                                                                 \n",
            " Student_Dense1 (Dense)      (None, 10)                250       \n",
            "                                                                 \n",
            " Student_Dense2 (Dense)      (None, 10)                110       \n",
            "                                                                 \n",
            " Student_Output (Dense)      (None, 2)                 22        \n",
            "                                                                 \n",
            "=================================================================\n",
            "Total params: 1,190\n",
            "Trainable params: 1,190\n",
            "Non-trainable params: 0\n",
            "_________________________________________________________________\n"
          ]
        }
      ]
    },
    {
      "cell_type": "code",
      "source": [
        "# Compilazione e training del modello student\n",
        "\n",
        "student.compile(optimizer='adam',loss='mse' ,metrics=['mse'])\n",
        "\n",
        "# early stopping e model checkpoints\n",
        "callbacks = [keras.callbacks.EarlyStopping(monitor='val_mse', patience=5, min_delta = 0.00001, restore_best_weights=False), \n",
        "             keras.callbacks.ModelCheckpoint(filepath='student_best', monitor='val_mse', verbose=1, save_best_only=True, save_freq='epoch'),]\n",
        "\n",
        "history = student.fit(train_images, train_labels, epochs=50, batch_size=100, validation_split=0.2, callbacks=callbacks)"
      ],
      "metadata": {
        "colab": {
          "base_uri": "https://localhost:8080/",
          "height": 468
        },
        "id": "lRbg7PGdf2u3",
        "outputId": "e128dbfa-25da-4eef-f7ac-3f66d41c8610"
      },
      "execution_count": null,
      "outputs": [
        {
          "output_type": "stream",
          "name": "stdout",
          "text": [
            "Epoch 1/50\n",
            "384/384 [==============================] - ETA: 0s - loss: 0.0994 - mse: 0.0994\n",
            "Epoch 1: val_mse improved from inf to 0.07675, saving model to student_best\n",
            "INFO:tensorflow:Assets written to: student_best/assets\n",
            "384/384 [==============================] - 7s 17ms/step - loss: 0.0994 - mse: 0.0994 - val_loss: 0.0767 - val_mse: 0.0767\n",
            "Epoch 2/50\n",
            "266/384 [===================>..........] - ETA: 1s - loss: 0.0758 - mse: 0.0758"
          ]
        },
        {
          "output_type": "error",
          "ename": "KeyboardInterrupt",
          "evalue": "ignored",
          "traceback": [
            "\u001b[0;31m---------------------------------------------------------------------------\u001b[0m",
            "\u001b[0;31mKeyboardInterrupt\u001b[0m                         Traceback (most recent call last)",
            "\u001b[0;32m<ipython-input-21-5edf17faeb1e>\u001b[0m in \u001b[0;36m<module>\u001b[0;34m()\u001b[0m\n\u001b[1;32m      7\u001b[0m              keras.callbacks.ModelCheckpoint(filepath='student_best', monitor='val_mse', verbose=1, save_best_only=True, save_freq='epoch'),]\n\u001b[1;32m      8\u001b[0m \u001b[0;34m\u001b[0m\u001b[0m\n\u001b[0;32m----> 9\u001b[0;31m \u001b[0mhistory\u001b[0m \u001b[0;34m=\u001b[0m \u001b[0mstudent\u001b[0m\u001b[0;34m.\u001b[0m\u001b[0mfit\u001b[0m\u001b[0;34m(\u001b[0m\u001b[0mtrain_images\u001b[0m\u001b[0;34m,\u001b[0m \u001b[0mtrain_labels\u001b[0m\u001b[0;34m,\u001b[0m \u001b[0mepochs\u001b[0m\u001b[0;34m=\u001b[0m\u001b[0;36m50\u001b[0m\u001b[0;34m,\u001b[0m \u001b[0mbatch_size\u001b[0m\u001b[0;34m=\u001b[0m\u001b[0;36m100\u001b[0m\u001b[0;34m,\u001b[0m \u001b[0mvalidation_split\u001b[0m\u001b[0;34m=\u001b[0m\u001b[0;36m0.2\u001b[0m\u001b[0;34m,\u001b[0m \u001b[0mcallbacks\u001b[0m\u001b[0;34m=\u001b[0m\u001b[0mcallbacks\u001b[0m\u001b[0;34m)\u001b[0m\u001b[0;34m\u001b[0m\u001b[0;34m\u001b[0m\u001b[0m\n\u001b[0m",
            "\u001b[0;32m/usr/local/lib/python3.7/dist-packages/keras/utils/traceback_utils.py\u001b[0m in \u001b[0;36merror_handler\u001b[0;34m(*args, **kwargs)\u001b[0m\n\u001b[1;32m     62\u001b[0m     \u001b[0mfiltered_tb\u001b[0m \u001b[0;34m=\u001b[0m \u001b[0;32mNone\u001b[0m\u001b[0;34m\u001b[0m\u001b[0;34m\u001b[0m\u001b[0m\n\u001b[1;32m     63\u001b[0m     \u001b[0;32mtry\u001b[0m\u001b[0;34m:\u001b[0m\u001b[0;34m\u001b[0m\u001b[0;34m\u001b[0m\u001b[0m\n\u001b[0;32m---> 64\u001b[0;31m       \u001b[0;32mreturn\u001b[0m \u001b[0mfn\u001b[0m\u001b[0;34m(\u001b[0m\u001b[0;34m*\u001b[0m\u001b[0margs\u001b[0m\u001b[0;34m,\u001b[0m \u001b[0;34m**\u001b[0m\u001b[0mkwargs\u001b[0m\u001b[0;34m)\u001b[0m\u001b[0;34m\u001b[0m\u001b[0;34m\u001b[0m\u001b[0m\n\u001b[0m\u001b[1;32m     65\u001b[0m     \u001b[0;32mexcept\u001b[0m \u001b[0mException\u001b[0m \u001b[0;32mas\u001b[0m \u001b[0me\u001b[0m\u001b[0;34m:\u001b[0m  \u001b[0;31m# pylint: disable=broad-except\u001b[0m\u001b[0;34m\u001b[0m\u001b[0;34m\u001b[0m\u001b[0m\n\u001b[1;32m     66\u001b[0m       \u001b[0mfiltered_tb\u001b[0m \u001b[0;34m=\u001b[0m \u001b[0m_process_traceback_frames\u001b[0m\u001b[0;34m(\u001b[0m\u001b[0me\u001b[0m\u001b[0;34m.\u001b[0m\u001b[0m__traceback__\u001b[0m\u001b[0;34m)\u001b[0m\u001b[0;34m\u001b[0m\u001b[0;34m\u001b[0m\u001b[0m\n",
            "\u001b[0;32m/usr/local/lib/python3.7/dist-packages/keras/engine/training.py\u001b[0m in \u001b[0;36mfit\u001b[0;34m(self, x, y, batch_size, epochs, verbose, callbacks, validation_split, validation_data, shuffle, class_weight, sample_weight, initial_epoch, steps_per_epoch, validation_steps, validation_batch_size, validation_freq, max_queue_size, workers, use_multiprocessing)\u001b[0m\n\u001b[1;32m   1382\u001b[0m                 _r=1):\n\u001b[1;32m   1383\u001b[0m               \u001b[0mcallbacks\u001b[0m\u001b[0;34m.\u001b[0m\u001b[0mon_train_batch_begin\u001b[0m\u001b[0;34m(\u001b[0m\u001b[0mstep\u001b[0m\u001b[0;34m)\u001b[0m\u001b[0;34m\u001b[0m\u001b[0;34m\u001b[0m\u001b[0m\n\u001b[0;32m-> 1384\u001b[0;31m               \u001b[0mtmp_logs\u001b[0m \u001b[0;34m=\u001b[0m \u001b[0mself\u001b[0m\u001b[0;34m.\u001b[0m\u001b[0mtrain_function\u001b[0m\u001b[0;34m(\u001b[0m\u001b[0miterator\u001b[0m\u001b[0;34m)\u001b[0m\u001b[0;34m\u001b[0m\u001b[0;34m\u001b[0m\u001b[0m\n\u001b[0m\u001b[1;32m   1385\u001b[0m               \u001b[0;32mif\u001b[0m \u001b[0mdata_handler\u001b[0m\u001b[0;34m.\u001b[0m\u001b[0mshould_sync\u001b[0m\u001b[0;34m:\u001b[0m\u001b[0;34m\u001b[0m\u001b[0;34m\u001b[0m\u001b[0m\n\u001b[1;32m   1386\u001b[0m                 \u001b[0mcontext\u001b[0m\u001b[0;34m.\u001b[0m\u001b[0masync_wait\u001b[0m\u001b[0;34m(\u001b[0m\u001b[0;34m)\u001b[0m\u001b[0;34m\u001b[0m\u001b[0;34m\u001b[0m\u001b[0m\n",
            "\u001b[0;32m/usr/local/lib/python3.7/dist-packages/tensorflow/python/util/traceback_utils.py\u001b[0m in \u001b[0;36merror_handler\u001b[0;34m(*args, **kwargs)\u001b[0m\n\u001b[1;32m    148\u001b[0m     \u001b[0mfiltered_tb\u001b[0m \u001b[0;34m=\u001b[0m \u001b[0;32mNone\u001b[0m\u001b[0;34m\u001b[0m\u001b[0;34m\u001b[0m\u001b[0m\n\u001b[1;32m    149\u001b[0m     \u001b[0;32mtry\u001b[0m\u001b[0;34m:\u001b[0m\u001b[0;34m\u001b[0m\u001b[0;34m\u001b[0m\u001b[0m\n\u001b[0;32m--> 150\u001b[0;31m       \u001b[0;32mreturn\u001b[0m \u001b[0mfn\u001b[0m\u001b[0;34m(\u001b[0m\u001b[0;34m*\u001b[0m\u001b[0margs\u001b[0m\u001b[0;34m,\u001b[0m \u001b[0;34m**\u001b[0m\u001b[0mkwargs\u001b[0m\u001b[0;34m)\u001b[0m\u001b[0;34m\u001b[0m\u001b[0;34m\u001b[0m\u001b[0m\n\u001b[0m\u001b[1;32m    151\u001b[0m     \u001b[0;32mexcept\u001b[0m \u001b[0mException\u001b[0m \u001b[0;32mas\u001b[0m \u001b[0me\u001b[0m\u001b[0;34m:\u001b[0m\u001b[0;34m\u001b[0m\u001b[0;34m\u001b[0m\u001b[0m\n\u001b[1;32m    152\u001b[0m       \u001b[0mfiltered_tb\u001b[0m \u001b[0;34m=\u001b[0m \u001b[0m_process_traceback_frames\u001b[0m\u001b[0;34m(\u001b[0m\u001b[0me\u001b[0m\u001b[0;34m.\u001b[0m\u001b[0m__traceback__\u001b[0m\u001b[0;34m)\u001b[0m\u001b[0;34m\u001b[0m\u001b[0;34m\u001b[0m\u001b[0m\n",
            "\u001b[0;32m/usr/local/lib/python3.7/dist-packages/tensorflow/python/eager/def_function.py\u001b[0m in \u001b[0;36m__call__\u001b[0;34m(self, *args, **kwds)\u001b[0m\n\u001b[1;32m    913\u001b[0m \u001b[0;34m\u001b[0m\u001b[0m\n\u001b[1;32m    914\u001b[0m       \u001b[0;32mwith\u001b[0m \u001b[0mOptionalXlaContext\u001b[0m\u001b[0;34m(\u001b[0m\u001b[0mself\u001b[0m\u001b[0;34m.\u001b[0m\u001b[0m_jit_compile\u001b[0m\u001b[0;34m)\u001b[0m\u001b[0;34m:\u001b[0m\u001b[0;34m\u001b[0m\u001b[0;34m\u001b[0m\u001b[0m\n\u001b[0;32m--> 915\u001b[0;31m         \u001b[0mresult\u001b[0m \u001b[0;34m=\u001b[0m \u001b[0mself\u001b[0m\u001b[0;34m.\u001b[0m\u001b[0m_call\u001b[0m\u001b[0;34m(\u001b[0m\u001b[0;34m*\u001b[0m\u001b[0margs\u001b[0m\u001b[0;34m,\u001b[0m \u001b[0;34m**\u001b[0m\u001b[0mkwds\u001b[0m\u001b[0;34m)\u001b[0m\u001b[0;34m\u001b[0m\u001b[0;34m\u001b[0m\u001b[0m\n\u001b[0m\u001b[1;32m    916\u001b[0m \u001b[0;34m\u001b[0m\u001b[0m\n\u001b[1;32m    917\u001b[0m       \u001b[0mnew_tracing_count\u001b[0m \u001b[0;34m=\u001b[0m \u001b[0mself\u001b[0m\u001b[0;34m.\u001b[0m\u001b[0mexperimental_get_tracing_count\u001b[0m\u001b[0;34m(\u001b[0m\u001b[0;34m)\u001b[0m\u001b[0;34m\u001b[0m\u001b[0;34m\u001b[0m\u001b[0m\n",
            "\u001b[0;32m/usr/local/lib/python3.7/dist-packages/tensorflow/python/eager/def_function.py\u001b[0m in \u001b[0;36m_call\u001b[0;34m(self, *args, **kwds)\u001b[0m\n\u001b[1;32m    945\u001b[0m       \u001b[0;31m# In this case we have created variables on the first call, so we run the\u001b[0m\u001b[0;34m\u001b[0m\u001b[0;34m\u001b[0m\u001b[0;34m\u001b[0m\u001b[0m\n\u001b[1;32m    946\u001b[0m       \u001b[0;31m# defunned version which is guaranteed to never create variables.\u001b[0m\u001b[0;34m\u001b[0m\u001b[0;34m\u001b[0m\u001b[0;34m\u001b[0m\u001b[0m\n\u001b[0;32m--> 947\u001b[0;31m       \u001b[0;32mreturn\u001b[0m \u001b[0mself\u001b[0m\u001b[0;34m.\u001b[0m\u001b[0m_stateless_fn\u001b[0m\u001b[0;34m(\u001b[0m\u001b[0;34m*\u001b[0m\u001b[0margs\u001b[0m\u001b[0;34m,\u001b[0m \u001b[0;34m**\u001b[0m\u001b[0mkwds\u001b[0m\u001b[0;34m)\u001b[0m  \u001b[0;31m# pylint: disable=not-callable\u001b[0m\u001b[0;34m\u001b[0m\u001b[0;34m\u001b[0m\u001b[0m\n\u001b[0m\u001b[1;32m    948\u001b[0m     \u001b[0;32melif\u001b[0m \u001b[0mself\u001b[0m\u001b[0;34m.\u001b[0m\u001b[0m_stateful_fn\u001b[0m \u001b[0;32mis\u001b[0m \u001b[0;32mnot\u001b[0m \u001b[0;32mNone\u001b[0m\u001b[0;34m:\u001b[0m\u001b[0;34m\u001b[0m\u001b[0;34m\u001b[0m\u001b[0m\n\u001b[1;32m    949\u001b[0m       \u001b[0;31m# Release the lock early so that multiple threads can perform the call\u001b[0m\u001b[0;34m\u001b[0m\u001b[0;34m\u001b[0m\u001b[0;34m\u001b[0m\u001b[0m\n",
            "\u001b[0;32m/usr/local/lib/python3.7/dist-packages/tensorflow/python/eager/function.py\u001b[0m in \u001b[0;36m__call__\u001b[0;34m(self, *args, **kwargs)\u001b[0m\n\u001b[1;32m   2955\u001b[0m        filtered_flat_args) = self._maybe_define_function(args, kwargs)\n\u001b[1;32m   2956\u001b[0m     return graph_function._call_flat(\n\u001b[0;32m-> 2957\u001b[0;31m         filtered_flat_args, captured_inputs=graph_function.captured_inputs)  # pylint: disable=protected-access\n\u001b[0m\u001b[1;32m   2958\u001b[0m \u001b[0;34m\u001b[0m\u001b[0m\n\u001b[1;32m   2959\u001b[0m   \u001b[0;34m@\u001b[0m\u001b[0mproperty\u001b[0m\u001b[0;34m\u001b[0m\u001b[0;34m\u001b[0m\u001b[0m\n",
            "\u001b[0;32m/usr/local/lib/python3.7/dist-packages/tensorflow/python/eager/function.py\u001b[0m in \u001b[0;36m_call_flat\u001b[0;34m(self, args, captured_inputs, cancellation_manager)\u001b[0m\n\u001b[1;32m   1852\u001b[0m       \u001b[0;31m# No tape is watching; skip to running the function.\u001b[0m\u001b[0;34m\u001b[0m\u001b[0;34m\u001b[0m\u001b[0;34m\u001b[0m\u001b[0m\n\u001b[1;32m   1853\u001b[0m       return self._build_call_outputs(self._inference_function.call(\n\u001b[0;32m-> 1854\u001b[0;31m           ctx, args, cancellation_manager=cancellation_manager))\n\u001b[0m\u001b[1;32m   1855\u001b[0m     forward_backward = self._select_forward_and_backward_functions(\n\u001b[1;32m   1856\u001b[0m         \u001b[0margs\u001b[0m\u001b[0;34m,\u001b[0m\u001b[0;34m\u001b[0m\u001b[0;34m\u001b[0m\u001b[0m\n",
            "\u001b[0;32m/usr/local/lib/python3.7/dist-packages/tensorflow/python/eager/function.py\u001b[0m in \u001b[0;36mcall\u001b[0;34m(self, ctx, args, cancellation_manager)\u001b[0m\n\u001b[1;32m    502\u001b[0m               \u001b[0minputs\u001b[0m\u001b[0;34m=\u001b[0m\u001b[0margs\u001b[0m\u001b[0;34m,\u001b[0m\u001b[0;34m\u001b[0m\u001b[0;34m\u001b[0m\u001b[0m\n\u001b[1;32m    503\u001b[0m               \u001b[0mattrs\u001b[0m\u001b[0;34m=\u001b[0m\u001b[0mattrs\u001b[0m\u001b[0;34m,\u001b[0m\u001b[0;34m\u001b[0m\u001b[0;34m\u001b[0m\u001b[0m\n\u001b[0;32m--> 504\u001b[0;31m               ctx=ctx)\n\u001b[0m\u001b[1;32m    505\u001b[0m         \u001b[0;32melse\u001b[0m\u001b[0;34m:\u001b[0m\u001b[0;34m\u001b[0m\u001b[0;34m\u001b[0m\u001b[0m\n\u001b[1;32m    506\u001b[0m           outputs = execute.execute_with_cancellation(\n",
            "\u001b[0;32m/usr/local/lib/python3.7/dist-packages/tensorflow/python/eager/execute.py\u001b[0m in \u001b[0;36mquick_execute\u001b[0;34m(op_name, num_outputs, inputs, attrs, ctx, name)\u001b[0m\n\u001b[1;32m     53\u001b[0m     \u001b[0mctx\u001b[0m\u001b[0;34m.\u001b[0m\u001b[0mensure_initialized\u001b[0m\u001b[0;34m(\u001b[0m\u001b[0;34m)\u001b[0m\u001b[0;34m\u001b[0m\u001b[0;34m\u001b[0m\u001b[0m\n\u001b[1;32m     54\u001b[0m     tensors = pywrap_tfe.TFE_Py_Execute(ctx._handle, device_name, op_name,\n\u001b[0;32m---> 55\u001b[0;31m                                         inputs, attrs, num_outputs)\n\u001b[0m\u001b[1;32m     56\u001b[0m   \u001b[0;32mexcept\u001b[0m \u001b[0mcore\u001b[0m\u001b[0;34m.\u001b[0m\u001b[0m_NotOkStatusException\u001b[0m \u001b[0;32mas\u001b[0m \u001b[0me\u001b[0m\u001b[0;34m:\u001b[0m\u001b[0;34m\u001b[0m\u001b[0;34m\u001b[0m\u001b[0m\n\u001b[1;32m     57\u001b[0m     \u001b[0;32mif\u001b[0m \u001b[0mname\u001b[0m \u001b[0;32mis\u001b[0m \u001b[0;32mnot\u001b[0m \u001b[0;32mNone\u001b[0m\u001b[0;34m:\u001b[0m\u001b[0;34m\u001b[0m\u001b[0;34m\u001b[0m\u001b[0m\n",
            "\u001b[0;31mKeyboardInterrupt\u001b[0m: "
          ]
        }
      ]
    },
    {
      "cell_type": "code",
      "source": [
        "# carica il best model\n",
        "student = keras.models.load_model('student_best')\n",
        "\n",
        "predictions_s = scaler.inverse_transform(student.predict(test_images))\n"
      ],
      "metadata": {
        "id": "Z0NWeQsYgkaV"
      },
      "execution_count": null,
      "outputs": []
    },
    {
      "cell_type": "code",
      "source": [
        "# Turnon curva di efficienza del trigger in funzione del pt\n",
        "\n",
        "# modo facile per ottenerlo: creare due histogrammi uno con la distribuzione di pt per gli eventi che passono il taglio \n",
        "# pt_predetto > soglia e uno con la distribuzione di tutti gli eventi e poi fare il rapporto tra i due istogrammi\n",
        "\n",
        "predictions_s = predictions_s[:,0]\n",
        "pttrue = scaler.inverse_transform(test_labels)[:,0]\n",
        "soglia = 10.0 #soglia nominale di trigger Pt>10 GeV/c\n",
        "numer_s,_ = np.histogram(pttrue[predictions_s>soglia], bins=20, range=(0.,20.))\n",
        "denum_s,_ = np.histogram(pttrue, bins=20, range=(0.,20.))\n",
        "\n",
        "eff_s = numer_s/denum_s\n",
        "lrvalues = np.linspace(0.,20.,20)\n",
        "\n",
        "_ = plt.plot(lrvalues,eff, '*')\n",
        "_ = plt.plot(lrvalues,eff_s, 'r*')\n",
        "_ = plt.axvline(x=soglia)\n",
        "_ = plt.xlabel(\"pT$ [GeV/c]\")\n",
        "_ = plt.ylabel(\"efficiency\")"
      ],
      "metadata": {
        "colab": {
          "base_uri": "https://localhost:8080/",
          "height": 314
        },
        "id": "moKmOJAXgs_L",
        "outputId": "eba15dfb-5873-4e5e-e828-9975ee6e0e55"
      },
      "execution_count": null,
      "outputs": [
        {
          "output_type": "stream",
          "name": "stderr",
          "text": [
            "/usr/local/lib/python3.7/dist-packages/ipykernel_launcher.py:12: RuntimeWarning: invalid value encountered in true_divide\n",
            "  if sys.path[0] == '':\n"
          ]
        },
        {
          "output_type": "display_data",
          "data": {
            "text/plain": [
              "<Figure size 432x288 with 1 Axes>"
            ],
            "image/png": "[encoded data removed]"
          },
          "metadata": {
            "needs_background": "light"
          }
        }
      ]
    },
    {
      "cell_type": "markdown",
      "source": [
        "NOTA: lo student f32 anche se con soli 1k parametri non può essere implementato su una FPGA Xilinx UltraScale+ xcvu13p anche se è una delle più grandi e costose disponibili oggi ...\n",
        "\n",
        "È necessario quantizzare in modo spinto il modello."
      ],
      "metadata": {
        "id": "pXuQCvw-jrx1"
      }
    },
    {
      "cell_type": "code",
      "source": [
        "# Studente quantizzato fixed-point a 4 bit con libreria Qkeras\n",
        "# l'output layer non viene quantizzato\n",
        "\n",
        "kernel = (3,3)\n",
        "n_dense = 10\n",
        "\n",
        "sym = 1\n",
        "myalpha = None\n",
        "nbits = 4\n",
        "\n",
        "inputs = Input(train_images[0].shape, name = 'input')\n",
        "\n",
        "x = QConv2D(1, kernel, strides=(1,2), kernel_quantizer = quantized_bits(nbits,0,sym,alpha=myalpha), \n",
        "            bias_quantizer = quantized_bits(nbits,0,1,alpha=myalpha), padding = 'same', name = 'Qstudent_Conv1a')(inputs) \n",
        "x = QActivation('quantized_relu('+str(nbits)+')')(x) \n",
        "x = QConv2D(2, kernel, strides=(1,2), kernel_quantizer = quantized_bits(nbits,0,sym,alpha=myalpha), \n",
        "            bias_quantizer = quantized_bits(nbits,0,1,alpha=myalpha), padding = 'same', name = 'Qstudent_Conv1b')(x) \n",
        "x = QActivation('quantized_relu('+str(nbits)+')')(x)\n",
        "x = QConv2D(2, kernel, strides=(1,2), kernel_quantizer = quantized_bits(nbits,0,sym,alpha=myalpha), \n",
        "            bias_quantizer = quantized_bits(nbits,0,1,alpha=myalpha), padding = 'same', name = 'Qstudent_Conv1c')(x) \n",
        "x = QActivation('quantized_relu('+str(nbits)+')')(x)\n",
        "x = QAveragePooling2D(pool_size=(1,2), activation='quantized_relu('+str(nbits)+')')(x)\n",
        "\n",
        "x = QConv2D(8, kernel, strides=(1,2), kernel_quantizer = quantized_bits(nbits,0,sym,alpha=myalpha),\n",
        "            bias_quantizer = quantized_bits(nbits,0,1,alpha=myalpha), padding = 'same', name = 'Qstudent_Conv2a')(x) \n",
        "x = QActivation('quantized_relu('+str(nbits)+')')(x) \n",
        "x = QConv2D(4, kernel, strides=(1,2), kernel_quantizer = quantized_bits(nbits,0,sym,alpha=myalpha),\n",
        "            bias_quantizer = quantized_bits(nbits,0,1,alpha=myalpha), padding = 'same', name = 'Qstudent_Conv2b')(x)\n",
        "x = QActivation('quantized_relu('+str(nbits)+')')(x) \n",
        "x = QConv2D(8, kernel, strides=(1,2), kernel_quantizer = quantized_bits(nbits,0,sym,alpha=myalpha),\n",
        "            bias_quantizer = quantized_bits(nbits,0,1,alpha=myalpha), padding = 'same', name = 'Qstudent_Conv2c')(x) \n",
        "x = QActivation('quantized_relu('+str(nbits)+')')(x) \n",
        "x = QAveragePooling2D(pool_size=(3,3), activation='quantized_relu('+str(nbits)+')')(x)\n",
        "\n",
        "x = Flatten()(x) \n",
        "x = QDense(n_dense, kernel_quantizer = quantized_bits(nbits,0,sym,alpha=myalpha),\n",
        "           bias_quantizer = quantized_bits(nbits,0,1,alpha=myalpha), name = 'Qstudent_Dense1')(x)\n",
        "x = QActivation('quantized_relu('+str(nbits)+')')(x) \n",
        "x = QDense(n_dense, kernel_quantizer = quantized_bits(nbits,0,sym,alpha=myalpha),\n",
        "           bias_quantizer = quantized_bits(nbits,0,1,alpha=myalpha), name = 'Qstudent_Dense2')(x)\n",
        "x = QActivation('quantized_relu('+str(nbits)+')')(x) \n",
        "    \n",
        "x = Dense(2, name = 'Output')(x)\n",
        "\n",
        "qstudent = keras.Model(inputs=[inputs], outputs=[x])\n",
        "qstudent.summary()"
      ],
      "metadata": {
        "colab": {
          "base_uri": "https://localhost:8080/"
        },
        "id": "wz5W9mM4p30I",
        "outputId": "b608f8a3-6df4-46fc-848f-df14d7ba817d"
      },
      "execution_count": null,
      "outputs": [
        {
          "output_type": "stream",
          "name": "stdout",
          "text": [
            "Model: \"model_2\"\n",
            "_________________________________________________________________\n",
            " Layer (type)                Output Shape              Param #   \n",
            "=================================================================\n",
            " input (InputLayer)          [(None, 9, 384, 1)]       0         \n",
            "                                                                 \n",
            " Qstudent_Conv1a (QConv2D)   (None, 9, 192, 1)         10        \n",
            "                                                                 \n",
            " q_activation (QActivation)  (None, 9, 192, 1)         0         \n",
            "                                                                 \n",
            " Qstudent_Conv1b (QConv2D)   (None, 9, 96, 2)          20        \n",
            "                                                                 \n",
            " q_activation_1 (QActivation  (None, 9, 96, 2)         0         \n",
            " )                                                               \n",
            "                                                                 \n",
            " Qstudent_Conv1c (QConv2D)   (None, 9, 48, 2)          38        \n",
            "                                                                 \n",
            " q_activation_2 (QActivation  (None, 9, 48, 2)         0         \n",
            " )                                                               \n",
            "                                                                 \n",
            " q_average_pooling2d (QAvera  (None, 9, 24, 2)         0         \n",
            " gePooling2D)                                                    \n",
            "                                                                 \n",
            " Qstudent_Conv2a (QConv2D)   (None, 9, 12, 8)          152       \n",
            "                                                                 \n",
            " q_activation_3 (QActivation  (None, 9, 12, 8)         0         \n",
            " )                                                               \n",
            "                                                                 \n",
            " Qstudent_Conv2b (QConv2D)   (None, 9, 6, 4)           292       \n",
            "                                                                 \n",
            " q_activation_4 (QActivation  (None, 9, 6, 4)          0         \n",
            " )                                                               \n",
            "                                                                 \n",
            " Qstudent_Conv2c (QConv2D)   (None, 9, 3, 8)           296       \n",
            "                                                                 \n",
            " q_activation_5 (QActivation  (None, 9, 3, 8)          0         \n",
            " )                                                               \n",
            "                                                                 \n",
            " q_average_pooling2d_1 (QAve  (None, 3, 1, 8)          0         \n",
            " ragePooling2D)                                                  \n",
            "                                                                 \n",
            " flatten_2 (Flatten)         (None, 24)                0         \n",
            "                                                                 \n",
            " Qstudent_Dense1 (QDense)    (None, 10)                250       \n",
            "                                                                 \n",
            " q_activation_6 (QActivation  (None, 10)               0         \n",
            " )                                                               \n",
            "                                                                 \n",
            " Qstudent_Dense2 (QDense)    (None, 10)                110       \n",
            "                                                                 \n",
            " q_activation_7 (QActivation  (None, 10)               0         \n",
            " )                                                               \n",
            "                                                                 \n",
            " Output (Dense)              (None, 2)                 22        \n",
            "                                                                 \n",
            "=================================================================\n",
            "Total params: 1,190\n",
            "Trainable params: 1,190\n",
            "Non-trainable params: 0\n",
            "_________________________________________________________________\n"
          ]
        }
      ]
    },
    {
      "cell_type": "code",
      "source": [
        "# Compilazione e training del modello Qstudent\n",
        "\n",
        "qstudent.compile(optimizer='adam',loss='mse' ,metrics=['mse'])\n",
        "\n",
        "# early stopping e model checkpoints\n",
        "callbacks = [keras.callbacks.EarlyStopping(monitor='val_mse', patience=5, min_delta = 0.00001, restore_best_weights=False), \n",
        "             keras.callbacks.ModelCheckpoint(filepath='qstudent_best', monitor='val_mse', verbose=1, save_best_only=True, save_freq='epoch'),]\n",
        "\n",
        "history = qstudent.fit(train_images, train_labels, epochs=50, batch_size=128, validation_split=0.2, callbacks=callbacks)"
      ],
      "metadata": {
        "colab": {
          "base_uri": "https://localhost:8080/",
          "height": 485
        },
        "id": "QPRfoR89q062",
        "outputId": "bb4513d7-7bce-4a58-f42f-895e5b473f20"
      },
      "execution_count": null,
      "outputs": [
        {
          "output_type": "stream",
          "name": "stdout",
          "text": [
            "Epoch 1/50\n",
            "300/300 [==============================] - ETA: 0s - loss: 0.1138 - mse: 0.1138\n",
            "Epoch 1: val_mse improved from inf to 0.07985, saving model to qstudent_best\n",
            "INFO:tensorflow:Assets written to: qstudent_best/assets\n",
            "300/300 [==============================] - 33s 83ms/step - loss: 0.1138 - mse: 0.1138 - val_loss: 0.0799 - val_mse: 0.0799\n",
            "Epoch 2/50\n",
            "299/300 [============================>.] - ETA: 0s - loss: 0.0747 - mse: 0.0747\n",
            "Epoch 2: val_mse improved from 0.07985 to 0.06423, saving model to qstudent_best\n"
          ]
        },
        {
          "output_type": "error",
          "ename": "KeyboardInterrupt",
          "evalue": "ignored",
          "traceback": [
            "\u001b[0;31m---------------------------------------------------------------------------\u001b[0m",
            "\u001b[0;31mKeyboardInterrupt\u001b[0m                         Traceback (most recent call last)",
            "\u001b[0;32m<ipython-input-25-c2ceb572daa6>\u001b[0m in \u001b[0;36m<module>\u001b[0;34m()\u001b[0m\n\u001b[1;32m      7\u001b[0m              keras.callbacks.ModelCheckpoint(filepath='qstudent_best', monitor='val_mse', verbose=1, save_best_only=True, save_freq='epoch'),]\n\u001b[1;32m      8\u001b[0m \u001b[0;34m\u001b[0m\u001b[0m\n\u001b[0;32m----> 9\u001b[0;31m \u001b[0mhistory\u001b[0m \u001b[0;34m=\u001b[0m \u001b[0mqstudent\u001b[0m\u001b[0;34m.\u001b[0m\u001b[0mfit\u001b[0m\u001b[0;34m(\u001b[0m\u001b[0mtrain_images\u001b[0m\u001b[0;34m,\u001b[0m \u001b[0mtrain_labels\u001b[0m\u001b[0;34m,\u001b[0m \u001b[0mepochs\u001b[0m\u001b[0;34m=\u001b[0m\u001b[0;36m50\u001b[0m\u001b[0;34m,\u001b[0m \u001b[0mbatch_size\u001b[0m\u001b[0;34m=\u001b[0m\u001b[0;36m128\u001b[0m\u001b[0;34m,\u001b[0m \u001b[0mvalidation_split\u001b[0m\u001b[0;34m=\u001b[0m\u001b[0;36m0.2\u001b[0m\u001b[0;34m,\u001b[0m \u001b[0mcallbacks\u001b[0m\u001b[0;34m=\u001b[0m\u001b[0mcallbacks\u001b[0m\u001b[0;34m)\u001b[0m\u001b[0;34m\u001b[0m\u001b[0;34m\u001b[0m\u001b[0m\n\u001b[0m",
            "\u001b[0;32m/usr/local/lib/python3.7/dist-packages/keras/utils/traceback_utils.py\u001b[0m in \u001b[0;36merror_handler\u001b[0;34m(*args, **kwargs)\u001b[0m\n\u001b[1;32m     62\u001b[0m     \u001b[0mfiltered_tb\u001b[0m \u001b[0;34m=\u001b[0m \u001b[0;32mNone\u001b[0m\u001b[0;34m\u001b[0m\u001b[0;34m\u001b[0m\u001b[0m\n\u001b[1;32m     63\u001b[0m     \u001b[0;32mtry\u001b[0m\u001b[0;34m:\u001b[0m\u001b[0;34m\u001b[0m\u001b[0;34m\u001b[0m\u001b[0m\n\u001b[0;32m---> 64\u001b[0;31m       \u001b[0;32mreturn\u001b[0m \u001b[0mfn\u001b[0m\u001b[0;34m(\u001b[0m\u001b[0;34m*\u001b[0m\u001b[0margs\u001b[0m\u001b[0;34m,\u001b[0m \u001b[0;34m**\u001b[0m\u001b[0mkwargs\u001b[0m\u001b[0;34m)\u001b[0m\u001b[0;34m\u001b[0m\u001b[0;34m\u001b[0m\u001b[0m\n\u001b[0m\u001b[1;32m     65\u001b[0m     \u001b[0;32mexcept\u001b[0m \u001b[0mException\u001b[0m \u001b[0;32mas\u001b[0m \u001b[0me\u001b[0m\u001b[0;34m:\u001b[0m  \u001b[0;31m# pylint: disable=broad-except\u001b[0m\u001b[0;34m\u001b[0m\u001b[0;34m\u001b[0m\u001b[0m\n\u001b[1;32m     66\u001b[0m       \u001b[0mfiltered_tb\u001b[0m \u001b[0;34m=\u001b[0m \u001b[0m_process_traceback_frames\u001b[0m\u001b[0;34m(\u001b[0m\u001b[0me\u001b[0m\u001b[0;34m.\u001b[0m\u001b[0m__traceback__\u001b[0m\u001b[0;34m)\u001b[0m\u001b[0;34m\u001b[0m\u001b[0;34m\u001b[0m\u001b[0m\n",
            "\u001b[0;32m/usr/local/lib/python3.7/dist-packages/keras/engine/training.py\u001b[0m in \u001b[0;36mfit\u001b[0;34m(self, x, y, batch_size, epochs, verbose, callbacks, validation_split, validation_data, shuffle, class_weight, sample_weight, initial_epoch, steps_per_epoch, validation_steps, validation_batch_size, validation_freq, max_queue_size, workers, use_multiprocessing)\u001b[0m\n\u001b[1;32m   1433\u001b[0m           \u001b[0mepoch_logs\u001b[0m\u001b[0;34m.\u001b[0m\u001b[0mupdate\u001b[0m\u001b[0;34m(\u001b[0m\u001b[0mval_logs\u001b[0m\u001b[0;34m)\u001b[0m\u001b[0;34m\u001b[0m\u001b[0;34m\u001b[0m\u001b[0m\n\u001b[1;32m   1434\u001b[0m \u001b[0;34m\u001b[0m\u001b[0m\n\u001b[0;32m-> 1435\u001b[0;31m         \u001b[0mcallbacks\u001b[0m\u001b[0;34m.\u001b[0m\u001b[0mon_epoch_end\u001b[0m\u001b[0;34m(\u001b[0m\u001b[0mepoch\u001b[0m\u001b[0;34m,\u001b[0m \u001b[0mepoch_logs\u001b[0m\u001b[0;34m)\u001b[0m\u001b[0;34m\u001b[0m\u001b[0;34m\u001b[0m\u001b[0m\n\u001b[0m\u001b[1;32m   1436\u001b[0m         \u001b[0mtraining_logs\u001b[0m \u001b[0;34m=\u001b[0m \u001b[0mepoch_logs\u001b[0m\u001b[0;34m\u001b[0m\u001b[0;34m\u001b[0m\u001b[0m\n\u001b[1;32m   1437\u001b[0m         \u001b[0;32mif\u001b[0m \u001b[0mself\u001b[0m\u001b[0;34m.\u001b[0m\u001b[0mstop_training\u001b[0m\u001b[0;34m:\u001b[0m\u001b[0;34m\u001b[0m\u001b[0;34m\u001b[0m\u001b[0m\n",
            "\u001b[0;32m/usr/local/lib/python3.7/dist-packages/keras/callbacks.py\u001b[0m in \u001b[0;36mon_epoch_end\u001b[0;34m(self, epoch, logs)\u001b[0m\n\u001b[1;32m    414\u001b[0m     \u001b[0mlogs\u001b[0m \u001b[0;34m=\u001b[0m \u001b[0mself\u001b[0m\u001b[0;34m.\u001b[0m\u001b[0m_process_logs\u001b[0m\u001b[0;34m(\u001b[0m\u001b[0mlogs\u001b[0m\u001b[0;34m)\u001b[0m\u001b[0;34m\u001b[0m\u001b[0;34m\u001b[0m\u001b[0m\n\u001b[1;32m    415\u001b[0m     \u001b[0;32mfor\u001b[0m \u001b[0mcallback\u001b[0m \u001b[0;32min\u001b[0m \u001b[0mself\u001b[0m\u001b[0;34m.\u001b[0m\u001b[0mcallbacks\u001b[0m\u001b[0;34m:\u001b[0m\u001b[0;34m\u001b[0m\u001b[0;34m\u001b[0m\u001b[0m\n\u001b[0;32m--> 416\u001b[0;31m       \u001b[0mcallback\u001b[0m\u001b[0;34m.\u001b[0m\u001b[0mon_epoch_end\u001b[0m\u001b[0;34m(\u001b[0m\u001b[0mepoch\u001b[0m\u001b[0;34m,\u001b[0m \u001b[0mlogs\u001b[0m\u001b[0;34m)\u001b[0m\u001b[0;34m\u001b[0m\u001b[0;34m\u001b[0m\u001b[0m\n\u001b[0m\u001b[1;32m    417\u001b[0m \u001b[0;34m\u001b[0m\u001b[0m\n\u001b[1;32m    418\u001b[0m   \u001b[0;32mdef\u001b[0m \u001b[0mon_train_batch_begin\u001b[0m\u001b[0;34m(\u001b[0m\u001b[0mself\u001b[0m\u001b[0;34m,\u001b[0m \u001b[0mbatch\u001b[0m\u001b[0;34m,\u001b[0m \u001b[0mlogs\u001b[0m\u001b[0;34m=\u001b[0m\u001b[0;32mNone\u001b[0m\u001b[0;34m)\u001b[0m\u001b[0;34m:\u001b[0m\u001b[0;34m\u001b[0m\u001b[0;34m\u001b[0m\u001b[0m\n",
            "\u001b[0;32m/usr/local/lib/python3.7/dist-packages/keras/callbacks.py\u001b[0m in \u001b[0;36mon_epoch_end\u001b[0;34m(self, epoch, logs)\u001b[0m\n\u001b[1;32m   1386\u001b[0m     \u001b[0;31m# pylint: disable=protected-access\u001b[0m\u001b[0;34m\u001b[0m\u001b[0;34m\u001b[0m\u001b[0;34m\u001b[0m\u001b[0m\n\u001b[1;32m   1387\u001b[0m     \u001b[0;32mif\u001b[0m \u001b[0mself\u001b[0m\u001b[0;34m.\u001b[0m\u001b[0msave_freq\u001b[0m \u001b[0;34m==\u001b[0m \u001b[0;34m'epoch'\u001b[0m\u001b[0;34m:\u001b[0m\u001b[0;34m\u001b[0m\u001b[0;34m\u001b[0m\u001b[0m\n\u001b[0;32m-> 1388\u001b[0;31m       \u001b[0mself\u001b[0m\u001b[0;34m.\u001b[0m\u001b[0m_save_model\u001b[0m\u001b[0;34m(\u001b[0m\u001b[0mepoch\u001b[0m\u001b[0;34m=\u001b[0m\u001b[0mepoch\u001b[0m\u001b[0;34m,\u001b[0m \u001b[0mbatch\u001b[0m\u001b[0;34m=\u001b[0m\u001b[0;32mNone\u001b[0m\u001b[0;34m,\u001b[0m \u001b[0mlogs\u001b[0m\u001b[0;34m=\u001b[0m\u001b[0mlogs\u001b[0m\u001b[0;34m)\u001b[0m\u001b[0;34m\u001b[0m\u001b[0;34m\u001b[0m\u001b[0m\n\u001b[0m\u001b[1;32m   1389\u001b[0m \u001b[0;34m\u001b[0m\u001b[0m\n\u001b[1;32m   1390\u001b[0m   \u001b[0;32mdef\u001b[0m \u001b[0m_should_save_on_batch\u001b[0m\u001b[0;34m(\u001b[0m\u001b[0mself\u001b[0m\u001b[0;34m,\u001b[0m \u001b[0mbatch\u001b[0m\u001b[0;34m)\u001b[0m\u001b[0;34m:\u001b[0m\u001b[0;34m\u001b[0m\u001b[0;34m\u001b[0m\u001b[0m\n",
            "\u001b[0;32m/usr/local/lib/python3.7/dist-packages/keras/callbacks.py\u001b[0m in \u001b[0;36m_save_model\u001b[0;34m(self, epoch, batch, logs)\u001b[0m\n\u001b[1;32m   1441\u001b[0m                     filepath, overwrite=True, options=self._options)\n\u001b[1;32m   1442\u001b[0m               \u001b[0;32melse\u001b[0m\u001b[0;34m:\u001b[0m\u001b[0;34m\u001b[0m\u001b[0;34m\u001b[0m\u001b[0m\n\u001b[0;32m-> 1443\u001b[0;31m                 \u001b[0mself\u001b[0m\u001b[0;34m.\u001b[0m\u001b[0mmodel\u001b[0m\u001b[0;34m.\u001b[0m\u001b[0msave\u001b[0m\u001b[0;34m(\u001b[0m\u001b[0mfilepath\u001b[0m\u001b[0;34m,\u001b[0m \u001b[0moverwrite\u001b[0m\u001b[0;34m=\u001b[0m\u001b[0;32mTrue\u001b[0m\u001b[0;34m,\u001b[0m \u001b[0moptions\u001b[0m\u001b[0;34m=\u001b[0m\u001b[0mself\u001b[0m\u001b[0;34m.\u001b[0m\u001b[0m_options\u001b[0m\u001b[0;34m)\u001b[0m\u001b[0;34m\u001b[0m\u001b[0;34m\u001b[0m\u001b[0m\n\u001b[0m\u001b[1;32m   1444\u001b[0m             \u001b[0;32melse\u001b[0m\u001b[0;34m:\u001b[0m\u001b[0;34m\u001b[0m\u001b[0;34m\u001b[0m\u001b[0m\n\u001b[1;32m   1445\u001b[0m               \u001b[0;32mif\u001b[0m \u001b[0mself\u001b[0m\u001b[0;34m.\u001b[0m\u001b[0mverbose\u001b[0m \u001b[0;34m>\u001b[0m \u001b[0;36m0\u001b[0m\u001b[0;34m:\u001b[0m\u001b[0;34m\u001b[0m\u001b[0;34m\u001b[0m\u001b[0m\n",
            "\u001b[0;32m/usr/local/lib/python3.7/dist-packages/keras/utils/traceback_utils.py\u001b[0m in \u001b[0;36merror_handler\u001b[0;34m(*args, **kwargs)\u001b[0m\n\u001b[1;32m     62\u001b[0m     \u001b[0mfiltered_tb\u001b[0m \u001b[0;34m=\u001b[0m \u001b[0;32mNone\u001b[0m\u001b[0;34m\u001b[0m\u001b[0;34m\u001b[0m\u001b[0m\n\u001b[1;32m     63\u001b[0m     \u001b[0;32mtry\u001b[0m\u001b[0;34m:\u001b[0m\u001b[0;34m\u001b[0m\u001b[0;34m\u001b[0m\u001b[0m\n\u001b[0;32m---> 64\u001b[0;31m       \u001b[0;32mreturn\u001b[0m \u001b[0mfn\u001b[0m\u001b[0;34m(\u001b[0m\u001b[0;34m*\u001b[0m\u001b[0margs\u001b[0m\u001b[0;34m,\u001b[0m \u001b[0;34m**\u001b[0m\u001b[0mkwargs\u001b[0m\u001b[0;34m)\u001b[0m\u001b[0;34m\u001b[0m\u001b[0;34m\u001b[0m\u001b[0m\n\u001b[0m\u001b[1;32m     65\u001b[0m     \u001b[0;32mexcept\u001b[0m \u001b[0mException\u001b[0m \u001b[0;32mas\u001b[0m \u001b[0me\u001b[0m\u001b[0;34m:\u001b[0m  \u001b[0;31m# pylint: disable=broad-except\u001b[0m\u001b[0;34m\u001b[0m\u001b[0;34m\u001b[0m\u001b[0m\n\u001b[1;32m     66\u001b[0m       \u001b[0mfiltered_tb\u001b[0m \u001b[0;34m=\u001b[0m \u001b[0m_process_traceback_frames\u001b[0m\u001b[0;34m(\u001b[0m\u001b[0me\u001b[0m\u001b[0;34m.\u001b[0m\u001b[0m__traceback__\u001b[0m\u001b[0;34m)\u001b[0m\u001b[0;34m\u001b[0m\u001b[0;34m\u001b[0m\u001b[0m\n",
            "\u001b[0;32m/usr/local/lib/python3.7/dist-packages/keras/engine/training.py\u001b[0m in \u001b[0;36msave\u001b[0;34m(self, filepath, overwrite, include_optimizer, save_format, signatures, options, save_traces)\u001b[0m\n\u001b[1;32m   2383\u001b[0m     \u001b[0;31m# pylint: enable=line-too-long\u001b[0m\u001b[0;34m\u001b[0m\u001b[0;34m\u001b[0m\u001b[0;34m\u001b[0m\u001b[0m\n\u001b[1;32m   2384\u001b[0m     save.save_model(self, filepath, overwrite, include_optimizer, save_format,\n\u001b[0;32m-> 2385\u001b[0;31m                     signatures, options, save_traces)\n\u001b[0m\u001b[1;32m   2386\u001b[0m \u001b[0;34m\u001b[0m\u001b[0m\n\u001b[1;32m   2387\u001b[0m   \u001b[0;34m@\u001b[0m\u001b[0mtraceback_utils\u001b[0m\u001b[0;34m.\u001b[0m\u001b[0mfilter_traceback\u001b[0m\u001b[0;34m\u001b[0m\u001b[0;34m\u001b[0m\u001b[0m\n",
            "\u001b[0;32m/usr/local/lib/python3.7/dist-packages/keras/utils/traceback_utils.py\u001b[0m in \u001b[0;36merror_handler\u001b[0;34m(*args, **kwargs)\u001b[0m\n\u001b[1;32m     62\u001b[0m     \u001b[0mfiltered_tb\u001b[0m \u001b[0;34m=\u001b[0m \u001b[0;32mNone\u001b[0m\u001b[0;34m\u001b[0m\u001b[0;34m\u001b[0m\u001b[0m\n\u001b[1;32m     63\u001b[0m     \u001b[0;32mtry\u001b[0m\u001b[0;34m:\u001b[0m\u001b[0;34m\u001b[0m\u001b[0;34m\u001b[0m\u001b[0m\n\u001b[0;32m---> 64\u001b[0;31m       \u001b[0;32mreturn\u001b[0m \u001b[0mfn\u001b[0m\u001b[0;34m(\u001b[0m\u001b[0;34m*\u001b[0m\u001b[0margs\u001b[0m\u001b[0;34m,\u001b[0m \u001b[0;34m**\u001b[0m\u001b[0mkwargs\u001b[0m\u001b[0;34m)\u001b[0m\u001b[0;34m\u001b[0m\u001b[0;34m\u001b[0m\u001b[0m\n\u001b[0m\u001b[1;32m     65\u001b[0m     \u001b[0;32mexcept\u001b[0m \u001b[0mException\u001b[0m \u001b[0;32mas\u001b[0m \u001b[0me\u001b[0m\u001b[0;34m:\u001b[0m  \u001b[0;31m# pylint: disable=broad-except\u001b[0m\u001b[0;34m\u001b[0m\u001b[0;34m\u001b[0m\u001b[0m\n\u001b[1;32m     66\u001b[0m       \u001b[0mfiltered_tb\u001b[0m \u001b[0;34m=\u001b[0m \u001b[0m_process_traceback_frames\u001b[0m\u001b[0;34m(\u001b[0m\u001b[0me\u001b[0m\u001b[0;34m.\u001b[0m\u001b[0m__traceback__\u001b[0m\u001b[0;34m)\u001b[0m\u001b[0;34m\u001b[0m\u001b[0;34m\u001b[0m\u001b[0m\n",
            "\u001b[0;32m/usr/local/lib/python3.7/dist-packages/keras/saving/save.py\u001b[0m in \u001b[0;36msave_model\u001b[0;34m(model, filepath, overwrite, include_optimizer, save_format, signatures, options, save_traces)\u001b[0m\n\u001b[1;32m    150\u001b[0m     \u001b[0;32mwith\u001b[0m \u001b[0mgeneric_utils\u001b[0m\u001b[0;34m.\u001b[0m\u001b[0mSharedObjectSavingScope\u001b[0m\u001b[0;34m(\u001b[0m\u001b[0;34m)\u001b[0m\u001b[0;34m:\u001b[0m\u001b[0;34m\u001b[0m\u001b[0;34m\u001b[0m\u001b[0m\n\u001b[1;32m    151\u001b[0m       saved_model_save.save(model, filepath, overwrite, include_optimizer,\n\u001b[0;32m--> 152\u001b[0;31m                             signatures, options, save_traces)\n\u001b[0m\u001b[1;32m    153\u001b[0m \u001b[0;34m\u001b[0m\u001b[0m\n\u001b[1;32m    154\u001b[0m \u001b[0;34m\u001b[0m\u001b[0m\n",
            "\u001b[0;32m/usr/local/lib/python3.7/dist-packages/keras/saving/saved_model/save.py\u001b[0m in \u001b[0;36msave\u001b[0;34m(model, filepath, overwrite, include_optimizer, signatures, options, save_traces)\u001b[0m\n\u001b[1;32m     92\u001b[0m     \u001b[0;32mwith\u001b[0m \u001b[0mutils\u001b[0m\u001b[0;34m.\u001b[0m\u001b[0mkeras_option_scope\u001b[0m\u001b[0;34m(\u001b[0m\u001b[0msave_traces\u001b[0m\u001b[0;34m)\u001b[0m\u001b[0;34m:\u001b[0m\u001b[0;34m\u001b[0m\u001b[0;34m\u001b[0m\u001b[0m\n\u001b[1;32m     93\u001b[0m       saved_nodes, node_paths = save_lib.save_and_return_nodes(\n\u001b[0;32m---> 94\u001b[0;31m           model, filepath, signatures, options)\n\u001b[0m\u001b[1;32m     95\u001b[0m \u001b[0;34m\u001b[0m\u001b[0m\n\u001b[1;32m     96\u001b[0m     \u001b[0;31m# Save all metadata to a separate file in the SavedModel directory.\u001b[0m\u001b[0;34m\u001b[0m\u001b[0;34m\u001b[0m\u001b[0;34m\u001b[0m\u001b[0m\n",
            "\u001b[0;32m/usr/local/lib/python3.7/dist-packages/tensorflow/python/saved_model/save.py\u001b[0m in \u001b[0;36msave_and_return_nodes\u001b[0;34m(obj, export_dir, signatures, options, experimental_skip_checkpoint)\u001b[0m\n\u001b[1;32m   1367\u001b[0m \u001b[0;34m\u001b[0m\u001b[0m\n\u001b[1;32m   1368\u001b[0m   _, exported_graph, object_saver, asset_info, saved_nodes, node_paths = (\n\u001b[0;32m-> 1369\u001b[0;31m       _build_meta_graph(obj, signatures, options, meta_graph_def))\n\u001b[0m\u001b[1;32m   1370\u001b[0m   saved_model.saved_model_schema_version = (\n\u001b[1;32m   1371\u001b[0m       constants.SAVED_MODEL_SCHEMA_VERSION)\n",
            "\u001b[0;32m/usr/local/lib/python3.7/dist-packages/tensorflow/python/saved_model/save.py\u001b[0m in \u001b[0;36m_build_meta_graph\u001b[0;34m(obj, signatures, options, meta_graph_def)\u001b[0m\n\u001b[1;32m   1534\u001b[0m \u001b[0;34m\u001b[0m\u001b[0m\n\u001b[1;32m   1535\u001b[0m   \u001b[0;32mwith\u001b[0m \u001b[0msave_context\u001b[0m\u001b[0;34m.\u001b[0m\u001b[0msave_context\u001b[0m\u001b[0;34m(\u001b[0m\u001b[0moptions\u001b[0m\u001b[0;34m)\u001b[0m\u001b[0;34m:\u001b[0m\u001b[0;34m\u001b[0m\u001b[0;34m\u001b[0m\u001b[0m\n\u001b[0;32m-> 1536\u001b[0;31m     \u001b[0;32mreturn\u001b[0m \u001b[0m_build_meta_graph_impl\u001b[0m\u001b[0;34m(\u001b[0m\u001b[0mobj\u001b[0m\u001b[0;34m,\u001b[0m \u001b[0msignatures\u001b[0m\u001b[0;34m,\u001b[0m \u001b[0moptions\u001b[0m\u001b[0;34m,\u001b[0m \u001b[0mmeta_graph_def\u001b[0m\u001b[0;34m)\u001b[0m\u001b[0;34m\u001b[0m\u001b[0;34m\u001b[0m\u001b[0m\n\u001b[0m",
            "\u001b[0;32m/usr/local/lib/python3.7/dist-packages/tensorflow/python/saved_model/save.py\u001b[0m in \u001b[0;36m_build_meta_graph_impl\u001b[0;34m(obj, signatures, options, meta_graph_def)\u001b[0m\n\u001b[1;32m   1476\u001b[0m   \u001b[0;32mif\u001b[0m \u001b[0msignatures\u001b[0m \u001b[0;32mis\u001b[0m \u001b[0;32mNone\u001b[0m\u001b[0;34m:\u001b[0m\u001b[0;34m\u001b[0m\u001b[0;34m\u001b[0m\u001b[0m\n\u001b[1;32m   1477\u001b[0m     signatures = signature_serialization.find_function_to_export(\n\u001b[0;32m-> 1478\u001b[0;31m         checkpoint_graph_view)\n\u001b[0m\u001b[1;32m   1479\u001b[0m \u001b[0;34m\u001b[0m\u001b[0m\n\u001b[1;32m   1480\u001b[0m   signatures, wrapped_functions = (\n",
            "\u001b[0;32m/usr/local/lib/python3.7/dist-packages/tensorflow/python/saved_model/signature_serialization.py\u001b[0m in \u001b[0;36mfind_function_to_export\u001b[0;34m(saveable_view)\u001b[0m\n\u001b[1;32m    101\u001b[0m   \u001b[0;31m# serving that model way later in the process stops working.\u001b[0m\u001b[0;34m\u001b[0m\u001b[0;34m\u001b[0m\u001b[0;34m\u001b[0m\u001b[0m\n\u001b[1;32m    102\u001b[0m   \u001b[0mpossible_signatures\u001b[0m \u001b[0;34m=\u001b[0m \u001b[0;34m[\u001b[0m\u001b[0;34m]\u001b[0m\u001b[0;34m\u001b[0m\u001b[0;34m\u001b[0m\u001b[0m\n\u001b[0;32m--> 103\u001b[0;31m   \u001b[0;32mfor\u001b[0m \u001b[0mname\u001b[0m\u001b[0;34m,\u001b[0m \u001b[0mchild\u001b[0m \u001b[0;32min\u001b[0m \u001b[0mchildren\u001b[0m\u001b[0;34m:\u001b[0m\u001b[0;34m\u001b[0m\u001b[0;34m\u001b[0m\u001b[0m\n\u001b[0m\u001b[1;32m    104\u001b[0m     \u001b[0;32mif\u001b[0m \u001b[0;32mnot\u001b[0m \u001b[0misinstance\u001b[0m\u001b[0;34m(\u001b[0m\u001b[0mchild\u001b[0m\u001b[0;34m,\u001b[0m \u001b[0;34m(\u001b[0m\u001b[0mdef_function\u001b[0m\u001b[0;34m.\u001b[0m\u001b[0mFunction\u001b[0m\u001b[0;34m,\u001b[0m \u001b[0mdefun\u001b[0m\u001b[0;34m.\u001b[0m\u001b[0mConcreteFunction\u001b[0m\u001b[0;34m)\u001b[0m\u001b[0;34m)\u001b[0m\u001b[0;34m:\u001b[0m\u001b[0;34m\u001b[0m\u001b[0;34m\u001b[0m\u001b[0m\n\u001b[1;32m    105\u001b[0m       \u001b[0;32mcontinue\u001b[0m\u001b[0;34m\u001b[0m\u001b[0;34m\u001b[0m\u001b[0m\n",
            "\u001b[0;32m/usr/local/lib/python3.7/dist-packages/tensorflow/python/saved_model/save.py\u001b[0m in \u001b[0;36mlist_children\u001b[0;34m(self, obj)\u001b[0m\n\u001b[1;32m    134\u001b[0m               \u001b[0mobj\u001b[0m\u001b[0;34m,\u001b[0m\u001b[0;34m\u001b[0m\u001b[0;34m\u001b[0m\u001b[0m\n\u001b[1;32m    135\u001b[0m               \u001b[0msave_type\u001b[0m\u001b[0;34m=\u001b[0m\u001b[0mbase\u001b[0m\u001b[0;34m.\u001b[0m\u001b[0mSaveType\u001b[0m\u001b[0;34m.\u001b[0m\u001b[0mSAVEDMODEL\u001b[0m\u001b[0;34m,\u001b[0m\u001b[0;34m\u001b[0m\u001b[0;34m\u001b[0m\u001b[0m\n\u001b[0;32m--> 136\u001b[0;31m               cache=self._serialization_cache))\n\u001b[0m\u001b[1;32m    137\u001b[0m     \u001b[0;32mfor\u001b[0m \u001b[0mname\u001b[0m\u001b[0;34m,\u001b[0m \u001b[0mchild\u001b[0m \u001b[0;32min\u001b[0m \u001b[0mself\u001b[0m\u001b[0;34m.\u001b[0m\u001b[0m_children_cache\u001b[0m\u001b[0;34m[\u001b[0m\u001b[0mobj\u001b[0m\u001b[0;34m]\u001b[0m\u001b[0;34m.\u001b[0m\u001b[0mitems\u001b[0m\u001b[0;34m(\u001b[0m\u001b[0;34m)\u001b[0m\u001b[0;34m:\u001b[0m\u001b[0;34m\u001b[0m\u001b[0;34m\u001b[0m\u001b[0m\n\u001b[1;32m    138\u001b[0m       \u001b[0;32myield\u001b[0m \u001b[0mbase\u001b[0m\u001b[0;34m.\u001b[0m\u001b[0mTrackableReference\u001b[0m\u001b[0;34m(\u001b[0m\u001b[0mname\u001b[0m\u001b[0;34m,\u001b[0m \u001b[0mchild\u001b[0m\u001b[0;34m)\u001b[0m\u001b[0;34m\u001b[0m\u001b[0;34m\u001b[0m\u001b[0m\n",
            "\u001b[0;32m/usr/local/lib/python3.7/dist-packages/tensorflow/python/training/tracking/graph_view.py\u001b[0m in \u001b[0;36mlist_children\u001b[0;34m(self, obj, save_type, **kwargs)\u001b[0m\n\u001b[1;32m    254\u001b[0m     \u001b[0mobj\u001b[0m\u001b[0;34m.\u001b[0m\u001b[0m_maybe_initialize_trackable\u001b[0m\u001b[0;34m(\u001b[0m\u001b[0;34m)\u001b[0m\u001b[0;34m\u001b[0m\u001b[0;34m\u001b[0m\u001b[0m\n\u001b[1;32m    255\u001b[0m     children = [base.TrackableReference(name, ref) for name, ref\n\u001b[0;32m--> 256\u001b[0;31m                 in obj._trackable_children(save_type, **kwargs).items()]\n\u001b[0m\u001b[1;32m    257\u001b[0m     \u001b[0;31m# pylint: enable=protected-access\u001b[0m\u001b[0;34m\u001b[0m\u001b[0;34m\u001b[0m\u001b[0;34m\u001b[0m\u001b[0m\n\u001b[1;32m    258\u001b[0m \u001b[0;34m\u001b[0m\u001b[0m\n",
            "\u001b[0;32m/usr/local/lib/python3.7/dist-packages/tensorflow/python/training/tracking/base.py\u001b[0m in \u001b[0;36m_trackable_children\u001b[0;34m(self, save_type, **kwargs)\u001b[0m\n\u001b[1;32m   1477\u001b[0m     \u001b[0;32melif\u001b[0m \u001b[0msave_type\u001b[0m \u001b[0;34m==\u001b[0m \u001b[0mSaveType\u001b[0m\u001b[0;34m.\u001b[0m\u001b[0mSAVEDMODEL\u001b[0m\u001b[0;34m:\u001b[0m\u001b[0;34m\u001b[0m\u001b[0;34m\u001b[0m\u001b[0m\n\u001b[1;32m   1478\u001b[0m       \u001b[0mcache\u001b[0m \u001b[0;34m=\u001b[0m \u001b[0mkwargs\u001b[0m\u001b[0;34m[\u001b[0m\u001b[0;34m\"cache\"\u001b[0m\u001b[0;34m]\u001b[0m\u001b[0;34m\u001b[0m\u001b[0;34m\u001b[0m\u001b[0m\n\u001b[0;32m-> 1479\u001b[0;31m       \u001b[0;32mreturn\u001b[0m \u001b[0mself\u001b[0m\u001b[0;34m.\u001b[0m\u001b[0m_get_legacy_saved_model_children\u001b[0m\u001b[0;34m(\u001b[0m\u001b[0mcache\u001b[0m\u001b[0;34m)\u001b[0m\u001b[0;34m\u001b[0m\u001b[0;34m\u001b[0m\u001b[0m\n\u001b[0m\u001b[1;32m   1480\u001b[0m     \u001b[0;32melse\u001b[0m\u001b[0;34m:\u001b[0m\u001b[0;34m\u001b[0m\u001b[0;34m\u001b[0m\u001b[0m\n\u001b[1;32m   1481\u001b[0m       raise ValueError(\"Unexpected format passed to `_trackable_children`. \"\n",
            "\u001b[0;32m/usr/local/lib/python3.7/dist-packages/tensorflow/python/training/tracking/base.py\u001b[0m in \u001b[0;36m_get_legacy_saved_model_children\u001b[0;34m(self, serialization_cache)\u001b[0m\n\u001b[1;32m   1488\u001b[0m \u001b[0;34m\u001b[0m\u001b[0m\n\u001b[1;32m   1489\u001b[0m     \u001b[0;31m# Retrieve functions attached to the object.\u001b[0m\u001b[0;34m\u001b[0m\u001b[0;34m\u001b[0m\u001b[0;34m\u001b[0m\u001b[0m\n\u001b[0;32m-> 1490\u001b[0;31m     \u001b[0mfunctions\u001b[0m \u001b[0;34m=\u001b[0m \u001b[0mself\u001b[0m\u001b[0;34m.\u001b[0m\u001b[0m_list_functions_for_serialization\u001b[0m\u001b[0;34m(\u001b[0m\u001b[0mserialization_cache\u001b[0m\u001b[0;34m)\u001b[0m\u001b[0;34m\u001b[0m\u001b[0;34m\u001b[0m\u001b[0m\n\u001b[0m\u001b[1;32m   1491\u001b[0m \u001b[0;34m\u001b[0m\u001b[0m\n\u001b[1;32m   1492\u001b[0m     \u001b[0;31m# Trace concrete functions to force side-effects:\u001b[0m\u001b[0;34m\u001b[0m\u001b[0;34m\u001b[0m\u001b[0;34m\u001b[0m\u001b[0m\n",
            "\u001b[0;32m/usr/local/lib/python3.7/dist-packages/keras/engine/training.py\u001b[0m in \u001b[0;36m_list_functions_for_serialization\u001b[0;34m(self, serialization_cache)\u001b[0m\n\u001b[1;32m   3080\u001b[0m     \u001b[0mself\u001b[0m\u001b[0;34m.\u001b[0m\u001b[0mtrain_tf_function\u001b[0m \u001b[0;34m=\u001b[0m \u001b[0;32mNone\u001b[0m\u001b[0;34m\u001b[0m\u001b[0;34m\u001b[0m\u001b[0m\n\u001b[1;32m   3081\u001b[0m     functions = super(\n\u001b[0;32m-> 3082\u001b[0;31m         Model, self)._list_functions_for_serialization(serialization_cache)\n\u001b[0m\u001b[1;32m   3083\u001b[0m     \u001b[0mself\u001b[0m\u001b[0;34m.\u001b[0m\u001b[0mtrain_function\u001b[0m \u001b[0;34m=\u001b[0m \u001b[0mtrain_function\u001b[0m\u001b[0;34m\u001b[0m\u001b[0;34m\u001b[0m\u001b[0m\n\u001b[1;32m   3084\u001b[0m     \u001b[0mself\u001b[0m\u001b[0;34m.\u001b[0m\u001b[0mtest_function\u001b[0m \u001b[0;34m=\u001b[0m \u001b[0mtest_function\u001b[0m\u001b[0;34m\u001b[0m\u001b[0;34m\u001b[0m\u001b[0m\n",
            "\u001b[0;32m/usr/local/lib/python3.7/dist-packages/keras/engine/base_layer.py\u001b[0m in \u001b[0;36m_list_functions_for_serialization\u001b[0;34m(self, serialization_cache)\u001b[0m\n\u001b[1;32m   3167\u001b[0m   \u001b[0;32mdef\u001b[0m \u001b[0m_list_functions_for_serialization\u001b[0m\u001b[0;34m(\u001b[0m\u001b[0mself\u001b[0m\u001b[0;34m,\u001b[0m \u001b[0mserialization_cache\u001b[0m\u001b[0;34m)\u001b[0m\u001b[0;34m:\u001b[0m\u001b[0;34m\u001b[0m\u001b[0;34m\u001b[0m\u001b[0m\n\u001b[1;32m   3168\u001b[0m     return (self._trackable_saved_model_saver\n\u001b[0;32m-> 3169\u001b[0;31m             .list_functions_for_serialization(serialization_cache))\n\u001b[0m\u001b[1;32m   3170\u001b[0m \u001b[0;34m\u001b[0m\u001b[0m\n\u001b[1;32m   3171\u001b[0m   \u001b[0;34m@\u001b[0m\u001b[0mproperty\u001b[0m\u001b[0;34m\u001b[0m\u001b[0;34m\u001b[0m\u001b[0m\n",
            "\u001b[0;32m/usr/local/lib/python3.7/dist-packages/keras/saving/saved_model/base_serialization.py\u001b[0m in \u001b[0;36mlist_functions_for_serialization\u001b[0;34m(self, serialization_cache)\u001b[0m\n\u001b[1;32m     91\u001b[0m       \u001b[0;32mreturn\u001b[0m \u001b[0;34m{\u001b[0m\u001b[0;34m}\u001b[0m\u001b[0;34m\u001b[0m\u001b[0;34m\u001b[0m\u001b[0m\n\u001b[1;32m     92\u001b[0m \u001b[0;34m\u001b[0m\u001b[0m\n\u001b[0;32m---> 93\u001b[0;31m     \u001b[0mfns\u001b[0m \u001b[0;34m=\u001b[0m \u001b[0mself\u001b[0m\u001b[0;34m.\u001b[0m\u001b[0mfunctions_to_serialize\u001b[0m\u001b[0;34m(\u001b[0m\u001b[0mserialization_cache\u001b[0m\u001b[0;34m)\u001b[0m\u001b[0;34m\u001b[0m\u001b[0;34m\u001b[0m\u001b[0m\n\u001b[0m\u001b[1;32m     94\u001b[0m \u001b[0;34m\u001b[0m\u001b[0m\n\u001b[1;32m     95\u001b[0m     \u001b[0;31m# The parent AutoTrackable class saves all user-defined tf.functions, and\u001b[0m\u001b[0;34m\u001b[0m\u001b[0;34m\u001b[0m\u001b[0;34m\u001b[0m\u001b[0m\n",
            "\u001b[0;32m/usr/local/lib/python3.7/dist-packages/keras/saving/saved_model/layer_serialization.py\u001b[0m in \u001b[0;36mfunctions_to_serialize\u001b[0;34m(self, serialization_cache)\u001b[0m\n\u001b[1;32m     71\u001b[0m   \u001b[0;32mdef\u001b[0m \u001b[0mfunctions_to_serialize\u001b[0m\u001b[0;34m(\u001b[0m\u001b[0mself\u001b[0m\u001b[0;34m,\u001b[0m \u001b[0mserialization_cache\u001b[0m\u001b[0;34m)\u001b[0m\u001b[0;34m:\u001b[0m\u001b[0;34m\u001b[0m\u001b[0;34m\u001b[0m\u001b[0m\n\u001b[1;32m     72\u001b[0m     return (self._get_serialized_attributes(\n\u001b[0;32m---> 73\u001b[0;31m         serialization_cache).functions_to_serialize)\n\u001b[0m\u001b[1;32m     74\u001b[0m \u001b[0;34m\u001b[0m\u001b[0m\n\u001b[1;32m     75\u001b[0m   \u001b[0;32mdef\u001b[0m \u001b[0m_get_serialized_attributes\u001b[0m\u001b[0;34m(\u001b[0m\u001b[0mself\u001b[0m\u001b[0;34m,\u001b[0m \u001b[0mserialization_cache\u001b[0m\u001b[0;34m)\u001b[0m\u001b[0;34m:\u001b[0m\u001b[0;34m\u001b[0m\u001b[0;34m\u001b[0m\u001b[0m\n",
            "\u001b[0;32m/usr/local/lib/python3.7/dist-packages/keras/saving/saved_model/layer_serialization.py\u001b[0m in \u001b[0;36m_get_serialized_attributes\u001b[0;34m(self, serialization_cache)\u001b[0m\n\u001b[1;32m     87\u001b[0m \u001b[0;34m\u001b[0m\u001b[0m\n\u001b[1;32m     88\u001b[0m     object_dict, function_dict = self._get_serialized_attributes_internal(\n\u001b[0;32m---> 89\u001b[0;31m         serialization_cache)\n\u001b[0m\u001b[1;32m     90\u001b[0m \u001b[0;34m\u001b[0m\u001b[0m\n\u001b[1;32m     91\u001b[0m     \u001b[0mserialized_attr\u001b[0m\u001b[0;34m.\u001b[0m\u001b[0mset_and_validate_objects\u001b[0m\u001b[0;34m(\u001b[0m\u001b[0mobject_dict\u001b[0m\u001b[0;34m)\u001b[0m\u001b[0;34m\u001b[0m\u001b[0;34m\u001b[0m\u001b[0m\n",
            "\u001b[0;32m/usr/local/lib/python3.7/dist-packages/keras/saving/saved_model/model_serialization.py\u001b[0m in \u001b[0;36m_get_serialized_attributes_internal\u001b[0;34m(self, serialization_cache)\u001b[0m\n\u001b[1;32m     49\u001b[0m     \u001b[0;31m# cache (i.e. this is the root level object).\u001b[0m\u001b[0;34m\u001b[0m\u001b[0;34m\u001b[0m\u001b[0;34m\u001b[0m\u001b[0m\n\u001b[1;32m     50\u001b[0m     \u001b[0;32mif\u001b[0m \u001b[0mlen\u001b[0m\u001b[0;34m(\u001b[0m\u001b[0mserialization_cache\u001b[0m\u001b[0;34m[\u001b[0m\u001b[0mconstants\u001b[0m\u001b[0;34m.\u001b[0m\u001b[0mKERAS_CACHE_KEY\u001b[0m\u001b[0;34m]\u001b[0m\u001b[0;34m)\u001b[0m \u001b[0;34m==\u001b[0m \u001b[0;36m1\u001b[0m\u001b[0;34m:\u001b[0m\u001b[0;34m\u001b[0m\u001b[0;34m\u001b[0m\u001b[0m\n\u001b[0;32m---> 51\u001b[0;31m       \u001b[0mdefault_signature\u001b[0m \u001b[0;34m=\u001b[0m \u001b[0msave_impl\u001b[0m\u001b[0;34m.\u001b[0m\u001b[0mdefault_save_signature\u001b[0m\u001b[0;34m(\u001b[0m\u001b[0mself\u001b[0m\u001b[0;34m.\u001b[0m\u001b[0mobj\u001b[0m\u001b[0;34m)\u001b[0m\u001b[0;34m\u001b[0m\u001b[0;34m\u001b[0m\u001b[0m\n\u001b[0m\u001b[1;32m     52\u001b[0m \u001b[0;34m\u001b[0m\u001b[0m\n\u001b[1;32m     53\u001b[0m     \u001b[0;31m# Other than the default signature function, all other attributes match with\u001b[0m\u001b[0;34m\u001b[0m\u001b[0;34m\u001b[0m\u001b[0;34m\u001b[0m\u001b[0m\n",
            "\u001b[0;32m/usr/local/lib/python3.7/dist-packages/keras/saving/saved_model/save_impl.py\u001b[0m in \u001b[0;36mdefault_save_signature\u001b[0;34m(layer)\u001b[0m\n\u001b[1;32m    206\u001b[0m \u001b[0;32mdef\u001b[0m \u001b[0mdefault_save_signature\u001b[0m\u001b[0;34m(\u001b[0m\u001b[0mlayer\u001b[0m\u001b[0;34m)\u001b[0m\u001b[0;34m:\u001b[0m\u001b[0;34m\u001b[0m\u001b[0;34m\u001b[0m\u001b[0m\n\u001b[1;32m    207\u001b[0m   \u001b[0moriginal_losses\u001b[0m \u001b[0;34m=\u001b[0m \u001b[0m_reset_layer_losses\u001b[0m\u001b[0;34m(\u001b[0m\u001b[0mlayer\u001b[0m\u001b[0;34m)\u001b[0m\u001b[0;34m\u001b[0m\u001b[0;34m\u001b[0m\u001b[0m\n\u001b[0;32m--> 208\u001b[0;31m   \u001b[0mfn\u001b[0m \u001b[0;34m=\u001b[0m \u001b[0msaving_utils\u001b[0m\u001b[0;34m.\u001b[0m\u001b[0mtrace_model_call\u001b[0m\u001b[0;34m(\u001b[0m\u001b[0mlayer\u001b[0m\u001b[0;34m)\u001b[0m\u001b[0;34m\u001b[0m\u001b[0;34m\u001b[0m\u001b[0m\n\u001b[0m\u001b[1;32m    209\u001b[0m   \u001b[0m_restore_layer_losses\u001b[0m\u001b[0;34m(\u001b[0m\u001b[0moriginal_losses\u001b[0m\u001b[0;34m)\u001b[0m\u001b[0;34m\u001b[0m\u001b[0;34m\u001b[0m\u001b[0m\n\u001b[1;32m    210\u001b[0m   \u001b[0;32mreturn\u001b[0m \u001b[0mfn\u001b[0m\u001b[0;34m\u001b[0m\u001b[0;34m\u001b[0m\u001b[0m\n",
            "\u001b[0;32m/usr/local/lib/python3.7/dist-packages/keras/saving/saving_utils.py\u001b[0m in \u001b[0;36mtrace_model_call\u001b[0;34m(model, input_signature)\u001b[0m\n\u001b[1;32m    146\u001b[0m     \u001b[0;32mreturn\u001b[0m \u001b[0;34m{\u001b[0m\u001b[0mname\u001b[0m\u001b[0;34m:\u001b[0m \u001b[0moutput\u001b[0m \u001b[0;32mfor\u001b[0m \u001b[0mname\u001b[0m\u001b[0;34m,\u001b[0m \u001b[0moutput\u001b[0m \u001b[0;32min\u001b[0m \u001b[0mzip\u001b[0m\u001b[0;34m(\u001b[0m\u001b[0moutput_names\u001b[0m\u001b[0;34m,\u001b[0m \u001b[0moutputs\u001b[0m\u001b[0;34m)\u001b[0m\u001b[0;34m}\u001b[0m\u001b[0;34m\u001b[0m\u001b[0;34m\u001b[0m\u001b[0m\n\u001b[1;32m    147\u001b[0m \u001b[0;34m\u001b[0m\u001b[0m\n\u001b[0;32m--> 148\u001b[0;31m   \u001b[0;32mreturn\u001b[0m \u001b[0m_wrapped_model\u001b[0m\u001b[0;34m.\u001b[0m\u001b[0mget_concrete_function\u001b[0m\u001b[0;34m(\u001b[0m\u001b[0;34m*\u001b[0m\u001b[0mmodel_args\u001b[0m\u001b[0;34m,\u001b[0m \u001b[0;34m**\u001b[0m\u001b[0mmodel_kwargs\u001b[0m\u001b[0;34m)\u001b[0m\u001b[0;34m\u001b[0m\u001b[0;34m\u001b[0m\u001b[0m\n\u001b[0m\u001b[1;32m    149\u001b[0m \u001b[0;34m\u001b[0m\u001b[0m\n\u001b[1;32m    150\u001b[0m \u001b[0;34m\u001b[0m\u001b[0m\n",
            "\u001b[0;32m/usr/local/lib/python3.7/dist-packages/tensorflow/python/eager/def_function.py\u001b[0m in \u001b[0;36mget_concrete_function\u001b[0;34m(self, *args, **kwargs)\u001b[0m\n\u001b[1;32m   1262\u001b[0m   \u001b[0;32mdef\u001b[0m \u001b[0mget_concrete_function\u001b[0m\u001b[0;34m(\u001b[0m\u001b[0mself\u001b[0m\u001b[0;34m,\u001b[0m \u001b[0;34m*\u001b[0m\u001b[0margs\u001b[0m\u001b[0;34m,\u001b[0m \u001b[0;34m**\u001b[0m\u001b[0mkwargs\u001b[0m\u001b[0;34m)\u001b[0m\u001b[0;34m:\u001b[0m\u001b[0;34m\u001b[0m\u001b[0;34m\u001b[0m\u001b[0m\n\u001b[1;32m   1263\u001b[0m     \u001b[0;31m# Implements GenericFunction.get_concrete_function.\u001b[0m\u001b[0;34m\u001b[0m\u001b[0;34m\u001b[0m\u001b[0;34m\u001b[0m\u001b[0m\n\u001b[0;32m-> 1264\u001b[0;31m     \u001b[0mconcrete\u001b[0m \u001b[0;34m=\u001b[0m \u001b[0mself\u001b[0m\u001b[0;34m.\u001b[0m\u001b[0m_get_concrete_function_garbage_collected\u001b[0m\u001b[0;34m(\u001b[0m\u001b[0;34m*\u001b[0m\u001b[0margs\u001b[0m\u001b[0;34m,\u001b[0m \u001b[0;34m**\u001b[0m\u001b[0mkwargs\u001b[0m\u001b[0;34m)\u001b[0m\u001b[0;34m\u001b[0m\u001b[0;34m\u001b[0m\u001b[0m\n\u001b[0m\u001b[1;32m   1265\u001b[0m     \u001b[0mconcrete\u001b[0m\u001b[0;34m.\u001b[0m\u001b[0m_garbage_collector\u001b[0m\u001b[0;34m.\u001b[0m\u001b[0mrelease\u001b[0m\u001b[0;34m(\u001b[0m\u001b[0;34m)\u001b[0m  \u001b[0;31m# pylint: disable=protected-access\u001b[0m\u001b[0;34m\u001b[0m\u001b[0;34m\u001b[0m\u001b[0m\n\u001b[1;32m   1266\u001b[0m     \u001b[0;32mreturn\u001b[0m \u001b[0mconcrete\u001b[0m\u001b[0;34m\u001b[0m\u001b[0;34m\u001b[0m\u001b[0m\n",
            "\u001b[0;32m/usr/local/lib/python3.7/dist-packages/tensorflow/python/eager/def_function.py\u001b[0m in \u001b[0;36m_get_concrete_function_garbage_collected\u001b[0;34m(self, *args, **kwargs)\u001b[0m\n\u001b[1;32m   1242\u001b[0m       \u001b[0;32mif\u001b[0m \u001b[0mself\u001b[0m\u001b[0;34m.\u001b[0m\u001b[0m_stateful_fn\u001b[0m \u001b[0;32mis\u001b[0m \u001b[0;32mNone\u001b[0m\u001b[0;34m:\u001b[0m\u001b[0;34m\u001b[0m\u001b[0;34m\u001b[0m\u001b[0m\n\u001b[1;32m   1243\u001b[0m         \u001b[0minitializers\u001b[0m \u001b[0;34m=\u001b[0m \u001b[0;34m[\u001b[0m\u001b[0;34m]\u001b[0m\u001b[0;34m\u001b[0m\u001b[0;34m\u001b[0m\u001b[0m\n\u001b[0;32m-> 1244\u001b[0;31m         \u001b[0mself\u001b[0m\u001b[0;34m.\u001b[0m\u001b[0m_initialize\u001b[0m\u001b[0;34m(\u001b[0m\u001b[0margs\u001b[0m\u001b[0;34m,\u001b[0m \u001b[0mkwargs\u001b[0m\u001b[0;34m,\u001b[0m \u001b[0madd_initializers_to\u001b[0m\u001b[0;34m=\u001b[0m\u001b[0minitializers\u001b[0m\u001b[0;34m)\u001b[0m\u001b[0;34m\u001b[0m\u001b[0;34m\u001b[0m\u001b[0m\n\u001b[0m\u001b[1;32m   1245\u001b[0m         \u001b[0mself\u001b[0m\u001b[0;34m.\u001b[0m\u001b[0m_initialize_uninitialized_variables\u001b[0m\u001b[0;34m(\u001b[0m\u001b[0minitializers\u001b[0m\u001b[0;34m)\u001b[0m\u001b[0;34m\u001b[0m\u001b[0;34m\u001b[0m\u001b[0m\n\u001b[1;32m   1246\u001b[0m \u001b[0;34m\u001b[0m\u001b[0m\n",
            "\u001b[0;32m/usr/local/lib/python3.7/dist-packages/tensorflow/python/eager/def_function.py\u001b[0m in \u001b[0;36m_initialize\u001b[0;34m(self, args, kwds, add_initializers_to)\u001b[0m\n\u001b[1;32m    784\u001b[0m     self._concrete_stateful_fn = (\n\u001b[1;32m    785\u001b[0m         self._stateful_fn._get_concrete_function_internal_garbage_collected(  # pylint: disable=protected-access\n\u001b[0;32m--> 786\u001b[0;31m             *args, **kwds))\n\u001b[0m\u001b[1;32m    787\u001b[0m \u001b[0;34m\u001b[0m\u001b[0m\n\u001b[1;32m    788\u001b[0m     \u001b[0;32mdef\u001b[0m \u001b[0minvalid_creator_scope\u001b[0m\u001b[0;34m(\u001b[0m\u001b[0;34m*\u001b[0m\u001b[0munused_args\u001b[0m\u001b[0;34m,\u001b[0m \u001b[0;34m**\u001b[0m\u001b[0munused_kwds\u001b[0m\u001b[0;34m)\u001b[0m\u001b[0;34m:\u001b[0m\u001b[0;34m\u001b[0m\u001b[0;34m\u001b[0m\u001b[0m\n",
            "\u001b[0;32m/usr/local/lib/python3.7/dist-packages/tensorflow/python/eager/function.py\u001b[0m in \u001b[0;36m_get_concrete_function_internal_garbage_collected\u001b[0;34m(self, *args, **kwargs)\u001b[0m\n\u001b[1;32m   2981\u001b[0m       \u001b[0margs\u001b[0m\u001b[0;34m,\u001b[0m \u001b[0mkwargs\u001b[0m \u001b[0;34m=\u001b[0m \u001b[0;32mNone\u001b[0m\u001b[0;34m,\u001b[0m \u001b[0;32mNone\u001b[0m\u001b[0;34m\u001b[0m\u001b[0;34m\u001b[0m\u001b[0m\n\u001b[1;32m   2982\u001b[0m     \u001b[0;32mwith\u001b[0m \u001b[0mself\u001b[0m\u001b[0;34m.\u001b[0m\u001b[0m_lock\u001b[0m\u001b[0;34m:\u001b[0m\u001b[0;34m\u001b[0m\u001b[0;34m\u001b[0m\u001b[0m\n\u001b[0;32m-> 2983\u001b[0;31m       \u001b[0mgraph_function\u001b[0m\u001b[0;34m,\u001b[0m \u001b[0m_\u001b[0m \u001b[0;34m=\u001b[0m \u001b[0mself\u001b[0m\u001b[0;34m.\u001b[0m\u001b[0m_maybe_define_function\u001b[0m\u001b[0;34m(\u001b[0m\u001b[0margs\u001b[0m\u001b[0;34m,\u001b[0m \u001b[0mkwargs\u001b[0m\u001b[0;34m)\u001b[0m\u001b[0;34m\u001b[0m\u001b[0;34m\u001b[0m\u001b[0m\n\u001b[0m\u001b[1;32m   2984\u001b[0m     \u001b[0;32mreturn\u001b[0m \u001b[0mgraph_function\u001b[0m\u001b[0;34m\u001b[0m\u001b[0;34m\u001b[0m\u001b[0m\n\u001b[1;32m   2985\u001b[0m \u001b[0;34m\u001b[0m\u001b[0m\n",
            "\u001b[0;32m/usr/local/lib/python3.7/dist-packages/tensorflow/python/eager/function.py\u001b[0m in \u001b[0;36m_maybe_define_function\u001b[0;34m(self, args, kwargs)\u001b[0m\n\u001b[1;32m   3290\u001b[0m \u001b[0;34m\u001b[0m\u001b[0m\n\u001b[1;32m   3291\u001b[0m           \u001b[0mself\u001b[0m\u001b[0;34m.\u001b[0m\u001b[0m_function_cache\u001b[0m\u001b[0;34m.\u001b[0m\u001b[0madd_call_context\u001b[0m\u001b[0;34m(\u001b[0m\u001b[0mcache_key\u001b[0m\u001b[0;34m.\u001b[0m\u001b[0mcall_context\u001b[0m\u001b[0;34m)\u001b[0m\u001b[0;34m\u001b[0m\u001b[0;34m\u001b[0m\u001b[0m\n\u001b[0;32m-> 3292\u001b[0;31m           \u001b[0mgraph_function\u001b[0m \u001b[0;34m=\u001b[0m \u001b[0mself\u001b[0m\u001b[0;34m.\u001b[0m\u001b[0m_create_graph_function\u001b[0m\u001b[0;34m(\u001b[0m\u001b[0margs\u001b[0m\u001b[0;34m,\u001b[0m \u001b[0mkwargs\u001b[0m\u001b[0;34m)\u001b[0m\u001b[0;34m\u001b[0m\u001b[0;34m\u001b[0m\u001b[0m\n\u001b[0m\u001b[1;32m   3293\u001b[0m           self._function_cache.add(cache_key, cache_key_deletion_observer,\n\u001b[1;32m   3294\u001b[0m                                    graph_function)\n",
            "\u001b[0;32m/usr/local/lib/python3.7/dist-packages/tensorflow/python/eager/function.py\u001b[0m in \u001b[0;36m_create_graph_function\u001b[0;34m(self, args, kwargs, override_flat_arg_shapes)\u001b[0m\n\u001b[1;32m   3138\u001b[0m             \u001b[0marg_names\u001b[0m\u001b[0;34m=\u001b[0m\u001b[0marg_names\u001b[0m\u001b[0;34m,\u001b[0m\u001b[0;34m\u001b[0m\u001b[0;34m\u001b[0m\u001b[0m\n\u001b[1;32m   3139\u001b[0m             \u001b[0moverride_flat_arg_shapes\u001b[0m\u001b[0;34m=\u001b[0m\u001b[0moverride_flat_arg_shapes\u001b[0m\u001b[0;34m,\u001b[0m\u001b[0;34m\u001b[0m\u001b[0;34m\u001b[0m\u001b[0m\n\u001b[0;32m-> 3140\u001b[0;31m             capture_by_value=self._capture_by_value),\n\u001b[0m\u001b[1;32m   3141\u001b[0m         \u001b[0mself\u001b[0m\u001b[0;34m.\u001b[0m\u001b[0m_function_attributes\u001b[0m\u001b[0;34m,\u001b[0m\u001b[0;34m\u001b[0m\u001b[0;34m\u001b[0m\u001b[0m\n\u001b[1;32m   3142\u001b[0m         \u001b[0mfunction_spec\u001b[0m\u001b[0;34m=\u001b[0m\u001b[0mself\u001b[0m\u001b[0;34m.\u001b[0m\u001b[0mfunction_spec\u001b[0m\u001b[0;34m,\u001b[0m\u001b[0;34m\u001b[0m\u001b[0;34m\u001b[0m\u001b[0m\n",
            "\u001b[0;32m/usr/local/lib/python3.7/dist-packages/tensorflow/python/framework/func_graph.py\u001b[0m in \u001b[0;36mfunc_graph_from_py_func\u001b[0;34m(name, python_func, args, kwargs, signature, func_graph, autograph, autograph_options, add_control_dependencies, arg_names, op_return_value, collections, capture_by_value, override_flat_arg_shapes, acd_record_initial_resource_uses)\u001b[0m\n\u001b[1;32m   1200\u001b[0m         if x is not None)\n\u001b[1;32m   1201\u001b[0m \u001b[0;34m\u001b[0m\u001b[0m\n\u001b[0;32m-> 1202\u001b[0;31m     \u001b[0mfunc_graph\u001b[0m\u001b[0;34m.\u001b[0m\u001b[0mvariables\u001b[0m \u001b[0;34m=\u001b[0m \u001b[0mvariables\u001b[0m\u001b[0;34m\u001b[0m\u001b[0;34m\u001b[0m\u001b[0m\n\u001b[0m\u001b[1;32m   1203\u001b[0m \u001b[0;34m\u001b[0m\u001b[0m\n\u001b[1;32m   1204\u001b[0m   \u001b[0;32mif\u001b[0m \u001b[0madd_control_dependencies\u001b[0m\u001b[0;34m:\u001b[0m\u001b[0;34m\u001b[0m\u001b[0;34m\u001b[0m\u001b[0m\n",
            "\u001b[0;32m/usr/local/lib/python3.7/dist-packages/tensorflow/python/framework/auto_control_deps.py\u001b[0m in \u001b[0;36m__exit__\u001b[0;34m(self, unused_type, unused_value, unused_traceback)\u001b[0m\n\u001b[1;32m    463\u001b[0m       \u001b[0;31m# Check for any resource inputs. If we find any, we update control_inputs\u001b[0m\u001b[0;34m\u001b[0m\u001b[0;34m\u001b[0m\u001b[0;34m\u001b[0m\u001b[0m\n\u001b[1;32m    464\u001b[0m       \u001b[0;31m# and last_write_to_resource.\u001b[0m\u001b[0;34m\u001b[0m\u001b[0;34m\u001b[0m\u001b[0;34m\u001b[0m\u001b[0m\n\u001b[0;32m--> 465\u001b[0;31m       \u001b[0;32mfor\u001b[0m \u001b[0minp\u001b[0m\u001b[0;34m,\u001b[0m \u001b[0mresource_type\u001b[0m \u001b[0;32min\u001b[0m \u001b[0m_get_resource_inputs\u001b[0m\u001b[0;34m(\u001b[0m\u001b[0mop\u001b[0m\u001b[0;34m)\u001b[0m\u001b[0;34m:\u001b[0m\u001b[0;34m\u001b[0m\u001b[0;34m\u001b[0m\u001b[0m\n\u001b[0m\u001b[1;32m    466\u001b[0m         \u001b[0mis_read\u001b[0m \u001b[0;34m=\u001b[0m \u001b[0mresource_type\u001b[0m \u001b[0;34m==\u001b[0m \u001b[0mResourceType\u001b[0m\u001b[0;34m.\u001b[0m\u001b[0mREAD_ONLY\u001b[0m\u001b[0;34m\u001b[0m\u001b[0;34m\u001b[0m\u001b[0m\n\u001b[1;32m    467\u001b[0m         \u001b[0minput_id\u001b[0m \u001b[0;34m=\u001b[0m \u001b[0mops\u001b[0m\u001b[0;34m.\u001b[0m\u001b[0mtensor_id\u001b[0m\u001b[0;34m(\u001b[0m\u001b[0minp\u001b[0m\u001b[0;34m)\u001b[0m\u001b[0;34m\u001b[0m\u001b[0;34m\u001b[0m\u001b[0m\n",
            "\u001b[0;32m/usr/local/lib/python3.7/dist-packages/tensorflow/python/framework/auto_control_deps.py\u001b[0m in \u001b[0;36m_get_resource_inputs\u001b[0;34m(op)\u001b[0m\n\u001b[1;32m    661\u001b[0m \u001b[0;32mdef\u001b[0m \u001b[0m_get_resource_inputs\u001b[0m\u001b[0;34m(\u001b[0m\u001b[0mop\u001b[0m\u001b[0;34m)\u001b[0m\u001b[0;34m:\u001b[0m\u001b[0;34m\u001b[0m\u001b[0;34m\u001b[0m\u001b[0m\n\u001b[1;32m    662\u001b[0m   \u001b[0;34m\"\"\"Returns an iterable of resources touched by this `op`.\"\"\"\u001b[0m\u001b[0;34m\u001b[0m\u001b[0;34m\u001b[0m\u001b[0m\n\u001b[0;32m--> 663\u001b[0;31m   \u001b[0mreads\u001b[0m\u001b[0;34m,\u001b[0m \u001b[0mwrites\u001b[0m \u001b[0;34m=\u001b[0m \u001b[0mutils\u001b[0m\u001b[0;34m.\u001b[0m\u001b[0mget_read_write_resource_inputs\u001b[0m\u001b[0;34m(\u001b[0m\u001b[0mop\u001b[0m\u001b[0;34m)\u001b[0m\u001b[0;34m\u001b[0m\u001b[0;34m\u001b[0m\u001b[0m\n\u001b[0m\u001b[1;32m    664\u001b[0m   \u001b[0msaturated\u001b[0m \u001b[0;34m=\u001b[0m \u001b[0;32mFalse\u001b[0m\u001b[0;34m\u001b[0m\u001b[0;34m\u001b[0m\u001b[0m\n\u001b[1;32m    665\u001b[0m   \u001b[0;32mwhile\u001b[0m \u001b[0;32mnot\u001b[0m \u001b[0msaturated\u001b[0m\u001b[0;34m:\u001b[0m\u001b[0;34m\u001b[0m\u001b[0;34m\u001b[0m\u001b[0m\n",
            "\u001b[0;32m/usr/local/lib/python3.7/dist-packages/tensorflow/python/framework/auto_control_deps_utils.py\u001b[0m in \u001b[0;36mget_read_write_resource_inputs\u001b[0;34m(op)\u001b[0m\n\u001b[1;32m    103\u001b[0m \u001b[0;34m\u001b[0m\u001b[0m\n\u001b[1;32m    104\u001b[0m   \u001b[0;32mtry\u001b[0m\u001b[0;34m:\u001b[0m\u001b[0;34m\u001b[0m\u001b[0;34m\u001b[0m\u001b[0m\n\u001b[0;32m--> 105\u001b[0;31m     \u001b[0mread_only_input_indices\u001b[0m \u001b[0;34m=\u001b[0m \u001b[0mop\u001b[0m\u001b[0;34m.\u001b[0m\u001b[0mget_attr\u001b[0m\u001b[0;34m(\u001b[0m\u001b[0mREAD_ONLY_RESOURCE_INPUTS_ATTR\u001b[0m\u001b[0;34m)\u001b[0m\u001b[0;34m\u001b[0m\u001b[0;34m\u001b[0m\u001b[0m\n\u001b[0m\u001b[1;32m    106\u001b[0m   \u001b[0;32mexcept\u001b[0m \u001b[0mValueError\u001b[0m\u001b[0;34m:\u001b[0m\u001b[0;34m\u001b[0m\u001b[0;34m\u001b[0m\u001b[0m\n\u001b[1;32m    107\u001b[0m     \u001b[0;31m# Attr was not set. Add all resource inputs to `writes` and return.\u001b[0m\u001b[0;34m\u001b[0m\u001b[0;34m\u001b[0m\u001b[0;34m\u001b[0m\u001b[0m\n",
            "\u001b[0;32m/usr/local/lib/python3.7/dist-packages/tensorflow/python/framework/ops.py\u001b[0m in \u001b[0;36mget_attr\u001b[0;34m(self, name)\u001b[0m\n\u001b[1;32m   2688\u001b[0m     \u001b[0;32mtry\u001b[0m\u001b[0;34m:\u001b[0m\u001b[0;34m\u001b[0m\u001b[0;34m\u001b[0m\u001b[0m\n\u001b[1;32m   2689\u001b[0m       \u001b[0;32mwith\u001b[0m \u001b[0mc_api_util\u001b[0m\u001b[0;34m.\u001b[0m\u001b[0mtf_buffer\u001b[0m\u001b[0;34m(\u001b[0m\u001b[0;34m)\u001b[0m \u001b[0;32mas\u001b[0m \u001b[0mbuf\u001b[0m\u001b[0;34m:\u001b[0m\u001b[0;34m\u001b[0m\u001b[0;34m\u001b[0m\u001b[0m\n\u001b[0;32m-> 2690\u001b[0;31m         \u001b[0mpywrap_tf_session\u001b[0m\u001b[0;34m.\u001b[0m\u001b[0mTF_OperationGetAttrValueProto\u001b[0m\u001b[0;34m(\u001b[0m\u001b[0mself\u001b[0m\u001b[0;34m.\u001b[0m\u001b[0m_c_op\u001b[0m\u001b[0;34m,\u001b[0m \u001b[0mname\u001b[0m\u001b[0;34m,\u001b[0m \u001b[0mbuf\u001b[0m\u001b[0;34m)\u001b[0m\u001b[0;34m\u001b[0m\u001b[0;34m\u001b[0m\u001b[0m\n\u001b[0m\u001b[1;32m   2691\u001b[0m         \u001b[0mdata\u001b[0m \u001b[0;34m=\u001b[0m \u001b[0mpywrap_tf_session\u001b[0m\u001b[0;34m.\u001b[0m\u001b[0mTF_GetBuffer\u001b[0m\u001b[0;34m(\u001b[0m\u001b[0mbuf\u001b[0m\u001b[0;34m)\u001b[0m\u001b[0;34m\u001b[0m\u001b[0;34m\u001b[0m\u001b[0m\n\u001b[1;32m   2692\u001b[0m     \u001b[0;32mexcept\u001b[0m \u001b[0merrors\u001b[0m\u001b[0;34m.\u001b[0m\u001b[0mInvalidArgumentError\u001b[0m \u001b[0;32mas\u001b[0m \u001b[0me\u001b[0m\u001b[0;34m:\u001b[0m\u001b[0;34m\u001b[0m\u001b[0;34m\u001b[0m\u001b[0m\n",
            "\u001b[0;31mKeyboardInterrupt\u001b[0m: "
          ]
        }
      ]
    },
    {
      "cell_type": "code",
      "source": [
        "# carica il best model\n",
        "qstudent = keras.models.load_model('qstudent_best')\n",
        "\n",
        "predictions_qs = scaler.inverse_transform(qstudent.predict(test_images))\n"
      ],
      "metadata": {
        "id": "Jm5Z2q2Fsjn1"
      },
      "execution_count": null,
      "outputs": []
    },
    {
      "cell_type": "code",
      "source": [
        "# Turnon curva di efficienza del trigger in funzione del pt\n",
        "\n",
        "# modo facile per ottenerlo: creare due histogrammi uno con la distribuzione di pt per gli eventi che passono il taglio \n",
        "# pt_predetto > soglia e uno con la distribuzione di tutti gli eventi e poi fare il rapporto tra i due istogrammi\n",
        "\n",
        "predictions_qs = predictions_qs[:,0]\n",
        "pttrue = scaler.inverse_transform(test_labels)[:,0]\n",
        "soglia = 10.0 #soglia nominale di trigger Pt>10 GeV/c\n",
        "numer_qs,_ = np.histogram(pttrue[predictions_qs>soglia], bins=20, range=(0.,20.))\n",
        "denum_qs,_ = np.histogram(pttrue, bins=20, range=(0.,20.))\n",
        "\n",
        "eff_qs = numer_qs/denum_qs\n",
        "lrvalues = np.linspace(0.,20.,20)\n",
        "\n",
        "_ = plt.plot(lrvalues,eff, '*')\n",
        "_ = plt.plot(lrvalues,eff_s, 'r*')\n",
        "_ = plt.plot(lrvalues,eff_qs, 'g*')\n",
        "_ = plt.axvline(x=soglia)\n",
        "_ = plt.xlabel(\"pT$ [GeV/c]\")\n",
        "_ = plt.ylabel(\"efficiency\")"
      ],
      "metadata": {
        "colab": {
          "base_uri": "https://localhost:8080/",
          "height": 314
        },
        "id": "68hoCOBjsqvy",
        "outputId": "d2d795ff-194c-4559-b67c-0bcc2b0c5507"
      },
      "execution_count": null,
      "outputs": [
        {
          "output_type": "stream",
          "name": "stderr",
          "text": [
            "/usr/local/lib/python3.7/dist-packages/ipykernel_launcher.py:12: RuntimeWarning: invalid value encountered in true_divide\n",
            "  if sys.path[0] == '':\n"
          ]
        },
        {
          "output_type": "display_data",
          "data": {
            "text/plain": [
              "<Figure size 432x288 with 1 Axes>"
            ],
            "image/png": "[encoded data removed]"
          },
          "metadata": {
            "needs_background": "light"
          }
        }
      ]
    },
    {
      "cell_type": "code",
      "metadata": {
        "id": "cl2T13znIlIZ"
      },
      "source": [
        "# Studente (float) adestrato con knoweldge distillation\n",
        "\n",
        "\n",
        "# Classe custom Layer per la HintLoss\n",
        "class HintLossLayer(tf.keras.layers.Layer):\n",
        "    def __init__(self, gamma=0.2, name = \"name\", mname = \"hint\"):\n",
        "        super(HintLossLayer, self).__init__(name = name)\n",
        "        self.gamma = gamma\n",
        "        self.mname = mname\n",
        "    def call(self, inputs):\n",
        "        self.add_loss(tf.reduce_mean(tf.square(inputs[1]- inputs[2])) * self.gamma)\n",
        "        self.add_metric(tf.reduce_mean((tf.square(inputs[1]- inputs[2]))) * self.gamma, name = self.mname, aggregation=\"mean\")\n",
        "        return inputs[0]\n",
        "    def get_config(self):\n",
        "        config = super().get_config().copy()\n",
        "        config.update({\n",
        "            'gamma': self.gamma\n",
        "        })\n",
        "        return config\n",
        "\n",
        "\n",
        "# Classe custom Model per la distillazione \n",
        "act = \"relu\"\n",
        "d = 0.2\n",
        "class CustomModel(keras.Model):\n",
        "    def train_step(self, data):\n",
        "        \n",
        "        # Unpack the data. Its structure depends on your model and\n",
        "        # on what you pass to `fit()`.\n",
        "        x, y = data   \n",
        "\n",
        "        with tf.GradientTape() as tape:\n",
        "            y_pred = self(x, training=True)  # Forward pass\n",
        "\n",
        "            stud = tf.reduce_mean(tf.square(y_pred[0]-y))\n",
        "            teach = tf.reduce_mean(tf.square(y_pred[1]-y))\n",
        "            f0 = lambda: tf.constant(0.)\n",
        "            f1 = lambda: tf.constant(1.)\n",
        "            w = tf.case([(tf.less(teach, stud), f1)], default=f0)\n",
        "            loss = self.compiled_loss(y, y_pred[0], regularization_losses= [w*l for l in self.losses])\n",
        "\n",
        "        # Compute gradients\n",
        "        trainable_vars = self.trainable_variables\n",
        "        gradients = tape.gradient(loss, trainable_vars)\n",
        "        # Update weights\n",
        "        self.optimizer.apply_gradients(zip(gradients, trainable_vars))\n",
        "        # Update metrics (includes the metric that tracks the loss)\n",
        "        self.compiled_metrics.update_state(y, y_pred)\n",
        "        # Return a dict mapping metric names to current value\n",
        "        return {m.name: m.result() for m in self.metrics}"
      ],
      "execution_count": null,
      "outputs": []
    },
    {
      "cell_type": "code",
      "source": [
        "# Modello Student distillato: Student di prima con adaptation layers\n",
        "\n",
        "dictionary = {'33k': {'pad1_tuple': (0,12), 'block1': 'Conv1c', 'conv2_filter': 30, 'block2': 'Conv2c', \n",
        "                      'pad2_tuple': (3,1), 'dense': 50}}\n",
        "teach_name = '33k'\n",
        "key = list(dictionary[teach_name].keys())\n",
        "print(key)\n",
        "\n",
        "key = list(dictionary[teach_name].keys())\n",
        "pad1_tuple = dictionary[teach_name][key[0]]\n",
        "block1 = dictionary[teach_name][key[1]]\n",
        "conv2_filter = dictionary[teach_name][key[2]]\n",
        "block2 = dictionary[teach_name][key[3]]\n",
        "pad2_tuple = dictionary[teach_name][key[4]]\n",
        "dense = dictionary[teach_name][key[5]]\n",
        "\n",
        "nbits = 4\n",
        "avebits = 4\n",
        "\n",
        "kernel = (3,3)\n",
        "n_dense = 10\n",
        "sym = 1\n",
        "myalpha = None\n",
        "\n",
        "gamma1=1.0\n",
        "gamma2=0.01\n",
        "gamma3=0.1\n",
        "\n",
        "teacher = keras.models.load_model('teacher_best')\n",
        "for i in range(len(teacher.layers)):\n",
        "    teacher.layers[i].trainable = False\n",
        "    if \"Dropout\" in teacher.layers[i].name:\n",
        "        teacher.layers[i].rate = 0\n",
        "        print(teacher.layers[i].rate)\n",
        "\n",
        "\n",
        "inputs = Input(train_images[0].shape, name = 'Student_input')\n",
        "\n",
        "x = QConv2D(1, kernel, strides=(1,2), kernel_quantizer = quantized_bits(nbits,0,sym,alpha=myalpha), \n",
        "            bias_quantizer = quantized_bits(nbits,0,1,alpha=myalpha), padding = 'same', name = 'Student_Conv1a')(inputs) \n",
        "x = QActivation('quantized_relu('+str(nbits)+')')(x) \n",
        "x = QConv2D(2, kernel, strides=(1,2), kernel_quantizer = quantized_bits(nbits,0,sym,alpha=myalpha), \n",
        "            bias_quantizer = quantized_bits(nbits,0,1,alpha=myalpha), padding = 'same', name = 'Student_Conv1b')(x) \n",
        "x = QActivation('quantized_relu('+str(nbits)+')')(x)\n",
        "x = QConv2D(2, kernel, strides=(1,2), kernel_quantizer = quantized_bits(nbits,0,sym,alpha=myalpha), \n",
        "            bias_quantizer = quantized_bits(nbits,0,1,alpha=myalpha), padding = 'same', name = 'Student_Conv1c')(x) \n",
        "x = QActivation('quantized_relu('+str(nbits)+')')(x)\n",
        "x = QAveragePooling2D(pool_size=(1,2), activation='quantized_relu('+str(avebits)+')')(x)\n",
        "padding1 = tf.keras.layers.ZeroPadding2D(pad1_tuple)(x)\n",
        "Adap1 = Conv2D(1, (1,1), activation = 'relu', padding = 'same', name = 'Student_Adap1')(padding1)\n",
        "hint1 = HintLossLayer(gamma = gamma1, name = 'Hint1', mname = 'Hint1')([x, Adap1, teacher.get_layer(block1).output])\n",
        "\n",
        "x = QConv2D(8, kernel, strides=(1,2), kernel_quantizer = quantized_bits(nbits,0,sym,alpha=myalpha),\n",
        "            bias_quantizer = quantized_bits(nbits,0,1,alpha=myalpha), padding = 'same', name = 'Student_Conv2a')(hint1) \n",
        "x = QActivation('quantized_relu('+str(nbits)+')')(x) \n",
        "x = QConv2D(4, kernel, strides=(1,2), kernel_quantizer = quantized_bits(nbits,0,sym,alpha=myalpha),\n",
        "            bias_quantizer = quantized_bits(nbits,0,1,alpha=myalpha), padding = 'same', name = 'Student_Conv2b')(x)\n",
        "x = QActivation('quantized_relu('+str(nbits)+')')(x) \n",
        "x = QConv2D(8, kernel, strides=(1,2), kernel_quantizer = quantized_bits(nbits,0,sym,alpha=myalpha),\n",
        "            bias_quantizer = quantized_bits(nbits,0,1,alpha=myalpha), padding = 'same', name = 'Student_Conv2c')(x) \n",
        "x = QActivation('quantized_relu('+str(nbits)+')')(x) \n",
        "x = QAveragePooling2D(pool_size=(3,3), activation='quantized_relu('+str(avebits)+')')(x)\n",
        "padding2 = tf.keras.layers.ZeroPadding2D(pad2_tuple)(x)\n",
        "Adap2 = Conv2D(conv2_filter, (1,1), activation = 'relu', padding = 'same', name = 'Student_Adap2')(padding2)\n",
        "hint2 = HintLossLayer(gamma = gamma2, name = 'Hint2', mname = 'Hint2')([x, Adap2, teacher.get_layer(block2).output])\n",
        "\n",
        "x = Flatten()(hint2)\n",
        "x = QDense(n_dense, kernel_quantizer = quantized_bits(nbits,0,sym,alpha=myalpha),\n",
        "           bias_quantizer = quantized_bits(nbits,0,1,alpha=myalpha), name = 'Student_Dense1')(x)\n",
        "x = QActivation('quantized_relu('+str(nbits)+')')(x) \n",
        "x = QDense(n_dense, kernel_quantizer = quantized_bits(nbits,0,sym,alpha=myalpha),\n",
        "           bias_quantizer = quantized_bits(nbits,0,1,alpha=myalpha), name = 'Student_Dense2')(x)\n",
        "x = QActivation('quantized_relu('+str(nbits)+')')(x)\n",
        "Adap3 = Dense(dense, activation = 'relu', name = 'Student_Adap3')(x)\n",
        "hint3 = HintLossLayer(gamma = gamma3, name = 'Hint3', mname = 'Hint3')([x, Adap3, teacher.get_layer('Dense2').output])\n",
        "\n",
        "x = Dense(2, name = 'Student_Output')(hint3) \n",
        "\n",
        "# modello finale\n",
        "qstudent_dist = CustomModel(inputs=[inputs, teacher.layers[0].input], outputs=[x, teacher.layers[-1].output])\n",
        "qstudent_dist.summary()"
      ],
      "metadata": {
        "colab": {
          "base_uri": "https://localhost:8080/"
        },
        "id": "oZSgb6OwhVpy",
        "outputId": "ebfd1427-08a5-497b-f9aa-1cde00941022"
      },
      "execution_count": null,
      "outputs": [
        {
          "output_type": "stream",
          "name": "stdout",
          "text": [
            "['pad1_tuple', 'block1', 'conv2_filter', 'block2', 'pad2_tuple', 'dense']\n",
            "Model: \"custom_model\"\n",
            "__________________________________________________________________________________________________\n",
            " Layer (type)                   Output Shape         Param #     Connected to                     \n",
            "==================================================================================================\n",
            " Student_input (InputLayer)     [(None, 9, 384, 1)]  0           []                               \n",
            "                                                                                                  \n",
            " Student_Conv1a (QConv2D)       (None, 9, 192, 1)    10          ['Student_input[0][0]']          \n",
            "                                                                                                  \n",
            " q_activation_8 (QActivation)   (None, 9, 192, 1)    0           ['Student_Conv1a[0][0]']         \n",
            "                                                                                                  \n",
            " Student_Conv1b (QConv2D)       (None, 9, 96, 2)     20          ['q_activation_8[0][0]']         \n",
            "                                                                                                  \n",
            " q_activation_9 (QActivation)   (None, 9, 96, 2)     0           ['Student_Conv1b[0][0]']         \n",
            "                                                                                                  \n",
            " Student_Conv1c (QConv2D)       (None, 9, 48, 2)     38          ['q_activation_9[0][0]']         \n",
            "                                                                                                  \n",
            " q_activation_10 (QActivation)  (None, 9, 48, 2)     0           ['Student_Conv1c[0][0]']         \n",
            "                                                                                                  \n",
            " input (InputLayer)             [(None, 9, 384, 1)]  0           []                               \n",
            "                                                                                                  \n",
            " q_average_pooling2d_2 (QAverag  (None, 9, 24, 2)    0           ['q_activation_10[0][0]']        \n",
            " ePooling2D)                                                                                      \n",
            "                                                                                                  \n",
            " Conv1a (Conv2D)                (None, 9, 192, 16)   160         ['input[0][0]']                  \n",
            "                                                                                                  \n",
            " zero_padding2d (ZeroPadding2D)  (None, 9, 48, 2)    0           ['q_average_pooling2d_2[0][0]']  \n",
            "                                                                                                  \n",
            " Conv1b (Conv2D)                (None, 9, 96, 16)    2320        ['Conv1a[0][0]']                 \n",
            "                                                                                                  \n",
            " Student_Adap1 (Conv2D)         (None, 9, 48, 1)     3           ['zero_padding2d[0][0]']         \n",
            "                                                                                                  \n",
            " Conv1c (Conv2D)                (None, 9, 48, 16)    2320        ['Conv1b[0][0]']                 \n",
            "                                                                                                  \n",
            " Hint1 (HintLossLayer)          (None, 9, 24, 2)     0           ['q_average_pooling2d_2[0][0]',  \n",
            "                                                                  'Student_Adap1[0][0]',          \n",
            "                                                                  'Conv1c[0][0]']                 \n",
            "                                                                                                  \n",
            " Student_Conv2a (QConv2D)       (None, 9, 12, 8)     152         ['Hint1[0][0]']                  \n",
            "                                                                                                  \n",
            " q_activation_11 (QActivation)  (None, 9, 12, 8)     0           ['Student_Conv2a[0][0]']         \n",
            "                                                                                                  \n",
            " Student_Conv2b (QConv2D)       (None, 9, 6, 4)      292         ['q_activation_11[0][0]']        \n",
            "                                                                                                  \n",
            " q_activation_12 (QActivation)  (None, 9, 6, 4)      0           ['Student_Conv2b[0][0]']         \n",
            "                                                                                                  \n",
            " Student_Conv2c (QConv2D)       (None, 9, 3, 8)      296         ['q_activation_12[0][0]']        \n",
            "                                                                                                  \n",
            " q_activation_13 (QActivation)  (None, 9, 3, 8)      0           ['Student_Conv2c[0][0]']         \n",
            "                                                                                                  \n",
            " average_pooling2d (AveragePool  (None, 9, 24, 16)   0           ['Conv1c[0][0]']                 \n",
            " ing2D)                                                                                           \n",
            "                                                                                                  \n",
            " q_average_pooling2d_3 (QAverag  (None, 3, 1, 8)     0           ['q_activation_13[0][0]']        \n",
            " ePooling2D)                                                                                      \n",
            "                                                                                                  \n",
            " Conv2a (Conv2D)                (None, 9, 12, 30)    4350        ['average_pooling2d[0][0]']      \n",
            "                                                                                                  \n",
            " zero_padding2d_1 (ZeroPadding2  (None, 9, 3, 8)     0           ['q_average_pooling2d_3[0][0]']  \n",
            " D)                                                                                               \n",
            "                                                                                                  \n",
            " Conv2b (Conv2D)                (None, 9, 6, 30)     8130        ['Conv2a[0][0]']                 \n",
            "                                                                                                  \n",
            " Student_Adap2 (Conv2D)         (None, 9, 3, 30)     270         ['zero_padding2d_1[0][0]']       \n",
            "                                                                                                  \n",
            " Conv2c (Conv2D)                (None, 9, 3, 30)     8130        ['Conv2b[0][0]']                 \n",
            "                                                                                                  \n",
            " Hint2 (HintLossLayer)          (None, 3, 1, 8)      0           ['q_average_pooling2d_3[0][0]',  \n",
            "                                                                  'Student_Adap2[0][0]',          \n",
            "                                                                  'Conv2c[0][0]']                 \n",
            "                                                                                                  \n",
            " flatten_3 (Flatten)            (None, 24)           0           ['Hint2[0][0]']                  \n",
            "                                                                                                  \n",
            " Student_Dense1 (QDense)        (None, 10)           250         ['flatten_3[0][0]']              \n",
            "                                                                                                  \n",
            " q_activation_14 (QActivation)  (None, 10)           0           ['Student_Dense1[0][0]']         \n",
            "                                                                                                  \n",
            " average_pooling2d_1 (AveragePo  (None, 3, 1, 30)    0           ['Conv2c[0][0]']                 \n",
            " oling2D)                                                                                         \n",
            "                                                                                                  \n",
            " Student_Dense2 (QDense)        (None, 10)           110         ['q_activation_14[0][0]']        \n",
            "                                                                                                  \n",
            " flatten (Flatten)              (None, 90)           0           ['average_pooling2d_1[0][0]']    \n",
            "                                                                                                  \n",
            " q_activation_15 (QActivation)  (None, 10)           0           ['Student_Dense2[0][0]']         \n",
            "                                                                                                  \n",
            " Dense1 (Dense)                 (None, 50)           4550        ['flatten[0][0]']                \n",
            "                                                                                                  \n",
            " Student_Adap3 (Dense)          (None, 50)           550         ['q_activation_15[0][0]']        \n",
            "                                                                                                  \n",
            " Dense2 (Dense)                 (None, 50)           2550        ['Dense1[0][0]']                 \n",
            "                                                                                                  \n",
            " Hint3 (HintLossLayer)          (None, 10)           0           ['q_activation_15[0][0]',        \n",
            "                                                                  'Student_Adap3[0][0]',          \n",
            "                                                                  'Dense2[0][0]']                 \n",
            "                                                                                                  \n",
            " Student_Output (Dense)         (None, 2)            22          ['Hint3[0][0]']                  \n",
            "                                                                                                  \n",
            " Output (Dense)                 (None, 2)            102         ['Dense2[0][0]']                 \n",
            "                                                                                                  \n",
            "==================================================================================================\n",
            "Total params: 34,625\n",
            "Trainable params: 2,013\n",
            "Non-trainable params: 32,612\n",
            "__________________________________________________________________________________________________\n"
          ]
        }
      ]
    },
    {
      "cell_type": "code",
      "source": [
        "# compilazione e training\n",
        "import gc\n",
        "class GarbageCallback(tf.keras.callbacks.Callback):\n",
        "    def on_epoch_end(self, epoch, logs=None):\n",
        "        gc.collect()\n",
        "\n",
        "qstudent_dist.compile(optimizer='adam',loss='mse' ,metrics=['mse'])\n",
        "\n",
        "# early stopping e model checkpoints\n",
        "callbacks = [keras.callbacks.EarlyStopping(monitor='val_Student_Output_mse', patience=5, min_delta = 0.00001, restore_best_weights=False), \n",
        "             keras.callbacks.ModelCheckpoint(filepath='qstudent_dist_best', monitor='val_Student_Output_mse', verbose=1, save_best_only=True, save_freq='epoch'),\n",
        "             GarbageCallback()]\n",
        "\n",
        "history = qstudent_dist.fit([train_images, train_images], [train_labels,train_labels], epochs=50, batch_size=128, validation_split=0.2, callbacks=callbacks)\n",
        "\n"
      ],
      "metadata": {
        "colab": {
          "base_uri": "https://localhost:8080/",
          "height": 905
        },
        "id": "8DXj8ciDxeb3",
        "outputId": "aa5c26dc-e861-4272-95d1-c77e2134b1a1"
      },
      "execution_count": null,
      "outputs": [
        {
          "output_type": "stream",
          "name": "stdout",
          "text": [
            "Epoch 1/50\n",
            "300/300 [==============================] - ETA: 0s - loss: 0.2333 - Student_Output_loss: 0.2287 - Student_Output_mse: 0.2287 - Output_mse: 0.0236 - Hint1: 0.0017 - Hint2: 3.0953e-04 - Hint3: 0.0026\n",
            "Epoch 1: val_Student_Output_mse improved from inf to 0.14536, saving model to qstudent_dist_best\n"
          ]
        },
        {
          "output_type": "stream",
          "name": "stderr",
          "text": [
            "WARNING:absl:Function `_wrapped_model` contains input name(s) Student_input with unsupported characters which will be renamed to student_input in the SavedModel.\n"
          ]
        },
        {
          "output_type": "stream",
          "name": "stdout",
          "text": [
            "INFO:tensorflow:Assets written to: qstudent_dist_best/assets\n"
          ]
        },
        {
          "output_type": "stream",
          "name": "stderr",
          "text": [
            "INFO:tensorflow:Assets written to: qstudent_dist_best/assets\n"
          ]
        },
        {
          "output_type": "stream",
          "name": "stdout",
          "text": [
            "\b\b\b\b\b\b\b\b\b\b\b\b\b\b\b\b\b\b\b\b\b\b\b\b\b\b\b\b\b\b\b\b\b\b\b\b\b\b\b\b\b\b\b\b\b\b\b\b\b\b\b\b\b\b\b\b\b\b\b\b\b\b\b\b\b\b\b\b\b\b\b\b\b\b\b\b\b\b\b\b\b\b\b\b\b\b\b\b\b\b\b\b\b\b\b\b\b\b\b\b\b\b\b\b\b\b\b\b\b\b\b\b\b\b\b\b\b\b\b\b\b\b\b\b\b\b\b\b\b\b\b\b\b\b\b\b\b\b\b\b\b\b\b\b\b\b\b\b\b\b\b\b\b\b\b\b\b\b\b\b\b\b\b\b\b\b\b\b\b\b\b\b\b\b\b\b\b\b\b\b\b\b\b\b\b\b\b\b\b\b\b\b\b\b\b\b\b\r300/300 [==============================] - 38s 101ms/step - loss: 0.2333 - Student_Output_loss: 0.2287 - Student_Output_mse: 0.2287 - Output_mse: 0.0236 - Hint1: 0.0017 - Hint2: 3.0953e-04 - Hint3: 0.0026 - val_loss: 0.1490 - val_Student_Output_loss: 0.1454 - val_Student_Output_mse: 0.1454 - val_Output_mse: 0.0232 - val_Hint1: 0.0017 - val_Hint2: 2.7468e-04 - val_Hint3: 0.0017\n",
            "Epoch 2/50\n",
            "299/300 [============================>.] - ETA: 0s - loss: 0.1126 - Student_Output_loss: 0.1092 - Student_Output_mse: 0.1092 - Output_mse: 0.0236 - Hint1: 0.0017 - Hint2: 2.6938e-04 - Hint3: 0.0014\n",
            "Epoch 2: val_Student_Output_mse improved from 0.14536 to 0.08743, saving model to qstudent_dist_best\n"
          ]
        },
        {
          "output_type": "stream",
          "name": "stderr",
          "text": [
            "WARNING:absl:Function `_wrapped_model` contains input name(s) Student_input with unsupported characters which will be renamed to student_input in the SavedModel.\n"
          ]
        },
        {
          "output_type": "stream",
          "name": "stdout",
          "text": [
            "INFO:tensorflow:Assets written to: qstudent_dist_best/assets\n"
          ]
        },
        {
          "output_type": "stream",
          "name": "stderr",
          "text": [
            "INFO:tensorflow:Assets written to: qstudent_dist_best/assets\n"
          ]
        },
        {
          "output_type": "stream",
          "name": "stdout",
          "text": [
            "\b\b\b\b\b\b\b\b\b\b\b\b\b\b\b\b\b\b\b\b\b\b\b\b\b\b\b\b\b\b\b\b\b\b\b\b\b\b\b\b\b\b\b\b\b\b\b\b\b\b\b\b\b\b\b\b\b\b\b\b\b\b\b\b\b\b\b\b\b\b\b\b\b\b\b\b\b\b\b\b\b\b\b\b\b\b\b\b\b\b\b\b\b\b\b\b\b\b\b\b\b\b\b\b\b\b\b\b\b\b\b\b\b\b\b\b\b\b\b\b\b\b\b\b\b\b\b\b\b\b\b\b\b\b\b\b\b\b\b\b\b\b\b\b\b\b\b\b\b\b\b\b\b\b\b\b\b\b\b\b\b\b\b\b\b\b\b\b\b\b\b\b\b\b\b\b\b\b\b\b\b\b\b\b\b\b\b\b\b\b\b\b\b\b\b\b\b\r300/300 [==============================] - 27s 90ms/step - loss: 0.1126 - Student_Output_loss: 0.1092 - Student_Output_mse: 0.1092 - Output_mse: 0.0236 - Hint1: 0.0017 - Hint2: 2.6945e-04 - Hint3: 0.0014 - val_loss: 0.0907 - val_Student_Output_loss: 0.0874 - val_Student_Output_mse: 0.0874 - val_Output_mse: 0.0232 - val_Hint1: 0.0017 - val_Hint2: 2.7153e-04 - val_Hint3: 0.0013\n",
            "Epoch 3/50\n",
            "300/300 [==============================] - ETA: 0s - loss: 0.0844 - Student_Output_loss: 0.0812 - Student_Output_mse: 0.0812 - Output_mse: 0.0236 - Hint1: 0.0017 - Hint2: 2.6874e-04 - Hint3: 0.0012\n",
            "Epoch 3: val_Student_Output_mse improved from 0.08743 to 0.07770, saving model to qstudent_dist_best\n"
          ]
        },
        {
          "output_type": "stream",
          "name": "stderr",
          "text": [
            "WARNING:absl:Function `_wrapped_model` contains input name(s) Student_input with unsupported characters which will be renamed to student_input in the SavedModel.\n"
          ]
        },
        {
          "output_type": "stream",
          "name": "stdout",
          "text": [
            "INFO:tensorflow:Assets written to: qstudent_dist_best/assets\n"
          ]
        },
        {
          "output_type": "stream",
          "name": "stderr",
          "text": [
            "INFO:tensorflow:Assets written to: qstudent_dist_best/assets\n"
          ]
        },
        {
          "output_type": "stream",
          "name": "stdout",
          "text": [
            "\b\b\b\b\b\b\b\b\b\b\b\b\b\b\b\b\b\b\b\b\b\b\b\b\b\b\b\b\b\b\b\b\b\b\b\b\b\b\b\b\b\b\b\b\b\b\b\b\b\b\b\b\b\b\b\b\b\b\b\b\b\b\b\b\b\b\b\b\b\b\b\b\b\b\b\b\b\b\b\b\b\b\b\b\b\b\b\b\b\b\b\b\b\b\b\b\b\b\b\b\b\b\b\b\b\b\b\b\b\b\b\b\b\b\b\b\b\b\b\b\b\b\b\b\b\b\b\b\b\b\b\b\b\b\b\b\b\b\b\b\b\b\b\b\b\b\b\b\b\b\b\b\b\b\b\b\b\b\b\b\b\b\b\b\b\b\b\b\b\b\b\b\b\b\b\b\b\b\b\b\b\b\b\b\b\b\b\b\b\b\b\b\b\b\b\b\b\r300/300 [==============================] - 27s 90ms/step - loss: 0.0844 - Student_Output_loss: 0.0812 - Student_Output_mse: 0.0812 - Output_mse: 0.0236 - Hint1: 0.0017 - Hint2: 2.6874e-04 - Hint3: 0.0012 - val_loss: 0.0809 - val_Student_Output_loss: 0.0777 - val_Student_Output_mse: 0.0777 - val_Output_mse: 0.0232 - val_Hint1: 0.0017 - val_Hint2: 2.7152e-04 - val_Hint3: 0.0012\n",
            "Epoch 4/50\n",
            "299/300 [============================>.] - ETA: 0s - loss: 0.0807 - Student_Output_loss: 0.0775 - Student_Output_mse: 0.0775 - Output_mse: 0.0236 - Hint1: 0.0017 - Hint2: 2.6872e-04 - Hint3: 0.0012\n",
            "Epoch 4: val_Student_Output_mse improved from 0.07770 to 0.07683, saving model to qstudent_dist_best\n"
          ]
        },
        {
          "output_type": "stream",
          "name": "stderr",
          "text": [
            "WARNING:absl:Function `_wrapped_model` contains input name(s) Student_input with unsupported characters which will be renamed to student_input in the SavedModel.\n"
          ]
        },
        {
          "output_type": "stream",
          "name": "stdout",
          "text": [
            "INFO:tensorflow:Assets written to: qstudent_dist_best/assets\n"
          ]
        },
        {
          "output_type": "stream",
          "name": "stderr",
          "text": [
            "INFO:tensorflow:Assets written to: qstudent_dist_best/assets\n"
          ]
        },
        {
          "output_type": "stream",
          "name": "stdout",
          "text": [
            "\b\b\b\b\b\b\b\b\b\b\b\b\b\b\b\b\b\b\b\b\b\b\b\b\b\b\b\b\b\b\b\b\b\b\b\b\b\b\b\b\b\b\b\b\b\b\b\b\b\b\b\b\b\b\b\b\b\b\b\b\b\b\b\b\b\b\b\b\b\b\b\b\b\b\b\b\b\b\b\b\b\b\b\b\b\b\b\b\b\b\b\b\b\b\b\b\b\b\b\b\b\b\b\b\b\b\b\b\b\b\b\b\b\b\b\b\b\b\b\b\b\b\b\b\b\b\b\b\b\b\b\b\b\b\b\b\b\b\b\b\b\b\b\b\b\b\b\b\b\b\b\b\b\b\b\b\b\b\b\b\b\b\b\b\b\b\b\b\b\b\b\b\b\b\b\b\b\b\b\b\b\b\b\b\b\b\b\b\b\b\b\b\b\b\b\b\b\r300/300 [==============================] - 28s 94ms/step - loss: 0.0806 - Student_Output_loss: 0.0775 - Student_Output_mse: 0.0775 - Output_mse: 0.0236 - Hint1: 0.0017 - Hint2: 2.6877e-04 - Hint3: 0.0012 - val_loss: 0.0800 - val_Student_Output_loss: 0.0768 - val_Student_Output_mse: 0.0768 - val_Output_mse: 0.0232 - val_Hint1: 0.0017 - val_Hint2: 2.7150e-04 - val_Hint3: 0.0012\n",
            "Epoch 5/50\n",
            "252/300 [========================>.....] - ETA: 1s - loss: 0.0804 - Student_Output_loss: 0.0772 - Student_Output_mse: 0.0772 - Output_mse: 0.0235 - Hint1: 0.0017 - Hint2: 2.6911e-04 - Hint3: 0.0012"
          ]
        },
        {
          "output_type": "error",
          "ename": "KeyboardInterrupt",
          "evalue": "ignored",
          "traceback": [
            "\u001b[0;31m---------------------------------------------------------------------------\u001b[0m",
            "\u001b[0;31mKeyboardInterrupt\u001b[0m                         Traceback (most recent call last)",
            "\u001b[0;32m<ipython-input-30-13bd3a60bdc2>\u001b[0m in \u001b[0;36m<module>\u001b[0;34m()\u001b[0m\n\u001b[1;32m     12\u001b[0m              GarbageCallback()]\n\u001b[1;32m     13\u001b[0m \u001b[0;34m\u001b[0m\u001b[0m\n\u001b[0;32m---> 14\u001b[0;31m \u001b[0mhistory\u001b[0m \u001b[0;34m=\u001b[0m \u001b[0mqstudent_dist\u001b[0m\u001b[0;34m.\u001b[0m\u001b[0mfit\u001b[0m\u001b[0;34m(\u001b[0m\u001b[0;34m[\u001b[0m\u001b[0mtrain_images\u001b[0m\u001b[0;34m,\u001b[0m \u001b[0mtrain_images\u001b[0m\u001b[0;34m]\u001b[0m\u001b[0;34m,\u001b[0m \u001b[0;34m[\u001b[0m\u001b[0mtrain_labels\u001b[0m\u001b[0;34m,\u001b[0m\u001b[0mtrain_labels\u001b[0m\u001b[0;34m]\u001b[0m\u001b[0;34m,\u001b[0m \u001b[0mepochs\u001b[0m\u001b[0;34m=\u001b[0m\u001b[0;36m50\u001b[0m\u001b[0;34m,\u001b[0m \u001b[0mbatch_size\u001b[0m\u001b[0;34m=\u001b[0m\u001b[0;36m128\u001b[0m\u001b[0;34m,\u001b[0m \u001b[0mvalidation_split\u001b[0m\u001b[0;34m=\u001b[0m\u001b[0;36m0.2\u001b[0m\u001b[0;34m,\u001b[0m \u001b[0mcallbacks\u001b[0m\u001b[0;34m=\u001b[0m\u001b[0mcallbacks\u001b[0m\u001b[0;34m)\u001b[0m\u001b[0;34m\u001b[0m\u001b[0;34m\u001b[0m\u001b[0m\n\u001b[0m\u001b[1;32m     15\u001b[0m \u001b[0;34m\u001b[0m\u001b[0m\n",
            "\u001b[0;32m/usr/local/lib/python3.7/dist-packages/keras/utils/traceback_utils.py\u001b[0m in \u001b[0;36merror_handler\u001b[0;34m(*args, **kwargs)\u001b[0m\n\u001b[1;32m     62\u001b[0m     \u001b[0mfiltered_tb\u001b[0m \u001b[0;34m=\u001b[0m \u001b[0;32mNone\u001b[0m\u001b[0;34m\u001b[0m\u001b[0;34m\u001b[0m\u001b[0m\n\u001b[1;32m     63\u001b[0m     \u001b[0;32mtry\u001b[0m\u001b[0;34m:\u001b[0m\u001b[0;34m\u001b[0m\u001b[0;34m\u001b[0m\u001b[0m\n\u001b[0;32m---> 64\u001b[0;31m       \u001b[0;32mreturn\u001b[0m \u001b[0mfn\u001b[0m\u001b[0;34m(\u001b[0m\u001b[0;34m*\u001b[0m\u001b[0margs\u001b[0m\u001b[0;34m,\u001b[0m \u001b[0;34m**\u001b[0m\u001b[0mkwargs\u001b[0m\u001b[0;34m)\u001b[0m\u001b[0;34m\u001b[0m\u001b[0;34m\u001b[0m\u001b[0m\n\u001b[0m\u001b[1;32m     65\u001b[0m     \u001b[0;32mexcept\u001b[0m \u001b[0mException\u001b[0m \u001b[0;32mas\u001b[0m \u001b[0me\u001b[0m\u001b[0;34m:\u001b[0m  \u001b[0;31m# pylint: disable=broad-except\u001b[0m\u001b[0;34m\u001b[0m\u001b[0;34m\u001b[0m\u001b[0m\n\u001b[1;32m     66\u001b[0m       \u001b[0mfiltered_tb\u001b[0m \u001b[0;34m=\u001b[0m \u001b[0m_process_traceback_frames\u001b[0m\u001b[0;34m(\u001b[0m\u001b[0me\u001b[0m\u001b[0;34m.\u001b[0m\u001b[0m__traceback__\u001b[0m\u001b[0;34m)\u001b[0m\u001b[0;34m\u001b[0m\u001b[0;34m\u001b[0m\u001b[0m\n",
            "\u001b[0;32m/usr/local/lib/python3.7/dist-packages/keras/engine/training.py\u001b[0m in \u001b[0;36mfit\u001b[0;34m(self, x, y, batch_size, epochs, verbose, callbacks, validation_split, validation_data, shuffle, class_weight, sample_weight, initial_epoch, steps_per_epoch, validation_steps, validation_batch_size, validation_freq, max_queue_size, workers, use_multiprocessing)\u001b[0m\n\u001b[1;32m   1387\u001b[0m               \u001b[0mlogs\u001b[0m \u001b[0;34m=\u001b[0m \u001b[0mtmp_logs\u001b[0m  \u001b[0;31m# No error, now safe to assign to logs.\u001b[0m\u001b[0;34m\u001b[0m\u001b[0;34m\u001b[0m\u001b[0m\n\u001b[1;32m   1388\u001b[0m               \u001b[0mend_step\u001b[0m \u001b[0;34m=\u001b[0m \u001b[0mstep\u001b[0m \u001b[0;34m+\u001b[0m \u001b[0mdata_handler\u001b[0m\u001b[0;34m.\u001b[0m\u001b[0mstep_increment\u001b[0m\u001b[0;34m\u001b[0m\u001b[0;34m\u001b[0m\u001b[0m\n\u001b[0;32m-> 1389\u001b[0;31m               \u001b[0mcallbacks\u001b[0m\u001b[0;34m.\u001b[0m\u001b[0mon_train_batch_end\u001b[0m\u001b[0;34m(\u001b[0m\u001b[0mend_step\u001b[0m\u001b[0;34m,\u001b[0m \u001b[0mlogs\u001b[0m\u001b[0;34m)\u001b[0m\u001b[0;34m\u001b[0m\u001b[0;34m\u001b[0m\u001b[0m\n\u001b[0m\u001b[1;32m   1390\u001b[0m               \u001b[0;32mif\u001b[0m \u001b[0mself\u001b[0m\u001b[0;34m.\u001b[0m\u001b[0mstop_training\u001b[0m\u001b[0;34m:\u001b[0m\u001b[0;34m\u001b[0m\u001b[0;34m\u001b[0m\u001b[0m\n\u001b[1;32m   1391\u001b[0m                 \u001b[0;32mbreak\u001b[0m\u001b[0;34m\u001b[0m\u001b[0;34m\u001b[0m\u001b[0m\n",
            "\u001b[0;32m/usr/local/lib/python3.7/dist-packages/keras/callbacks.py\u001b[0m in \u001b[0;36mon_train_batch_end\u001b[0;34m(self, batch, logs)\u001b[0m\n\u001b[1;32m    436\u001b[0m     \"\"\"\n\u001b[1;32m    437\u001b[0m     \u001b[0;32mif\u001b[0m \u001b[0mself\u001b[0m\u001b[0;34m.\u001b[0m\u001b[0m_should_call_train_batch_hooks\u001b[0m\u001b[0;34m:\u001b[0m\u001b[0;34m\u001b[0m\u001b[0;34m\u001b[0m\u001b[0m\n\u001b[0;32m--> 438\u001b[0;31m       \u001b[0mself\u001b[0m\u001b[0;34m.\u001b[0m\u001b[0m_call_batch_hook\u001b[0m\u001b[0;34m(\u001b[0m\u001b[0mModeKeys\u001b[0m\u001b[0;34m.\u001b[0m\u001b[0mTRAIN\u001b[0m\u001b[0;34m,\u001b[0m \u001b[0;34m'end'\u001b[0m\u001b[0;34m,\u001b[0m \u001b[0mbatch\u001b[0m\u001b[0;34m,\u001b[0m \u001b[0mlogs\u001b[0m\u001b[0;34m=\u001b[0m\u001b[0mlogs\u001b[0m\u001b[0;34m)\u001b[0m\u001b[0;34m\u001b[0m\u001b[0;34m\u001b[0m\u001b[0m\n\u001b[0m\u001b[1;32m    439\u001b[0m \u001b[0;34m\u001b[0m\u001b[0m\n\u001b[1;32m    440\u001b[0m   \u001b[0;32mdef\u001b[0m \u001b[0mon_test_batch_begin\u001b[0m\u001b[0;34m(\u001b[0m\u001b[0mself\u001b[0m\u001b[0;34m,\u001b[0m \u001b[0mbatch\u001b[0m\u001b[0;34m,\u001b[0m \u001b[0mlogs\u001b[0m\u001b[0;34m=\u001b[0m\u001b[0;32mNone\u001b[0m\u001b[0;34m)\u001b[0m\u001b[0;34m:\u001b[0m\u001b[0;34m\u001b[0m\u001b[0;34m\u001b[0m\u001b[0m\n",
            "\u001b[0;32m/usr/local/lib/python3.7/dist-packages/keras/callbacks.py\u001b[0m in \u001b[0;36m_call_batch_hook\u001b[0;34m(self, mode, hook, batch, logs)\u001b[0m\n\u001b[1;32m    295\u001b[0m       \u001b[0mself\u001b[0m\u001b[0;34m.\u001b[0m\u001b[0m_call_batch_begin_hook\u001b[0m\u001b[0;34m(\u001b[0m\u001b[0mmode\u001b[0m\u001b[0;34m,\u001b[0m \u001b[0mbatch\u001b[0m\u001b[0;34m,\u001b[0m \u001b[0mlogs\u001b[0m\u001b[0;34m)\u001b[0m\u001b[0;34m\u001b[0m\u001b[0;34m\u001b[0m\u001b[0m\n\u001b[1;32m    296\u001b[0m     \u001b[0;32melif\u001b[0m \u001b[0mhook\u001b[0m \u001b[0;34m==\u001b[0m \u001b[0;34m'end'\u001b[0m\u001b[0;34m:\u001b[0m\u001b[0;34m\u001b[0m\u001b[0;34m\u001b[0m\u001b[0m\n\u001b[0;32m--> 297\u001b[0;31m       \u001b[0mself\u001b[0m\u001b[0;34m.\u001b[0m\u001b[0m_call_batch_end_hook\u001b[0m\u001b[0;34m(\u001b[0m\u001b[0mmode\u001b[0m\u001b[0;34m,\u001b[0m \u001b[0mbatch\u001b[0m\u001b[0;34m,\u001b[0m \u001b[0mlogs\u001b[0m\u001b[0;34m)\u001b[0m\u001b[0;34m\u001b[0m\u001b[0;34m\u001b[0m\u001b[0m\n\u001b[0m\u001b[1;32m    298\u001b[0m     \u001b[0;32melse\u001b[0m\u001b[0;34m:\u001b[0m\u001b[0;34m\u001b[0m\u001b[0;34m\u001b[0m\u001b[0m\n\u001b[1;32m    299\u001b[0m       raise ValueError(\n",
            "\u001b[0;32m/usr/local/lib/python3.7/dist-packages/keras/callbacks.py\u001b[0m in \u001b[0;36m_call_batch_end_hook\u001b[0;34m(self, mode, batch, logs)\u001b[0m\n\u001b[1;32m    316\u001b[0m       \u001b[0mself\u001b[0m\u001b[0;34m.\u001b[0m\u001b[0m_batch_times\u001b[0m\u001b[0;34m.\u001b[0m\u001b[0mappend\u001b[0m\u001b[0;34m(\u001b[0m\u001b[0mbatch_time\u001b[0m\u001b[0;34m)\u001b[0m\u001b[0;34m\u001b[0m\u001b[0;34m\u001b[0m\u001b[0m\n\u001b[1;32m    317\u001b[0m \u001b[0;34m\u001b[0m\u001b[0m\n\u001b[0;32m--> 318\u001b[0;31m     \u001b[0mself\u001b[0m\u001b[0;34m.\u001b[0m\u001b[0m_call_batch_hook_helper\u001b[0m\u001b[0;34m(\u001b[0m\u001b[0mhook_name\u001b[0m\u001b[0;34m,\u001b[0m \u001b[0mbatch\u001b[0m\u001b[0;34m,\u001b[0m \u001b[0mlogs\u001b[0m\u001b[0;34m)\u001b[0m\u001b[0;34m\u001b[0m\u001b[0;34m\u001b[0m\u001b[0m\n\u001b[0m\u001b[1;32m    319\u001b[0m \u001b[0;34m\u001b[0m\u001b[0m\n\u001b[1;32m    320\u001b[0m     \u001b[0;32mif\u001b[0m \u001b[0mlen\u001b[0m\u001b[0;34m(\u001b[0m\u001b[0mself\u001b[0m\u001b[0;34m.\u001b[0m\u001b[0m_batch_times\u001b[0m\u001b[0;34m)\u001b[0m \u001b[0;34m>=\u001b[0m \u001b[0mself\u001b[0m\u001b[0;34m.\u001b[0m\u001b[0m_num_batches_for_timing_check\u001b[0m\u001b[0;34m:\u001b[0m\u001b[0;34m\u001b[0m\u001b[0;34m\u001b[0m\u001b[0m\n",
            "\u001b[0;32m/usr/local/lib/python3.7/dist-packages/keras/callbacks.py\u001b[0m in \u001b[0;36m_call_batch_hook_helper\u001b[0;34m(self, hook_name, batch, logs)\u001b[0m\n\u001b[1;32m    354\u001b[0m     \u001b[0;32mfor\u001b[0m \u001b[0mcallback\u001b[0m \u001b[0;32min\u001b[0m \u001b[0mself\u001b[0m\u001b[0;34m.\u001b[0m\u001b[0mcallbacks\u001b[0m\u001b[0;34m:\u001b[0m\u001b[0;34m\u001b[0m\u001b[0;34m\u001b[0m\u001b[0m\n\u001b[1;32m    355\u001b[0m       \u001b[0mhook\u001b[0m \u001b[0;34m=\u001b[0m \u001b[0mgetattr\u001b[0m\u001b[0;34m(\u001b[0m\u001b[0mcallback\u001b[0m\u001b[0;34m,\u001b[0m \u001b[0mhook_name\u001b[0m\u001b[0;34m)\u001b[0m\u001b[0;34m\u001b[0m\u001b[0;34m\u001b[0m\u001b[0m\n\u001b[0;32m--> 356\u001b[0;31m       \u001b[0mhook\u001b[0m\u001b[0;34m(\u001b[0m\u001b[0mbatch\u001b[0m\u001b[0;34m,\u001b[0m \u001b[0mlogs\u001b[0m\u001b[0;34m)\u001b[0m\u001b[0;34m\u001b[0m\u001b[0;34m\u001b[0m\u001b[0m\n\u001b[0m\u001b[1;32m    357\u001b[0m \u001b[0;34m\u001b[0m\u001b[0m\n\u001b[1;32m    358\u001b[0m     \u001b[0;32mif\u001b[0m \u001b[0mself\u001b[0m\u001b[0;34m.\u001b[0m\u001b[0m_check_timing\u001b[0m\u001b[0;34m:\u001b[0m\u001b[0;34m\u001b[0m\u001b[0;34m\u001b[0m\u001b[0m\n",
            "\u001b[0;32m/usr/local/lib/python3.7/dist-packages/keras/callbacks.py\u001b[0m in \u001b[0;36mon_train_batch_end\u001b[0;34m(self, batch, logs)\u001b[0m\n\u001b[1;32m   1032\u001b[0m \u001b[0;34m\u001b[0m\u001b[0m\n\u001b[1;32m   1033\u001b[0m   \u001b[0;32mdef\u001b[0m \u001b[0mon_train_batch_end\u001b[0m\u001b[0;34m(\u001b[0m\u001b[0mself\u001b[0m\u001b[0;34m,\u001b[0m \u001b[0mbatch\u001b[0m\u001b[0;34m,\u001b[0m \u001b[0mlogs\u001b[0m\u001b[0;34m=\u001b[0m\u001b[0;32mNone\u001b[0m\u001b[0;34m)\u001b[0m\u001b[0;34m:\u001b[0m\u001b[0;34m\u001b[0m\u001b[0;34m\u001b[0m\u001b[0m\n\u001b[0;32m-> 1034\u001b[0;31m     \u001b[0mself\u001b[0m\u001b[0;34m.\u001b[0m\u001b[0m_batch_update_progbar\u001b[0m\u001b[0;34m(\u001b[0m\u001b[0mbatch\u001b[0m\u001b[0;34m,\u001b[0m \u001b[0mlogs\u001b[0m\u001b[0;34m)\u001b[0m\u001b[0;34m\u001b[0m\u001b[0;34m\u001b[0m\u001b[0m\n\u001b[0m\u001b[1;32m   1035\u001b[0m \u001b[0;34m\u001b[0m\u001b[0m\n\u001b[1;32m   1036\u001b[0m   \u001b[0;32mdef\u001b[0m \u001b[0mon_test_batch_end\u001b[0m\u001b[0;34m(\u001b[0m\u001b[0mself\u001b[0m\u001b[0;34m,\u001b[0m \u001b[0mbatch\u001b[0m\u001b[0;34m,\u001b[0m \u001b[0mlogs\u001b[0m\u001b[0;34m=\u001b[0m\u001b[0;32mNone\u001b[0m\u001b[0;34m)\u001b[0m\u001b[0;34m:\u001b[0m\u001b[0;34m\u001b[0m\u001b[0;34m\u001b[0m\u001b[0m\n",
            "\u001b[0;32m/usr/local/lib/python3.7/dist-packages/keras/callbacks.py\u001b[0m in \u001b[0;36m_batch_update_progbar\u001b[0;34m(self, batch, logs)\u001b[0m\n\u001b[1;32m   1104\u001b[0m     \u001b[0;32mif\u001b[0m \u001b[0mself\u001b[0m\u001b[0;34m.\u001b[0m\u001b[0mverbose\u001b[0m \u001b[0;34m==\u001b[0m \u001b[0;36m1\u001b[0m\u001b[0;34m:\u001b[0m\u001b[0;34m\u001b[0m\u001b[0;34m\u001b[0m\u001b[0m\n\u001b[1;32m   1105\u001b[0m       \u001b[0;31m# Only block async when verbose = 1.\u001b[0m\u001b[0;34m\u001b[0m\u001b[0;34m\u001b[0m\u001b[0;34m\u001b[0m\u001b[0m\n\u001b[0;32m-> 1106\u001b[0;31m       \u001b[0mlogs\u001b[0m \u001b[0;34m=\u001b[0m \u001b[0mtf_utils\u001b[0m\u001b[0;34m.\u001b[0m\u001b[0msync_to_numpy_or_python_type\u001b[0m\u001b[0;34m(\u001b[0m\u001b[0mlogs\u001b[0m\u001b[0;34m)\u001b[0m\u001b[0;34m\u001b[0m\u001b[0;34m\u001b[0m\u001b[0m\n\u001b[0m\u001b[1;32m   1107\u001b[0m       \u001b[0mself\u001b[0m\u001b[0;34m.\u001b[0m\u001b[0mprogbar\u001b[0m\u001b[0;34m.\u001b[0m\u001b[0mupdate\u001b[0m\u001b[0;34m(\u001b[0m\u001b[0mself\u001b[0m\u001b[0;34m.\u001b[0m\u001b[0mseen\u001b[0m\u001b[0;34m,\u001b[0m \u001b[0mlist\u001b[0m\u001b[0;34m(\u001b[0m\u001b[0mlogs\u001b[0m\u001b[0;34m.\u001b[0m\u001b[0mitems\u001b[0m\u001b[0;34m(\u001b[0m\u001b[0;34m)\u001b[0m\u001b[0;34m)\u001b[0m\u001b[0;34m,\u001b[0m \u001b[0mfinalize\u001b[0m\u001b[0;34m=\u001b[0m\u001b[0;32mFalse\u001b[0m\u001b[0;34m)\u001b[0m\u001b[0;34m\u001b[0m\u001b[0;34m\u001b[0m\u001b[0m\n\u001b[1;32m   1108\u001b[0m \u001b[0;34m\u001b[0m\u001b[0m\n",
            "\u001b[0;32m/usr/local/lib/python3.7/dist-packages/keras/utils/tf_utils.py\u001b[0m in \u001b[0;36msync_to_numpy_or_python_type\u001b[0;34m(tensors)\u001b[0m\n\u001b[1;32m    561\u001b[0m     \u001b[0;32mreturn\u001b[0m \u001b[0mt\u001b[0m\u001b[0;34m.\u001b[0m\u001b[0mitem\u001b[0m\u001b[0;34m(\u001b[0m\u001b[0;34m)\u001b[0m \u001b[0;32mif\u001b[0m \u001b[0mnp\u001b[0m\u001b[0;34m.\u001b[0m\u001b[0mndim\u001b[0m\u001b[0;34m(\u001b[0m\u001b[0mt\u001b[0m\u001b[0;34m)\u001b[0m \u001b[0;34m==\u001b[0m \u001b[0;36m0\u001b[0m \u001b[0;32melse\u001b[0m \u001b[0mt\u001b[0m\u001b[0;34m\u001b[0m\u001b[0;34m\u001b[0m\u001b[0m\n\u001b[1;32m    562\u001b[0m \u001b[0;34m\u001b[0m\u001b[0m\n\u001b[0;32m--> 563\u001b[0;31m   \u001b[0;32mreturn\u001b[0m \u001b[0mtf\u001b[0m\u001b[0;34m.\u001b[0m\u001b[0mnest\u001b[0m\u001b[0;34m.\u001b[0m\u001b[0mmap_structure\u001b[0m\u001b[0;34m(\u001b[0m\u001b[0m_to_single_numpy_or_python_type\u001b[0m\u001b[0;34m,\u001b[0m \u001b[0mtensors\u001b[0m\u001b[0;34m)\u001b[0m\u001b[0;34m\u001b[0m\u001b[0;34m\u001b[0m\u001b[0m\n\u001b[0m\u001b[1;32m    564\u001b[0m \u001b[0;34m\u001b[0m\u001b[0m\n\u001b[1;32m    565\u001b[0m \u001b[0;34m\u001b[0m\u001b[0m\n",
            "\u001b[0;32m/usr/local/lib/python3.7/dist-packages/tensorflow/python/util/nest.py\u001b[0m in \u001b[0;36mmap_structure\u001b[0;34m(func, *structure, **kwargs)\u001b[0m\n\u001b[1;32m    912\u001b[0m \u001b[0;34m\u001b[0m\u001b[0m\n\u001b[1;32m    913\u001b[0m   return pack_sequence_as(\n\u001b[0;32m--> 914\u001b[0;31m       \u001b[0mstructure\u001b[0m\u001b[0;34m[\u001b[0m\u001b[0;36m0\u001b[0m\u001b[0;34m]\u001b[0m\u001b[0;34m,\u001b[0m \u001b[0;34m[\u001b[0m\u001b[0mfunc\u001b[0m\u001b[0;34m(\u001b[0m\u001b[0;34m*\u001b[0m\u001b[0mx\u001b[0m\u001b[0;34m)\u001b[0m \u001b[0;32mfor\u001b[0m \u001b[0mx\u001b[0m \u001b[0;32min\u001b[0m \u001b[0mentries\u001b[0m\u001b[0;34m]\u001b[0m\u001b[0;34m,\u001b[0m\u001b[0;34m\u001b[0m\u001b[0;34m\u001b[0m\u001b[0m\n\u001b[0m\u001b[1;32m    915\u001b[0m       expand_composites=expand_composites)\n\u001b[1;32m    916\u001b[0m \u001b[0;34m\u001b[0m\u001b[0m\n",
            "\u001b[0;32m/usr/local/lib/python3.7/dist-packages/tensorflow/python/util/nest.py\u001b[0m in \u001b[0;36m<listcomp>\u001b[0;34m(.0)\u001b[0m\n\u001b[1;32m    912\u001b[0m \u001b[0;34m\u001b[0m\u001b[0m\n\u001b[1;32m    913\u001b[0m   return pack_sequence_as(\n\u001b[0;32m--> 914\u001b[0;31m       \u001b[0mstructure\u001b[0m\u001b[0;34m[\u001b[0m\u001b[0;36m0\u001b[0m\u001b[0;34m]\u001b[0m\u001b[0;34m,\u001b[0m \u001b[0;34m[\u001b[0m\u001b[0mfunc\u001b[0m\u001b[0;34m(\u001b[0m\u001b[0;34m*\u001b[0m\u001b[0mx\u001b[0m\u001b[0;34m)\u001b[0m \u001b[0;32mfor\u001b[0m \u001b[0mx\u001b[0m \u001b[0;32min\u001b[0m \u001b[0mentries\u001b[0m\u001b[0;34m]\u001b[0m\u001b[0;34m,\u001b[0m\u001b[0;34m\u001b[0m\u001b[0;34m\u001b[0m\u001b[0m\n\u001b[0m\u001b[1;32m    915\u001b[0m       expand_composites=expand_composites)\n\u001b[1;32m    916\u001b[0m \u001b[0;34m\u001b[0m\u001b[0m\n",
            "\u001b[0;32m/usr/local/lib/python3.7/dist-packages/keras/utils/tf_utils.py\u001b[0m in \u001b[0;36m_to_single_numpy_or_python_type\u001b[0;34m(t)\u001b[0m\n\u001b[1;32m    555\u001b[0m     \u001b[0;31m# Don't turn ragged or sparse tensors to NumPy.\u001b[0m\u001b[0;34m\u001b[0m\u001b[0;34m\u001b[0m\u001b[0;34m\u001b[0m\u001b[0m\n\u001b[1;32m    556\u001b[0m     \u001b[0;32mif\u001b[0m \u001b[0misinstance\u001b[0m\u001b[0;34m(\u001b[0m\u001b[0mt\u001b[0m\u001b[0;34m,\u001b[0m \u001b[0mtf\u001b[0m\u001b[0;34m.\u001b[0m\u001b[0mTensor\u001b[0m\u001b[0;34m)\u001b[0m\u001b[0;34m:\u001b[0m\u001b[0;34m\u001b[0m\u001b[0;34m\u001b[0m\u001b[0m\n\u001b[0;32m--> 557\u001b[0;31m       \u001b[0mt\u001b[0m \u001b[0;34m=\u001b[0m \u001b[0mt\u001b[0m\u001b[0;34m.\u001b[0m\u001b[0mnumpy\u001b[0m\u001b[0;34m(\u001b[0m\u001b[0;34m)\u001b[0m\u001b[0;34m\u001b[0m\u001b[0;34m\u001b[0m\u001b[0m\n\u001b[0m\u001b[1;32m    558\u001b[0m     \u001b[0;31m# Strings, ragged and sparse tensors don't have .item(). Return them as-is.\u001b[0m\u001b[0;34m\u001b[0m\u001b[0;34m\u001b[0m\u001b[0;34m\u001b[0m\u001b[0m\n\u001b[1;32m    559\u001b[0m     \u001b[0;32mif\u001b[0m \u001b[0;32mnot\u001b[0m \u001b[0misinstance\u001b[0m\u001b[0;34m(\u001b[0m\u001b[0mt\u001b[0m\u001b[0;34m,\u001b[0m \u001b[0;34m(\u001b[0m\u001b[0mnp\u001b[0m\u001b[0;34m.\u001b[0m\u001b[0mndarray\u001b[0m\u001b[0;34m,\u001b[0m \u001b[0mnp\u001b[0m\u001b[0;34m.\u001b[0m\u001b[0mgeneric\u001b[0m\u001b[0;34m)\u001b[0m\u001b[0;34m)\u001b[0m\u001b[0;34m:\u001b[0m\u001b[0;34m\u001b[0m\u001b[0;34m\u001b[0m\u001b[0m\n",
            "\u001b[0;32m/usr/local/lib/python3.7/dist-packages/tensorflow/python/framework/ops.py\u001b[0m in \u001b[0;36mnumpy\u001b[0;34m(self)\u001b[0m\n\u001b[1;32m   1221\u001b[0m     \"\"\"\n\u001b[1;32m   1222\u001b[0m     \u001b[0;31m# TODO(slebedev): Consider avoiding a copy for non-CPU or remote tensors.\u001b[0m\u001b[0;34m\u001b[0m\u001b[0;34m\u001b[0m\u001b[0;34m\u001b[0m\u001b[0m\n\u001b[0;32m-> 1223\u001b[0;31m     \u001b[0mmaybe_arr\u001b[0m \u001b[0;34m=\u001b[0m \u001b[0mself\u001b[0m\u001b[0;34m.\u001b[0m\u001b[0m_numpy\u001b[0m\u001b[0;34m(\u001b[0m\u001b[0;34m)\u001b[0m  \u001b[0;31m# pylint: disable=protected-access\u001b[0m\u001b[0;34m\u001b[0m\u001b[0;34m\u001b[0m\u001b[0m\n\u001b[0m\u001b[1;32m   1224\u001b[0m     \u001b[0;32mreturn\u001b[0m \u001b[0mmaybe_arr\u001b[0m\u001b[0;34m.\u001b[0m\u001b[0mcopy\u001b[0m\u001b[0;34m(\u001b[0m\u001b[0;34m)\u001b[0m \u001b[0;32mif\u001b[0m \u001b[0misinstance\u001b[0m\u001b[0;34m(\u001b[0m\u001b[0mmaybe_arr\u001b[0m\u001b[0;34m,\u001b[0m \u001b[0mnp\u001b[0m\u001b[0;34m.\u001b[0m\u001b[0mndarray\u001b[0m\u001b[0;34m)\u001b[0m \u001b[0;32melse\u001b[0m \u001b[0mmaybe_arr\u001b[0m\u001b[0;34m\u001b[0m\u001b[0;34m\u001b[0m\u001b[0m\n\u001b[1;32m   1225\u001b[0m \u001b[0;34m\u001b[0m\u001b[0m\n",
            "\u001b[0;32m/usr/local/lib/python3.7/dist-packages/tensorflow/python/framework/ops.py\u001b[0m in \u001b[0;36m_numpy\u001b[0;34m(self)\u001b[0m\n\u001b[1;32m   1187\u001b[0m   \u001b[0;32mdef\u001b[0m \u001b[0m_numpy\u001b[0m\u001b[0;34m(\u001b[0m\u001b[0mself\u001b[0m\u001b[0;34m)\u001b[0m\u001b[0;34m:\u001b[0m\u001b[0;34m\u001b[0m\u001b[0;34m\u001b[0m\u001b[0m\n\u001b[1;32m   1188\u001b[0m     \u001b[0;32mtry\u001b[0m\u001b[0;34m:\u001b[0m\u001b[0;34m\u001b[0m\u001b[0;34m\u001b[0m\u001b[0m\n\u001b[0;32m-> 1189\u001b[0;31m       \u001b[0;32mreturn\u001b[0m \u001b[0mself\u001b[0m\u001b[0;34m.\u001b[0m\u001b[0m_numpy_internal\u001b[0m\u001b[0;34m(\u001b[0m\u001b[0;34m)\u001b[0m\u001b[0;34m\u001b[0m\u001b[0;34m\u001b[0m\u001b[0m\n\u001b[0m\u001b[1;32m   1190\u001b[0m     \u001b[0;32mexcept\u001b[0m \u001b[0mcore\u001b[0m\u001b[0;34m.\u001b[0m\u001b[0m_NotOkStatusException\u001b[0m \u001b[0;32mas\u001b[0m \u001b[0me\u001b[0m\u001b[0;34m:\u001b[0m  \u001b[0;31m# pylint: disable=protected-access\u001b[0m\u001b[0;34m\u001b[0m\u001b[0;34m\u001b[0m\u001b[0m\n\u001b[1;32m   1191\u001b[0m       \u001b[0;32mraise\u001b[0m \u001b[0mcore\u001b[0m\u001b[0;34m.\u001b[0m\u001b[0m_status_to_exception\u001b[0m\u001b[0;34m(\u001b[0m\u001b[0me\u001b[0m\u001b[0;34m)\u001b[0m \u001b[0;32mfrom\u001b[0m \u001b[0;32mNone\u001b[0m  \u001b[0;31m# pylint: disable=protected-access\u001b[0m\u001b[0;34m\u001b[0m\u001b[0;34m\u001b[0m\u001b[0m\n",
            "\u001b[0;31mKeyboardInterrupt\u001b[0m: "
          ]
        }
      ]
    },
    {
      "cell_type": "code",
      "source": [
        "# carica il best model\n",
        "qstudent_dist = keras.models.load_model('qstudent_dist_best')\n",
        "\n",
        "#qstudent_dist = keras.models.load_model('net.tf')\n",
        "#qstudent_dist.summary()\n",
        "\n",
        "predictions_qs_dist = qstudent_dist.predict([test_images, test_images])[0]\n",
        "predictions_qs_dist = np.array(predictions_qs_dist)\n",
        "predictions_qs_dist = scaler.inverse_transform(predictions_qs_dist)"
      ],
      "metadata": {
        "id": "XTss9Lup1wDk"
      },
      "execution_count": null,
      "outputs": []
    },
    {
      "cell_type": "code",
      "source": [
        "# Turnon curva di efficienza del trigger in funzione del pt\n",
        "\n",
        "# modo facile per ottenerlo: creare due histogrammi uno con la distribuzione di pt per gli eventi che passono il taglio \n",
        "# pt_predetto > soglia e uno con la distribuzione di tutti gli eventi e poi fare il rapporto tra i due istogrammi\n",
        "\n",
        "predictions_qs_dist = predictions_qs_dist[:,0]\n",
        "pttrue = scaler.inverse_transform(test_labels)[:,0]\n",
        "soglia = 10.0 #soglia nominale di trigger Pt>10 GeV/c\n",
        "numer_qs_d,_ = np.histogram(pttrue[predictions_qs_dist>soglia], bins=20, range=(0.,20.))\n",
        "denum_qs_d,_ = np.histogram(pttrue, bins=20, range=(0.,20.))\n",
        "\n",
        "eff_qs_d = numer_qs_d/denum_qs_d\n",
        "lrvalues = np.linspace(0.,20.,20)\n",
        "\n",
        "_ = plt.plot(lrvalues,eff, '*')\n",
        "_ = plt.plot(lrvalues,eff_s, 'r*')\n",
        "_ = plt.plot(lrvalues,eff_qs, 'g*')\n",
        "_ = plt.plot(lrvalues,eff_qs_d, 'y*')\n",
        "_ = plt.axvline(x=soglia)\n",
        "_ = plt.xlabel(\"pT$ [GeV/c]\")\n",
        "_ = plt.ylabel(\"efficiency\")"
      ],
      "metadata": {
        "id": "tBIWPvpw2BUo"
      },
      "execution_count": null,
      "outputs": []
    },
    {
      "cell_type": "code",
      "source": [
        ""
      ],
      "metadata": {
        "id": "MNdQR7Veshla"
      },
      "execution_count": null,
      "outputs": []
    },
    {
      "cell_type": "markdown",
      "source": [
        "#1) Installazione HLS4ML + Vivado \n",
        "Per HLS4ML è sufficiente:\n",
        "\n",
        "`pip install hls4ml`\n",
        "\n",
        "(Al [link](https://fastmachinelearning.org/hls4ml/setup.html) la lista di ulteriori dependencies ed istruzioni aggiuntive)\n",
        "\n",
        "HLS4ML è testato su Linux, e supporta le versioni di Vivado HLS da 2018.2 a 2020.1. Vitis HLS non è ancora supportato. Windows e macOS non sono supportati.\n",
        "\n",
        "Per il download e l'installazione di Vivado si rimanda al [link](https://www.xilinx.com/support/download.html)"
      ],
      "metadata": {
        "id": "pIaeCVEGvdlR"
      }
    },
    {
      "cell_type": "markdown",
      "source": [
        "#Codice per traduzione del modello in VHDL via HLS4ML"
      ],
      "metadata": {
        "id": "jgVFasAryGe_"
      }
    },
    {
      "cell_type": "code",
      "source": [
        "#2) poche di righe per far vedere come si sintetizza il modello \n",
        "#NOTA: che con immagini cosi grandi non funziona \n",
        "#RISULTATI: con immagini 16x9"
      ],
      "metadata": {
        "id": "x4VFDvfX9wBq"
      },
      "execution_count": null,
      "outputs": []
    },
    {
      "cell_type": "code",
      "source": [
        "import hls4ml\n",
        "filename = \"Qstudent_\"+str(nbits)+\"_9x16\"\n",
        "model = load_model(\"net_student_4_9x16.tf\")\n",
        "nbits = 4\n",
        "sym = 1\n",
        "'''\n",
        "model = Sequential()                                                                                                                                                              \n",
        "model.add(Input((9,16,1), name = 'input_student'))                                                                                                                                \n",
        "                                                                                                                                                                                  \n",
        "model.add(QConv2D(1, (3,3), kernel_quantizer = quantized_bits(nbits,0,alpha = sym), bias_quantizer = quantized_bits(nbits,0,alpha = 1),  name = 'Student_Conv1a', kernel_initializer='lecun_uniform', kernel_regularizer=l1(0.0001)))                                                                                                                              \n",
        "model.add( QActivation('quantized_relu('+str(nbits)+')'))\n",
        "model.add(QConv2D(1, (3,3), kernel_quantizer = quantized_bits(nbits,0,alpha = sym), bias_quantizer = quantized_bits(nbits,0,alpha = 1),  name = 'Student_Conv1b', kernel_initializer='lecun_uniform', kernel_regularizer=l1(0.0001)))                                                                                                                              \n",
        "model.add( QActivation('quantized_relu('+str(nbits)+')'))\n",
        "model.add(QConv2D(6, (3,3), kernel_quantizer = quantized_bits(nbits,0,alpha = sym), bias_quantizer = quantized_bits(nbits,0,1),  name = 'Student_Conv2a'))\n",
        "model.add(QActivation('quantized_relu('+str(nbits)+')'))\n",
        "model.add(QConv2D(6, (3,3), kernel_quantizer = quantized_bits(nbits,0, alpha = sym), bias_quantizer = quantized_bits(nbits,0,1),  name = 'Student_Conv2b'))\n",
        "model.add(QActivation('quantized_relu('+str(nbits)+')'))\n",
        "model.add(Flatten())\n",
        "model.add(QDense(10, name='fc1',\n",
        "                 kernel_quantizer=quantized_bits(nbits,0,alpha=1), bias_quantizer=quantized_bits(nbits,0,alpha=1),\n",
        "                 kernel_initializer='lecun_uniform', kernel_regularizer=l1(0.0001)))\n",
        "model.add(QActivation(activation=quantized_relu(nbits), name='relu1'))\n",
        "model.add(QDense(10, name='fc2',\n",
        "                 kernel_quantizer=quantized_bits(nbits,0,alpha=1), bias_quantizer=quantized_bits(nbits,0,alpha=1),\n",
        "                 kernel_initializer='lecun_uniform', kernel_regularizer=l1(0.0001)))\n",
        "model.add(QActivation(activation=quantized_relu(nbits), name='relu2'))\n",
        "model.add(Dense(2, name='output'))\n",
        "'''          \n",
        "model.summary()\n",
        "model.compile(optimizer=\"adam\", loss=['categorical_crossentropy'], metrics=['accuracy'])\n",
        "config = hls4ml.utils.config_from_keras_model(model, granularity='name')\n",
        "\n",
        "print(\"-----------------------------------\")\n",
        "plotting.print_dict(config)\n",
        "print(\"-----------------------------------\")\n",
        "\n",
        "output_dir = filename + '/hls4ml_prj'\n",
        "hls_model = hls4ml.converters.convert_from_keras_model(model,\n",
        "                                                       hls_config=config,\n",
        "                                                       output_dir=output_dir,\n",
        "                                                       fpga_part='xcvu13p-flga2577-1-e',\n",
        "                                                       io_type='io_stream', #o io_parallel, l'unico supportato (al momento?) per CNN è io_stream\n",
        "                                                       clock_period= 2.5)\n",
        "hls4ml.utils.fetch_example_list()\n",
        "\n",
        "#Use Vivado HLS to synthesize the model                                                                                                                                           \n",
        "#This might take several minutes                                                                                                                                                                                                                                                                                                              \n",
        "hls_model.build(reset=False, csim=True, synth=True, cosim=True, validation=True, export=True, vsynth=True)\n",
        "\n",
        "#Print out the report if you want                                                                                                                                                 \n",
        "hls4ml.report.read_vivado_report(output_dir)"
      ],
      "metadata": {
        "id": "ZlPtsCZ_TzzS"
      },
      "execution_count": null,
      "outputs": []
    },
    {
      "cell_type": "markdown",
      "source": [
        "#Come evitare il problema e allo stesso tempo raggiungere latenze di O(100 ns)\n",
        "- 16x9 -> 30 clock-cycles (94 ns @320MHz ) [177 clock-cycles = ~440ns @400MHz hls4ml]\n",
        "- 384x9 -> 210 ns \n"
      ],
      "metadata": {
        "id": "g4gzcRBER1jf"
      }
    },
    {
      "cell_type": "markdown",
      "source": [
        "Estrazione pesi"
      ],
      "metadata": {
        "id": "Yco2t2EFUOjT"
      }
    },
    {
      "cell_type": "code",
      "source": [
        "gl_in = [1, 3, 5,  15, 17, 19,  30, 33, 40]\n",
        "gl_out = [1, 3, 5,  8, 10, 12,  16, 18, -1]\n",
        "w_names = [\"w_conv1a.npy\", \"w_conv1b.npy\", \"w_conv1c.npy\", \"avgpool\", \"w_conv2a.npy\",\"w_conv2b.npy\",\"w_conv2c.npy\", \"avgpool\",\"w_dense1.npy\", \"w_dense2.npy\", \"w_out.npy\" ]\n",
        "b_names = [\"b_conv1a.npy\", \"b_conv1b.npy\", \"b_conv1c.npy\", \"avgpool\", \"b_conv2a.npy\",\"b_conv2b.npy\",\"b_conv2c.npy\", \"avgpool\", \"b_dense1.npy\", \"b_dense2.npy\", \"b_out.npy\" ]\n",
        "model_trained = load_model(\"qstudent_dist_best\")\n",
        "\n",
        "\n",
        "weights = {}\n",
        "nbits = 4\n",
        "sym = 1\n",
        "#model_trained.summary()\n",
        "MyAlpha = None\n",
        "\n",
        "in_layer = Input((9,384,1), name = 'input_student')\n",
        "\n",
        "x = QConv2D(1, (3,3), strides = (1,2),  padding = \"same\", kernel_quantizer = quantized_bits(nbits,0, symmetric = 1, alpha = MyAlpha),\n",
        "                  bias_quantizer = quantized_bits(nbits,0, symmetric = 1, alpha = None),  name = 'Student_Conv1a')(in_layer)\n",
        "x = QActivation('quantized_relu('+str(nbits)+')')(x)\n",
        "x = QConv2D(2, (3,3), strides = (1,2), padding = \"same\", kernel_quantizer = quantized_bits(nbits,0, symmetric = 1, alpha = MyAlpha),\n",
        "                  bias_quantizer = quantized_bits(nbits,0, symmetric = 1, alpha = None),  name = 'Student_Conv1b')(x)\n",
        "x = QActivation('quantized_relu('+str(nbits)+')')(x)\n",
        "x = QConv2D(2, (3,3), strides = (1,2), padding = \"same\", kernel_quantizer = quantized_bits(nbits,0, symmetric = 1, alpha = MyAlpha),\n",
        "                  bias_quantizer = quantized_bits(nbits,0, symmetric = 1, alpha = None),  name = 'Student_Conv1c')(x)\n",
        "x = QActivation('quantized_relu('+str(nbits)+')')(x)\n",
        "x = QAveragePooling2D((1,2), name = \"ap1\")(x)\n",
        "x = QConv2D(8, (3,3), strides = (1,2), padding = \"same\", kernel_quantizer = quantized_bits(nbits,0, symmetric = 1, alpha = MyAlpha),\n",
        "                  bias_quantizer = quantized_bits(nbits,0, symmetric = 1, alpha = None),  name = 'Student_Conv2a')(x)\n",
        "x = QActivation('quantized_relu('+str(nbits)+')')(x)\n",
        "x = QConv2D(4, (3,3), strides = (1,2), padding = \"same\", kernel_quantizer = quantized_bits(nbits,0, symmetric = 1, alpha = MyAlpha),\n",
        "                  bias_quantizer = quantized_bits(nbits,0, symmetric = 1, alpha = None),  name = 'Student_Conv2b')(x)\n",
        "x = QActivation('quantized_relu('+str(nbits)+')')(x)\n",
        "x = QConv2D(8, (3,3), strides = (1,2), padding = \"same\", kernel_quantizer = quantized_bits(nbits,0, symmetric = 1, alpha = MyAlpha),\n",
        "                  bias_quantizer = quantized_bits(nbits,0, symmetric = 1, alpha = None),  name = 'Student_Conv2c')(x)\n",
        "x = QActivation('quantized_relu('+str(nbits)+')')(x)\n",
        "x = QAveragePooling2D((3,3), name = \"ap2\")(x)\n",
        "\n",
        "x = Flatten()(x)\n",
        "\n",
        "x = QDense(10, name='fc1',\n",
        "                 kernel_quantizer=quantized_bits(nbits,0, symmetric = 1, alpha = MyAlpha), bias_quantizer=quantized_bits(nbits,0, symmetric = 1, alpha = None ),\n",
        "                )(x)\n",
        "\n",
        "x = QActivation(activation=quantized_relu(nbits))(x)\n",
        "x = QDense(10, name='fc2',\n",
        "                 kernel_quantizer=quantized_bits(nbits,0, symmetric = 1, alpha = MyAlpha), bias_quantizer=quantized_bits(nbits,0, symmetric = 1, alpha = None ),\n",
        "                 )(x)\n",
        "x = QActivation(activation=quantized_relu(nbits))(x)\n",
        "\n",
        "out = Dense(2, name='output')(x)\n",
        "model = Model(inputs = [in_layer], outputs = [out])\n",
        "#model.summary()\n",
        "\n",
        "print(model.layers)\n",
        "for i,  l in enumerate(gl_in):\n",
        " if l != \"flatten\" and l != \"avgpool\":\n",
        "  print(model_trained.layers[l].name, l)\n",
        "  print(i, l, model.layers[gl_out[i]].get_weights()[0].shape, model_trained.layers[l].get_weights()[0].shape)\n",
        "  model.layers[gl_out[i]].set_weights(model_trained.layers[l].get_weights())\n",
        "\n",
        "weights = model_save_quantized_weights(model, \"weights\")\n",
        "#print(weights)                                                                                                                                                                                                                                                                                                                                                             \n",
        "\n",
        "for i, layer in enumerate(weights):\n",
        " if \"ap\" not in layer:\n",
        "  np.save(w_names[i], weights[layer][\"weights\"][0])\n",
        "  np.save(b_names[i], weights[layer][\"weights\"][1])\n",
        "\n",
        "np.save(w_names[-1], model.layers[-1].get_weights()[0])\n",
        "np.save(b_names[-1], model.layers[-1].get_weights()[1])\n"
      ],
      "metadata": {
        "id": "GIs9raWZR3rT",
        "colab": {
          "base_uri": "https://localhost:8080/"
        },
        "outputId": "9bd3b6f7-ecde-45ff-bfc8-2f5bf77d9471"
      },
      "execution_count": null,
      "outputs": [
        {
          "output_type": "stream",
          "name": "stdout",
          "text": [
            "[<keras.engine.input_layer.InputLayer object at 0x7f61e24f6450>, <qkeras.qconvolutional.QConv2D object at 0x7f61e8eb9910>, <qkeras.qlayers.QActivation object at 0x7f61dd9e9bd0>, <qkeras.qconvolutional.QConv2D object at 0x7f61e23aa350>, <qkeras.qlayers.QActivation object at 0x7f61dbc8bb50>, <qkeras.qconvolutional.QConv2D object at 0x7f61d92778d0>, <qkeras.qlayers.QActivation object at 0x7f61dbe27050>, <qkeras.qpooling.QAveragePooling2D object at 0x7f61e7887990>, <qkeras.qconvolutional.QConv2D object at 0x7f61e76ce1d0>, <qkeras.qlayers.QActivation object at 0x7f61e76c4850>, <qkeras.qconvolutional.QConv2D object at 0x7f61dbe23210>, <qkeras.qlayers.QActivation object at 0x7f61e76c48d0>, <qkeras.qconvolutional.QConv2D object at 0x7f61e76b8ad0>, <qkeras.qlayers.QActivation object at 0x7f61dd553650>, <qkeras.qpooling.QAveragePooling2D object at 0x7f61dbb95f50>, <keras.layers.core.flatten.Flatten object at 0x7f61dd22dc50>, <qkeras.qlayers.QDense object at 0x7f61dbaa0250>, <qkeras.qlayers.QActivation object at 0x7f61dbaa56d0>, <qkeras.qlayers.QDense object at 0x7f61dbaac0d0>, <qkeras.qlayers.QActivation object at 0x7f61db9513d0>, <keras.layers.core.dense.Dense object at 0x7f61db954fd0>]\n",
            "Student_Conv1a 1\n",
            "0 1 (3, 3, 1, 1) (3, 3, 1, 1)\n",
            "Student_Conv1b 3\n",
            "1 3 (3, 3, 1, 2) (3, 3, 1, 2)\n",
            "Student_Conv1c 5\n",
            "2 5 (3, 3, 2, 2) (3, 3, 2, 2)\n",
            "Student_Conv2a 15\n",
            "3 15 (3, 3, 2, 8) (3, 3, 2, 8)\n",
            "Student_Conv2b 17\n",
            "4 17 (3, 3, 8, 4) (3, 3, 8, 4)\n",
            "Student_Conv2c 19\n",
            "5 19 (3, 3, 4, 8) (3, 3, 4, 8)\n",
            "Student_Dense1 30\n",
            "6 30 (24, 10) (24, 10)\n",
            "Student_Dense2 33\n",
            "7 33 (10, 10) (10, 10)\n",
            "Student_Output 40\n",
            "8 40 (10, 2) (10, 2)\n",
            "... quantizing model\n",
            "  output has not been quantized\n"
          ]
        }
      ]
    },
    {
      "cell_type": "markdown",
      "source": [
        "Scrittura file pesi VHDL"
      ],
      "metadata": {
        "id": "D9yeH4ybWJ_o"
      }
    },
    {
      "cell_type": "code",
      "source": [
        "lbit = \"w_ibits\"\n",
        "rbit = \"w_fbits\"\n",
        "weights = {}\n",
        "\n",
        "w_names = [\"w_conv1a.npy\", \"w_conv1b.npy\", \"w_conv1c.npy\", \"w_conv2a.npy\",\"w_conv2b.npy\",\"w_conv2c.npy\", \"w_dense1.npy\", \"w_dense2.npy\", \"w_out.npy\" ]\n",
        "w_shapes = [(3,3), (3,3,2), (3,3,2,2), (3,3,2,8), (3,3,8,4),(3,3,4,8), (24, 10), (10,10), (10, 2)  ]\n",
        "b_shapes = [(1,), (2,), (2,), (8,),(4,),(8,), (10,), (10,), (2,)]\n",
        "w_mytypes = [\"matrix9\", \"matrix2_9\", \"matrix2_9_2\", \"matrix8_9_2\", \"matrix4_9_8\", \"matrix8_9_4\", \"matrix10_24\", \"matrix10_10\", \"matrix2_10_out\"]\n",
        "b_mytypes = [\"thresholds_1\", \"thresholds_2\", \"thresholds_2\", \"thresholds_8\", \"thresholds_4\", \"thresholds_8\",\"thresholds_10\",\"thresholds_10\", \"thresholds_2_out\"]\n",
        "b_names = [\"b_conv1a.npy\", \"b_conv1b.npy\", \"b_conv1c.npy\", \"b_conv2a.npy\",\"b_conv2b.npy\",\"b_conv2c.npy\", \"b_dense1.npy\", \"b_dense2.npy\", \"b_out.npy\" ]\n",
        "path_in = \"/content/drive/MyDrive/weights_template.vhd\"\n",
        "path = \"/content/drive/MyDrive/my_weights.vhd\"\n",
        "startline = 9                                                                                                                                                                                                                                                                                                                                                  \n",
        "countline = 0\n",
        "'''\n",
        "with open(path_in, \"r+\") as f:\n",
        "    lines = f.readlines()\n",
        "    linesNew = lines[:]\n",
        "    #linesNew = lines[:startline] + [\"\\n\" for i in range(16)] + lines[startline + 460:]                                                                                                                                                                                                                                                                                     \n",
        "with open(path, \"w+\") as f:\n",
        "    f.writelines(linesNew)\n",
        "'''\n",
        "os.system('cp ' + path_in + ' ' + path)\n",
        "                                                                                                                                                                                                                                                                                                                                                          \n",
        "\n",
        "for index, s in enumerate(w_shapes):\n",
        "    print(startline, countline)\n",
        "    if len(s) == 2:\n",
        "        with open(path, \"r+\") as f:\n",
        "            lines = f.readlines()\n",
        "            startline += countline\n",
        "            print(startline, lines[startline])\n",
        "            countline = 0\n",
        "            w = np.load(w_names[index])\n",
        "            w = w.reshape(s)\n",
        "            if \"dense\" in w_names[index] or \"out\" in w_names[index]:\n",
        "                w = np.moveaxis(w, -1, 0)\n",
        "\n",
        "            line = \"  constant \" + w_names[index][:-4] + \": \" + w_mytypes[index] + \" := \"\n",
        "            line += \"(\"\n",
        "            indent = len(line)\n",
        "            for i,r in enumerate(w):\n",
        "                line += \"(\"\n",
        "                for j,c in enumerate(r):\n",
        "                    if \"out\" in w_names[index]:\n",
        "                        line +=  \"to_sfixed(\"+str(w[i,j])+\", w_ibits_out, w_fbits_out), \"\n",
        "                    else:\n",
        "                        line +=  \"to_sfixed(\"+str(w[i,j])+\", \" + lbit + \", \" + rbit + \"), \"\n",
        "                line = line[:-2] +\"),\\n\"\n",
        "                line += \" \"*indent\n",
        "                countline += 1\n",
        "            line = line[:-2- indent] +\");\\n\\n\"\n",
        "            countline += 1\n",
        "            lines[startline] = line\n",
        "\n",
        "            b = np.load(b_names[index])\n",
        "            b = b.reshape(b_shapes[index])\n",
        "            line = \"  constant \" + b_names[index][:-4] + \": \" + b_mytypes[index] + \" := \"\n",
        "            \n",
        "            if b_shapes[index][0] !=1:\n",
        "                line += \"(\"\n",
        "            for i,r in enumerate(b):\n",
        "                if \"out\" in w_names[index]:\n",
        "                    line +=  \"to_sfixed(\"+str(b[i])+\", w_ibits_out, w_fbits_out), \"\n",
        "                else:\n",
        "                    line +=  \"to_sfixed(\"+str(b[i])+\", \" + lbit + \", \" + rbit + \"), \"\n",
        "            line = line[:-2] +\");\\n\\n\"\n",
        "            countline += 2\n",
        "            lines[startline+1] = line\n",
        "            f.seek(0)\n",
        "            f.writelines(lines)\n",
        "    if len(s) == 3:\n",
        "        with open(path, \"r+\") as f:\n",
        "            lines = f.readlines()\n",
        "            startline += countline\n",
        "            countline = 0\n",
        "            print(startline, lines[startline])\n",
        "            w = np.load(w_names[index])\n",
        "            w = w.reshape(s)\n",
        "            w = np.moveaxis(w, -1, 0)\n",
        "            line = \"  constant \" + w_names[index][:-4] + \": \" + w_mytypes[index] + \" := \"\n",
        "            line += \"(\"\n",
        "            indent = len(line)\n",
        "            for i,c1 in enumerate(w):\n",
        "                line += \"(\"\n",
        "                for j,c2 in enumerate(c1):\n",
        "                    line += \"(\"\n",
        "                    for k,c3 in enumerate(c2):\n",
        "                        line += \"to_sfixed(\"+str(w[i,j, k])+\", \" + lbit + \", \" + rbit + \"), \"\n",
        "                    line = line[:-2] +\"),\\n\"\n",
        "                    line += \" \"*indent\n",
        "                    countline += 1\n",
        "                line = line[:-2-indent] +\"),\\n\\n\"\n",
        "                line += \" \"*indent\n",
        "                countline += 1\n",
        "            line = line[:-3-indent] +\");\\n\\n\"\n",
        "            countline += 1\n",
        "            lines[startline] = line\n",
        "\n",
        "            b = np.load(b_names[index])\n",
        "            b = b.reshape(b_shapes[index])\n",
        "            line = \"  constant \" + b_names[index][:-4] + \": \" + b_mytypes[index] + \" := \"\n",
        "            line += \"(\"\n",
        "            for i,r in enumerate(b):\n",
        "                line += \"to_sfixed(\"+str(b[i])+\", \" + lbit + \", \" + rbit + \"), \"\n",
        "            line = line[:-2] +\");\\n\\n\"\n",
        "            countline += 1\n",
        "            lines[startline+1] = line\n",
        "            f.seek(0)\n",
        "            f.writelines(lines)\n",
        "    if len(s) == 4:\n",
        "      with open(path, \"r+\") as f:\n",
        "            lines = f.readlines()\n",
        "            startline += countline\n",
        "            countline = 0\n",
        "            print(startline, lines[startline])\n",
        "            w = np.load(w_names[index])\n",
        "            w = w.reshape(s)\n",
        "            w = np.moveaxis(w, -1, 0)\n",
        "            print(w.shape)\n",
        "            line = \"  constant \" + w_names[index][:-4] + \": \" + w_mytypes[index] + \" := \"\n",
        "            line += \"(\"\n",
        "            indent = len(line)\n",
        "            for i,c1 in enumerate(w):\n",
        "                line += \"(\"\n",
        "                for j,c2 in enumerate(c1):\n",
        "                    line += \"(\"\n",
        "                    for k,c3 in enumerate(c2):\n",
        "                        line += \"(\"\n",
        "                        for l,c4 in enumerate(c3):\n",
        "                            line += \"to_sfixed(\"+str(w[i, j, k, l])+\", \" + lbit + \", \" + rbit + \"), \"\n",
        "                        line = line[:-2] +\"),\\n\"\n",
        "                        line += \" \"*indent\n",
        "                        countline +=1\n",
        "                    line = line[:-2-indent] +\"),\\n\"\n",
        "                    line += \" \"*indent\n",
        "                line = line[:-2-indent] +\"),\\n\\n\"\n",
        "                line += \" \"*indent\n",
        "                countline += 1\n",
        "            line = line[:-3-indent] +\");\\n\\n\"\n",
        "            lines[startline] = line\n",
        "            countline += 1\n",
        "\n",
        "            b = np.load(b_names[index])\n",
        "            b = b.reshape(b_shapes[index])\n",
        "            line = \"  constant \" + b_names[index][:-4] + \": \" + b_mytypes[index] + \" := \"\n",
        "            line += \"(\"\n",
        "            for i,r in enumerate(b):\n",
        "                line += \"to_sfixed(\"+str(b[i])+\", \" + lbit + \", \" + rbit + \"), \"\n",
        "            line = line[:-2] +\");\\n\\n\"\n",
        "            countline +=1\n",
        "            lines[startline + 1] = line\n",
        "            f.seek(0)\n",
        "            f.writelines(lines)\n",
        "\n"
      ],
      "metadata": {
        "id": "RNoW6LNTV5NO",
        "colab": {
          "base_uri": "https://localhost:8080/"
        },
        "outputId": "ec4dbb05-f085-4745-b06b-aaa3ec90adac"
      },
      "execution_count": null,
      "outputs": [
        {
          "output_type": "stream",
          "name": "stdout",
          "text": [
            "9 0\n",
            "9 \n",
            "\n",
            "9 6\n",
            "15 \n",
            "\n",
            "15 10\n",
            "25 \n",
            "\n",
            "(2, 3, 3, 2)\n",
            "25 22\n",
            "47 \n",
            "\n",
            "(8, 3, 3, 2)\n",
            "47 82\n",
            "129 \n",
            "\n",
            "(4, 3, 3, 8)\n",
            "129 42\n",
            "171 \n",
            "\n",
            "(8, 3, 3, 4)\n",
            "171 82\n",
            "253 \n",
            "\n",
            "253 13\n",
            "266 \n",
            "\n",
            "266 13\n",
            "279 \n",
            "\n"
          ]
        }
      ]
    },
    {
      "cell_type": "code",
      "source": [
        ""
      ],
      "metadata": {
        "colab": {
          "base_uri": "https://localhost:8080/"
        },
        "id": "WDK3rKGTs0oD",
        "outputId": "914eeccd-e87a-46c4-d4e7-8dff5b76d464"
      },
      "execution_count": null,
      "outputs": [
        {
          "output_type": "stream",
          "name": "stderr",
          "text": [
            "Exception ignored in: 'zmq.backend.cython.message.Frame.__dealloc__'\n",
            "Traceback (most recent call last):\n",
            "  File \"zmq/backend/cython/checkrc.pxd\", line 13, in zmq.backend.cython.checkrc._check_rc\n",
            "KeyboardInterrupt\n"
          ]
        },
        {
          "output_type": "stream",
          "name": "stdout",
          "text": [
            "9 0\n",
            "9 \n",
            "\n",
            "9 6\n",
            "15 \n",
            "\n",
            "15 10\n",
            "25 \n",
            "\n",
            "(2, 3, 3, 2)\n",
            "25 22\n",
            "47 \n",
            "\n",
            "(8, 3, 3, 2)\n",
            "47 82\n",
            "129 \n",
            "\n",
            "(4, 3, 3, 8)\n",
            "129 42\n",
            "171 \n",
            "\n",
            "(8, 3, 3, 4)\n",
            "171 82\n",
            "253 \n",
            "\n",
            "253 13\n",
            "266 \n",
            "\n",
            "266 13\n",
            "279 \n",
            "\n"
          ]
        },
        {
          "output_type": "stream",
          "name": "stderr",
          "text": [
            "Exception ignored in: 'zmq.backend.cython.message.Frame.__dealloc__'\n",
            "Traceback (most recent call last):\n",
            "  File \"zmq/backend/cython/checkrc.pxd\", line 13, in zmq.backend.cython.checkrc._check_rc\n",
            "KeyboardInterrupt\n"
          ]
        }
      ]
    },
    {
      "cell_type": "code",
      "source": [
        ""
      ],
      "metadata": {
        "id": "r7sObEsbuBWn"
      },
      "execution_count": null,
      "outputs": []
    }
  ]
}